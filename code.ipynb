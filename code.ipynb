{
  {
   "cell_type": "markdown",
   "metadata": {},
   "source": [
    "# Load Datasets"
   ]
  },
  {
   "cell_type": "code",
   "execution_count": 22,
   "metadata": {},
   "outputs": [
    {
     "data": {
      "text/plain": [
       "dict_keys(['data', 'target', 'target_names', 'DESCR', 'feature_names', 'filename'])"
      ]
     },
     "execution_count": 22,
     "metadata": {},
     "output_type": "execute_result"
    }
   ],
   "source": [
    "from sklearn import datasets\n",
    "from sklearn.datasets import load_iris\n",
    "from sklearn.decomposition import PCA \n",
    "import pandas as pd \n",
    "import numpy as np \n",
    "import matplotlib.pyplot as plt\n",
    "import seaborn as sns\n",
    "\n",
    "data = load_iris()\n",
    "data.keys()"
   ]
  },
  {
   "cell_type": "code",
   "execution_count": 23,
   "metadata": {},
   "outputs": [
    {
     "data": {
      "text/plain": [
       "array([[5.1, 3.5, 1.4, 0.2],\n",
       "       [4.9, 3. , 1.4, 0.2],\n",
       "       [4.7, 3.2, 1.3, 0.2],\n",
       "       [4.6, 3.1, 1.5, 0.2],\n",
       "       [5. , 3.6, 1.4, 0.2],\n",
       "       [5.4, 3.9, 1.7, 0.4],\n",
       "       [4.6, 3.4, 1.4, 0.3],\n",
       "       [5. , 3.4, 1.5, 0.2],\n",
       "       [4.4, 2.9, 1.4, 0.2],\n",
       "       [4.9, 3.1, 1.5, 0.1],\n",
       "       [5.4, 3.7, 1.5, 0.2],\n",
       "       [4.8, 3.4, 1.6, 0.2],\n",
       "       [4.8, 3. , 1.4, 0.1],\n",
       "       [4.3, 3. , 1.1, 0.1],\n",
       "       [5.8, 4. , 1.2, 0.2],\n",
       "       [5.7, 4.4, 1.5, 0.4],\n",
       "       [5.4, 3.9, 1.3, 0.4],\n",
       "       [5.1, 3.5, 1.4, 0.3],\n",
       "       [5.7, 3.8, 1.7, 0.3],\n",
       "       [5.1, 3.8, 1.5, 0.3],\n",
       "       [5.4, 3.4, 1.7, 0.2],\n",
       "       [5.1, 3.7, 1.5, 0.4],\n",
       "       [4.6, 3.6, 1. , 0.2],\n",
       "       [5.1, 3.3, 1.7, 0.5],\n",
       "       [4.8, 3.4, 1.9, 0.2],\n",
       "       [5. , 3. , 1.6, 0.2],\n",
       "       [5. , 3.4, 1.6, 0.4],\n",
       "       [5.2, 3.5, 1.5, 0.2],\n",
       "       [5.2, 3.4, 1.4, 0.2],\n",
       "       [4.7, 3.2, 1.6, 0.2],\n",
       "       [4.8, 3.1, 1.6, 0.2],\n",
       "       [5.4, 3.4, 1.5, 0.4],\n",
       "       [5.2, 4.1, 1.5, 0.1],\n",
       "       [5.5, 4.2, 1.4, 0.2],\n",
       "       [4.9, 3.1, 1.5, 0.2],\n",
       "       [5. , 3.2, 1.2, 0.2],\n",
       "       [5.5, 3.5, 1.3, 0.2],\n",
       "       [4.9, 3.6, 1.4, 0.1],\n",
       "       [4.4, 3. , 1.3, 0.2],\n",
       "       [5.1, 3.4, 1.5, 0.2],\n",
       "       [5. , 3.5, 1.3, 0.3],\n",
       "       [4.5, 2.3, 1.3, 0.3],\n",
       "       [4.4, 3.2, 1.3, 0.2],\n",
       "       [5. , 3.5, 1.6, 0.6],\n",
       "       [5.1, 3.8, 1.9, 0.4],\n",
       "       [4.8, 3. , 1.4, 0.3],\n",
       "       [5.1, 3.8, 1.6, 0.2],\n",
       "       [4.6, 3.2, 1.4, 0.2],\n",
       "       [5.3, 3.7, 1.5, 0.2],\n",
       "       [5. , 3.3, 1.4, 0.2],\n",
       "       [7. , 3.2, 4.7, 1.4],\n",
       "       [6.4, 3.2, 4.5, 1.5],\n",
       "       [6.9, 3.1, 4.9, 1.5],\n",
       "       [5.5, 2.3, 4. , 1.3],\n",
       "       [6.5, 2.8, 4.6, 1.5],\n",
       "       [5.7, 2.8, 4.5, 1.3],\n",
       "       [6.3, 3.3, 4.7, 1.6],\n",
       "       [4.9, 2.4, 3.3, 1. ],\n",
       "       [6.6, 2.9, 4.6, 1.3],\n",
       "       [5.2, 2.7, 3.9, 1.4],\n",
       "       [5. , 2. , 3.5, 1. ],\n",
       "       [5.9, 3. , 4.2, 1.5],\n",
       "       [6. , 2.2, 4. , 1. ],\n",
       "       [6.1, 2.9, 4.7, 1.4],\n",
       "       [5.6, 2.9, 3.6, 1.3],\n",
       "       [6.7, 3.1, 4.4, 1.4],\n",
       "       [5.6, 3. , 4.5, 1.5],\n",
       "       [5.8, 2.7, 4.1, 1. ],\n",
       "       [6.2, 2.2, 4.5, 1.5],\n",
       "       [5.6, 2.5, 3.9, 1.1],\n",
       "       [5.9, 3.2, 4.8, 1.8],\n",
       "       [6.1, 2.8, 4. , 1.3],\n",
       "       [6.3, 2.5, 4.9, 1.5],\n",
       "       [6.1, 2.8, 4.7, 1.2],\n",
       "       [6.4, 2.9, 4.3, 1.3],\n",
       "       [6.6, 3. , 4.4, 1.4],\n",
       "       [6.8, 2.8, 4.8, 1.4],\n",
       "       [6.7, 3. , 5. , 1.7],\n",
       "       [6. , 2.9, 4.5, 1.5],\n",
       "       [5.7, 2.6, 3.5, 1. ],\n",
       "       [5.5, 2.4, 3.8, 1.1],\n",
       "       [5.5, 2.4, 3.7, 1. ],\n",
       "       [5.8, 2.7, 3.9, 1.2],\n",
       "       [6. , 2.7, 5.1, 1.6],\n",
       "       [5.4, 3. , 4.5, 1.5],\n",
       "       [6. , 3.4, 4.5, 1.6],\n",
       "       [6.7, 3.1, 4.7, 1.5],\n",
       "       [6.3, 2.3, 4.4, 1.3],\n",
       "       [5.6, 3. , 4.1, 1.3],\n",
       "       [5.5, 2.5, 4. , 1.3],\n",
       "       [5.5, 2.6, 4.4, 1.2],\n",
       "       [6.1, 3. , 4.6, 1.4],\n",
       "       [5.8, 2.6, 4. , 1.2],\n",
       "       [5. , 2.3, 3.3, 1. ],\n",
       "       [5.6, 2.7, 4.2, 1.3],\n",
       "       [5.7, 3. , 4.2, 1.2],\n",
       "       [5.7, 2.9, 4.2, 1.3],\n",
       "       [6.2, 2.9, 4.3, 1.3],\n",
       "       [5.1, 2.5, 3. , 1.1],\n",
       "       [5.7, 2.8, 4.1, 1.3],\n",
       "       [6.3, 3.3, 6. , 2.5],\n",
       "       [5.8, 2.7, 5.1, 1.9],\n",
       "       [7.1, 3. , 5.9, 2.1],\n",
       "       [6.3, 2.9, 5.6, 1.8],\n",
       "       [6.5, 3. , 5.8, 2.2],\n",
       "       [7.6, 3. , 6.6, 2.1],\n",
       "       [4.9, 2.5, 4.5, 1.7],\n",
       "       [7.3, 2.9, 6.3, 1.8],\n",
       "       [6.7, 2.5, 5.8, 1.8],\n",
       "       [7.2, 3.6, 6.1, 2.5],\n",
       "       [6.5, 3.2, 5.1, 2. ],\n",
       "       [6.4, 2.7, 5.3, 1.9],\n",
       "       [6.8, 3. , 5.5, 2.1],\n",
       "       [5.7, 2.5, 5. , 2. ],\n",
       "       [5.8, 2.8, 5.1, 2.4],\n",
       "       [6.4, 3.2, 5.3, 2.3],\n",
       "       [6.5, 3. , 5.5, 1.8],\n",
       "       [7.7, 3.8, 6.7, 2.2],\n",
       "       [7.7, 2.6, 6.9, 2.3],\n",
       "       [6. , 2.2, 5. , 1.5],\n",
       "       [6.9, 3.2, 5.7, 2.3],\n",
       "       [5.6, 2.8, 4.9, 2. ],\n",
       "       [7.7, 2.8, 6.7, 2. ],\n",
       "       [6.3, 2.7, 4.9, 1.8],\n",
       "       [6.7, 3.3, 5.7, 2.1],\n",
       "       [7.2, 3.2, 6. , 1.8],\n",
       "       [6.2, 2.8, 4.8, 1.8],\n",
       "       [6.1, 3. , 4.9, 1.8],\n",
       "       [6.4, 2.8, 5.6, 2.1],\n",
       "       [7.2, 3. , 5.8, 1.6],\n",
       "       [7.4, 2.8, 6.1, 1.9],\n",
       "       [7.9, 3.8, 6.4, 2. ],\n",
       "       [6.4, 2.8, 5.6, 2.2],\n",
       "       [6.3, 2.8, 5.1, 1.5],\n",
       "       [6.1, 2.6, 5.6, 1.4],\n",
       "       [7.7, 3. , 6.1, 2.3],\n",
       "       [6.3, 3.4, 5.6, 2.4],\n",
       "       [6.4, 3.1, 5.5, 1.8],\n",
       "       [6. , 3. , 4.8, 1.8],\n",
       "       [6.9, 3.1, 5.4, 2.1],\n",
       "       [6.7, 3.1, 5.6, 2.4],\n",
       "       [6.9, 3.1, 5.1, 2.3],\n",
       "       [5.8, 2.7, 5.1, 1.9],\n",
       "       [6.8, 3.2, 5.9, 2.3],\n",
       "       [6.7, 3.3, 5.7, 2.5],\n",
       "       [6.7, 3. , 5.2, 2.3],\n",
       "       [6.3, 2.5, 5. , 1.9],\n",
       "       [6.5, 3. , 5.2, 2. ],\n",
       "       [6.2, 3.4, 5.4, 2.3],\n",
       "       [5.9, 3. , 5.1, 1.8]])"
      ]
     },
     "execution_count": 23,
     "metadata": {},
     "output_type": "execute_result"
    }
   ],
   "source": [
    "data.data"
   ]
  },
  {
   "cell_type": "code",
   "execution_count": 24,
   "metadata": {},
   "outputs": [
    {
     "data": {
      "text/plain": [
       "array([0, 0, 0, 0, 0, 0, 0, 0, 0, 0, 0, 0, 0, 0, 0, 0, 0, 0, 0, 0, 0, 0,\n",
       "       0, 0, 0, 0, 0, 0, 0, 0, 0, 0, 0, 0, 0, 0, 0, 0, 0, 0, 0, 0, 0, 0,\n",
       "       0, 0, 0, 0, 0, 0, 1, 1, 1, 1, 1, 1, 1, 1, 1, 1, 1, 1, 1, 1, 1, 1,\n",
       "       1, 1, 1, 1, 1, 1, 1, 1, 1, 1, 1, 1, 1, 1, 1, 1, 1, 1, 1, 1, 1, 1,\n",
       "       1, 1, 1, 1, 1, 1, 1, 1, 1, 1, 1, 1, 2, 2, 2, 2, 2, 2, 2, 2, 2, 2,\n",
       "       2, 2, 2, 2, 2, 2, 2, 2, 2, 2, 2, 2, 2, 2, 2, 2, 2, 2, 2, 2, 2, 2,\n",
       "       2, 2, 2, 2, 2, 2, 2, 2, 2, 2, 2, 2, 2, 2, 2, 2, 2, 2])"
      ]
     },
     "execution_count": 24,
     "metadata": {},
     "output_type": "execute_result"
    }
   ],
   "source": [
    "data.target"
   ]
  },
  {
   "cell_type": "code",
   "execution_count": 25,
   "metadata": {},
   "outputs": [
    {
     "data": {
      "text/plain": [
       "array(['setosa', 'versicolor', 'virginica'], dtype='<U10')"
      ]
     },
     "execution_count": 25,
     "metadata": {},
     "output_type": "execute_result"
    }
   ],
   "source": [
    "data.target_names"
   ]
  },
  {
   "cell_type": "code",
   "execution_count": 26,
   "metadata": {},
   "outputs": [
    {
     "data": {
      "text/plain": [
       "['sepal length (cm)',\n",
       " 'sepal width (cm)',\n",
       " 'petal length (cm)',\n",
       " 'petal width (cm)']"
      ]
     },
     "execution_count": 26,
     "metadata": {},
     "output_type": "execute_result"
    }
   ],
   "source": [
    "data.feature_names"
   ]
  },
  {
   "cell_type": "markdown",
   "metadata": {},
   "source": [
    "# Dataframe"
   ]
  },
  {
   "cell_type": "code",
   "execution_count": 27,
   "metadata": {
    "scrolled": true
   },
   "outputs": [
    {
     "data": {
      "text/html": [
       "<div>\n",
       "<style scoped>\n",
       "    .dataframe tbody tr th:only-of-type {\n",
       "        vertical-align: middle;\n",
       "    }\n",
       "\n",
       "    .dataframe tbody tr th {\n",
       "        vertical-align: top;\n",
       "    }\n",
       "\n",
       "    .dataframe thead th {\n",
       "        text-align: right;\n",
       "    }\n",
       "</style>\n",
       "<table border=\"1\" class=\"dataframe\">\n",
       "  <thead>\n",
       "    <tr style=\"text-align: right;\">\n",
       "      <th></th>\n",
       "      <th>sepal length (cm)</th>\n",
       "      <th>sepal width (cm)</th>\n",
       "      <th>petal length (cm)</th>\n",
       "      <th>petal width (cm)</th>\n",
       "      <th>target</th>\n",
       "    </tr>\n",
       "  </thead>\n",
       "  <tbody>\n",
       "    <tr>\n",
       "      <th>1</th>\n",
       "      <td>5.1</td>\n",
       "      <td>3.5</td>\n",
       "      <td>1.4</td>\n",
       "      <td>0.2</td>\n",
       "      <td>0.0</td>\n",
       "    </tr>\n",
       "    <tr>\n",
       "      <th>2</th>\n",
       "      <td>4.9</td>\n",
       "      <td>3.0</td>\n",
       "      <td>1.4</td>\n",
       "      <td>0.2</td>\n",
       "      <td>0.0</td>\n",
       "    </tr>\n",
       "    <tr>\n",
       "      <th>3</th>\n",
       "      <td>4.7</td>\n",
       "      <td>3.2</td>\n",
       "      <td>1.3</td>\n",
       "      <td>0.2</td>\n",
       "      <td>0.0</td>\n",
       "    </tr>\n",
       "    <tr>\n",
       "      <th>4</th>\n",
       "      <td>4.6</td>\n",
       "      <td>3.1</td>\n",
       "      <td>1.5</td>\n",
       "      <td>0.2</td>\n",
       "      <td>0.0</td>\n",
       "    </tr>\n",
       "    <tr>\n",
       "      <th>5</th>\n",
       "      <td>5.0</td>\n",
       "      <td>3.6</td>\n",
       "      <td>1.4</td>\n",
       "      <td>0.2</td>\n",
       "      <td>0.0</td>\n",
       "    </tr>\n",
       "    <tr>\n",
       "      <th>6</th>\n",
       "      <td>5.4</td>\n",
       "      <td>3.9</td>\n",
       "      <td>1.7</td>\n",
       "      <td>0.4</td>\n",
       "      <td>0.0</td>\n",
       "    </tr>\n",
       "    <tr>\n",
       "      <th>7</th>\n",
       "      <td>4.6</td>\n",
       "      <td>3.4</td>\n",
       "      <td>1.4</td>\n",
       "      <td>0.3</td>\n",
       "      <td>0.0</td>\n",
       "    </tr>\n",
       "    <tr>\n",
       "      <th>8</th>\n",
       "      <td>5.0</td>\n",
       "      <td>3.4</td>\n",
       "      <td>1.5</td>\n",
       "      <td>0.2</td>\n",
       "      <td>0.0</td>\n",
       "    </tr>\n",
       "    <tr>\n",
       "      <th>9</th>\n",
       "      <td>4.4</td>\n",
       "      <td>2.9</td>\n",
       "      <td>1.4</td>\n",
       "      <td>0.2</td>\n",
       "      <td>0.0</td>\n",
       "    </tr>\n",
       "    <tr>\n",
       "      <th>10</th>\n",
       "      <td>4.9</td>\n",
       "      <td>3.1</td>\n",
       "      <td>1.5</td>\n",
       "      <td>0.1</td>\n",
       "      <td>0.0</td>\n",
       "    </tr>\n",
       "    <tr>\n",
       "      <th>11</th>\n",
       "      <td>5.4</td>\n",
       "      <td>3.7</td>\n",
       "      <td>1.5</td>\n",
       "      <td>0.2</td>\n",
       "      <td>0.0</td>\n",
       "    </tr>\n",
       "    <tr>\n",
       "      <th>12</th>\n",
       "      <td>4.8</td>\n",
       "      <td>3.4</td>\n",
       "      <td>1.6</td>\n",
       "      <td>0.2</td>\n",
       "      <td>0.0</td>\n",
       "    </tr>\n",
       "    <tr>\n",
       "      <th>13</th>\n",
       "      <td>4.8</td>\n",
       "      <td>3.0</td>\n",
       "      <td>1.4</td>\n",
       "      <td>0.1</td>\n",
       "      <td>0.0</td>\n",
       "    </tr>\n",
       "    <tr>\n",
       "      <th>14</th>\n",
       "      <td>4.3</td>\n",
       "      <td>3.0</td>\n",
       "      <td>1.1</td>\n",
       "      <td>0.1</td>\n",
       "      <td>0.0</td>\n",
       "    </tr>\n",
       "    <tr>\n",
       "      <th>15</th>\n",
       "      <td>5.8</td>\n",
       "      <td>4.0</td>\n",
       "      <td>1.2</td>\n",
       "      <td>0.2</td>\n",
       "      <td>0.0</td>\n",
       "    </tr>\n",
       "    <tr>\n",
       "      <th>16</th>\n",
       "      <td>5.7</td>\n",
       "      <td>4.4</td>\n",
       "      <td>1.5</td>\n",
       "      <td>0.4</td>\n",
       "      <td>0.0</td>\n",
       "    </tr>\n",
       "    <tr>\n",
       "      <th>17</th>\n",
       "      <td>5.4</td>\n",
       "      <td>3.9</td>\n",
       "      <td>1.3</td>\n",
       "      <td>0.4</td>\n",
       "      <td>0.0</td>\n",
       "    </tr>\n",
       "    <tr>\n",
       "      <th>18</th>\n",
       "      <td>5.1</td>\n",
       "      <td>3.5</td>\n",
       "      <td>1.4</td>\n",
       "      <td>0.3</td>\n",
       "      <td>0.0</td>\n",
       "    </tr>\n",
       "    <tr>\n",
       "      <th>19</th>\n",
       "      <td>5.7</td>\n",
       "      <td>3.8</td>\n",
       "      <td>1.7</td>\n",
       "      <td>0.3</td>\n",
       "      <td>0.0</td>\n",
       "    </tr>\n",
       "    <tr>\n",
       "      <th>20</th>\n",
       "      <td>5.1</td>\n",
       "      <td>3.8</td>\n",
       "      <td>1.5</td>\n",
       "      <td>0.3</td>\n",
       "      <td>0.0</td>\n",
       "    </tr>\n",
       "    <tr>\n",
       "      <th>21</th>\n",
       "      <td>5.4</td>\n",
       "      <td>3.4</td>\n",
       "      <td>1.7</td>\n",
       "      <td>0.2</td>\n",
       "      <td>0.0</td>\n",
       "    </tr>\n",
       "    <tr>\n",
       "      <th>22</th>\n",
       "      <td>5.1</td>\n",
       "      <td>3.7</td>\n",
       "      <td>1.5</td>\n",
       "      <td>0.4</td>\n",
       "      <td>0.0</td>\n",
       "    </tr>\n",
       "    <tr>\n",
       "      <th>23</th>\n",
       "      <td>4.6</td>\n",
       "      <td>3.6</td>\n",
       "      <td>1.0</td>\n",
       "      <td>0.2</td>\n",
       "      <td>0.0</td>\n",
       "    </tr>\n",
       "    <tr>\n",
       "      <th>24</th>\n",
       "      <td>5.1</td>\n",
       "      <td>3.3</td>\n",
       "      <td>1.7</td>\n",
       "      <td>0.5</td>\n",
       "      <td>0.0</td>\n",
       "    </tr>\n",
       "    <tr>\n",
       "      <th>25</th>\n",
       "      <td>4.8</td>\n",
       "      <td>3.4</td>\n",
       "      <td>1.9</td>\n",
       "      <td>0.2</td>\n",
       "      <td>0.0</td>\n",
       "    </tr>\n",
       "    <tr>\n",
       "      <th>26</th>\n",
       "      <td>5.0</td>\n",
       "      <td>3.0</td>\n",
       "      <td>1.6</td>\n",
       "      <td>0.2</td>\n",
       "      <td>0.0</td>\n",
       "    </tr>\n",
       "    <tr>\n",
       "      <th>27</th>\n",
       "      <td>5.0</td>\n",
       "      <td>3.4</td>\n",
       "      <td>1.6</td>\n",
       "      <td>0.4</td>\n",
       "      <td>0.0</td>\n",
       "    </tr>\n",
       "    <tr>\n",
       "      <th>28</th>\n",
       "      <td>5.2</td>\n",
       "      <td>3.5</td>\n",
       "      <td>1.5</td>\n",
       "      <td>0.2</td>\n",
       "      <td>0.0</td>\n",
       "    </tr>\n",
       "    <tr>\n",
       "      <th>29</th>\n",
       "      <td>5.2</td>\n",
       "      <td>3.4</td>\n",
       "      <td>1.4</td>\n",
       "      <td>0.2</td>\n",
       "      <td>0.0</td>\n",
       "    </tr>\n",
       "    <tr>\n",
       "      <th>30</th>\n",
       "      <td>4.7</td>\n",
       "      <td>3.2</td>\n",
       "      <td>1.6</td>\n",
       "      <td>0.2</td>\n",
       "      <td>0.0</td>\n",
       "    </tr>\n",
       "    <tr>\n",
       "      <th>...</th>\n",
       "      <td>...</td>\n",
       "      <td>...</td>\n",
       "      <td>...</td>\n",
       "      <td>...</td>\n",
       "      <td>...</td>\n",
       "    </tr>\n",
       "    <tr>\n",
       "      <th>121</th>\n",
       "      <td>6.9</td>\n",
       "      <td>3.2</td>\n",
       "      <td>5.7</td>\n",
       "      <td>2.3</td>\n",
       "      <td>2.0</td>\n",
       "    </tr>\n",
       "    <tr>\n",
       "      <th>122</th>\n",
       "      <td>5.6</td>\n",
       "      <td>2.8</td>\n",
       "      <td>4.9</td>\n",
       "      <td>2.0</td>\n",
       "      <td>2.0</td>\n",
       "    </tr>\n",
       "    <tr>\n",
       "      <th>123</th>\n",
       "      <td>7.7</td>\n",
       "      <td>2.8</td>\n",
       "      <td>6.7</td>\n",
       "      <td>2.0</td>\n",
       "      <td>2.0</td>\n",
       "    </tr>\n",
       "    <tr>\n",
       "      <th>124</th>\n",
       "      <td>6.3</td>\n",
       "      <td>2.7</td>\n",
       "      <td>4.9</td>\n",
       "      <td>1.8</td>\n",
       "      <td>2.0</td>\n",
       "    </tr>\n",
       "    <tr>\n",
       "      <th>125</th>\n",
       "      <td>6.7</td>\n",
       "      <td>3.3</td>\n",
       "      <td>5.7</td>\n",
       "      <td>2.1</td>\n",
       "      <td>2.0</td>\n",
       "    </tr>\n",
       "    <tr>\n",
       "      <th>126</th>\n",
       "      <td>7.2</td>\n",
       "      <td>3.2</td>\n",
       "      <td>6.0</td>\n",
       "      <td>1.8</td>\n",
       "      <td>2.0</td>\n",
       "    </tr>\n",
       "    <tr>\n",
       "      <th>127</th>\n",
       "      <td>6.2</td>\n",
       "      <td>2.8</td>\n",
       "      <td>4.8</td>\n",
       "      <td>1.8</td>\n",
       "      <td>2.0</td>\n",
       "    </tr>\n",
       "    <tr>\n",
       "      <th>128</th>\n",
       "      <td>6.1</td>\n",
       "      <td>3.0</td>\n",
       "      <td>4.9</td>\n",
       "      <td>1.8</td>\n",
       "      <td>2.0</td>\n",
       "    </tr>\n",
       "    <tr>\n",
       "      <th>129</th>\n",
       "      <td>6.4</td>\n",
       "      <td>2.8</td>\n",
       "      <td>5.6</td>\n",
       "      <td>2.1</td>\n",
       "      <td>2.0</td>\n",
       "    </tr>\n",
       "    <tr>\n",
       "      <th>130</th>\n",
       "      <td>7.2</td>\n",
       "      <td>3.0</td>\n",
       "      <td>5.8</td>\n",
       "      <td>1.6</td>\n",
       "      <td>2.0</td>\n",
       "    </tr>\n",
       "    <tr>\n",
       "      <th>131</th>\n",
       "      <td>7.4</td>\n",
       "      <td>2.8</td>\n",
       "      <td>6.1</td>\n",
       "      <td>1.9</td>\n",
       "      <td>2.0</td>\n",
       "    </tr>\n",
       "    <tr>\n",
       "      <th>132</th>\n",
       "      <td>7.9</td>\n",
       "      <td>3.8</td>\n",
       "      <td>6.4</td>\n",
       "      <td>2.0</td>\n",
       "      <td>2.0</td>\n",
       "    </tr>\n",
       "    <tr>\n",
       "      <th>133</th>\n",
       "      <td>6.4</td>\n",
       "      <td>2.8</td>\n",
       "      <td>5.6</td>\n",
       "      <td>2.2</td>\n",
       "      <td>2.0</td>\n",
       "    </tr>\n",
       "    <tr>\n",
       "      <th>134</th>\n",
       "      <td>6.3</td>\n",
       "      <td>2.8</td>\n",
       "      <td>5.1</td>\n",
       "      <td>1.5</td>\n",
       "      <td>2.0</td>\n",
       "    </tr>\n",
       "    <tr>\n",
       "      <th>135</th>\n",
       "      <td>6.1</td>\n",
       "      <td>2.6</td>\n",
       "      <td>5.6</td>\n",
       "      <td>1.4</td>\n",
       "      <td>2.0</td>\n",
       "    </tr>\n",
       "    <tr>\n",
       "      <th>136</th>\n",
       "      <td>7.7</td>\n",
       "      <td>3.0</td>\n",
       "      <td>6.1</td>\n",
       "      <td>2.3</td>\n",
       "      <td>2.0</td>\n",
       "    </tr>\n",
       "    <tr>\n",
       "      <th>137</th>\n",
       "      <td>6.3</td>\n",
       "      <td>3.4</td>\n",
       "      <td>5.6</td>\n",
       "      <td>2.4</td>\n",
       "      <td>2.0</td>\n",
       "    </tr>\n",
       "    <tr>\n",
       "      <th>138</th>\n",
       "      <td>6.4</td>\n",
       "      <td>3.1</td>\n",
       "      <td>5.5</td>\n",
       "      <td>1.8</td>\n",
       "      <td>2.0</td>\n",
       "    </tr>\n",
       "    <tr>\n",
       "      <th>139</th>\n",
       "      <td>6.0</td>\n",
       "      <td>3.0</td>\n",
       "      <td>4.8</td>\n",
       "      <td>1.8</td>\n",
       "      <td>2.0</td>\n",
       "    </tr>\n",
       "    <tr>\n",
       "      <th>140</th>\n",
       "      <td>6.9</td>\n",
       "      <td>3.1</td>\n",
       "      <td>5.4</td>\n",
       "      <td>2.1</td>\n",
       "      <td>2.0</td>\n",
       "    </tr>\n",
       "    <tr>\n",
       "      <th>141</th>\n",
       "      <td>6.7</td>\n",
       "      <td>3.1</td>\n",
       "      <td>5.6</td>\n",
       "      <td>2.4</td>\n",
       "      <td>2.0</td>\n",
       "    </tr>\n",
       "    <tr>\n",
       "      <th>142</th>\n",
       "      <td>6.9</td>\n",
       "      <td>3.1</td>\n",
       "      <td>5.1</td>\n",
       "      <td>2.3</td>\n",
       "      <td>2.0</td>\n",
       "    </tr>\n",
       "    <tr>\n",
       "      <th>143</th>\n",
       "      <td>5.8</td>\n",
       "      <td>2.7</td>\n",
       "      <td>5.1</td>\n",
       "      <td>1.9</td>\n",
       "      <td>2.0</td>\n",
       "    </tr>\n",
       "    <tr>\n",
       "      <th>144</th>\n",
       "      <td>6.8</td>\n",
       "      <td>3.2</td>\n",
       "      <td>5.9</td>\n",
       "      <td>2.3</td>\n",
       "      <td>2.0</td>\n",
       "    </tr>\n",
       "    <tr>\n",
       "      <th>145</th>\n",
       "      <td>6.7</td>\n",
       "      <td>3.3</td>\n",
       "      <td>5.7</td>\n",
       "      <td>2.5</td>\n",
       "      <td>2.0</td>\n",
       "    </tr>\n",
       "    <tr>\n",
       "      <th>146</th>\n",
       "      <td>6.7</td>\n",
       "      <td>3.0</td>\n",
       "      <td>5.2</td>\n",
       "      <td>2.3</td>\n",
       "      <td>2.0</td>\n",
       "    </tr>\n",
       "    <tr>\n",
       "      <th>147</th>\n",
       "      <td>6.3</td>\n",
       "      <td>2.5</td>\n",
       "      <td>5.0</td>\n",
       "      <td>1.9</td>\n",
       "      <td>2.0</td>\n",
       "    </tr>\n",
       "    <tr>\n",
       "      <th>148</th>\n",
       "      <td>6.5</td>\n",
       "      <td>3.0</td>\n",
       "      <td>5.2</td>\n",
       "      <td>2.0</td>\n",
       "      <td>2.0</td>\n",
       "    </tr>\n",
       "    <tr>\n",
       "      <th>149</th>\n",
       "      <td>6.2</td>\n",
       "      <td>3.4</td>\n",
       "      <td>5.4</td>\n",
       "      <td>2.3</td>\n",
       "      <td>2.0</td>\n",
       "    </tr>\n",
       "    <tr>\n",
       "      <th>150</th>\n",
       "      <td>5.9</td>\n",
       "      <td>3.0</td>\n",
       "      <td>5.1</td>\n",
       "      <td>1.8</td>\n",
       "      <td>2.0</td>\n",
       "    </tr>\n",
       "  </tbody>\n",
       "</table>\n",
       "<p>150 rows × 5 columns</p>\n",
       "</div>"
      ],
      "text/plain": [
       "     sepal length (cm)  sepal width (cm)  petal length (cm)  petal width (cm)  \\\n",
       "1                  5.1               3.5                1.4               0.2   \n",
       "2                  4.9               3.0                1.4               0.2   \n",
       "3                  4.7               3.2                1.3               0.2   \n",
       "4                  4.6               3.1                1.5               0.2   \n",
       "5                  5.0               3.6                1.4               0.2   \n",
       "6                  5.4               3.9                1.7               0.4   \n",
       "7                  4.6               3.4                1.4               0.3   \n",
       "8                  5.0               3.4                1.5               0.2   \n",
       "9                  4.4               2.9                1.4               0.2   \n",
       "10                 4.9               3.1                1.5               0.1   \n",
       "11                 5.4               3.7                1.5               0.2   \n",
       "12                 4.8               3.4                1.6               0.2   \n",
       "13                 4.8               3.0                1.4               0.1   \n",
       "14                 4.3               3.0                1.1               0.1   \n",
       "15                 5.8               4.0                1.2               0.2   \n",
       "16                 5.7               4.4                1.5               0.4   \n",
       "17                 5.4               3.9                1.3               0.4   \n",
       "18                 5.1               3.5                1.4               0.3   \n",
       "19                 5.7               3.8                1.7               0.3   \n",
       "20                 5.1               3.8                1.5               0.3   \n",
       "21                 5.4               3.4                1.7               0.2   \n",
       "22                 5.1               3.7                1.5               0.4   \n",
       "23                 4.6               3.6                1.0               0.2   \n",
       "24                 5.1               3.3                1.7               0.5   \n",
       "25                 4.8               3.4                1.9               0.2   \n",
       "26                 5.0               3.0                1.6               0.2   \n",
       "27                 5.0               3.4                1.6               0.4   \n",
       "28                 5.2               3.5                1.5               0.2   \n",
       "29                 5.2               3.4                1.4               0.2   \n",
       "30                 4.7               3.2                1.6               0.2   \n",
       "..                 ...               ...                ...               ...   \n",
       "121                6.9               3.2                5.7               2.3   \n",
       "122                5.6               2.8                4.9               2.0   \n",
       "123                7.7               2.8                6.7               2.0   \n",
       "124                6.3               2.7                4.9               1.8   \n",
       "125                6.7               3.3                5.7               2.1   \n",
       "126                7.2               3.2                6.0               1.8   \n",
       "127                6.2               2.8                4.8               1.8   \n",
       "128                6.1               3.0                4.9               1.8   \n",
       "129                6.4               2.8                5.6               2.1   \n",
       "130                7.2               3.0                5.8               1.6   \n",
       "131                7.4               2.8                6.1               1.9   \n",
       "132                7.9               3.8                6.4               2.0   \n",
       "133                6.4               2.8                5.6               2.2   \n",
       "134                6.3               2.8                5.1               1.5   \n",
       "135                6.1               2.6                5.6               1.4   \n",
       "136                7.7               3.0                6.1               2.3   \n",
       "137                6.3               3.4                5.6               2.4   \n",
       "138                6.4               3.1                5.5               1.8   \n",
       "139                6.0               3.0                4.8               1.8   \n",
       "140                6.9               3.1                5.4               2.1   \n",
       "141                6.7               3.1                5.6               2.4   \n",
       "142                6.9               3.1                5.1               2.3   \n",
       "143                5.8               2.7                5.1               1.9   \n",
       "144                6.8               3.2                5.9               2.3   \n",
       "145                6.7               3.3                5.7               2.5   \n",
       "146                6.7               3.0                5.2               2.3   \n",
       "147                6.3               2.5                5.0               1.9   \n",
       "148                6.5               3.0                5.2               2.0   \n",
       "149                6.2               3.4                5.4               2.3   \n",
       "150                5.9               3.0                5.1               1.8   \n",
       "\n",
       "     target  \n",
       "1       0.0  \n",
       "2       0.0  \n",
       "3       0.0  \n",
       "4       0.0  \n",
       "5       0.0  \n",
       "6       0.0  \n",
       "7       0.0  \n",
       "8       0.0  \n",
       "9       0.0  \n",
       "10      0.0  \n",
       "11      0.0  \n",
       "12      0.0  \n",
       "13      0.0  \n",
       "14      0.0  \n",
       "15      0.0  \n",
       "16      0.0  \n",
       "17      0.0  \n",
       "18      0.0  \n",
       "19      0.0  \n",
       "20      0.0  \n",
       "21      0.0  \n",
       "22      0.0  \n",
       "23      0.0  \n",
       "24      0.0  \n",
       "25      0.0  \n",
       "26      0.0  \n",
       "27      0.0  \n",
       "28      0.0  \n",
       "29      0.0  \n",
       "30      0.0  \n",
       "..      ...  \n",
       "121     2.0  \n",
       "122     2.0  \n",
       "123     2.0  \n",
       "124     2.0  \n",
       "125     2.0  \n",
       "126     2.0  \n",
       "127     2.0  \n",
       "128     2.0  \n",
       "129     2.0  \n",
       "130     2.0  \n",
       "131     2.0  \n",
       "132     2.0  \n",
       "133     2.0  \n",
       "134     2.0  \n",
       "135     2.0  \n",
       "136     2.0  \n",
       "137     2.0  \n",
       "138     2.0  \n",
       "139     2.0  \n",
       "140     2.0  \n",
       "141     2.0  \n",
       "142     2.0  \n",
       "143     2.0  \n",
       "144     2.0  \n",
       "145     2.0  \n",
       "146     2.0  \n",
       "147     2.0  \n",
       "148     2.0  \n",
       "149     2.0  \n",
       "150     2.0  \n",
       "\n",
       "[150 rows x 5 columns]"
      ]
     },
     "execution_count": 27,
     "metadata": {},
     "output_type": "execute_result"
    }
   ],
   "source": [
    "def toDataframe():\n",
    "    \n",
    "    columns = np.append(data.feature_names,['target'])\n",
    "    bodydata = np.append(data.data, data.target[:,None], axis=1)\n",
    "    index = pd.RangeIndex(start=1, stop=len(data.data)+1, step=1)\n",
    "\n",
    "    return pd.DataFrame(columns=columns, data=bodydata, index=index)\n",
    "\n",
    "\n",
    "data_df=toDataframe()\n",
    "data_df"
   ]
  },
  {
   "cell_type": "markdown",
   "metadata": {},
   "source": [
    "# Question1"
   ]
  },
  {
   "cell_type": "code",
   "execution_count": 28,
   "metadata": {
    "scrolled": false
   },
   "outputs": [
    {
     "data": {
      "text/plain": [
       "<seaborn.axisgrid.PairGrid at 0x10ffba70>"
      ]
     },
     "execution_count": 28,
     "metadata": {},
     "output_type": "execute_result"
    },
    {
     "data": {
      "image/png": "iVBORw0KGgoAAAANSUhEUgAAAysAAALaCAYAAAAx7sxUAAAABHNCSVQICAgIfAhkiAAAAAlwSFlzAAALEgAACxIB0t1+/AAAADh0RVh0U29mdHdhcmUAbWF0cGxvdGxpYiB2ZXJzaW9uMy4xLjIsIGh0dHA6Ly9tYXRwbG90bGliLm9yZy8li6FKAAAgAElEQVR4nOydeXwTdf7/XzOTo0lzNaUHlUNE8EBQEPCoKOeqoKIc4oIIqF/w+u2ui6AoigcooOyuLnjtqri4uyq6iteucokIyiEoLoqw3FDahra5mjTNZOb3R5o0k0yatDnbvJ+Ph4+HM/nMzKfD+/OZec/n/Xq/GVEURRAEQRAEQRAEQWQZbKY7QBAEQRAEQRAEIQc5KwRBEARBEARBZCXkrBAEQRAEQRAEkZWQs0IQBEEQBEEQRFZCzgpBEARBEARBEFlJu3RWeJ7HiRMnwPN8prtCEC1Ctkq0F8hWifYC2SpB5Bbt0lmprKzEiBEjUFlZmemuEESLkK0S7QWyVaK9QLZKELlFu3RWCIIgCIIgCILo+JCzQhAEQRAEQRBEVpJxZ2XNmjUYM2YMxowZgyVLlmS6OwRBEARBEARBZAkZdVbcbjcWLVqEVatWYc2aNdi5cye2bt2ayS4RBEEQBEEQBJElKDJ5cZ/PB0EQ4Ha7odVqwfM81Gq1pI3dbofdbpfsI1EdkY2QrRLtBbJVor1AtkoQREadFZ1Oh9/+9re49tprodFoMGjQIAwYMEDS5s0338Ty5csz1MO2IwgiHK5GGHXq2I2JDkF7tVUi9yBbJdoLZKsEQTCiKIqZuvi+ffvw0EMP4bXXXoNer8cDDzyAfv364c477wy2ifZVZcqUKVi/fj26dOmS7m7HRBBELF21E9/+9xTmTB2I8n5lme4SkQbao63mGoIowN7ghFfwQskqYcjTgWUyLt1LO2SruUt7GwNkq+2T9mZnRHaT0ZWVr7/+GpdddhkKCwsBAOPGjcM//vEPibNiMBhgMBgy1cU28f1+C7bsqQAAvPrBj7jsgs5gWSbDvSJSTXu01VxCEAUct1Vg6eaXYHHVokhrxtwhd6OrsSznHqJkq7lJexwDZKvtj/ZoZ0R2k1GrOffcc7F161a4XC6IoogNGzagb9++mexSUti0+wS0eQpMHH42au0N+PlIbaa7RBA5j73BGXx4AoDFVYulm1+CvcGZ4Z4RRHqgMUCkA7IzItlkdGXliiuuwE8//YRx48ZBqVSib9++mDlzZia7lDCiKGLHT5Xof04xzu9RCJY9iO17T6HPWYWZ7hpB5DRewRt8eAawuGrhFfgM9Ygg0guNASIdkJ0RySajzgoAzJw5s907KKGctDjhcHlxZmcD1CoFSgu1+OWYNdPdIoicR8kqUaQ1Sx6iRVozlGzGp0GCSAs0Boh0QHZGJBsKHkwy+47UAQA6F2oBAF2KdDh00gZByFgeA4IgABjydJg75G4Uac0AEIyjNuTpMtwzgkgPNAaIdEB2RiQbcnOTzP7jddCoFSg0aiCKQJdiPbb/VIXKmnqUFdFAJYhMwTIsuhrLsGjkg/AKPJSsgjLUEDkFjQEiHZCdEcmGnJUkc6zSga4lOqBpIaXE7F9hOVppJ2eFIDIMy7AwaSizEJG70Bgg0gHZGZFMyFlJIqIo4ugpOwaeVxzwVVBk0gDwOzGXtf9EZ0SOEitnfqK/Z8vfQRAdhdbaOi/wsLrt4EUfFAwHY54e9Y1uGitEm4jX/uTaCaIgsUWTxgAF6V1yGvrXTyJ1Dg+cbi9KzPnBfXlqBfRaJU5UU8o+on0SK2d+or9ny99BEB2F1to6L/A4Zq3Asi2vBNvPLp+F9/Z+ip0Ve2isEK0iXvuTa7dg2P1wNroibLGbqYwclhyGZp0kcqzSX2W30Jgn2d/JpCFnhWi3xMqZn+jv2fJ3EERHobW2bnXbgy+HgfbLtryCoT0ui+t4ggglXvuTa+cVeFlbtLrt6f0jiKyCnJUkctJSDwAo0Ec6K5W19ZnoEkEkTKyc+Yn+ni6ypR8EkWpaa+u86JNtr1Np4zqeIEKJ1/7k2jFgZI/1ib7UdJZoF5CzkkQqTjuhVnLQa5WS/WZDHpwuL9wemuiJ9kcgZ34ooTnzE/09XWRLPwgi1bTG1gVRAMdwsu2dja6YxxNEONHsT8FysLrtsNTXwOq2Q8EqItqJEGWP5Rgu5f0mshdyVpJIhaUeJWYtwiuqFOjVAIDqWlfkQQSR5cTKmR/rd51ai9nlsyS/zy6fBZ1aK3O1zP0dBNFRiNfWA5qB/+zfiN+Xz4wYo18e/qbF4wlCDjn7mzPkbri9DXhk3RLc+8l8PLJuCdzeBswJa6dkFbLPC8osltvQZ5Ikcuq0E5075UMM81YCYWFVtS5070wDjmhfxMqZH+t3p8eF9/Z+imn9J0Kn0sLZ6N+eOXBKWh9AlPufyBXitfVQzYDT68K8K+8Dy7BQckqY8vSYOXAKZgiTaKwQrULO/hiGwcNrF0u0KIs2vYCnRz0UYadmrQlPDJ8Nn+gDR9nACJCzkjR8goiqWhf6nt0p4rfAykrFaRInEu2TWDnzW/rdK3ixs2IPdlbskeyfIUxKah/jgXL/E7lCPLYeqhnYeHgrNh7eCgBYcd0iv8OiUbZ0OEFEJdz+LPU1slqURp8XRfnmiGM7he0jchv6TJIkaqxu8D4R5jBxPQDka5RQKlhU1pDInsg9SCtCENkJjU0iXZCtEYlAzkqSqGrSoxh0qojfGIaBSadGdZ073d0iiIxDWhGCyE5obBLpgmyNSARyaZNEVVNqYqNOLfu7UadGja0hnV0iiKyAtCIEkZ3Q2CTSBdkakQjkrCSJyloXGAYwaiNXVgDAqFPhfyesae4VQWQHpBUhiOyExiaRLsjWiLZCzkqSqKpxodCQB5ZlIITnLoZ/ZcXubISXF6BU0JcEomMhiALsDU54BS+UrJK+mBFEhqExSaQLsjUi1ZCzkiSqal3oZNLIOioAYNKpIQKotTegxJze+hIEkUoCtRoCKVADschdjWX0wCKIDEBjkkgXZGtEOiBLShKWOhfMxshMYAGMTcL701YS2RMdi9BaDYA/HeXSzS/B3kCpugkiE9CYJNIF2RqRDshZSQK8T0CtvSFYT0UOQ77/t6o6qmJPdCxCazUEsLhq4RX4DPWIIHIbGpNEuiBbI9IBOStJ4LTVDUEETC04K8Z8/8pKDa2sEB2MaPnzGfgLgVnddgiikJnOEUQOQmOSSBWCKMDqtgftSMEqqH4KkXLIWUkClqb6KXqNfCYwAFCrOKgULIWBER0Oufz5s8tn4fVd7+DeT+bjkXVLcNxWQS9HBJEmaEwSqSCgT3lk3ZKgHbm9DZhD9VOIFEOubxIIFISMVmMF8BeGNOhUVGuF6HCE589nALy+6x3srNgDoDmGedHIByltJUGkARqTRCqQ06cs2vQCnh71ENVPIVIKOStJwNK0WmLIj76yAgAGrRq1dnJWiI5HaP58S31N8KUoAMUwE0R6oTFJJJto+pRGnxdF+eYoRxFE4pCzkgQsdS6YdGpwLAtBjJK7GIBBp8LxKkcae0YQ6ScQLx/6UBtY1i8YLx8tD38ycvVTvn8il5CzdwDBfQwYsAwDBgwGlvWTOCykKyDCiTV/KlklBpb1w9Ael0Gn0sLZ6MKXh7/JiB3RXJ9b0EyVBCx1bhSa8iC24KgA/pUXq8MDQRDBskyaekcQ6SUQLx8IFxhY1g8T+ozBgg3LoubhT0aufsr3T+QScvY+Z8jdULFKLNr0QnDfXYOn4t/7N2JCnzEAgJ0Ve0hXQEQQz/ypU2sxoc8YLNvySrDN7PJZ0KnTWzuO5vrcg/5Vk4DF6oLZkIeWXRW/s+ITRDhcjWnpF0FkgtB4+RXXLcLtAyYFH26AfB7+ZOTqp3z/RC4hZ+/Pbn4JlU6LZN/L21dhaI/LsGzLK7h9wCSsuG4RFo18kF7sCAnxzJ9OjytiLl+25RU4PektyUBzfe5BM1WCiKIIS527xRorAQxav6aFdCtERycQL1+Ub4YIMWYe/mTk6qd8/0QuEc3e8xSqiH06lRYWVy1EAEX5Zpg0BnJUCAnxzJ/ZMsdmSz+I9EGzVYLYnI1o5IUWM4EFCBSGpIxgRC4RreZDaJxzPG2ScR2C6ChEs/cGvjFin7PRRWOBaJF0zNPhNVramjqb5vrcg5yVBKluqkgfKxNYaJtqqmJP5BA6tRazy2dF1HwIjXOWqwvR2pj6ZJyDINoLcvZ+36UzYFDnS/bdNXgqvjz8DY0FokXimT8TmWPlarS0tdYPzfW5B7mhCRJIW6zXxnZWdFolAFpZIXILp8eF9/Z+imn9JwYzyLy391PMHDglmFo1vC5EW3L1J+McBNFeCLV3j68RJ+2VeOuHfwEApvWfCLPGBGOeARzDYubAKTQWiBaJZ/5MZI6NpjNpS60fmutzj4w6K6tXr8Zbb70V3D5x4gTGjh2Lxx57LIO9ah2WplUSky62s6LgWOg0StTYqIo9kTt4BS92VuyJqPMwQ5gk2Q6tC9FWknEOgmgvBOzdUl+DxZtXBPc/t+UVAMCK6xbBrDVlqntEOyOe+bOtc2yydSY01+cWGXVWJk6ciIkTJwIADhw4gHvvvRf33XdfJrvUaix1bqhVHNQqBWJkLgYA6PNVqKWVFSKHkKu7IhdfLIoCfPU2iD4eDKcAl28EQ1/KiA5Aqm073jFG5CbZMLeSjRKJkDVvAo8//jjuv/9+mM3tqwpqdZ0LnYyauNsbtCrUOjwp7BFBZBfxxBeLooDG6mOoWDkPx5ffhYqV89BYfQxiGwWYBJEtpMO2KYafiEa2zK1ko0QiZIVLu3XrVjQ0NODaa6+N+M1ut8Nut0v2VVZWpqtrMbFY3Sg05sW1qgL4RfanjtWltlNERsh2W80U8cQX++ptqFq9GLzNAgDgbRZUrV6MsunPQKEryFTXOyxkq+kjHbbdkWP4yVYTI1vm1o5so0TqyQpn5e2338aMGTNkf3vzzTexfPnyNPcofqpr3RhwTvxfBvT5KjjqG8H7BCg4GqQdiWy31UwSK75Y9PHBh2kA3maB6KO8+amAbDV9pMu2O2oMP9lqYmTT3NpRbZRIPRl3VhobG7Fjxw4sXrxY9vdp06bhpptukuyrrKzElClT0tG9Fmnw8HC4GlFgiF1jJYAxXwURQJ3dg6KC+MPHiOwnm201G+F9XlgbHOAFHxQKFgU33g+PWg1RowfjdkDcvQEMl/EpqkNCtpo+GE4BhbFI8sKo6TUIAAOvzQKGU4DR6uHwuOAVvFCyyuAXZ0EUYG9wxr2/I0K2mhhy9qcwFoFRqMA769KqY4nXbnmBh9VtBy/6oGA4mDQGKEjbktNk/F//l19+wZlnngmtViv7u8FggMGQnZ54oF6KMT9+Z0WfH6hi7yZnpYORzbaabfA+L47ZKrBsy6uwuGqbaq/MxJajO/Hxd+tQpDVjzoiZYLT6THe1Q0K2mj64fCNKJj4UDMXR9BoE85CbcWrVfP9278HwjLgFz4aMhblD7sYZhlKctFcG073G2t/VWNYhHRay1cQItz+FsQglv34UPmeddN/Eh6Aq7pYyhyVQZyWW3fICj2PWCizb8krIs2EWupnKyGHJYTI+sx0/fhylpaWZ7kabqK4L1FhRxn2Moakey2lKX0zkMNYGR9BRAfwpLJdteRXDzro8uP3sllfh8FABVaJ9wzAsVMXdUDb9GXS972V0uvpOVL2/NPilm+k/POioAM31J6xuu2xdimj77Q3OzPyBRFYTbn9l058Bp9bK6lh89baU9SNanZVwu7W67UFHJdBu2ZZXYHXbI85J5A5JdVN9Ph+cTifEELW5ydRyjvfRo0dj9OjRyexG2ghWr9flxX1MoIq9pZacFSJ34QWfbM790C9sieTgJ4hsgmHYoJjZa7NIQnJEjV52LPhE+TESbT+NFSIaofYHRNogkHodS7x1VvgW7J7IXZLmrPz973/HkiVL4PV6AQCiKIJhGPz888/JukTWUV3rAscy0GuUiDMZGLQaJTiWoZUVokMRK49/eKyyguUicu4PLOsHjuXw+LD74Wx04cvD31AOfqJD4U8Xy6DstkXwuWywbv0AjNshW3+CYyLHSJHWDDbKfhWnhNVtzwkdC9E6wudnRqGS17GkUCMYb50VBcNhYFk/DO1xGXQqbfBZwDFcyvpGZD9Js8zXX38d77zzDs4777xknTLrsdT50xaDAeL1VliGgSFfhdNWKgxJdAwCefyjxT/LxSovGHY/ZpfPCi73Dyzrhwl9RuPJjX+UxCnr1PJaNoJob8iNk6Ix98BxcDfmlM+M0KyYNAbMHXK3ZNzcNXgq/rN/o2TsFGnNeOSq36CuwYZnc0THQsRPtPm55NePouqfT0n2cfnGlPVDp9ZG2K3cHG/M02NCnzER7Yx5pF/MZZLmrBiNxpxyVACgqs6FIpM27horAQz5atTayVkhOgax8vjLxSo/sfGPeGbUQ3hi+Gz4BB9YlsPjG5ZFxCkvGvkgpbokOgRy48Ty6YvoPHUhCvUm2foTXY1leGL4bJx21cHuceDtHz/CgZrDOOWsxhPDZ0MEoGQVECFi0boXIvQANH6IlubnsunPpC0bmNPjwnt7P8W0/hODKybv7f0UMwdOkdhofaNbVrPit+X49cFExyJhZ8VqtQIALrroIqxcuRLXXXcdFIrm08bSrLRnqmpd6NuzsNXHGXUqVNaScJjoGMTK4x8tVtnj86Io31/N2FJfQ3H4RIcm2jgBRHCsQtapYBkWIkQ8tuE5yf6dFXswY8AkGj9ETFqan5XGorT1wyt4sbNiD3ZW7JHsnyFMimhHtkyEk7Czcumll4JhmKCoPrReSkfWrHi8PlgdHhTo409bHMCYr8LPR2qDuh6CyCZaW8Mhah7/pvhnJauUjUFWcQrUOWvgFf0rK3IaFgCodFoo1z7RLoim3ZLTqngqDsRVbyU01r9XYQ+MPfdXKNUVAwCqnBawDBdV30KaLyKROity9iwCbarxE+05EG6j0dox8DvlgWuijf0g2icJz2T79u0DAAiCAJaVGkpg1aUjUt20MmJqg7NiyFfDywtwur3QN6UyJohsIN5c+KHI5vEPiX/WqTSY0Ge0pKbKA1fMgtNTj6e/Wh7UrMwunxls49ewjAmGhlGufSLbiaYNUBZ1gddyIkKr4jy4G4Y+Q+KqtzJ3yN1458ePcW3vYfj3/o24tvcwLNm8QlKjaHb5XVi25WXJsYGXOiJ3YbV6lIyfG0yXrTAWoWTSIzHrrMjZc/GvH0MVJ7Spxo9OrZXVooRrVqK1+/f+jfh4/7qgRqtR8JJGK4dI2r/q+PHjI/bdeuutyTp91lHV5Ky0xdkw6JpqrVgpIxiRXcSbCz8UuTz+oQ89h0xNlee+fgVVIaErOyv24L29n+GJ4b/HiusWYcaASZRrn2hXRNMG+BxWWa2KadDouOqtOD0udDWW4fYBk/Dy9lUY2uMyvLx9VUSNojyFCndc/Gv8ecxTWDTyQXpxIwAAgsuB2s3vonDUDHS+9UkUjpoBwWWPWWdFzp5t9uo21/hxelyyc7ozrJZWtHbnFPUMblc6LUFHpbX9INonCX+inDZtGn788Uc0NDRgwIABwf2CIKBv376Jnj5rCTgrBfrWV6E36fyrMRarGz3KUpd9gyBaS1vjhcPz+EvPKZ83P08hdfR3VuzBjIvGo0hfjEqnhXLtE+2KqJoUIdp+X1z1VrwCH9SuWFy10Km0su0AYPHmFVhx3SIS1RNBRB8P94EdcB/YEdzX+dYnY9ZZkbNnQZXXZj1JvM+WaO10quYVmDyFinQtOUbCzsqKFStgtVrx8MMP45lnnmk+sUKBoqL0ibfSTWVNPZQKFjqNAkIrs4EZm5yVqhoS2RPZRby58GMRGuus5FjZczbwjZJjirRmKJpy6SuixOBTrn0iW2E4BTS9BsFw4TCweToIDU7Yf9gIsJysZgCsVEsQrd5KYOwFxqaz0SXbThAF0qkQkTVVZOwSQMw6K3JaF7axoc3Ph3ifLdHaORub35ca+EbSaOUYCa8R63Q6dOnSBYsXLwbDMMH/BEGAzWaLfYJ2SlWtC8UF2riLQYai0/oLQ1bX1Se9XwSRCIY8HeYOuRtFWn+WobbEvgdinStWzsPx5XdB/OlbzCmfKTnnnPJZKMkvDNs3E/qmL8ImjQGzy2dJfp9dPou+GBNZC6vVwzzkZtSsfQOn3noMNWvfgHnIRDh+2Y6iMff4HRSgWdOlN6Fk4kPB/eLuDRHjJHTsBcbml4e/wV2Dp0ra/b58JjYe2ko6lRwnfO6tWDkPPr4xwi5ZrUFie3J1VgJaxNA2RkNxm58P8T5b5NrNLp+FLw9/E9wu1RVhToLPKaJ9wYhia6uEyHPVVVehuroa+fn5YFkWDocDHMehoKAAzz//vCRELFFOnDiBESNGYP369ejSpUvSztsafrNsI4w6NW4e0btNxz/71k6c36MQD00blOSeEdlENthqa2nOBiat+RAvvLMOFSvnBb/IlUyYi/rj+8BdPBI+lgMn+OD7bh0KLr8JTsELXvRBwXDQawxQcM159HmBh9Vth0/0gaNsYCmnPdpqNhFu94D/Ba9w1AxYt34A0+U3gdMawRk6QWEwB7OESb6CB7OByY+9wNgURB98oghB9IFlOChZDgCTMxmRyFblkbPBkkkPo+Y/f4mwy7IZSwBRSCAbWOufD/E+W8Lb6dRaOMPGBRLoB9H+SNqT//LLL8cll1yCG2+8EQDw+eefY8uWLbjllluwYMECrF69OlmXyjiiKKKyxpWQ3sSoU5PAnshKWIZNaAUjPNaZzdPBue0jYNtHknYFg0ajoIU8/wpWgU5NdSQIItuJpllh83TwVBxA1XtLAQBd73s5+FIop/VqaewlOjaJjo2cDbLKPHl9Ct8Ys86KnH0yaNlGWyJe+5VrJ3ccjYXcIWnOyr59+ySalauvvhqvvPIKzj//fHi93mRdJiuwORvh9vAoNOa1+RwmnRrHqx1xtxcFH+p/2QbeZoG25wCoirq2+doEkWxCv8ABjCTWWWhwwjjqdgjnXwKfKIBjWLA/bZPERwOtr+9CENlEtHoWQkiGonBdQIDQFRNBFCFClIyBaGODxgwRipwNCt6GqPqUWHVW5IjX5gIr44GV82gr42TDRDwkzVnheR779+9H797+sKj9+/dDEAR4PB7wfMfK0HDqtF9r0paCkAFMejX2/O80fD4BHNfywBQaG1D13hK4D/srv9au/xsKhkyCachEKipJZJzwfPyaXoMkef0beS9sZ1+AZRv/KKkLYcjLD56jLfVdCCKbkK03NH4Oajf7owr823PBavWS4wK2H6ijEkhLHFpn5aS9MmJsRNtPYyZ3kbNBRUGpbB0sn8eFqn8+FbXOihzxztO8wOOYtSKiVkp4nSya94l4SZo1PPDAA5g6dSpuvfVWTJ48GTNmzMCDDz6IF154ASNHjkzWZbKCUzX+L2WBFMRtoUCvhiCKqLE3xGxb++Xf4T68BwVX/RrFE+ZC07M/6ja/A+uW99t8fYJIFuH5+N0HdqB287voPHUhut73Mvgzz4+os7Jsy6uwepq/OLelvgtBZBPh9YY6T10I+96vYbhwWLC+Re3mdyG4pCvqAduXq5+ydPNLsLrtsmMj2n4aM7mLbM0rc+eIfZyuIOioAPJ1VuSId562uu1x1cmieZ+Il6StrFx11VX4/PPPsXPnTnAchwEDBsBoNKJv377Q6TpWhoaK0/VgmOYUxG3BpPeHkFU3ZRWLhqfyEOw7/g1dv+HI63YeIIowXjoWouBD3aZ/Qt25J7Q9+7e5HwSRKHJx0u4DO4Cr74DSWASfI0rNFKG5Zkpb67sQRDYRGuPvtVng2PYRHGFaLdF3h2Q7YPvR6qf4RPk6RdH205jJbaLVvArd57VZYtZZkSPeeZpvwWbbcj6CSJqz4na7sXHjRthsNoiiiCNHjgAAZsyYkaxLZA2nTtejk1EDjmVaXWMlQCCErLLGhQt6Rm9n2/4JGJUauj5XAE2J2xiGgemSG3C6thKWT19E15l/AhsSUkMQqSY0zlih4GAcdTt8vfpD4FiwPgHcgd0AGHhtFnAK+ZopCpaD1W2HV/CCAYPre4/EOUU9oVNp4Wx04cvD31DefKJdEJ41yR/qxcSsZQHErp/CMhwGlvXD0B6XoZPWjHyVFgz8L6XX9x6Jj/evk7SnMZPbyGXwCg/tiqavktNThaJklUFbDJ2nQ+dyJauEko095ytZJVScSvZ8Kk4paUc6FiJps9rcuXNx8uRJ9O7du8PrKCpO16O0UNtmRwVoXpWprIlea4V31sG5dwt0F1wJhpMWw2MUShgvuxE1n/8FtZv+iU5X39n2zhBEKwiPM76+90iUnz0Qy75eIdGk+HZ8Bue2NTCOuh2zy2cGQ8GKtGbMvmIWPD4vFmxYJjnmvb2fYWfFnuC2TqXJ9J9LEC0SrtkKaFPsezejaMw9sHz6okQXEFrLAmiuK/HOjx/jrsFTJZqVuwZPxY7j32NCnzGS+P+7Bk/Fv/dvxIQ+YwAAH+9fR7UmCHlblNGisFq9RFcYTU8Vjk6tjbDF2eWz4PV58USIJvHhq36DB66Yhee+bm73wBWz0MB78fSmZZJ2Ey8YE9HO2ejC05teIB0LESRpzsovv/yCzz77DApFx/6qI4oiKixOXHpBaULnUSpY6LWqFp2V+p+/AQQ+apiXqtMZ0PYaBPt3/4H+opFQl5yZUJ8IIh7C44yHnXU5nvlqeYQmZcEV9wLb1sC29nUYcTseHz4bPsEHjuWg4hR4eO2SiGOm9Z+InRV7gtsLh89GAaUvJrKYcM0Wb7Og6v2lfo3Kl/9A4agZEfVVQmEZFl2NZZg5cAoEUcDjw2ejxlUHu8eBt3/8CGPP/VVE/P/L21dhWv+JWLblFTw+fDau6T2Mak0Q8ra4ejHKpj8jCQMTXA7Ubn4XhaNmBKva125+F0WjZ4GVCSEL4PS4ZLUod1z8a8m+pze9gKdHPYgnhs8O1slSysz5VU4LXvvun5J9z30deb6lm1/CopEPUqriHCZpnkVpaWIv7+0Fq9MDVwOPQmPiX3zNhjxU1bmi/l6/7xsoC1vN4RcAACAASURBVM8ApzMBoiDbRn/hMLiP/oiadW+ibMqChPtEdHxihQn4BB52tx1ewQcly8GgMYALCS3xCl6YNEZM6z8ROpUWCpaTbDsbXViz7wsICgU00xeBcTvg2vw+Ss8ZHMzrb6mvkY1V1qm0ku1GwYdqhwVKloM+Tw9no5tCA4isIlSzpS7rBdPlN4HN04Freumrem8p1GW9UDxuNnh7jT/URqODo8EBAYAIQIQIBgxYhoEIEat+eB8Hag4DQFQtyxmGEpg0RgiiDyW65noZlAo2dxF9PLh8k8QJsW79IEKLIvp4sFo9Goq7NBXqNYHV6iGKYovpjKNpTIx5ejxQPksy/zf6eBSFfGiSm/PzFCrZ8+UpVJJ9Jo0RXoGHpb4maNMAyM5ziKQ5K71798Ztt92GIUOGIC+vuf5IR9OsVFj8KyFmfdtrrAQwG9Q4Wilfa4V3WtFw7GcYBl4b1VEBAFathe6CK+H47nO4Dv0A7VkXJtwvouMSK0zAJ/A4bj2JZ0NCtuaUz0RX0xlBh0XFqTC531i8uO1vsLhq8ecxT0m2i7Rm3HPJbWAYFr/5+nl/qMA104GQB1AgTj88ptnZ6JJsn3RUYfHmFRhY1g8T+oyWhJJRaACRDQTi/7l8E8xDJ0vCvorG3APHfzdD3/cqnFr1KHibBbpLboBrwFC8u/eziFTFgfCuyf3G4h971uBAzeGoWpYqZw0m9xsLJasM7qdUsLkNo1DBPOxWWD5Z3myD190HJuzlH0o13JeNwbNfv9g8z18+Ez7ei+q/L4gaQqZgFRG2OLCsHwDgzd2rJfO/ilNKLykz5zfwjbK23cA3Brd7FfbA5H5j8XhIyPCcIXdDxSqxiELFcoak/avW19eje/fuOHbsGPbv3x/8r6NxotqfUs9sSIazkoc6ewO8vC/iN/eh3QBEqM84O+Z58nsPBpdvQu2Xf4coJiCkITo80cIEAikr7W570FEB/F+5nt3yKuwhKScFUQg6JgBQ57ZJti2uWry47W+oc9uC28t2rkJ9yGwTiNMv0vq/vAU0Kl8e/ia4fc8lt+H9nz4DAAztcVlE+mNKcUlkA4HaFqYhE4OOCuAfW5ZPX4TpsrHBl0cA4C4eiWe3vCqbqvjl7aswtMdleHHb3zD+/NEAgC8Pf4PZ5bMkY+WuwVPx/k+f4cVtf4OI5jmfUsHmOKIgsTXeZoHlk+URHzydIo9nt/5FOs9vfRX18LWYzlgURdxzyW0SW7z1onH4Q9jc/OK2v0EIu6bcnF+qK8KcsH1zhtyNUl1RcN/480dHPF+e3fwSKp0WsvMcImkrK4Hq9Xa7HQZDx40rPFHtgFLBwpCvQqJugdmQBxFAVa0LXYqlwjb3kR/BavTgDJ2CWcCiwXAK6PpeCdu3H8F1YCfyew+K6/qiKHb4ZAiEFLk0w6EpK72CfMpJPiTNMC/wkjZClDSVQkiaSn86yubtQJz+opEPwivwULIK6FQa/N+ASZhx0QSAYfGnb1+LGQpDKS6JTBOobcGqNLJji+EUkv0+lmsxVXFg/xmGEvx5zJPgGA7GPD0WDP89TtfXwNnowts/fhQcG3zIGKBUsLlNrPk9QLR53sdKv1+HH9soePGPPWskIb9OT33MZwYgP+cHwrla2ieIQlyhYmTnHZukOSuHDx/GvffeC4fDgffeew/Tp0/H8uXL0bNnC3l52yEnqp3o3CkfYIBEvRWz0b86U1kjdVZEUYT78B7kdT0XTJwrJZqzLoLzv5tR99U70PYaGNUJEUURGw9vxZqfv8BpVy0uKDkHN19wPXqauyf2xxBZS6hGJVY61ZZSTgYIX86PFqYSHtIVnlKVZdgIwWRATF9XXwuru/mLnrPRJZviktK0ElkDy6HstkXwuWywbv0AnooDUBiLAJaDptcguA/sgLKsF1hOgSeHPwCdSht13BRpzVBzahjydLA3OGFtsIMBg09+WY+dFXsk7Tkm+tgMtKFxkhswnAKaXoNguHBYULNi/2GjTLps+XmeE6SrIeHpjBUMB6Na+mHVK/Bx25zcnA8gYl/zqowIjmExsKxfhN2Hhoq1dE2iY5C0MLCnnnoKjzzyCAoLC1FSUoJbb70Vjz32WLJOnzWcqHagtDA/1mJHXBQ2hZIdr5LqVrw1J+Fz1kFdGr+jx7AcdBcMQWPVYbgP7ora7o3d7+LlHW9Bq9Lg0q4DcKDmCB5bvww/VXe8kD2iWaNSsXIeji+/C6c//ytKxs/1v0QBEelUDRoD5pTPlC7Ll8+EIeRhEr6c/4vlYESYyuzymfjFclByDr06evHTcML78YvlICb0GY03d6/G4xv/iDd3r8aEPmOga8U5CSIVBMbYqVXzUfG3R1Cz9g2Yh06GptcgFI25B6c/fw3mITdDd8kN8F59GxZs/CMe2/Ac/rHnQ/w+bKzdNXgqvjz8DeYOuRs6tRbHbRV4ZN0S3PvJfDy+YRkm9BkT1AgE0saaWhiblM44t2C1epiH3IyatW/g1FuP+W1xyM0RKYn1eXrZeT6fU0V9NgCAMU+PCX3GSOZhg1qPOVckz+YCuquA3S+QsfvwUDGy844PIyZJ5DBu3Dj861//wo033ogPP/wQADB27FisWbMmGaeXcOLECYwYMQLr169Hly5dkn7+aDR6fZgw7xOMKe+By/uWJXw+URTx5OvbMLR/F9x380XB/fZdX+D0v19B8bjZ4LTxh9SJgg+WNc9DYSrFGdOfjvj9qyPbsHzbSgw/qxxXdh8MEYCr0Y03v38Pdo8Di0c9hDJDbmR1SxeZstUAvLMOFSvnSVZSNL0GNdXlEVvMBsYLPihksoEBoRmHeDAAXt/1TsSqx/QLxsLnsoNxOyDu3oCia2fKVlaORmg/GJYL1mQJUKQ1UzrLJJJpW22vyI0xhbEIpZMegeWTFcEVFv30RZi/8Q8R4uQZAyYBwWxgLFiGDa6oPLJuSYTNPz58NoSmdLAmjQGKFsZmR01nTLYqTzRbDE9dzDvrUPvtR+AuHtmUDcwH33frYL70BgCImg3M6rbL2uTTox6CKIpJsblo13hi+GyIgCRUrKPbOdFMUtfMPB5PMPzIYrFAEKJnsWqPnKh2QhSBTqbkFKpjGAadjHmoOC0VhTWc/AWsxgA23xhTryI5H8sh/7zLYd/5bzQc/xl5Xc8L/lbjqsNfvvsnzik8C0O6XRIUZWpVGky58Ca8vH0VXtrxFp4Y/nsa8B0IuRhm94EdwNV3BNMIh8Oxipi1TUKX8y31NdhZsUeyTA8AU88aBvfKR5r78qvbW9X30H5ES3VMMcpEpommE/C57PBUHAhue2Vi73dW7MGMAZNQlF8Ycd5o+hMAklTF4UQLtSE6PvFqVkQfD+e2j4BtH0n2FwwaHfW5AES3yUafV5KmOBGiXUMEIq5Bdp47JM1ZmTx5Mu644w7U1NRg2bJl+PTTT3HnnR2rqvqxSn9GpEJj4pnAAhQaNTh1WloY0nNiP9Sdz4pbrxKK9uwBcPy4CXVbP0TnSc3Oynt7P4NP8GHseVcDjPS8BrUOo86+Eh/t+wIbDm3FyJ5XtO2PIbKOQFrVaBqVeGmpdkO0OHnG3RzeqOk9GE6OhbepZorcak1LUCw+kWmi1SeKNsaEBmew7gqnL4SbYYM23KuwB8ae+ysY1How8I+v8I9EUccVIKk3QR+Xcpdwm4xmi1CoUOesgVf0Qclw0CnVbXouKFllyrWDNNcTciRtlpswYQJ++9vf4vrrrwfP83jqqacwefLkZJ0+KzhW5QDHMklJWxyg0JiH0zZ3MH2xz2WHt7YCquK2Cd4ZhQr5vQfB/b/v4K2tAABUOqqx8fBWDOk+CFqlfN8vKj0f3Yxn4N3/foxGn7dtfwyRdQTSqrYUhxyL8BjiR9YtwXFbRVAEqVNpZOOfxd0bAPgdFc+IWzB/4x9w32ePYf6GZThuPQlfK1ZFKBafyCTh2q+KlfPQWH0MoijIj7Hxc+E6vg/moZNRs/YNVLzxIBr+/VfMufz/MLCsH27pewPe3L0aj214Dgs2LJOMpwDy6b1n4fVd78iOQyK3kLNJn8eFkglSTWLxLfNx0mNrmn8XYP7GP+BkQx2Kb32y1c8FnVoboVlJtnaQ5npCjoQ1K1artcXfTSZTIqeXJVPxqgtf34YT1Q7cN/GipAjsAeD7/Ra8u34/ls8Zhu6lBtQf2Imqd59Bp9F3Q2lum37E53ai+oM/QH/RCBRdOwsv73gLXx/djtmX/x9UCnXU4w7XHcffvn8P0/tPxOjew9v6JxEhZENsdayK9bGIFkMc0It4badx+ovXwPQfDlGjB+N2gD3yEwouvga8/TTc5mI8+uWfIo5fOHx2zHCzUHIhFj+TZIOtZiuxtADhY4zV6uFzWHFq1XypXqz3YCivvQMLNv4xLv2VnDYsPCtSLuq2yFaj22Snsb+F6LIHs4F5Srvj0a/+HDn/Dvs99GBb9VyI9SxIFjTXE+EkvK526aWXgmGYYDHCgGYlUMPj559/TvQSWcPRSju6FOuT5qgAQFGBX/9yosqB7qUGeE4dBBgGnLG4zefkNDpozuwL54+boCofh6+PbsfgMy5q0VEBgB4FXXGmqSs++Plz/KrnlVC0MlSIyE4Yhm2VsD2cmLUbBB7u/duB/dslbUz9R+LUW49Bd9+KuPLwx4Ji8YlMEUsLIDfGfBAj9WL7t4P71bS49Vdy2rB4jiM6PtFskhEEVL63NLgv6vwr+qDQR2qlWiJddXxorifCSfhtdN++fTHbfPLJJ7juuutkf9uwYQOWL18Ot9uN8vJyzJ8/P9EupQS3h0dljQuDzy9J6nkDYv1jVQ6UA2g8dRBK8xlgFVyrxPXh5J97KdyHvscX3/4DjT4vLi7rG9dx5d0G4u97PsA3x3dhyJmD23x9InsIZNXyCr6k6kUUALw2i6SORABNr0FgWAU63/ok3CwnG+ccWrslHhJdISKIttJa7ZfQ9PIWfoym9+BgnRW7x4E1+77AgZrDQS1Ko6MWLMPI2jbF8ucO8cx1UbVS3gZJO04Q5GuqsArU1ddKngsMAJ/DCgg8wCrA6U1gQ+wrHZoVgpAjLRb22muvyTorx48fx4IFC7B69WoUFhZi2rRp2LRpE6666qp0dKtVBMT1RQXJreugVnIw5KtwrNIBURThOXUQed3OT8hRAQCluTMURV2x0bIPZxefCbPWBCGOc/Y0d0cnbQE++WUdrug+iCrct3N8Ao/j1pN4dsursLhqg3qSrqYz4nZYAjHESze/JDlHw2d/Qd3+7U0x+nNQC3+mMU2vQTAPmYhTf18A3maBcdTtmNBnNJaF9GF2+Uzo8/Qxrx0gEJ9dtXoxeJslGGOtKu5GDguRclitHiXj56Lq/aXN9jd+bkT9CsDvqHirjqF287soGnMPLJ++CN5m8Wu3hk/CwqYQsEBdlX/v34hrew/D67vewYSeV0Gz5WOYr5wUYdty45Bi+Tse8c51Aa1UeDsolEEnRmEsQj6jwJzymWHPgFlw8x48/dVyyb5SH4vqdxZKbFxZ0i3osAQ0K8u2vBIyl8+ieldEykmLsxJNFrN27VqMHj0apaV+bcYf//hHqNXSUCW73Q673S7ZV1lZmZqOtsCRU/7MRslKWxxKkUmDkxYnfI4a+OqtUJoTr+ECANVnnofTdd9jRF6nuBwVwB/GN7hLf3y2fwMO1BxG705nJaUvuUC22Goodrc9+JAC/Ev2z255tVV6EZZh0dVYhkUjH4RX4KEA0PDZX/yhX/CHHlS9/yw6T30KGDUdYDmcWvVo8Iuf11wcdFQCfVi25dWmOGdlXH3w1duCD+XgNVcvjqgfQMRHNtpqNiO4HKjd/C4KR80IagFqN7+LotGzwIaHfzmsQadGqLeicNQMcFoj3AVFWBhSZ8XiqsXL21dh3pX34aUdq3Cg5jCOWk/g0f43ytp2+DjMlVj+XLPVeOc6hmGhKu6GsunPSFZgAETs6yL4sHDY7/2hXwwHluXw8Ppnw54Lr+CxCyZKr/v+UnSeuhCssRMAwOlxBR2VwHHLtrySk7opIr2kxVmJ9nX+6NGjUCqVuOuuu3Dq1CkMHToUv/vd7yRt3nzzTSxfvjwd3WyRo5V2qFUcTDp1UjUrAFBs1mLXvmo0VPgrfisL2q5XCeU7pRcKUcQ5Rw4C5wyJ+7gLS87DuoOb8fn/viJnpRVki62G4hV8SdeLeG0W1IXpUwIPOGVBKbw2iyQ0QdToE45zjrd+ABEf2Wir2Yzo4+E+sEMS6ujff0dkY6HZVj0VB1DVpB/Q/eYl2XFg9zhwoOZwcFvU6KPadi7G8uearbZmroumRwzfp+BYFOia9SnVDousLQoqabZQ3mbxh4Q1kS7NCkGEk9FAQ5/Ph507d2LVqlXQarW4++678cEHH2DcuHHBNtOmTcNNN90kOa6yshJTpkxJa18PnbSha7EOSLKjAgDFBRp4vD7UHd3vF9cbohdlihde8GFb7UFcwBmgObQfHqcVoi6+zGwqhQoXFJ+Db0/swh2Nk6BVJX81qSOSLbYaipLl5PUmrdSLhBIrfj/8d8btiCvOuaU47WTViyH8ZKOtZjMt2R/vrJN+2Wbl2yoZ+bHobHRJ6q5wCg00vQeTbTeRa7aajrku2nOBbZTqXRTGIoA0K0QWkNH1406dOuGyyy6D2WxGXl4eRo4ciT17pNlODAYDunTpIvkvEDaWLkRRxJEKG7oW61PhqwR1MK6TB6E0dwbDtf1FMsBe23E4+Qb07dwHEEVwP29r1fEDyvrC6/Ni89HtsRsTALLDViP6pDHI1kAxJPB1NlbtlvDf2SM/Y0Kf0WG5+UdDF+IEt1THIp5rEq0jG201m4lmfz6PK8JmWZ0RJeOltS5Kxs+FPk8fMRZnl8/EL5aDkrorT3y9Ap4Rt4CR0cPkIrlmq+mY6+RscU75LBh1nSLsltM3f+TUqTQx53KCSAUZ1awMGzYMDz74IOx2O/Lz87F582aMGDEiHV1qFZY6N+obeJQU5qfk/MVNzopYcwzKHucmLK4HgB21B6HhVDjDdAb44q7gfvkO/MUjgTi/qJfpS1CiK8L6Q1twda/sS3hAxAfHKtDVdAYWDp8NXvBB0YZsYOFEi5UOroKE/e7kWCwLi9VfFqabiRWnHeuaBJFK5OwPDIuKNx6UtVllSTd0nrpQklVJcDmgXv82Hu1/Y3M9ol2bcO1l12HBhmURujLSAeQmaZnr3E5od32JJ6+4Bz6WAyf44PtuHRSX3xRht6HZwBwNDln9YWtrZhFEa0mLs3L99dfL7r/wwgtx5513YvLkyfB6vSgvL8f48ePT0aVWcajCBsAfrpUKdBolijQ+qBptUJo7J3w+XvBhV+1hXFBwJiAI8HQ/D7odX4A9tg/CmX3iOgfDMLiw9Hx88b9NOGE7hS7GxPtFZAaOVST9QRKrdkvo794o8dGhupl44rQTrRdDEIkQbn/h2iyg2WZZVhEUJQfw+eTrEekuuZZ0AISEVM91oo+Hc9tHwLaPJPsLBo2G0hg9DD1ZGkiCaC0JOyvRHJEAH3/8Me64Q0aE2MSECRMwYcKERLuRUg6dtIFlUuesAMD5BgfgBRSmxMX1++wVqPd5cK6xCwARfHE3CHlacD9ti9tZAYC+Jedg3cGvsPHwVky9KPucSCJ9hOtJxDwtbB4neEGAgmVhUOvg8nrgFbxQskpJlqJ4dDPZpEkRBBG2eg+8vAClgoUxXw2WpRTeLdGR71nQ9kUREAQAot8uWQ5lty2Cz2WDdesH8FQcaNFmo9l4tPFBOoDUk612G29NKUHgW6yLEo22zrfRbJVjOZyurw1mGzNpDFAk0X6bK9pHPl+I3CBha3r00UeT0Y+s5tBJG0oL86HgWAipEK0A6KGxA16A03eK3TgGO2sPQs0qUZZn8j9cWRaNXc+F+sAu8I46iPr4vtjoVPk429wDm49ux5R+N4FlaXLIRcLz/usuGQvngKsi6qa8t/cz7KzYE6z/0NVYBpZhg7qZ8FovobqZaDUD0q1JEQQRRyvtWPj6NlTXuVFcoMH82y9B91JDVrzEZCMd+Z4FbL9209swDRodrJmiMBah6Lr7ULvxLfjqrSgacw+sOz6D+apbotpsNBtn1PmYXT4ronaFVpknex4iOWSr3cZbZyVQzye89k9oXZRotHW+lZ/LZ6Ge92BxSM2W2eWz0M1UlhSHRRAFHLdVRNQXCjxfiNyAEaMJStqA1WqF2+2GKIrw+Xw4duwYysvLk3X6ICdOnMCIESOwfv16dOnSJennD2fGU1/g7C5G3DCkZ8quYf/PcuTVHkTxuAfQSd92gb0givjdrpU4S98ZV5f0QyB9GeNywrD+n+AvvBL84GviPt9P1fuxeu+nmH/Vb9Cv9Lw29ytXSbetpgLeWYeKlfOCX+F09/wZT3y9IuLr2rT+E/HclleC26Ex9z6Bh91tb1E3kw0V6uscDXjg+a9QXecO7isu0OC5316JAn3Hfnlsq6125HsWsP3CUTNQs/aNiC/RhaNmoOq9pVAYi9B56kIoDOYWbVbOxk+7rHhj1zsRGZZmDJiEItIByJKMeTVb7TZ8vgX8thZeZ8VrO41Tq+ZHtOs8dSGUxtgfPds634bP5SLD4tGQmi2Af/5/YvhsdEqC/VrddjyybknE+UnTlVskbZ3u+eefx6uvvgoA4DgOXq8XZ599Nj7++ONkXSIj2JwenLa6cWX/M1J6nQKvBf/zmeGpaUAnfduF/IedVbB5XehtPAOheZZFrQ58SVdw+78DP3BU3EL73oVnIU+hxpeHvyFnJUcJ15MIHCsbt6xTaSXboTH38ehmskGT4uUFycsLAFTXueHlhQz1KPvpyPcsYPtsnk5Wn8I2VY/3/ybGfNmTs3Gf4MPOij3YWSHNhHnbRdkdHt3eyVa7jbvOiiDfDnFqndo634bP5ZVOeU2iT0yOjoVquxBAEp2VNWvWYOPGjVi8eDHmzp2Lb7/9Fps2bUrW6TPGoZN+cX2pWRujZQL4vFC7q3HS1wdOiwf9z2y7s7K77ghYMOimLUR4zJqn+3nQbf8c7NGfIfS4IK7zKTgFzi/uje0nv0eDtwF5FJrQ4QmPD85XqCTxzaxPiFovInRbAb8ImeEUYLV6CC5HxjN5xYpRVypYFBdoIr62KhWt62u2xsKngpbuWfh90GtUcLgbs+q+xFPfR2hwSsaAuqwXTEMmgtMVoOs9L0JsKnwsCH5xfdyaA1EA14IOgEgd0exWrWRR52jImM0ynAKaXoNguHAY2DwdhAYn7D9sjNSTsPLtoMqD12YBBB/AcmB1JnCcMmX9VUSpH6RgOVjd9oR1JkpWSZouInnOitlsRnFxMc466yzs27cPN954I/7yl78k6/QZ4+DJQCaw1DkrrO0UGFFAHdcJtprGhM61q+4wehrKoBAZiGFVYfjirhA0Oij2bkVjnM4K4K9ov6viR2w78T2u6nFpQv0jshu5+OA5Q+5G6aT5qH5nof9l7bt1mF0+U1azAjTXcvF+8zGOb/soGEtdu/lduA/siBqDnfK/LY4YdWO+GvNvvySijTFfndTrdCSi3TO9RiW5D5f0KcEtvzoXz6zcnjX3JZY+IBDbX7vpbRSNuQeWT18El2+CeditsHyyvFm/EtCsDLkZiuKu4E+fjK05aBprXx3eht+Xz8QfJONpFkx5VGcllcjZ7RMzL0Ot3SPZN2/6YLz9xT5s21uVFptltXqYh9wcoUVhw+rusDojzEMmour9Z5vbTV4AwV4bduwcoLhbyhwWk8YQobl64IpZaOC9eHrTsoR1JoY8HeYOuTtCs2JoWtUkcoOkaVZuueUWLF26FP/973/x008/4Xe/+x2uueYarFu3Lhmnl5BOHcCSv+3AvqN1eGDyxRCSJ++RoDi0Beodf8NbyptRxevx3JRubTpPdYMNc75/Czd0uxTn58sXzVIf2A3Nvh1omHg/xDgzj4miiD9/+wbKDCVYMOz+NvUtV2lvmpVo8cEL+t+K/Hp78Auel/eCP/M8+AQBHMuC2fstvObiYP0IcfcGGPoNRdV7SwFI4/sD2+Ex2Kkm3hj1RFdFsjUWPhaJ2KrcPbPVeyT34eHpg/HXNT9m1X2JRx8glw3s1KpHZfUrNWvfQOepT8n+Hm7voWNtWI/Lcf05I8EyLJScEqY8PZQp/Bre3knWvBput6IIzHkhcuzeObYvnl65PbidSpuNV7Mi167LrOdR+fZCGR3LUy2mJE64zwIPq9sOn+gDx3BQcgo8vDZ5OpPm1X4eSlZB2cBykKStrMyaNQuPPvooXnrpJfzpT3/Chx9+iKFDhybr9Bnj4EkbzuysT5mjAgCs9QREhQoaQwEqDrohCGKbvtp8X3cEANBdG31Saux2LvJ++Q7cf78Bf8XYuM7LMAz6lp6LzUe2o9ZlhVlrin0Q0S6JFh/sY5igoxGg630vQ2ksgreuEsfXvh5xLtPg64L/HxrfH9iOiMFOMfHGqLMsk9CLSLbGwqcSuXsWfh/0WmXW3Ze21PeJVl8lqGsRfHFpDkLH2sbDW7Hx8FYAwIrrFpGjkibC7ba6ziVro3qtUrKdSpuNV7Mi1w4ME0XHkto6KApWIRHTW+prkqozYRmWxPQ5TtKclWHDhmHYsGEA/PqVo0eP4pxzzknW6TNCvduLU6frcUkf+VWKZMFajwOmM1BiUIAXgEqbF2UFqlaf53vrUZRqCqDn1BCiTAqiWgPvGT2hPLAL/OCrAVV8L2X9Ss7DV0e2YfPRbRh73tWt7hvRPogWH8w2NkjaaXoNAsD4Y6NZDpreg8H0Hy5ZWREanMH2gbj/0O1011BJlh4lW66T7YTfB4fLm3X3JVq9CYCBKApgGDZCfxLtmICuBSwXU3MgiAIYMHhy+AOwexxYs+8LHKg5TLH4GSba2HW4vJLtVNpsSzVQeGddi3YIUZS3Zxn9UyqzLypZJQaW9YvIcEe2TbSVpI24Jv6LwgAAIABJREFU+vp6LF26FDfccAMmT56MtWvXwuv1xj4wiwlUrk+puF4UwVqPgzGWosTgn1COnva0+jRuXyP22U/iPFO3qI5KAE+PC8DwjeD27Yj7/IXaAnQ1dMaXh79BErNdE1mGXq3FnPKZKNL6v5IF8ugbDcVNL3F+R8U85GacWjUfx5ffhbodn8Ez4hY89fOH+O3Xz+Opnz+EZ8QtqD++DwCCcdP2HzZKthlNemOOAzHqgeKubdGjZNN1sp3w+7B+x1HMmz44q+5LQJMSsO2A/uT0539FY/UxCAKPxupjqFg5D8eX34WKlfPg4xtRMn5uxDH2Hzb67TrfAPOQm1Gz9g2ceusx1Kx9A+YhNwc1BwGtyoINy/DYhufw5u7VuKXvDRhY1o9i8TOM3NidN30w1u84GtxOtc3K2WTJxIfg87ikduhxRbQTFUqUjJ8jPXb8HDD5Ur1LQKsVer7G6mMQxeSsGOnUWkzoMwZv7l6Nxzf+EW/uXo0JfcZAp07huxTRoUmaZuX+++8Hy7KYMGECRFHEu+++C4PBgCeffDIZp5eQLh3Ah5sO4rWP/otHb78EGnVqvggwztPQfvoIhH5j4TCehQVranDjxUb8urx1xSF31h7En/f/B3f0+hWKFLEnBN2Wj8B63PDcMifuNMY7T+7Bp/vXY/Goh3CWuXur+pertDfNCu+sg+Xfr0askhSNvgsQhaZQBEaS31876SE89fOHEasxT15xD7R2KxSGTrB+9x9ou54r+dLc6eo746oHkEzSlaWrPWYDS4WttpdsYLy9Fj776Yhq9J2nLoyoZVEy6WHYd61F4bApEH08WLUWIgPA2wjbDxtgGjRGtv5FQHMQTRf2xPDZMGtNFIsfB6mcV7PBZsNXPcCwqHjjwUibmrEkOC8znAKiKMK67WMYLxwOsCwgCE02OVqiWYlXF9NWqDYKkWyS9gb+008/4fPPPw9uX3rppRgzZkyyTp8RDp60wmzIQ75GCSFFpetZ63EAgJBfAJWCQaGOw7E2ZAT7vu4ItJwaJSpDzJUVAPCc1Q/5O78Ad3gvfD37xXWNC4p74/P/bcKGQ1vJWemgiD4e7v3bgf3bpft/dXvwYRcesy9q9LLxyY0uB2xvPYYud70Ax7aP4Nj2kfRio6an5G9oiUT1KNl2nWxH7j5k233xh76IqPjbI5L9gZoV4RoAVpkH94Ed8F1yPU699VjE+UwXX92i5iCaLkwEyFHJArLBZuPVSYl8o8QJ8dZVys61poulodtx13JpI1QbhUg2SXNWiouLUVtbC7PZHz7icrlQUJDZAm+JcvCEDd1L9SlzVACArTsOkWEhaM2AAJQaORyvbV34nCCK2GM9inNNXSHEKaTzlnaDL98I7vuN8J3VF2BifynKU+bh3E49seXYTkzrP4FEoO2UiBh8jQ6C0+YvJsZyMI26HWpjJ2m8vUIVjJcGGElcNON2yOpcGLfDvyEIUeKoE59+MrGC0R5XTdJF8N54BTCM/8WPZZmsv0eh8f/qsl4wXX4TOH0hwHIou+M5+GzVqN+/E/m9B/rDdCY9DNHHR9UHlN22KGKVJqBZoboR2QPPC6hzNID3iVBwfidFkQXasog5WqGS10GFzMsMpwDYKBqssOiJlnQxyYBsnEg2SbOc0tJSjB8/Htdccw04jsP69evRqVMnLFy4EAAwf/78ZF0qLTQ08jhZ7cCFvVIbpsLWHQMMJRDAAhBQalRg70kXGrwC8pTxTZpH6qth87rRy1AGIE7HimHhOftCaH/4CuyJ/RC6xpcM4aLOffDf6l+w4+QPuLzbwPiuRWQN4XUl9JfcAEOfK4K5+v16lLDc/ZMegc9ZFzxG02sQSsbPDebyF3dvwJwRM/FsSJ2IOeUzIa5/GwBg+2EDSsbPkZ5z/Fxw+sSyymWinkmu1VBpDXL35jeT+uPjzQcx5ZrzsvoehdZTMQ0aDcunL0pqqLiO74Ph4mtQ/a9mGy4e9wCKrv9/sHz8Z4ldn/78tWA9oWD9latuAZdvBEB1I7IFnhdwpNIuqfszb/pgnFlqyKjDEq32j3nYFFS9syjqvKwwFqHk149K5uZmzYo09Cpg7+HXCNhoopCNE8kmac5K9+7d0b17c2hQew8BO3LKDkEESgtTKwhjrcfBFPeEKPiFbZ0NHEQAJ2oacXZpfEvPP9QdBQOgq0zV+pZo7NILeft3QbFrAxq79I5rdeWsgm4w5Rnwxf++ImelHeKrtwUfUABgvHA4KpsegABguHBY0KkA/KEBvK0aNf/5S3Cf+8AO1ALoPHUhANH/5U+rx6KRDwbz4OvVWojXzoT4q9uDqzedpy5sWr1RgNObwCb4lc1W31y8DfCnFF34+raU1kDIxDXbC3L35oV3duPOsX2z/h4xDAtVcTd0uvpOid6Et1lg+fRFlE56RDJOeJsF1f96Dp1vWxQcBwCD05//Fe4DOyTHdp66EAqDOZhpiWVYdDWWScYL1Y1IP3WOhqCjAvjt9ZmV27H43itQlMIi0LEIn6N5mwVVqxej8Jr/a3Fe5m0WVP3zKXQa+1sUjpoRXIGp3bwana6+EzA2JwUI2HvZ9GdSkg2MbJxINklzVu677z40NDTg6NGj6NWrFzweDzQaTbJOn3YOnkh95XrGbQPrtkLUlwT3lRr9/yRHLJ64nZXvrUfQQ18KpUzV+hZhOTScfRG0P34NtuIghDPOjt1nhsFFnfvgy8PfoNJpQakudYWmiOQTEavMspLtYK2IEFhlXsQ+94EdwNV3SOKlI4STYUJNLsli+kzUM8nFGirxEu3eBOqrZPs9CmhXZOtUhI2T4H6fF8oCf2p7r80SdFQkbSBGvARS3YjMw/tEWXvlUxj2HQ/R9CSsUvo+IDcv8zYLGEFAZVhNLDl9YLguJtmQjRPJJGlu7g8//ICRI0di1qxZqK6uxtChQ7Fr165knT7tHDppg06jhF7b+non8dIsrm9+iSvIZ6FWMDhsiS99sbWxHkfqLTjX2LVNaQcbu54DQZMPxc4vgDgTw/Uv7QMGDNYd3Nzq6xGZJRCrHKRJTxLcDNSKCEHwNkTsa218sygK4J11fqGos65NtsrzAix1Lpw6XQ9LnQsKjg2mGA0QXgNBEETUORpQXedCnaNBVn8Wfl6+hZfqQB2Glq6Zq0S7N4H6KgDQ2MjHfa8zQcT4QFPMf9g4Ce4PWR2MemxTzRYiu1BwjKy9KsJCFb1eH6rrXDh12onqOhe83tQWWIxmR4JXWusq2rwc3i6aPjAZczJBpIukPWGXLFmClStXwmQyobS0FEuXLsWiRYuSdfq0c+ikFd1LDfG+v7cJtvYoRDAQQiq/sgyDUiOHY6fjywj2g9Wf/717fhu/WnMcGnoNAFd9HOzxX+I6xJCnxzmdzsKGQ1vR6GvftXRyjfAc/gE9SWA7UCsiNE+/oqBUNu9/vPHNycjpH4gvf2jF15j5zDo8tOJrON2NLdYzCWgoHnj+K9yxcC0eeP4rHK20SxwWufMeqbRHfYmmGirR0WtUEXVUfjOpP9bvOIrfTOqPVz/Yg2PVTrzywZ647nUmiFZ3JXycyOmuYtVsoZfB7MKYH2mv86YPhjG/+QOl1+vD0SoH5q34GjOfWY95K77G0SpHSh2WaHVWFAWlcc3LCmNxi3YKpL7OCkEkm6TVWRk3bhz+9a9/4cYbb8SHH34IAJL/Tyaprl3B+wRMnPcpRgzqiqv6p642hnrzCnDOKjQOmgpBaJ4kPtjlxI8nPXhjVg8wMXQkz//yGQ7XW3B3r6vjzgQWgSBAv/EdIE+HxnH3AXHElR6qPYZVP7yPewdPw1U9Lm3bdXOAbKyz0nI2MAVYnRGi2ymJZQbQ5mrHycjpb6lz4aEVX0dUln72/w0BwzKymbnqHA144PmvIo4J1U5EO29LcesdNRtYorZa52jAitXfY8Sg7igwqGHSqVHf4EV1rRvvbziAX47VobhAgzvH9sXTK/2psWPd60wQOj4ABmBZMAwTMU7kdFct1WxJVg0LIjnzqqXOhY83H8TIwWeCYwGfAKzbfgTXD+kZtMfqOhfmycwPz9x7RUpDxOWqywORc7DcPlEU4HNYW7TTVNdZIYhkkzTNikKhgM1mC75cHzp0KFmnTjsnqp3gfUJqxfWiCLb2CJiS3hJHBQDKTBy2HRZx2sGjyBA9PbBX8GGv7TgGFp3TdkcFAFgWDb0vRv73X/5/9u48vK3qTPz4996rxZL33Y6dOPtCCCSBJEAgtARoB9qmAabQhpZ0gaGlQJmWQgLTbSihLb8uDKWlMFBKmbZQSKGUKUvoAIWQBMjqJGSzE8e740XetN77+0ORYtmSLduSJdnv53l4iK/uvTqSXh3p6J73PWhH9kS17sq03MkU2PN46cDrrJi6bMhBlUge4eYqD8gnCfOBNdIPsVjU9I80v9zl1SnNTw97TDT5JSOZty5rqITn8epsqWxkS2UjABu+tpx1D70dsk8gh6Xv34nOEehvsLn8Q+VdDbZmS6zWsBCx4fUZbHzjCBvfCP2u8i/Lpwf/7fOF70N8vvjGbKQYjGaboqioQ8RpvNdZESLWYjZYufHGG7n22mtpaWnh3//933n77bfjsnr9WDhS2w5AYU78CgQove2oTgdGdsmA20pzAkn27kEHK/sdtbh0L9MzB55juDzlM/Ed3onpvVfwTZs/5Kr2iqKwtHwhLx14nf0th5hXOGvUbRDjUyxq+gfml/f/hbP//PK+zCaVZfOLWbmkgky7mc4eD5u2HQ3JLxnJeUV4gZyVwHPZ2eMJ+/x39pyaOjoen+t4r2EhYsOkKWHjs288apoatn/QtNSOWYlRkWpilrNy0UUX8eCDD3LzzTezePFiPv/5z3PeeefF6vRj6kitA7NJJS8rfoMVtbUaCE2uDyjJMqEAh5ucA27ra0dbNRbVxCRrDGqjKyrOOWejOk6gHdwe1SELS07Dbrbxl32vjP7+xbgVaQ72cGr652amhZ1fPtgVjkybhWsuncujz+9m3UNv8+jzu7nm0rlk2k7NSR/JeUV4/fN59lW1hH3+91W1AOP3uY5FvIv4y8mwho3PnIxT+We5Gdbw/UNGaueoSYyKVBOzYfR3vvMdAL7whS+wdu1aLrjgAtavX89//dd/xeouxkxVXQeTizJQlKgLZA2beuIIhmrCl54P/S4pW0wKhZka1U2RK4IZhsGOtmrmZE9GNYZVsDgiT8lUvDmFmD7YhG/mQhjiVxazZmZJ2Zm8Uf0uxzvqKc8ujUErxHgTi5r+JpPK1JIs7rvpfLy6gUkderXpzl532HUU+uasjOS8IjxVVagoyeL+W1fg8eooEJIPFHj+N9x0Pv+yfPq4fa7jvYaFiI0upydy/2D2zywwmzUqijPZcNP5+HwGmqaQm2HFbB585kGykxgVqSZmkblnzx6+973v8dprr7F69Wo2bNhAbW1trE4/ZgzDoKrOQXlxZlwrgWkthyFvMnqE4hulOSaqB6kIVtvbSou7k1nZk4hRjQRQFJyzz0Ltakc78H5UhywtW4hFM/Pnyr/Fpg1iXArMwTZnF2LKyB3Rh6LJpFKYa6c0P53CXPuQX3KjXRNluOcVkQXyeYpy7RgQ9vkHxv1zHYt4F/EVbf9gNmsU5dopLUinKNee8gOVAIlRkUpiFp2GYaCqKm+//TbnnOOvDuV0Dj6NKRm1Opx09rgjJu3GhM+D2noU8iZHHGiU5Wi0dvtw9IRPnN/eVg1AhT22C+15iybjzS3CtP0fEEXSvt1iY0nZQjbXfMBxR31M2yKSVyJq9IdbM2WwdVRitSZKNGu1iFC6bqDAuFiTRtajGB/6v4+jWadpvJAYFqkuZtPApkyZwvXXX8/x48dZunQp3/zmN5k7d26sTj9mquocABTkxG8etdpWg6J70bMiT5sqO5lkX9Xs4syKgVXJtrdVUZFRhE0xoRsxrPmuKDhnLSZj69/RDm7HN+fsIQ85b/JZbKvdwR92Pc/t598Yu7aIpBSo0d/4zH14O5qD850tRVPi9utcYM2Uex7bQlNbb3B9E7NJ5bu/2RyyraIkC1VVgjkU/Y8Zzpooke43cB9ioMBz9o/3jnHndUu474ltwedu3dqlZKRFLhqSbBIR6yL2wr2Pv3/Duaxfu5R7T04FS8X4jIbEsBgPYhapGzZs4BOf+ARPPvkkZrOZs88+OyUXhayq6wCIaw11rfkgAL6Mooj7TDo5WDnYMPDqVLu7myNdjczLnjK6ksUReIsm483Ox7TzDYjiFxi7xcZ5U85mW+1O9p18bGL88nV3BD/4wF/ysvGZ+/B1d8TtPju6XcEvGuCfrnHPY1toONE9YFtHtz/Xq28OxX/ffQn337pi2IOMSPcbuA8xUOA5mzetgD+9+iFfWbWADV9bzldWLeCPr+ynvSt1nrtExLqIvXDv4+/+ZjMujzel4zMaEsNiPIjZlRW73c6qVauCf3/2s5+N1anHVHW9g4LsNKxmE3qcklbUpg8xskrQtbSIU61sFpWCDI1DjQMHKzvaj2IA0wYZ7IyKouCafibp219HPfYhesW8IQ85b/JZfFC3m99+8AwbLrkTVZVfbMarRNTojzS/PM1iGrCt75zz0a6JEu28dnFK4DnLtJtD1l0J+PKq1JlGJ+tRjA+R3se6TnCB0oBUis9oSAyL8UCKavdTXe9gcnFm3AYq6D60lkMoFWcNeVWkPNdEVdPAJPvtbVXkWzPJNdnicmUFwDNpOvr+rZh2vYk7isGKWTNz8YwLeG7v//LyoTf4l9kfjUu7RPyFWz2573SBsarR33eleAXCrongdId+4Pafc95/tfl0q4n2bjc+n46mqUNW9um/dki4+xChAs9Z33VWCnPSsJhNON1eNFXhREcvqqqQabPQ2esOvj7Z6daYTa8bKo6jIetRjA+R3se2NI1f3n5RyAr2JlWhua0Hr8/ApClkp1vo6HYH/87NTENVlZB+JZZxG8lI41liWIwHEq19eLw+jjd1cfr0/Ljdh9pajeJ1oeeWD7lvea6JHTUuWru85GX4XyqXz0Nlew3nFp8Wt4GKv6EqrqmnYdu3FaW1ASNv6IUnTy+aw66GffzP7uc5u+wMCtPj9zyK+IhmfnOgRn//fWJZo7//HPPVF07nmkvnBkuNBuaXp9tMwS8h/eechzvHisWTB5yjojgz4oAlFnkvE01Gmpl1a5fy5gc1XH3JHP706od88oIZbOiTu3LL1Yt4f1/DgNcjVvlAsZqnPxaxLuIv3Pv4h19bTlePh+8/ujmkP1A1+PYD/4zYZ6xfuxSrRYuYKxcPo4lniWExHsjPg30cb+pC1w2K8uK3GKTWuA8DBV8Uq85PyRuYt7K7owaP4WNmZvzXNHFPmYuhaph2vx3V/oqicPnsizAMgwfefRxfPAdTIi6imd/ct0b/5K//mklrN8Q8WbP/HPN50wrCronQ0uaMOOe8/zkuXjo17DnaBpmjHou8l4mmvcvFH1/ZzyfOn8F9T2xj5ZIKHvjT9pDn/YE/bQ/7esQqHyhW8/THItZF/IV7H6uKErY/6On1Ddpn3PvbrYPmysXDaOJZYliMBwm/svL5z3+e1tZWTCZ/U37wgx9w5plnJqQtgUpg+dlxHKzU74G8KfhUCxEXWTlpUo4JTYX9db0sm5kBwAetR7CbrJRYstD1+M45NSxpuMtmYDmyE8+5l4Nl6Ln/ObZsLp99ERv3/Z2n97zIZ89YNeQxInlEO785UKM/XvrPMc+0m8POOVeUyHPO+59DU8Ov++HzDT7lc7R5LxON12ewpbKRL3/qVO5KuOc90usRi3ygWM7Tj3esi7HR/31c39IVNv76/g4RKUaHypWLtdHGs8SwSHUJHawYhkF1dTX/+Mc/goOVRDpa70DTFPLj9cXE1YV6ohrmrcQYYqACYNIUynJMHKj3/2LjM3R2tFVzet7U+E4B68NdcRrWmgNoh3bgO+2cqI45o2QeR9uPs3Hf35mcXcr5FUvj3MqJayTzmAc7Jl7zm/vnjoSb490/R2X1hdOZN62ATLuZrHQry+YXhyRrR5pzrqkKTW09wXU+Al82fDph561rmlwlGa3Aa6fr/lW+/+tbH0FTVf7frStIs5jCvnaRXo9Y5AMNFsf941+1Z6L3dMpK3hOMpqlh8+AURWH92qVk2s1oWvhcl3C5clazSlunMyZ5LLruxdfZDroXVJPknYgJL6GRfuTIEQC+9KUv0d7ezmc+8xmuvfbahLWnusFBWUEGiqrEZfV6rX4PCga+3ClRHzM138w7h3txe3UOdtfS7XMxO3MSMDYVS3w5hfiy8tD2b416sAJw2eyLaOvt4KGtvyPdYmdR6elxbOXENJJ5zEMdE4/5zdGsVdJ/n2Xzi8PmqABsqWykKNfGPV89j+5e74A55+/uruOR5ytZNr+YdWuXBs/x2tbqkL8D++dmSP7JaAReu6f+vo9PXjCDv751mE9eMIP//O8tEV+7dWuX0tLePeD1iFU+UKQ4Vu2ZA+P/ym/T+tbT9B7cJmtQTCBZNkvYPkbR4NHndwf7oXB9RobdHJIr9/0bzqXV4YrJeky67sXTeIzGZ398KkavvkvyTsSEphiRllAfA9u3b+cPf/gD//Ef/4HH4+ELX/gC69atY/ny5cF9HA4HDocj5LiGhgbWrFnDpk2bKC8fOlE9Wmt/8DKzJufyqQumx+ycfVn/+RBa61E8y6/H54vuykhlnYsnN3fyg6smsdW1lbea93PbvE+hRHFlJlYsR3Zjr9yM88pbo0q0D+j1OPn9zudo7j7Bbeddz9llZ8SxlYk3lrEK4O1qo+636wb82jZp7YaIl/yjOSYWVZT6aut08q1fvDng18n7b10RnJbRf5/1a5cGvzD0Pea7XzkXR7eLzh4PU4oz+c5v3gm7z00/eR3wVxD7t9VnYEC/amD+KwBDVQMbr2IZq4HX7iurFvDo87uD/x/stdu07Sg3rD6DvMy0Ma0G5uvuCBv/+Zd8kcY//zj492DvITG24tWvNrX1sO6X/xwQp1+98gy+/+iW4LZl84v5wmXzQ2L3a1ctRFEIxq1hwO0PDN7HRcvT0UL9k3cPiNHS6+5FURS5AigmpIReWVm0aBGLFi0K/n3VVVfxxhtvhAxWnnjiCR588MG4t6Wrx82JDicrFsVpMUiPE62+EmX6OVEPVMB/ZQVgz7Ee3jcf4bScClTDGKPrKn6eslkYe7eg7d+G97xPRn2czZzGtWdewVO7NvKTf/6atYv+lY/P+giKMj6n3YxVrAaMZB5zNMfEen5zNGuVRJuj4uh2se4hf8GHX99xUcRciIAtlY3csDp0kdcii0ydiGWs9l1XZbAclb6vHcCXP2VgMqlxywcKF8eR4l9Nywj5W9agSB7x6ld9vujWbtpS2cinL5wZErs3rNZD+pSmtp7Y5V/p4WMUrxtTbvQ/FgoxniT0U/u9997D4/Fw7rnnAv4clv65K9dddx2rV68O2Rb4VSWWquv9v9wU5sQnuV6r24Wie/EVzhzWcelWleIsjQ+aa2kv7GFudjljfTHMsKbhKZ6C6fBOvOdcBmr0v0TbzGl8YeFVbNz7vzy+/WkOtx7lK2ddQ5p5/CUsj1WsBoxkHnOkY0DB09GMoplQ7Jl0unrw6B7MqpmstAzUUfyCF2mNA4tZDa5noGlKyD6dPZ6wx3T2eIJ/60akHBSVDV9bHvwVVNZEGSiWsdp3XZW+/x/stUtUrlCk+NedXSF/jzpHy9BxOLti9h6ayGIVq16vTlunM7heimkY+Sj9Y7d/nxLT9ZjUCH20OvZf1ySORbJIaNR1dnby4x//GJfLRVdXFxs3buSSSy4J2ScrK4vy8vKQ/0pKYv/rwtHgYCU+V1ZM1Zsx0vPwpRcO+9jpBWZq9BpMispkW14cWjc0T/ksVGc3au3hYR9r0cx85vRP8tFp5/LW0a3c8eoGjrQejUMrE2usYjUgMC/fP9ggqnnMYY+58tu0vPwoNQ/eSPP//oaa9lrueu1H3PTi3dz12o+o6ahDN0Y+7TDTZmHd2qUU5fp/CCjKtfG968/hRLuTO3/5T27Y8Bq/2bgrZJ9N244OOGbd2qVs2nY0+LfJpITd56W3j7Duobd59PndXHPpXDJtlhG3fbyKZawG1rDYtO0ot1y9KPj/wV67ROUKqfZMiq/8dr/4vx3Hzn+c+nu0OVqGTk1HXUzfQxNZLGLV69WpbnAE+5s7f/lPnB4v6/v1H+vXLqU4P33Q2A2XVxV4D/Q9bqT5V2pGNsVX3j4gRtWMsc1PkTgWySShOSsAP//5z3n55ZfRdZ3Pfe5zXHfddUMec/z4cVauXBnTPIBf/nknb20/zt1fWhbz5HqlpxXbX9fDvJU4S4aft7HruJNnnS8yI6eQa6adPeZXVgDw+ch69ffok+fgWfnZEZ+muu04f9n3d7rcPXz2jFV8Ys7Kcf1LTTxita/RVgMDhZaXH6X34DYA7FffyX/u+wvNPa3B/Qvtefzw4jvIsWWNqI1tnU5++cyOkKo7FSWZ/MfDofkmy+YXc8Nq//vDbFIHrG6ekWamvcuFVzcw9SlD2tbpxKsbaKrCi28dZuMbR4LnHOm88YloNLHatxqYTzfo7HFj1jR6XB7aHC72VbVw8dKpdPW6KcixJSxXyNvVRvNLD5N15kdR0zLQnV301OwnZ8nlgBGTXID2Xgd3vfajmL6HRKjhxmpzWw93hslPufO6JVjNppBqgp++cCaKqgT7nf79UKS8qmgqHkbD29VG27svkH3mRaCqoOt07Hyd3HM+NaZ5VBLHIpkkfPL2N77xDb7xjW8kuhkcrXdQXpwZlyJbpqp3UDDwFs4e0fG2HAdqmxNrT0liBioAmoandBqWY/vweN1gGtmv1VNzy/m3Jdfytw838fudz7Gv+SA3L/sidkv81rYZz0aSX9L3GE9Hc3CgAmDYMkM+nACae1rxjGJNH49XZ0uB7XvwAAAgAElEQVRlY0jp2nD5JlsqG/nyKoPS/PTgtv6DjMLcgVc+A9ua2npCBir+bfFd/0D49V3Dor6lm2/89I0B+yydX8q6h97mN+svTlhRA8PnpffgtpCYB8hZchnm7OFf9Q7Ho3ti/h4So+P1GWFzSlxuH//+8zdDtv/L8ukhfRAM7IfCidV6TIbPS+eWF+jc8kLI9pwll4363MMhcSySScIHK8nAMPylN5fNL4n9WMXnxXToTYzSeXjN9iEXggzniKcGDJWWmlw4LdYNjJ6nbCbWY/vRju7HN2Pklb1s5jSunH8ZU2rLePnQG9y96SesW3EThen5MWytiEb/OfxKbyeF9rwBv6aZRzFf2mxSWX3hdC5eOjX4C2akOd6mQX6J7D/nPDczDVOfOeExnTcuRsykKWHXrwjksmiqgterYzKpMfs1OlpjsV6FWTXH/D0kRsfULycOBlkvxRS79VJGIlnWVJE4FslEPsWB5rZeepxeivPSh955mLTjH6A6OzCmLI5qIcj+DMNgb+9RcnzF1DapuDyJm7XnzS9BT7OjHvxg1OdSFIWl5Qu59ozVtPS08t3X/x+NXc1DHyhiqn8Oi7H9dW5ffgOFdn9uVKE9j29f8FWy+lRLGq6MNDMrFk/m+49u5sYfvc73H91MZ4+H715/zoC54TkR8hjCzTmvbnDg7XPVJJbzxsXIZaf716949Pndwdyhqy+Zw76qFm65ehG/2biL6gYHHo+Pow0OvvWLN/nyPa/yrV+8ydEGB7oevz5uJHlew5WVlsG3L/hqTN9DYnRyMqwD8tvWf3EpRXn2kG3fvf4c2rvcYxqT/Y1FjEZD4lgkk4TnrIxErPMAtlY28J+PbeGWzyykJD+GAxbDIO2VH6L63HiWfWFYJYsDjrmaeLzpFc62LuGtt/L53EVm5kxO3LoQaZWbsVbvxXntXWCNzdSt+s4mntzxLOkWGz+8+A5ybeNnoat456zEQv+8l1PVwLyYVdOoK8BEmi/+jWsW09XrCfn1/aZ/XRh2KkWkc9x30/khU8PG+pf68SRWsRrptfruV87lgT9t58NjbRTl2thw0/lh17mId45RrNcRCudUFaXYvIdEqOHGari8uamTsvjv53eHbMuwmfn5Hz8Y85jsbyxiNBoSxyJZyPU8oKq+A4CCnNh2RlrjPrT2GoxFV4xooAKwu7sas6IxLzuPzZrBgeO+hA5WPJNmkHZkN2p1Jfqcs2NyztLMIq5deAVPbH+G+976Jd+/6JukmeTX8LESLu8llgmUkeaLKwrc+9utIdtvWB3+6mOkc3j7/eIZq3njYuQivVaObhcfHmsL/u2LsF+8c4xivY5QOKqiShJyEomUN9d/24avLU9ITPY3FjEaDYljkSxkiAxU1zn86z6YYjh2MwzMlX/DsOXgzZ82olP4DJ29vUeZlTEFDZ1J+QaH6hKbLOzLKcRnz0Q7tCOm552UWcyVp11GdVsNj773h5ieWyRWYL54X5Hmi4M/Qbu5rSdkilekcwyW4yLGnq6fWjOnr0jrrITbT3KMRKwF8tn6CqzT1JfT7ZWYFCIJyTsQqKpzUF6UiR7DGXFq0wG0lkMw+0K8vpGd94iznh7dxUx7GYZhMKXQoL0LTjgSOGBRFDyTZqDVH4HerqH3H4bZBdNZMfUc3jy6hf+r2hzTc4vEyc1MGzhffO1SSsKsZ/CbjbvC5qSEO8e6tUvlKkoS0XV/oZIX3zrMndctGXKdlZx0i+QYiTERLp8tLU0b0KcU5dm564sSk0Ikmwk/Dczp8lLX0sXiubEpWwmAYWCpfAHDlo23YNaIKoAB7Ow+gl21UqBm4tM9TCkyoBIOHPdx7mmJG2e6J80g7dAOtKo9+E47J6bnXjF1GUfba3nsgz9xevEcCuyJWQRTxI7JpDK1JIv7bjo/ZI0UVVW4/9YVwSkWv9m4Kzglo6mtlw2/3RrMSYl0DpP84pk0Orpd3PPYFpraev0FFL5yLpqmYDapvPjWYVYuqeDTF86ks8fDH1/Zz03/upCKkqxgDEiOkYgXVVUGxJrPp/PHV/bzlVULgjkrv/vbXr525ZkSk0IkmQk/WKlucGAYUJwXu5Xr1cb9aM2HMM5chXeEAxWn7mZ/bw2Lcmbj8/qnT2TZISfd4MBxnXMTWMJYz8rDl5GDdmhHzAcrqqLyqbmX8KutT/LwtqdYv+LrKIp8UKQ6k0kNu0ZK37U5+s4dh4E5KZHOIZKDx6sH5/u/tq2G17bVAPCbdRez8Y0jA9bAuWG1LjlGYsz0j7VAn9O/3/nyKn3AOitCiMSa8IOVqlp/cn1RToy+BBkGlj1/9eeqFMz0T4wdgcqeo/jQmW4rhT5T+6cUGVQeNXB7DCzmBH2JVxT/1ZUD70N3B8S4pGKuLZuVM5bz94P/x+aa9zlvSmwS+UVy6Vu5S4uwNkffnJRoKn1JNbCxEe557rvOzcVLJrP6I7PQNCX42vb9Uih5ACLRIq0HZNaUhK6zIoQYaMIPVg7XdpBuM5OVbhnpuCKE1rAX7cRhjIWfHlCpaDh2dB+m0JJDhmHF12e0MqXIYFcVVDXoia0KVjYD24H30Q7vwnfGBTE//5KyM9nZsJffbn+GRaWnYzPLr6/jSSC/ITBtaPWF07nm0rls+O1Wmtp6B6y70n//wFzyipKs4BeJaPYRoxfpeZ5clMndX1rGP947xgWLyvn+o5tDXkuALZWNkgcgkkKW3RK2zzEU+NYv3pQ+RIgkMuF/2jp8vJ2pJVkxGahgGJj3/BXDnue/qjJCje42jrtbWJA1A58vtGJSaa6BSTPYXzOyUsixomfk4M0uQDu0PS7nVxWVy2ZdRIfTwZ8rX4rLfYjE6ZvfADBvWkHwSwOcylnpcnrC7t/U1ss9j22ho9sV8Zzh9hGjF+l57ux1U1GSxScumMF9T2wb8Fp+ZdUCfvT187nvpvPly59IuI4ed9g+x+n0SR8iRJKZ0IMVj1enur6TySWxWZFVa6hEa62CORfi9Y28Ytf73YcwKRqTzQOT/jUNygsMDh7XSfR6np6ymWgn6lHam+Jy/vLsUs4oOY3/Pfi6rG4/zvTNbwDItJsHXd+g//79b492HzF6gz3PqqpEXD/F59O548F/YoAMVETC+Xzh47h/aEofIkTiTejByrEGB16fTkl+DPJVDANz5Yv+qyr5M0Z8GrfuYVf3EeZmVKBEWEiyosigsxca2xI7WHGXzcRAQTvwQdzuY+X05SioPLnjubjdx0Sj6wZtnU6a2npo63Six+Sy4vD0X/egs8cz6PoG4dZJ6J/3EM0+YvQGe54HW2fFp8vrIZKHpoWPY0VRWL92KRu+tpz1a5eybH6xxKwQCTah34EHatoBKIlB5Q+1cT/aiaqT66qM/FeYnd1HcBke5qVXRLxyMqXIv/3DBE8FM9LseAvL/FPBjPj88pRpzWD5lLPZWruDD1sOx+U+JpJAvsG3fvEmX77nVb71izc52uAY8wFL/3UPNm07OmDNg755DeHWSeif9xDNPmL0Ij3PmTYLRxsc/GbjLm65elHI7Xdet4TXtlbL6yGSRm6GNez6Tz5d59Hnd7Puobd59PndXHPpXDJtlgS3VoiJbUIn2B842kam3UJ2upVRzagyDCyVL2LYc/AWTIcRLgJpGAbvdu2nLK2ATMOCj/CDkfQ0KMw2+LBG58IzR9HuGHBPnk36B6+j1h1BLxt5ns5gzp1yFu/X7eKJ7X/mhxd/W0oZj0KkfIP7b10xpiVkw617kGmzRFzfINz+/av0RLOPGL1Iz3Pf2GrvdPOVVQvIzrBQkOO/mrL6o7Pk9RBJw2zWqCjOZMNN5+Pz+a8IWswq3/z5mwPyWMa6fxRChJrYg5WaNmaUZY9uoAKozf7V6o0zV414tXqAA85aWr2dfCJvAT598KsmU4t1th1Q6Ow1yLQl7sPfUzIVw2RB278tboMVi2bmo9PP44X9r7K55gPOm3JWXO5nIkimvI5wa2wM9oUgmjU5ZN2OsRHuee4bWx8ea+Pe324F4L/vvkReE5GUzGaNoj5rNzW19SRN/yiEOGXCDla6etzUNHayaPboV663VP4NIy1rVOuqGIbBW47d5JgyKNay8Z5cCDKSimKDbQf8U8HOnp3Al1Ez4S6fiaW6Eo+zB9Lis2jfmSWnsaVmO0/t2siSsjMwa+a43M9413ctjIB45BH0X4cj02ahs9cta6SMY2aTGnbdCgX/ayuvpUg2Ho+Pti4XPp+OpqlYzGPTPwohhmfCvgP3H23DMGByceaozqM2H0Jr+hBmrxjVuiqHnfXUuk+wLHf+kAMVgPxMyLQZ7Dua2LwVANeUeSi6D+1g/BLtVUXl4hkX0Nx9gpcPvRG3+xnvxiKvo39ezC+f2UH1EHkyyZJLI0YuI83MNZfOHTDff/PuOnktRdLxeHwcbexk3S//yQ0bNrHul//kRLuT799wruS9CZFkJuxgpfLICUyaQkne6K4EWCr/ipGWibdo7ojPYRgG/+jYQbYpnXJzXlTHKApMLTGoajBwuhP7JUDPzsebW4SpcnPcEu0BZuZPZWbeVJ7Z8zcczs643c941jff4L/vvoT7b10R8zUv+ufFrFxSMWA9A1kjZfxp73KFXbdi4exieS1F0mkLE6/3/nYrVrMW1/5RCDF8E3awsvtQC9MmZaNpI38K1OaDaI37R10BbFdPFXWeVpbnnYHXM/RVlYDpJTo+HQ4eT/x8Wte001E7W1FrDsT1fi6duQKXz8Ufd78Q1/sZzwL5BkW5dnIz02L+QTzcNVTCHRNuH5HcvBHWV9FUeS1F8om0zorXZ8S1fxRCDN+EHKx09Xo4WNPG3IrckSfXGwaWXX/x56oUzhlxW1y6m9fat1OWVkCpmjOsY0tywW412F3lHXrnOPOUTkdPS8e088243k9hej5Lyhay6cjbHG49Gtf7EiMz3DVUwh0Tbh+RfPqu2SPrq4hk1n99qUjrrGiaDE6ESDYT8tNj18FmdAOmlmaN+Bxa/R60lkMw96JR5ar8vf19unUn5+eeidcX/VUV8E8Fm1FqcKjOoDfBU8FQVVzTF6A1VKE2xncQ8ZFp55JusfPwtt+j6/JrbbLpnxezr6plwHoG69YuDVm7QNZIST3984xefOvwgNdZ1lcRySBcTpxuGGH7pdwMiVMhks2ErAa2bW8j9jQTpQUjXAxS92HZ+SxGRiGegpkwwilg+3qOsaP7MOflLcCua+gM/zyzynR2V6tUVie4KhjgqpiH9dAOtPdfQ7/sy3G7nzSTlY/NvJBn977Eiwc28am5l8TtvsTw9V+HQwEe3riLr6xaEKwS9cdX9nPTvy4MlrSVNVJST/88o41vHAHwr1uhG2iqIuuriKQQLifurofe5qe3rQhZZyU3w4rZrCW4tUKI/ibcYMWnG2zb18AZMwuAkX14mg6/ieqox1i6Bt8IByoN7lY2tr5DWVoB89Im4/W4R3SewmzIzTD44GDiByuYzLhmnIlt3xZ8dYfRJ82I213NL5pNZdOH/HH3CywuPZ3y7NK43ZcYvr7rcDS19bClspEtlY0h+9ywWo94jEh+4fKMNr5xhE9cMIPS/BH+ECREHETKiXO59ZB1VoQQyWnCTQPbfaiZji4386fnj+h4pbcdy+6/YBTPxp05si/IDe5Wft/8OnbNyiX5S0Y8UAH/VLC5k3VqWwwaWhM/Jco1bT66LQPT5hdhiIUtR0NRFD4x52Ksmpmfb34Ul3fkz6GIL8lHGZ/kdRWpQmJViNQ24d6p/3j/OHariemTsod/sGFgee9/wOdFn3fJsPMlDMNgd3cVjze9iknV+FTxcgz38PJUwplTbmBSDTbvTXyiPZqJ3tPOQWttwLTnnbjeVbrFzqfnfZyajjoeee9/MEZcLUHEk+SjjE/yuopUIbEqRGqbUNPAOrpc/HNHLeedOQlFGf4UMNPhtzDV7cQ44xO41TSiLSWmGzpHnA2807mXKlcDk9OKuCh/MbhjM7hIs8CcyQa7qnQ+utAgJyOxc8M9pdPwlFRgeu8VfOWzMPJK4nZfM/OncuHUc/m/6s2UZBZy1fzL43ZfYmQkH2V8ktdVpAqJVSFS24QarPzt7SrcXp1z5g//y7PafAjL9j9ilMzFUzQPfAOnOOmGTqevl3ZvF+2+blq9nTS4W6lxN9Oru8nQbKwsPJuppkK8Mbii0teiGTr7ahT+scPD6vMtQx8QT4pCzxkryHzjWSyv/h7Xqq9CWvzmsK+Yuox2p4On97yIRbNIwn0SknyU8UleV5EqJFaFSF0TZrDS6nDylzcOseS0YrIzrMNaX0VtPUbaW78Eex6++Zfh8/nQDZ06dys17ibq3CdodLfT6u3E16eil4JCviWLWRlTqLAVU6hl4vN48XpjO1AByLDBGVMNdhzWWTRTZ2pJYmf4GVYb3WddTMa7f8Py9ydwX/YlsMTng8Kfv7ISj+7h9zufo7W3nWvPvAKTKlVdhBBCCCFS2YQYrPh0g/96egc+n8GlS6cMa6Ci1e7A+u5jYLFzYtEn2es4wOHeOqpcjbgN/6Ajy5ROcVoe081lZGh27KoVu2IhXbWCYeDz+UAHnx7fnJKzZukcaVB49i03N1xuJdOe2EvcvvwSehZfhP2DTVhf+DXuS67FyC6Iy31pqsYVp/0LGZZ0XjrwOgdbjnDDkjVU5JTH5f6EEEIIIUT8jfvBiser86tnd/LevkbWfGwO6bbopkgpnU249/yFqhN7OFycy8HMdFrqXwQgx5zB/KxplFrzydMysBoaXl+fgYjh/y/eg5P+zCa4dLGP5zebePxlN5+7yExBdmKvsHhKp9G99OPYP3gd67MP4D1zBd7Tl4PVNvTBw6QqKh+f9RGmZE/ipQOv8+2X72V5xRI+PvNCZuVPG1GekhBCCCGESJxxOVjx6QZNrT3sPNjMC28dpqaxi09dMJ0FMwrR+1xW8elenD4nPe5OursbcXTV0tZ5nJbeRupx0mbRoDQbs6IyxZrFgpxZFJtzsRtmfD6vf1DiNfCSBFW4TirIhsuWenn5fRO/+qubxTM1TqtQKc1XSbMk5su6t7CczhVXYN+7BfMHmzDtfAN98hx8k6Zj5JWiZ+WBLQNiNG3rtKLZTMudwjvH3uO92p388+hW8u25LCiay/S8KZRllVBgzyPbmonNnCaDGCGEEEKIJJWSgxXfyeT2hoaGAbd9cLCNx16qwqf7ByWl+TY+/7HpmOwOfr7jKdyGB5/hxat7w64YrxoGeYpCqTmHBZmTyTZnk2mkoXu96E4d3emkC2d8H+Ao5djgE0tUdlVZef+gwdYP/V/G7VaDz17oJTtB67W1z1qKpWw2mQ1V2BqPYqmuDLld18y488toXn5lTO7vzOy5zMuYwbGuOo521rLt+A7+r3pzyD4KChbNjE2zct3cK6nILIt4vpKSEkym4b1lBotVIeJFYlWkColVkQpGEqcidhQjBReneO+991izZk3E22fPnkNuXgGKZkJRFLxe/5WPgoJ8CgpDcyYmTylDVfxPgaoawTXtPd7kuVoyGurJqwYGBugGHR2tdHf3JLhV/qR4VVUwAF0H/eT/DcOgqroa9ygWyoxEVbVTpSp10HX/c4JhgAF1tXXU1NREPH7Tpk2Ulw8vB2aoWBUiHiRWRaqQWBWp4Pnnn2fu3LmJbsaElZKDFafTyZ49eygsLETThp461NDQwJo1a3jqqacoKYnfmh+JNhEeZyIf40h+WRlurI5EqrzuqdJOSJ22RmpnssbqYFLhOU+FNkLqtBPiF6up9ByEk+rth/H1GF555RUqKioS3ZwJKyWvaaWlpXH22WcP+7iSkpJh/4KTiibC40yVxzjSWB2JVHlOUqWdkDptjUU7xzJWB5MKz3kqtBFSp53DNZxYTfXnINXbD+PjMSTiBxxxSmJLRQkhhBBCCCFEBDJYEUIIIYQQQiQlGawIIYQQQgghkpL2ve9973uJbsRYsFqtLFu2DKvVmuimxNVEeJwT4TEOV6o8J6nSTkidtqZKO6ORCo8lFdoIqdPOeEr15yDV2w/yGERspGQ1MCGEEEIIIcT4J9PAhBBCCCGEEEkpJQcrXq+X48ePBxd7FCJZSayKVCGxKlKFxKoQE0tKDlYaGhpYuXIlDQ0NiW6KEIOSWBWpQmJVpAqJVSEmlrgvCvmjH/2ItrY27rvvvpDtDz74IM8++yxZWVkAfOYzn2HNmjXxbo4QQgghhBAiRcR1sLJ582Y2btzIRz7ykQG37dmzh5/+9KcsWrQonk0QQgghhBBCpKi4DVba29v52c9+xo033sj+/fsH3L5nzx4efvhhamtrWbJkCXfccUfYsnAOhwOHwxGyTS79imQksSpShcSqSBUSq0KIuA1WvvOd73DbbbdRX18/4Lbu7m7mzZvH7bffTkVFBXfeeScPPfQQt91224B9n3jiCR588MF4NVOImJFYFalCYlWkColVIURc1ll55plnOHToEOvWreO5555j69atA3JW+tq7dy/r16/nL3/5y4DbIv2qsmbNGjZt2kR5eXmsmy/EiEisilQhsSpShcSqECIuV1ZeeuklmpubWbVqFR0dHfT09HDvvfeyfv16AOrq6njnnXe46qqrADAMA5MpfFOysrKCSfhCJDOJ1cHpho6qpGQBwnFHYlWkColVIURcBiuPP/548N+BKyuBgQpAWloaP/nJT1i2bBnl5eU89dRTXHLJJfFoyrig6wYd3S48Xh2zSSU73YqqKolulhBRMQyDx7c/zT+qNjM1p5zbl/8bWWmZiW6WGAPSd4lUJzEsROLFvXRxX9dffz233HILCxYs4Ac/+AFf/epX8Xg8LF68mC9+8Ytj2ZSUoesGRxsc3PPYFpraeinKtXH3l5ZRUZIlHaZICS8feoO/H/w/FpbMp7LpQ+5/+2G+f9E3URSJ3/FM+i6R6iSGhUgOcZ+TccUVVwTzVR555BEWLFgAwMc+9jFefPFFXn75ZTZs2IDFYol3U1JSR7cr2FECNLX1cs9jW+jodiW4ZUIMrcvdzVM7N7KgeC6fnvcxLp5xAftbDrO/5VCimybiTPoukeokhoVIDjKBPMl5vHqwowxoauvF49UT1CIhovf6kXdw+dxcNH05BgaLSudjN9v4y75XEt00EWfSd4lUJzEsRHKQwUqSM5tUinJtIduKcm2YTfLSieTlbj7GsUf+nb998Cyz7EXk2bIBMGtmziw5jV0N++jx9A5xFpHKpO8SqU5iWIjkIO+4JJedbuXuLy0LdpiBObPZ6QMX0BQiGRheDw1Pb6Da3UGbprD42FH07lOlR+cUTMdn+NjVsC+BrRTxJn2XSHUSw0IkhzFNsBfDp6oKFSVZ3H/rCqlGIlKCY/sreNubOLhkOVr7YeZ09WB6/zW8F6wGYHLWJNJMVrYd38k5kxcnuLUiXqTvEqlOYliI5CCDlRSgqgq5mWmJboYQQzIMg46tf8NSNovtPU3MyS7HVJyJ6cguvMs/BaqGqqrMzJvKzsZ9GIYhVcHGMem7RKqTGBYi8WQamBAiZly1B/C2N9I1dT5Nrg7mZJfjnjQdxe1ErT1VAWxKThkOVyfN3ScS2FohhBBCJDsZrAghYqar8i0Uk5mDaf6updyWj7ewHMNkQT2yO7hfeVYpAB+2HElIO4UQQgiRGmSwIoSICcMw6Dn4PmlT5rPXUUe+NYtM1QKahje/BK2+KrhvcXoBFs3M/mZZb0UIIYQQkclgRQgRE57WOrwdTZgnzWaf4zizs8vQDR8A3rxS1M5W6OkEQFVVJmWW8OEJubIihBBCiMhksJJEdN2grdNJU1sPbZ1OdN1IdJOEiFrv4e0ANGZm0ONzMyW9MHibN78EALXxaHBbWVYJxx31eHyesW2oiDvpy0QqkDgVIjVINbAkoesGRxsc3PPYFpraeoP13CtKsqRMokgJvVW7MOUWc8jjX1OlNC0neJsvuwBDM6HWHUafdjoAJRmF6IZOraOBqbmTE9JmEXvSl4lUIHEqROqQKytJoqPbFew0AZraernnsS10dLsS3DIhhmYYOs7jH2ItncVBRx15lkzsquXUDqqGLysPtaUuuKk4owCAqvaasW6uiCPpy0QqkDgVInXIYCVJeLx6sNMMaGrrxePVE9QiIaLnaa5Bd3ZhLpzCgc56pmeVoOvekH18WfmobY1g+Kda5NtyMakmjrQeS0STRZxIXyZSgcSpEKlDBitJwmxSKcq1hWwryrVhNslLJJJf77F9ADgys2n3dFOeXjBgH19WPorHhdLVDviT7IvS8znWUTumbRXxJX2ZSAUSp0KkDnlXJonsdCt3f2lZsPMMzJ/NTrcmuGVCDM11fD9aeg5V3i4Aiq3ZA/bxZfsHMMqJ+uC24oxCajrqMAxJbB0vpC8TqUDiVIjUIQn2Y0jXDTq6XXi8OmaTSna6NZjIp6oKFSVZ3H/rirC3C5HMnLUHsJRMp6q7AbOqkWdOx9B9Ifv4MvMwUFCaj8PU0wAoSs9ne/0eHK5OstOyEtF0EWP9+zLl5LaObpf0aSJhwn3+ymeuEKlBBitjJJrKI6qqkJuZluCWCjE8vu4OvO2NpM89hyNd1UxOLwzmpYQwmdDtmahtjQSGMQX2PABqHQ0yWBlHVFUhO90q1ZZEUhjs81c+c4VIfjINbIxI5RExXrnq/KvQqzlFVHc3U55eiGGET1LVM3NQOlqCfxem+wcrxzrqwu4vUpf0eSJZSCwKkdpksDJGpPKIGK+cdQdAUWhIM+PWvZTaciPu68vI8a9kr/vjPsuaiUUzc7yjPuIxIjVJnyeShcSiEKlNBitjRCqPiPHKVX8Yc34Zx3pbASi0ZkbcV8/IQfF5gxXBFEUh355HbWfDmLRVjB3p80SykFgUIrXF/Z36ox/9iDvvvHPA9n379nHFFVfwsY99jLvuuguv1xvm6PFDKo+I8cgwDFz1h7EUTaG6q5k0zUyWZou4v0/N5KEAACAASURBVC/Dv6q90tEc3FZoz6XO0Rj3toqxJX2eSBYSi0Kktrgm2G/evJmNGzfykY98ZMBtt99+O/fccw8LFy5k/fr1PP3003zuc5+LZ3MSKlbVvgarKCbEWPM5WtB7HJjzyqju2n8yX8UXcX89MFhpbYDJcwAosOezq3E/To+TNLMku6aiSP2SVFsSySBSLAK0dTolPoVIcnEbrLS3t/Ozn/2MG2+8kf3794fcVltbi9PpZOHChQBcccUVPPDAA+N6sAKjr/YVTUUxIcaSq/4wAEp2ATVNJzi3aN6ga6YYljR0sxWl/dSVlXy7fwDT0NXM1NzJ8W2wiLmh+iWptiSSQf9YlM9TIVJH3AYr3/nOd7jtttuorx+YONvU1ERhYWHw78LCQhobw08DcTgcOByOkG0NDRNzfnukiib337pCvhAkgYkYq676w6BqNFs03LqX4rScIY/R07NQOluDf+fZ/Qn5dZ1NMlgZI7GMVemXRDzFq1+VuBUidcRlsPLMM89QWlrKueeey3PPPTfgdl3XUZRTv1wYhhHyd19PPPEEDz74YDyamXKkoklym4ix6qo/jLmgnCO9bQDkD5JcH6CnZ2HqU744z+Yf4NQ6hq4I1uvycrTBwdTSLNIsskzUSMUyVqVfEvEUr35V4laI1BGXT/uXXnqJ5uZmVq1aRUdHBz09Pdx7772sX78egJKSEpqbT00DaWlpoaioKOy5rrvuOlavXh2yraGhgTVr1sSj6UktUNGkbwcrFU2Sx0SLVcMwcDUcwTbtDI51N2NSNHJNNnQ9cs4KgG7PRqk7Aj4vaCYsmpksawZ1nYMn2b/xwXEefX4P7V0uzCaVr115BhcvrYjlQ5owYhmr0i+JeIpXvypxK0TqiMtg5fHHHw/++7nnnmPr1q3BgQpAWVkZVquV999/n7POOovnn3+eFStWhD1XVlYWWVmysjWcqmjSf46tVDRJDhMtVr2OZvTeTsx5k6jpOcwke96g+SoBvvQsFMNA6WrHyC4A/FdXGrqaIx7z3r5Gfvo/7zOjPIdPrZjO5t31/NczO8nOsLLktJKYPaaJIpaxKv2SiKd49asSt0KkjjGdR3H99ddzyy23sGDBAu6//37uvvtuurq6mD9/Pl/4whfGsilJw+vVaet04vUZmDR/AqApwi87Ul1HJBN3/REAtOxCjrVs4bTcqRFXru9LT/d/8VAcJ0IGKwdOVIXdv6W9l5/8/j2mlGSx9vLTUBSFaZOyeeQvu3ngTzt49O5LsJq1GD0qMVx9+yVdN9B1A8Pw5wT075+kmqFIFtF+ng7nM1oIER9xH6xcccUVXHHFFQA88sgjwe1z587lz3/+c7zvPql5vTrVDQ42/HZr8JeddWuXMrUka9ABiyT/iWTgqj8MikqXzU6n10mxbejkegDdfnKw0t4cLF+cZ8+lq34P3e4e0i32kP1/++JePF6daz8+N5jbZjVrXL58Go88v4f/faeKT184M4aPTAyXqipkp1sHra4k1ZdEshnq83Qkn9FCiNiTd1sCtXU6g50g+JP7Nvx2K22dzgS3TIihuRqOYM4vo8YZfXI9gGG1YWgmFMepimD5tlPli/vaV9XKG9uP8/FzKrCnmUNumzYpm5nlOTyz6SBuz+B5MiL+IlVX6uh2RXW7EMlGPqOFSA4yWEkgr88IW43Eqw8971+IRAok11uKJnO821/ZK9+cEd3BioJuzwwpX5x7crBS39kUsuv/vLyfnAwry04vDXuqCxaW4eh2s3Xv+C4RnQqGqq4k1ZdEqpHPaCGSgwxWEsikKRTl2kK2FeXaMMmUCJHkfJ0n/CvX506ipvcEuZYMLEr03Yluy0Dpag/+nWvLBqC+T0WwA8fa2HGwmYuXTkaNUNp8Rlk2WekWXt16bISPRMRKoLpSX32rKw11uxDJRj6jhUgO8imRQLmZaaxbuzTYGQbmw0pOikh2gZXrzblF1PScYJI9f8iSxX3p9kzUPoMVi2Ymw5IeMg3smU0HyLCZOWNWYbhTAP455wtnFbLzQDMdXTKdKJEC1ZX69md9qysNdbsQyUY+o4VIDrKqWpx5PD7aulz4fDqappKbYcV8snKRyaQytSSL+246H69uYFLDVxqZCBV0dEPH4ezCo3swq2ay0jJQFTXidpFYrvojoKgYGbnU97YxO7t8WMfr9iwUjwtcvWD1fxHItWXT2OWfUtZwopstlQ1cft40TOrgr/fC2YW8uaOWf+6o5fLzp4/sAYlRC1ddKdNmoaPbFawSZk8zs+Gm8wFQgJwM67jv25KN9LWnhPts1XUjpPrX5MIMNtx0fshnuCTXDy3aeJqIcSeGTwYrceTx+Dja2DmgkkhFcWbIgKUw1x7xHBOhgo5u6NR01PHjt35Fc08rhfY8vn3BVynLKqHW0TBg++TsSdKZJZir/hDmgnIa3J34DJ0C6/DWQdBt/vwWpbMN4+RgJc+WzbH2OgD+9nYViqKweG74xWL7KslPpyA7jc17GmSwkmB9qysF+q6n/r6PT14wgwf+tD3Yh91y9SLe39fAisWTQ/rH8da3JRvpa0+J9NmqaQrff+Rdmtp6WTa/mGsunSsxOkyR4qx/PEW7nxASDXHU1uUKX0lkGNNVJkIFHYezK9hZATT3tPLjt35Fe68j7HaHsyuRzZ3wDMPAVX8YS+EUjvecACDPkj6scwTLF/dNsk/Lod3pwNHTy6tbj7FkXjE2a3S/p8ypyKPyyAmcLu+w2iHiJ9B3rVxSERyogL8Pe+BP27l46dQB/eN469uSjfS1p0T6bG1q7QluW7mkQmJ0BCLFWf94inY/IWSwEkc+X/jqNz5f9JVEJkIFHY/uCXZWAc09rXgNX9jtHl2+kCaSt+PkyvX5pRzvOYGmqOSahjtYOVk5zNES3JZry8bA4OUP9tLd6+Gc00swonyrzK3IxevT2XmweeidxZgI9F2ZdnPYPkxTGfd9W7KJ1Nf6JmBfG+mzNc1y6geSSLErMTq4SHHWP56i3U8IGazEkaaFr36jadFfPp4IFXTMqplCe17ItkJ7HiZFC7vdrMrsxURy1R8CwJRTzPHeVorSchjuhAjDbMXQzKidp5Ls806WL/6/PQeYVJhOSX70A6CK0iysFo3Ne+qH2RIRL4G+q7PHE7YP8+mM+74t2UTqa7UJ2NdG+mx1uk99UY4UuxKjg4sUZ/3jKdr9hJB3XBzlZljDVxLJiL76zUSooJOVlsG3L/hqsNMKzFvNsWWF3Z6VFuV6HiIuXHUHQTNhyiqgtqeVEnseujHMRRkVBd2egdLZFtwUKF9c29HM8jMmRX1VBcCkqcwsy2HHgWaM4Rwo4ibQd23adpRbrl4U0ofdcvUiXttaPaB/HG99W7KRvvaUSJ+tRXn24LZN245KjI5ApDjrH0/R7ieEYqTgJ/vx48dZuXIlmzZtorx8eFWIxprb7aW9243PZ6BpCjnpFiwW06kqJB4dRfEnpqqqErYazsSqBubFrJrCVKgJ3Z4qUilWo1X35H+gu51kXLSGG7Y+zMfKzmJR1uRhnyd9y/+iety4r/oG4M+FuecfD+JpKueuS9diNmnDOt+7e+p54a0jPLxuJZMK5MNuuOIRq6f6P38lJVUFQz/V32XaLHT2usd135ZsxkNfG6tYDVetU1EUfzWwkxU6s9MtdHS7B63YKQaKNp5SKe5E4si1tjjSdYPalu4B1UYmF2VS09QZsv2Wqxfx17cOs+bj8wZUGulbYWe8UhWVHNvAilKRtovEMHQfrvrDpM9bTu3J5Pp8y8gGBrotE1P7kVN/66C7bGTnebGYNIb7K8qMMv+VmZ0HmmWwkgQ8Hh/HmroGrYYIjPu+LdlIX+vn9ephq3VOLckKVuicCNU44yXaeJpocSdGRoavcRSp2khbp3PA9gf+tJ2VSyqk0ohIau7mGgyPC0v+JGpPJkbmWoeXXB+g2zNQ3E5w++P9QFUXvl4bmq132AMVgIIcG1npFrYfkCT7ZBCLaohCxEtbpzN8fHY6g/tMhGqcQqSCqK+svP/++7S2tobMB7/00kvj0qjxIlK1Ea/PCLs9UHlEKo2IZOWqPQD4k+trW3ZjUjSyNBvGMFavDwiutdLVhpFXwgd7OtB86fToxwEDhpm2rygKM8qy2XO4BV035JfPBItFNUQh4iXS57BXPxWfE6EapxCpIKrByl133cWbb77J1KlTg9sURZHByhAC1Ub6dnZFuTZMmhJ2e6DyiFQaEcnKWfshqi0LNSOH2ppWSmy5DCsTvg/dlgmA0tWOM72QfYe7mHx6Dg16Fb2+Hmza8K/YzCjLYfuBZo41djK1VKYWJFKgGmL/fm441RCFiJdIn8OmPj9yRPoMl89oIcZWVO+4zZs38+qrr/Lkk08G//vd734X77alvEjVRnIz0wZsv+XqRWzadlQqjYik5qzZj7V0OoqhU9vTSrEtF8MY2a+MgbVWFMcJ9h3uwus1KC/IBaDd1TbYoRFNneQfoOw+1DLEniLeYlENUYh4yc1MCx+ffXKoJkI1TiFSQVRXVgoKCkhLm7hJkNFU4+q7j0lT0VRweXTysqz85JYVeH2hx1aUZHH/rSvweHUU/En0N/3rwpSvhnOqsocHs2qWyh7jiK+7A29bA+lzzqHX5+aEu4slo0iMNKx2DEWFrnZ21jrIyjAxKdcGDmh3naDUPvwqP7mZVrIzLOw+1MInL5g+4raJwQ3VJ3q9Ou1dLrIzLGy46Xx8uoGmKuRmWEOS60X8SF8cKlzMTinK8MfnyWpgOemWkEpf/T+rpWJd8pD4nlgGHay88sorAEydOpWvf/3rXHbZZZhMpw6ZCNPAoqkGEm6fW69ZxO/+to+2TmfY6iHjscKXbujUdNTx47d+RXNPa7Bm+uTsSdKJjAPO4/sBMOeVcqzXf+Ujb4SVwAD/Wiu2dIyONg5UdbP49EzSzf73RKu7dYiDI51SYWppFnurT2AYBooiXypibag+0evVqW5whK2yJCVfx4b0xaEixaymKXz/kXcHjdPx+Fmd6iS+J55BX9XAlK/6+no6Ojr4wx/+ENz2+9//fqzamFDRVAMJt88v/ridKy+aNaGqhzicXcHOA6C5p5Ufv/UrHM6uBLdMxELvsb0oJjOm3GLqApXAzCOrBBag2zJwtbbh8xlUlKVhUk3YNButzpENVgCmlmbT0eWmvqV7VG0T4Q3VJ0ZTZUnEl/TFoSLFbFNrj8RpCpL4nngGvbLy5JNPArBr1y7OOOOMkNveeeed+LUqiURTDSTSPpl2c9j9xyuP7gl2HgHNPa14dG+CWiRiyXm0EkvJDBRFpa63DZOikmUaWSWwAMOWgdpWj92mkZfrnx6UYc6kbYQ5KwDTTuat7DrUwqRCWW8l1obqE6OpsiTiS/riUJFiNs1iGrBN4jT5SXxPPINeWdm7dy+VlZXccccdwX9XVlayc+dOvve9741RExMrUA2kr/7VQCLt09njCbv/eGVWzRTa80K2FdrzMKuy9miq8zm7cTdWYy2ZDhjU9vqT60daCSzAm5aB3dfNrClWODllK8OcSburfcTnLMyxkZ5mYs9hSbKPh6H6xECVpf63m2Se/5iRvjhUpJh1ur0DtkmcJj+J74ln0G/Qf/jDH7j55pupqanh61//OjfffDM333wzt99+O5dccsmQJ//FL37BZZddxuWXX87jjz8+4PYHH3yQj370o6xatYpVq1bx1FNPjfyRxEk01UDC7XPrNYt49vWDE6p6SFZaBt++4KvBTiQwjzQrTX7dTnXOY3sBA0vhZADqettGVQksoMVrR1UMZhWfujqTYc7E4XZgGCO7YqMoChWlWeyrHvlUMhHZUH1iNFWWRHxJXxwqUswW5dklTlOQxPfEM+gw9D//8z8B+NnPfsZtt902rBNv3bqVd999lxdeeAGv18tll13GhRdeyPTppyr07Nmzh5/+9KcsWrRoBE0fG9FUA+m/j9Wi4nLrfHPNYjRNxWJWaWztwWpWQVEGVAYLiKbqWDJTFZXJ2ZP44cV34NG9mFWTVOgYJ3qrd/vzVfJKcfk8tLgcLC6YNerzVjnSmQKUp/fQQz4AGeYMDAwcng6yLXmDnyCCipIs9la10upwkpclXz5iabA+0evVaet0km4zs+Gm81EU/8U3k0mlrdOJYYDZnHp9W6qRvjhUpJj1eHwh1cCy7RYAmtt68PoMTJo/uT6awhCp/vmdSiS+J55BByvbtm0D4Pzzzw/+u68lS5ZEPHbp0qX87ne/w2Qy0djYiM/nw263h+yzZ88eHn74YWpra1myZAl33HEHVmvyXYGIphpIYJ9wlXDuvG4J7+9r5LTp+fzij9vDVtCJpupYKlAVlZxRlLMVyam3aifWSbNRFJV6ZzsGo6wEdtKHrTYuBNLcDnpObssw+xeLbPe0j3iwElgQcl9VK8vPnDTqdopQ4frESFXA9h5poaI0mwf+FL7vE/EhfXGo/jHr8fioae4KidfvXn8OHo/OvcOsZDdePr9TicT3xDLoYOUHP/gBAL29vdTV1TFz5kxMJhMHDhxgxowZPP/884Oe3Gw288ADD/DYY4/x8Y9/nOLi4uBt3d3dzJs3j9tvv52KigruvPNOHnrooQFXcBwOBw6HI2RbQ0PDsB7kWApXCee+J7bxw68u565fvT2gGsn9t64gNzMtYrWSwO0i+aVarEbL29mKp+U49nOXAAa1JxMbcyz2wQ8cQrfT4GCrHfLA1NMR3J55crDS6jpBRfrI1kopLUjHbFLZfahZBithxCNWI1UBG6rvE2Iw8epX27pcA+K1qbWHXz27a0AM33fT+RTmRu7v5PNbiPgadLDy17/+FYBvfOMb/PjHP2bx4sUAVFZW8utf/zqqO7jlllu4/vrrufHGG3n66ae5+uqrAUhPT+eRRx4J7velL32J9evXDxisPPHEEzz44IPRP6IEi1QJxzDCbw9U0Imm6phIbqkWq9HqPbIDAGvRFADqelvRFJUck31UlcCO1Ou4MePRLJh7Tw1WbCY7KiptoyhfbNJUJhdlUlkleSvhxCNWR9r3CTGYePWrPt/Az9w0i2lElezk81uI+IqqdEJVVVVwoAIwf/58jh49Ougxhw8fxu12M2/ePGw2G5deeikffvhh8Pa6ujreeecdrrrqKgAMwwhZcDLguuuuY/Xq1SHbGhoaWLNmTTRNH3OBSjh9O66iXBuKEn57oIJOoFpJpNtF8ku1WI1Wz6H30TLzULMKwNCp622jKC0HxYDR1AI7XKeTZuH/s/fmcVLUd/7/q66+r5mhh2EYbrxC8AQ8kCDqqismStCNJsEjG0E0YhIWgoibmOBXA+KuiatRk2zUnxtjNMZ4xLjiCaigqxwKisoxB3NPn9NHHZ/fHz1V09Vd1XcP3T31fDx4QH/6U5+qYd79rs+n6/N5fiBa7OAiw9+c0hQNO+fAQKy4gcakcU688X9tGIzysFm4otqqNcoRq4XmPgODTJQrrzJM+j03Ghc0YzWbIcy4fxsYlJecPkkWiwV/+ctfIIoiBEHAH//4R7hcmecKtrW1Yd26dYjH44jH49i8eTNOO+00VZsbN25Ea2srCCF44oknNA1jLpcLLS0tqj9NTU15/pgjh5YJZ801s/HGB6245cpTdA06uVjHDCqbaovVXCAij8Evd8I6cQaoIfOXrC2WCrR1yRzslDDBC/AmG9ioepqHg3PAV8ReK0Bi3QohwGeHi2unFilHrOpZwLZ/fAQrvqWf+wwMMlGuvFrnMKfFa2O9DWsLMNkZ928Dg/KS05OVO++8E6tWrcK6detAURRmzJiBTZs2ZTxm/vz52LVrFy677DIwDIMLLrgACxcuxPXXX48VK1Zg5syZ+PnPf47ly5eD53mceuqpuO6660ryQ5UaPcuHbL5JtYZMbHQMGUYIGIaCiaUx/9QWsAyNjTfPQ4yXlPqSRNDnj0AQCdx2Ezau+JquLSwThEgQw34QUQDFsGDsbhAkdnrlJR4szYKmaMTFODiaM8wZBjkROfwJSDwC0/hjAQC8JKI7GsDM+sLWksgEwgQDIYITpwK8YIct2AMKw09qHJwTbeHDqrJ8mTDWCYoCdn/Ri5OPbSzqeg2yw7I0Jje5cPdNZ0MYyn1mE40zZjYDILjrprMhSQQ0TYFjafjDMTitJgQj8ZozKGnlY6qAfCsRScnhHM3BYbYhFBtUXht5vHA4jkHLGIfKBuaymsAwlOr+7baZNO/zyeRiDa0GShW3xWLEvUEqOQ1Wpk+fjmeffRY+X2KjNo/Hk1Pj8r4sySSvU7nwwgtx4YUX5nqtRwU9y0eL14FDXcE0883ERgcOdycMI3VOC65eeILKAHbLlafgsRf3YiAYxR1Lz0QsLuZtHkmFEAnx7sPo+vPdEPw9YN1eNF717+hiJGx4+0H0DPbDa6vHjadfjf/Z9Rx8ET9Wz1uOCe5m4wNvkJHBT7eD4swweVsAAJ1RHwgIGszOoto93JN4StPolsAHbWCEOBghCoFNfIPp4JyICBHESQwcVdi3kxYTi3ENdnz8pbFuZaRgWRp1TgsOdgbw1v+1Yt4pLbj70R0qM+LbH7bhtBOa8MHeTnzt1AmqHFoLBiWtfDz2ijUwNU7Mq+MnEQmt/g5VDl85dxme/vhFvN+xS9lbwsjjhRGNCmjrDaXdw711Ftz6X1vQPRDBovlT02JU7x6dizW0kilV3BaLEfcGWmT8Td95550AgBtuuAE33HAD1qxZgzVr1iivRwN6lg8tk8hdf9gOXziulC8+9xhloCLXue/JD7H43GPQPRBBZ19YGagktzEQjOZ1jWLYryQYABD8PfAHupUPOwD0DPbjgfcew6XHX4CewX5sePtBBKKhkvwfGdQmhEgIf7odlkkzQFEMAKBjKJ7quOJMYIe7JHAMUO8k4M12AAAXDSrvy0Ywf7y4KVwTm1z4vNUHQTQWuo4UshXs/DmTlYEKMGxGPH/OZPzqTx/i/DmT03Lo+t+/B384djQvv2i08nHXn++GGPZnOVJNIBpKy+Gbtj6Ec6acqbw28njhBCJxzXt4LDa8WF4rRgu5R1cDpYrbYjHi3kCLjE9WzjwzERyV/vSjnOhZPrRMIqnlThunWcdpSyz2LdQ8kgoRBSXByEgmi/Jhl+kZ7IdjSDfbM9gPXhLyOo/B6CLWvh9iqB+WCRdDnozVHukHBQoe1g4UsWblcLeE5gYKFEUgmBMxaYoGEHF4AQzvtTIQHcAYc+Hz0yePc+LdPUfwZbsfx06sK7gdg9yRrWAMDc38JpfrvV/tBiWtfCz4e0DE/PItL/EZc7j82sjjhaF7D5eG408vRvO9R1cDpYrbYjHi3kCLjE9Wzj33XADAW2+9BavViosuugiLFi1S/owGZMtHMo11VsUkkqk8OMhr1gkO8gCGzSOp72czj6RCMSxYt1dVRsej8NrUG+p5bfUIxQeVf3N0TrMADUYpoU+2gmI4mJqmKGUdkQGMsbhQzCydGE/QOUAwriFxw+dNQ09WkvZacSTttVIM8uaQe77oLaodg9yRrWCiBM38JpfrvV/tBiWtfMy6vaCY/PItR3MZc7j82sjjhaF7D6eH408vRvO9R1cDpYrbYjHi3kCLnO4KCxYswMsvv4zzzz8fN998M55//nmEQqPjEZye5UPLJHLrtXPgsZuU8mde259mALvlylPwzGv70VhnRVODvSDzSCqM3Y2xV6xREg3r9sLtasTqecuVD728ZuW5fa8ocz5dluJ3IDeoTYgkIrx3GyyTvwqaGdb+dkQG0GStg1TE/irtvRIIARo9icGKYLKCULRqrxUTbYKJNhWtL3bZzah3WbD7i+IGPQa5I1vBXt1+EGuumZ1mRnx1+0Gs+NYpeHX7wbQcWgsGJa18PPaKNWDs7rzacVkcaTl85dxleOPAO8prI48Xjstq0ryHm83DgxitGC3kHl0NlCpui8WIewMtKEJIzs8zeZ7Hyy+/jHvvvRd9fX3YtWtXOa9Nl7a2Npx33nnYvHkzWlpayn6+rDYwiYClhy0hPC9iIBSDKEpgGRoMQyHGS+AYCixLI84PtyNJRLONfMlsAxPA0jQIAeIiD5Zm4LE4wTL6e08IkgBfJACBiGApBh6rC6zxTUbejHSslorIwd048sTPUH/uNTA3J8xfgiRi6Y6HMb/pRMzxTC647S17BPzvBwKuu0CCmUtMuZj2f39DrKEFh0++TKn34qHnUGepw7enX1PUz/L0a/uxv3UAT/z8n0FRtfeNaKkoZazKOVC2f8mwDAVBTNxyKAAehxmhKF/VBiUtUvMxbXNCGgzmbVkatiIJ4GhWsSJJRIRICCQigknJz6kmpVo0J5UqVqNRAYFIXGUDM5kY1f3eYeHgC8VU92iapjT7BNWOJAkQgz5AEgCaBeP0gC7hfT/X2NSLe/m1y+KARCSjjzKKyOk3u337dmzduhXbtm1Dd3c3zjjjDJx99tnlvraKQc/ywbI0vHXqhcaSRNDWE1LZw5INYKm2G5qm0tooBIqiwTrUc/IpAB6rC6IkoNXXjo1bH1bsGqvmLsUEz3gwGh9uQRJw2NeBTVsfUtk4JnqajWQwSgjteQuUyQrTuMlKWXcsAJFIaDAX941We68Ejx2wcETREvNmG9hI6l4rTviKfLICJKaC/d+n3WjrDmHC2OIsZgbZ0cqB6753OiY0OtHaHUwrr3b7lxbJ+bgYyxJN0fBY1XuaOcw23fxMU3SaSckwJ2kjSQRH+sOa8Zh6v0++R+sZQqs9jgmRwPe0lc0GpmX50otNrbhPfm30UUYfOUXg1Vdfjb/85S9YtGgRNm/ejF/+8pf4+te/Xu5rq0q07GHJBrCjYbsJRALKQAVILE7buPVhBFI6hzK+SEBJAnL9TVsfgk+nvkFtIfExhPa9C9u0U1Q3qY5Iwszl4exFtd/RK6GpngJJ2kGFN9t1Bit+AMUtuDbWrYwsugbFYFSzYvZbyAAAIABJREFUvNrtX9kotWUpU37WMikZ5iRt9OI0WzwWelylU24bWClj0+ijjD5yGqy89dZb+OEPf4gdO3bgwgsvxPLly/HEE0+U+9qqEj17mGwAOxq2G14SNe0ags66A4Fo1xeL3LHcoDoY3P8+SGwQlsknqso7IsVri8NRAl8Y8LrVs095kx1sNAw6KSadnBMiERESiutoNbgtcFg57PrcGKyMBHo5UJBITdq/slFqy1Km/KxnUjLMSenoxWm2eCz0uEqn3DawUsam0UcZfeQ0WGlsbMTixYtx++2346abbsKhQ4fwn//5n+W+tqpEzx4mG8COhu2GoxlNuwZLM5r1WUq7PkNp1zeoLYK73gDjbAA3pllV3jHYj3qTE2wRUwI6ehM39DFu9Y1dMNtAgYCNDQ9MZCOYL1bcXisURWFyswufHOhHHkv0DApELweyNFWT9q9slNqylCk/65mUDHNSOnpxmi0eCz2u0im3DayUsWn0UUYfOX267rvvPlx++eX4xje+gQ8//BA/+clPsG3btnJf21FBXvDePTCIgWAUkkRUZf2BKPr9ERzpDaNnYBBCyrcpWvawH3/7NMUAVkrbDSEShNAAeH8PhNAACNH+ZsdldWHV3KXKh3tW84m4/ZwfgiciBsL98EcD6An3wRcJQCISPFYXVs5dprJx/NvZy8AxLPzR4FBdP/iwP+3c8qK35PYMqgch5EPky49gO2Y2qJSOfUdkAE22Ik1gfYk2G5wpT1aGNoY0RYcf4yt7rcSLX7cyZZwb/YFo2jeiBqVBzpF9/ggkiWDtdemWL46j8YtlZ+Gn3z8dx02sqxn7lxbJuRkUrViWzM3HYOy31qLp2z9V6gHpeVMWnGjlUa38vHLuMrgtThAQ3H7OLfiPf/4p7vqnNVgz7ybcNn+FYU7SwG0347br1Pfq267LHo96htBKjmOtvkJqGW1z5mQDEyUBA+F+dAd7MBDuh6jzZCQ1ph1mW5rlS8/qxYs8esL96Az2oCfcD17kVe/rfQZS17kY1A45DWnD4TDWrFmD0047Lc2m88ILL+CSSy4py8WNNFoL5+5YeiZ4QdJdMH/rtXMwucmlMnhxLI3li0+ExcQiGhfgcnC49drZoGmqZNaQfBZtMjSLCZ7xWH/uShAA/ngYv3jjP5WFaTeefjX+Z9dz8EX8yoK3iZ5m/Py8lYiLAo4Eu/HbD56EL+JX1V05awm4l/8AEvYlkpy3BW2BTmNxZxUT+vhtgEiwTv6KqlwiEjoiAzjL1axzZG509kuodwIck7xiJWmwEvEDdRMAAHbODgoU+qPFT9+a3Dy8bmVs/cSi2zMYRs6bT7y8F1+fNw3Pv/0Frjj/WFUOZBgK9z/1Ed77uAuNdVasvW4OxrgtcNpqw6KUjGZu/tZtaFz8bwAodD+zUZWzU/PmrOYTcfmMharFw8l5lKZoOEw2rJ1/Mygk1n5ZGBPag13YmJR7b5izBK9+8Tb+ZaaxvlQLnhfBspQqTlmWAs+LMJv1u0Y0TWFSkwv33PK1qrCBacbjVbcDAp/Wf+C8LWi+9i5da12ush69xfTjXU248/yfqKxeqX0DXuTR6j+Stnh+gnscuCGDKUuzmOhpxh3nroSoYcQzqD1y6kGuXbsWs2bN0tR+/u53vyv5RR0ttBbOdfaFMy6Yv+sP2zEQjKra+OnD7+CO376HWx/Yijt++x5+9vC7ilGsVAkt38VwDM2izl4PCsA9W36jWpj2wHuP4dLjL1AteGNpFgzFYv0b9+Hut/8L+/sOpNXd9P7j4OYtVs4diASMxZ1VTmj3mzCNnQLGrjbL9caC4IlYtAmsa4DA6wZSJ2PxQ7sTc4M+pYyhGNhYO/pLYAQbW2+D1cxi1+c92Ssb5IWcN8+bPQm/+tOHOG/2JGx47H1VDrzjkXdx3uxJABI59P/993ZIBBXbwSsGzdz8pztBs2ZloKKUa+TNc6acmbZ4ODmPBqIh3PH6f+BHf78DP/z7z/Cjv9+BQ/4OZaAiH/Ob7Y/jnClnYqORgzXxD8ZxxyPvpsWpfzCe9Vj5ft5YZyvpfb0caMWjMNCp2X+QBoNgHXXg3F6wjrq0Lz5zlfXoLaYPxQbhsbrgtdfDY3Vpfonpiwa1F89Hg6p6LM1ijL0eYx1ejLHXGwOVGqfor7traQ641sI5i4nNumBekEjGNsqx+K7QxXB6i+0dQ53F5AVvegvikusSq1M5t17bxuLO6iDefRjxrgOwHTMLSJm+J5vA6kyFm8CicYL+IMEYjT3GCMNC4CyqwQqQWGQ/EC1uzQoA0BSFyeNc2GNsDlly5JzntHGqv5NJzpny62pfkKyHXm4GTWuWp+ZNh8mWMY9q5WULa9LN1UYO1kYUte/Volg7fRpAOx5pzlLS/kOqrKeYxfSizjnEIqYfG1Q/RQ9WammTNa2Fc9G4kHXBPJv0rcpILb4rdDGc3mL7UHxQ+be84E1vQVxyXSoSVM6t17axuLM6CO55E6BomMcfm/Zeu2ICK3yw0u1LdALqndqdAd5sB5eqLzY50R/rRymyzJRmF7oHIujzG+tWSomc84KDvOrvZJJzpvy62hck66GXmyFJmuWpeTMUH8yYR7XyclSI6+ZqIwdrwzDa92qGqZ0+DaAdjxIfLWn/IVXWU8xiekbnHIyOEMhgdFCbd4sC0Vo419RgTyu75cpTlAXzt147R7WB1EgtvmPs7pwWw6WSutheXrPy3L5X0ha8uSyOtAVxyXVXzloC/u1nlHO7rK6cF9AZVBaESAh/vAWWyV8FzaXHasfgADwmO0xF2FY6+xPfpNc59AcrqXutODkXIkIEcVL8HgZTmhOfjd2GwrikyDlv845DWPGtU5S/k3PgrdfOweYdh5TXlb4guRg0c/Pi1fDvfA3ehTem5ezUvPnGgXfSFg9ny8tNDi9WpZTdMGcJ3jjwjpGDdXDbTLj12jlpceq2mY7ylZUWrXhk65pK1n9YNXcpXCkL27ViNNc49Fic2ovnLcaGvqMZihQ5j2vRokV49tlnS3U9OdHW1obzzjsPmzdvRktLS0nbliQCfzimWjgnm24EiYBlKDA0hRgvwczSAEVBECWYOBqCIIEXCMzccHk5F98RIkEM+3UXw+khiDx80SAESQRLMzAxHGIir1rwJog8gpEAJCqxvoAgoQskAOIiD4Zm4GJMoGMR1bklIiEQDWVcQDeaKGeslpJo6z50PHYb6s9dAnPz9LT3f7b7zzCxJixqno30FSe58bdtPD45JOKafxI122g89CHqj3yKvRetAhl6YnsoeABvHXkdN8y4CV5LU0HnlZEkgvX//R7mntSMH155alFt1SLFxKqcNyWJQJQIKAogJDFNmKIo5TUAUADqnBaVlKRWSM7JAAXQdOLntzoghfyAJAA0A9A0hhbtJGYnWB2JnExEsBQDt8WJcDwCiUiQiAQCAgoUWJqBIInKa3nBvdwJTORePu29WsvBhcSq1r09HhcRiMQhihIYhobLaoLFUntPoSRJgBj0DcUfC8bpASEEUsgHSCJAM6AdHjAMl7Wt1P6Dx+IEq3GcVl8AGI5RjuZ0YzMuxOGPhSBKYqKvYbYjwseyHmdQuxT9qaylNSvA8MI5GUkiaO0Oqmxg6753OiY0OpXyOqcFVy88Afc9+aFSR8sSVmooigbrqMteMQmJSGgPdmU0dgkijzZ/h8r4sfZrP0BI4nHPlmRDx1JMdDerEhVN0YY+sAoJfbIVFMuBa5qS9p5ECDoiA5jjPQ6FDlQAoHNAgtdD6bbBm+2giAQuHkZ8aCG/oi+O9Rc9WKHpxLqVj411KyUnNW8CCdvSoa4g7vrDdiUvrvjWKXj+7S/wnYtOwKQmV0UvTM4XPUMj520B39OmLl+8Gv1vP4XI/h2wHjsHsfOuVOVb2ZzUnmIJWzzjYtybUi85dxu5Vxst0+edN85FaJBXxeet187BpLFOcFztTDkiREqPv6tuB/gYup7eoIpJauxE0BmmauXSf5BJ7QvoGcJSj5WIhCOhblW9lXOX4emPX8T7HbsMy+gopejf9Ne/XttaRC1D2Prfv4eBYFQpX3zuMcpARa6TagmrFPQsHcm2mKCG8aMr3KcMVOSyTVsfTjN0GFQfRBIR3rsNlskzNW9U/fEgYhKPMUU8hpcIQY+PYIxbf7Aj64u56LDRzsklbnZ9sdJM3ZrS7EZn/6CxbmUEGAjFlI4gkMiLsi1s/e/fgz9c/NS+SkLX0Bj0pZc/swGukxYAAKhTzk3LtxvefhA+DUvYvRr1DNNXdrTu4zwvpcXnXX/YjoFQ7celMNCpDFTksq5nNiSevmQgl/5Dscdq1du09SGcM+XMvM9pUDtkfLKSbSDy/PPP41//9V9LekGVhp7dSxCJUq5nv0m2hFUKuVg6eJJu49CzzRiGjuon1r4fYtgH68SvQuupR/tg8Yvr/SGCuADUZ5iyHJf3Whn0I+wen/g3Y4KZsaA/WpqnIVPHD69bOee0CSVp00AbPduSnC9rzQamawGTtMvpoWkxxOrUzq0kP0uYgT5a93GagmEDS0KO1UwUY/nK9dhsFtJ8zmlQO2QcrNx+++0jdR0Vi2y6SU5qjXVWsAyllMv2m7Q6FTjFQbZ0JCeDVEsHRzFpdWTbTOpxhqGj+gnvewdgWHBjJ2m+3z6kLa7nCl+kK5vA3Hb9Dio/NPXLNKhWFTs5Z0n2WgGAcQ12WM0MPvysxxislBnZtpSaF+V8WWs2MNm6lNwJZN1egNYul4a+GaYiQe3cmpKHZbNXptxtoI3WfVwi0IzPWrWBJcefbAPTitVM5NJ/KPZYvXqyhTSfcxrUDhnvFnPmzFH+HHvssZgwYQJaWlowbtw48Dyf6dCaQc/uVee0KOXPvLYft1yZbr9JncNdCeRi6XBqGD/G2hvwb2enGjqWGoaOKocQgvCn22GZ+BXQOosrOyL9cHE2mIq4OXQNDVb0TGBApr1WXOiPlmawkli34jb2WxkB6hzmNNuSbAurRRuYrqHR6dG0gwV2vg4AIB++lpZvV89bDo+GJezHGvUM01d2tO7jHEdr2sDqHLUfl2xdE8ZevjotJhmnJ2NbxVi+cj1Wq97KucvwxoF38j6nQe2Qkw3svvvuw8MPPwwAYBgGPM9j+vTpeP7557Me949//AMUReHyyy/Hddddp3p/7969uO222xAOhzFr1izccccdYNnsHaJSG5aSLSFmjoYoQWXyApBmEaFpCjwvYiAUgyhKYBlasYSxDAWOoxHns9vA9IxeKnsHawJFUWl1RElAIBIAL4ngaAY0wyIuJkwwFBIjUZfVBSalk5ls6TAxLHhRgCBbN2gOdDwKYrYiIMYgSBIYmgZHs6ApGnGRVwwdsgVkuD0eJsYEiUgQJCGrtaPQ46qJSreBxbsPo+2RH8HztSthnXiCZp07dv8ZLMPhm+PnoNAF9k+/FcehLgnfWZAwGekxefc/QMw2HDj9O0rZzr4PsavvQ9x26k9BU8V/m7ZlZzte2nYQv193Abwp+yyMZkphWHJaTQhG4ooVTJIIaLr2bGBK3iYkYVOSRIBmQdldIOEA0j4nhAAUDcKyCEOCMGTzogDQhMBKswgRESIRQQ/pwSlAsYLxEg+AAkPREIkEgICjOdhNVviTLGImxoSYGANHc3CYbQjFBrMalJLzcLXk3kJiNfl+zTA06hxmiCJJs4GZTIzm/b4S0eo/AEgrkyQxzfxFiJSI1aEyyu4CzXCqWHCabSCDQVVbcZFHIBZWmbrMbPoATyuuBFFQWb7cZgdYhk2rJ0oifNGgqt4gHzUso6OYnO78zz33HF5//XXcfffdWL16Nd599128+eabGY/Zvn073n33Xfztb3+DIAi4+OKLMX/+fEydOlWps2rVKqxfvx4nn3wy1q5di6eeegrf/va3i/uJ8iTZEqJl9Vr3vdMxqcmV9pREEKQ0082aa2bjg71d+MrUBs02UhOenj2GHTMeQncrup7ZAMbuQf2C76LnhftVdZgx49OMXTeefjX+Z9dz8EX8uGHOEvz9s9fxLzMuxgTPeNWARbZ08CKPVv8RbNqqNnzVd3fB523Exm2PKOVye9+a+XWVhSPZ8OGxuvHtEy/FA+89ltUUUuhxBqUlvP99AIB5bLoFDEg8eemIDGCW91gUYwLr9iV2rs80UAGAuNkBm8aTFQDw8QOoN3m1DssLZd3KFz04d9bEotsbraQalk6fMRZXXnA8nnxlH74+bxp+9Se1HfHJV/bhvY+7MubEakDO2/1vPgnP7IvR8+IDSUalVQh8vAWOaafAt+Ml1fta1q8b5izBRx0fY+7EWdi07eG0fHv5jIVocTWhLeBLydPL0OJqSsvfP567FK98/haCsRAun7FQ9Z6eeSkXQ1O1o3W/Xr/8LIQjgqrsp9efAVFIKM6z3b+PNnr9B7Acuv74i8zmr8tXAwyHrj/dqZQ1fus2dLIUNm4ZjoVVc5fCvPlJRD7bnqhz7V3oiAc1Y9HEDu9PoxVXq85eDoZmcPdb96uOtZts+Pnr/6GU/XTBjxCKD6adY6KnGawx9WvUklM2qq+vR2NjI6ZOnYp9+/bhsssuw2effZbxmDlz5uCxxx4Dy7Lo6+uDKIqw2YYXSLW3tyMajeLkk08GAHzzm9/Eyy+/nNZOIBBAW1ub6k9nZ2c+P2NGki0hWlYvPWvNQDCaZhK5+9EdOOe0CTm3oWePkUI+dD2TSCyesxYpA5XkOlrGrgfeewyXHn8Begb78Zvtj+OcKWdi49aHEUjZaE/GFx1OOnIbm7Y+DH7CNGWgIpfL7aVaOJLNHZcef4Ey4JCP07N2FHpcJVPuWC0Hg5+/D9PYKaAtNs33++JBRCUeY8yFK1FFiaDXT9CQQxO8xQ42GgRNhte2OJP0xaWgqcEOm5nFh5/1ZK9co5QiVlMNS+fNnoS7/rAd582epAxUgGHL0nmzJymvq9kGJudt10kLlIEIIBuVNsJ90rnoefGBtPe1rF+/2f44Fkw9SxmoJJefM+VMbNr6EPyxkEae1i6/d+vD+Ppx5yvHFmJeqrTcW4pY1bpfCwJJK+vuH1QGKnJZpcaqXv9BGOjMbv56egMEf7eqzB/qUwYqQCIWNm59GNQp5yp1gpSkG4vJaMXVxi0Poifcl3asIAmqMl4SNM/h0+nHGIwOchqmsiyLw4cPY+rUqXj//fdx9tlnIxbL/uHlOA6/+tWv8Pvf/x4XXXQRxo4dq7zX3d0Nr3f4W1Kv14uurq60Nh599FHcf//9uVxmQSRbQvSsXlrWmmQbWHJdQrTLtdrQt8eISjltcWjW0TJ2JRsz5H/3DPZD0DF2iZJ2G6Ik6badZg5LMnfkY6sp9LhKptyxWmrESBCx9v1wnXYRQLQXvssmsHpT4fOD+4MEopR5vYoMb3aAIhLYaBBxa+IJiMs0pC+O9mKa87iCr0OGpihMaXZj9+e9yqaFo41SxGqqYUnOn3p51GnjVK+r1QYm52293Aya1nxfz/pFU3TGfKufp7XLaYrOOacWY3caKUoRq1r3ay0bmMXE5nz/Ptro9R9oTj0LRM/8lVpPMlk0Y4FYh9el6vUNUq2genFlSXr6IpclJkMOQ4HSteMZjF5yerKybNky3H777TjnnHPwyiuv4JxzzsEZZ5yR0wlWrFiBd955B0eOHMFTTz2llEuSpOok6HUarrnmGmzevFn154knnsjp3LkgW0IAKJaaZPSsNbINLLUuRWmXa7UhWzpU7bq9AM0o5VI0pFlHNnYlk2zMkP/ttdWD1TF2MbR2GwxN67adZg4bMncAw7aa1OO0rB2FHlfJlDtWS03kwC6ASDBpbAQp0x4ZGqwUoS3ukU1gtuyDFXkzSHNkeK8VE22GiTahL1qavVYAYGqLG33+KLr6B7NXrkFKEavJuRMYzp96eTQ4yKteV6sNTM7berkZkqT5vmz9SsZrq4dEpIz5Vj9Pa5dLRMo5pybn4Uz1jialiFWt+7VsA0smGhdyvn8fbfT6DxKv3t9NNn9lq0fHo5qxQEWG91LT6xukWkH14ioqxNPKUqcGExDtc1CGeXQ0k9MncMGCBXj00Udhs9nw3HPP4be//S1+8YtfZDzmiy++wN69ewEAVqsVF1xwAT799FPl/aamJvT0DI/2e3t70djYmNaOy+VCS0uL6k9TU3E7WSeTbAnRsnrpWWvqnJY0k8iaa2bjjQ9ac25Dzx5DOzwYuzhh6vBtexbeS36QVkfL2HXj6VfjuX2vKHOe3zjwDlbNXQqXzq7GHosTK+emG7641i+w6qzrVeVye6kWjmRzx3P7XsGNp1+dkymk0OMqmXLHaqmJfPkRaLMNrCf9cyfTPjhQtAmsx5+4GXlyebJiSdcXUxQFl8mNvhLttQIA04bWrXw0SqeClSJWUw1Lm3ccwq3XzsHmHYew4lvpdsTNOw4pr6vZBibn7cDO1+FdeGOKUWkV/Dtfg3fhjWnva1m/bpizBK9/uQ0rz0ovf+PAO1g5dxncZodGntYu//HcpXj+01eVYwsxL1Va7i1FrGrdr1mWSitrrLdh3XXp9s9KjFW9/gNb15Td/HX5arDuRlWZ29GAVWerY2HV3KUgH76m1HESWjcWk9GKq1VnL4fX3pB2LEuzqjKOZjXP4dHpxxiMDnKygYXDYfzXf/0XtmzZAoZhcO6552LZsmUwmUy6x7z55pv41a9+hT/+8Y8AgBtuuAGLFy/GwoULlTqXXHIJ7rjjDpx22mm4/fbbMWnSJHz/+9/PetHltIGZOBqCIIEXCViaymitEQQJA8EoBClR12yiEY1rG8XytYGJIj9s7zBZAEFImMFoFozTA5pmFRuYIIlgaSZh65IEUBQFGhQoAjgoBhDiAGtCmIZi07BLAIQ4JJMFAWnY8OWkGDCxCIjJkrDWSCIomgFNUaApRtPCobaLcUNWr6RrEuOalhm942rJ9lGpNjBCCA7/ehlMYyfDc8Y3dOv9bPefYWJNWNQ8G+U2gSUuTMLx7/0J/VPnoPO4BUrxliNvoi/Wg1tmriroGtJOQwjufmwHTpw+BmuumVOSNqudctjARImAoSm4bSYMxoWKNizp5eKMdSkKEJI0/kQCKBrgTAAfTysnLKeygdEUBYoQ2EBjcKgcSRNjPFYXWJqFIAnwRQKKLYyjGQCUYgMTiQhGsYHFwdFskg1MSHmttn4l5+Fqyb2FxGrq/brOaYEkSfCF4xBFAoah4LGbwLLVbQMTxThIOJhk+XKCohgNGxgBCfuT6rlBK2auRCxo2cBiYhzB2OBwn8Fsg4VN36ZBK65SLV8eixMMzaTVk4ikxDtDMcrnwGD0ktNvf926daBpGrfeeisIIXjqqaewfv16/PznP9c9Zv78+di1axcuu+wyMAyDCy64AAsXLsT111+PFStWYObMmbjnnnuwbt06hEIhzJgxA1dffXXJfrB8oJXEpbbbZDOBsCwNb516YbIrz9kyFEWDddSpygiRIPS2o+vPd+vawEyNE8HQLOrs9ZpWkMZFK0FEAUf+dh8ouwf8Rddi0/uPD9s1Zi0B9/IfQMI+jL1iDThvC/ietjSziKlxou4NW/n/G7KLJZOLZUbrOIORge/vgBjsg/nk83XrSISgPdKP0xuPRzEmsF4/QUMOJjAAAEWDNzvSNoZ0mVw4EPwCIhHAlEBfTFEUpo5P7LcyWtetlAI5dybjtpvzyqOVgJ5ZSS//URSd0LhmsIL1v/1nRPbvSOTjb67CwJbh11ptZ/runqVZ1Ns8eZu75PyaLR+Phjycer+WJILW7rBmnFbiHmlapPYfBCEGsacdXc9sVMUinHXoevx2tSFM4NPinWmcmB4Lye1LAjoC3TmZurTiimZoeO3qKV4A0utRNMZo1DMYveT09cknn3yCTZs24cwzz8RZZ52Fe++9Fzt27Mh63M0334yXXnoJzz//PG6++WYAwCOPPIKZM2cCAI4//ng8/fTTePnll7Fp06aMT2pGglS7zdEygSRbPvRsYGLYr1lfriNGAuj5230Q/D3g5i1WBirAkF3j/cfBzVs83F7Qp2kWST5PPlSDZWY0Ez24GwBg8up/K9kXCyIuCfAWYQKTSMIEVp/HrJK42QEunKovTkzbGoiXxggGANPGe+APx9HaFcxe2SBnKiWP5oOeWSlT/stmBXOdtEB53f0X9etCcmsxOdXIx+lUY5xmg4QDykAFGI5FWhBUZcJAZ0H3e18kYJi6DI4KOQ1WGhsb0d8/3EkYHBxEXV1dhiOqk1S7DXB0TCDJlg894wwRBc36MskGED0LjWz5SBjItM0iyefJh2qwzIxmIgd3g3E2gLa5deu0RRJrROpMhS+u94cIeBGoy2Owwlsc4Ab9KkeMbATrL+Eie3ndymhWGJeDSsmj+aBnVsqU/7JZweikdR9ar/PNrcXkVCMfp1ONcZqVJJOojODvSbM96hnCssWkoGMhNUxdBuUmp8FKU1MTFi9ejF/+8pe45557cMUVV4BhGKxfvx7r168v9zWOGKl2G+DomECSLR96xhmKYTXryyQbQPQsNLLlI2Eg0zaLJJ8nH6rBMjNaIURC5NDHsLQcCyrD1CxFW8wVvthWXlzvtuXeAYhbHGCEGBg+SYs7tDFkb6x0A4s6lwX1LvOoXWRfLiolj+aDnlkpU/7LZgWTkp5aaL3ON7cWk1ONfJxONcZpVpJMojKs25tYR5WEniEsW0yyOhZSw9RlUG5y+lROmjQJixcvht1uh8ViwcKFC3H66afD4/HA4/GU+xpHjFS7zdEygSRbPvRsYIzdrVlfrsNYXfB+4xawbi/4t5/ByllL1HaNWUvAv/3McHtOj6ZZJPk8+VANlpnRCt/TCikShKlRX1kMAG2RftSZHOCKWGyraIvzmQZmSTzxM0eGp4KZGBOsjBW9kdIOLKaO9+DjL/sgSoWvyTFQUyl5NB/0zEqZ8l82K1hg5+vK68Zvql8XkluLyalGPk4BIW/HAAAgAElEQVSnGuM0G5TdhbGLV6XFosSyqjK2rqmg+73H6jJMXQZHhZxsYAAQjUZx6NAhHHPMMYjFYrBardkPKhPlNCyl2m2OlglENn3xkgiOZmCXAEqIg7AmhFl6yJo1bHQZtoLwwNAEGtk8w0sizAwHYejfHM2AAo24yIOlGbhoDlQ8Coo1AURSmT8A5GzISUXb9iVkMYPxmu9XK5VoA/PveAl9r/wOjd9cBcam31m5fdeTcJjs+Ma4Uws+11+38visTcTV54vIMdXANOjHtJ0vouOUr2Ng3Ayl/JXWl8AxLK47blnB15PKzv09+NOrn2HTLV/DsRNrb2prPpQyVislj+ZDNhuY6v2kXAlQAMsmrGCSNGRWcoGEA0OmJRpgOUDgQWgGYYqAJxLoJMuibPUSiAg2g/2IF/k0mxLHcGn1gPScmmoHq+YcXKpYrcY4TSZXGxhNsxCDPpVRVCIEwUgAPBHBUQycVhdYnVhKRisGh41ew7EjG72SY5qm6LR6ALLGXTXFpkF5yOkZ8M6dO3HTTTeBZVk8+eSTuPTSS/Hggw/i1FML78RUKlp2m5FGIhLaAp0qc8vKWUtg/WAzIqedp7J6JRtdaJsTfNdhdD2zQWUA81jd+PaJl+KB9x5Tjrvx9KvxP7uegy/ix8q5S2Hd9gL4g7tVlpp8DTmpyDaQbCaaXMxhBqUjevjjofUqTuhZvkQi4UjEh7nu8UWdq9cvod6JnAcqQGLNCgFgDqn3VXGZ3GgNHQIIAUpk71LWrXzaPeoHK6WkEvJovmiZGWWSc2EmQ6NW3rQeMxt1Z1+BwCdbMHjKfGzc9oiS526YswQfdXyMuZNmZzUsCZKAVv+RnExM+ebU0ZqDqzFOZTTvz1fdDsRj6HpmQ5INbDVEkxldf/zFsC30qn9HJyVgY1IsrZq7FBM848FkmBooEQkdwS5VnNw2fwXiEo+NSWWr5i0HQzG4+637lbI1X/sBRCKq6mkdmxp3ozU2DdTk9Jv+5S9/iT/84Q/weDxoamrChg0bcOedd5b72kYtWuaWTe8/DmbuojSrV7LRRQz6lCSVbAC79PgLlIGKfNwD7z2GS4+/YMjm8TCYuYvSjCCFGHJy/XmSr9sw1YwchBBEW/fC3HxMxvUqXVE/eCIWZQIjhKDHT1CfZxOEZiCY7TCF1Qs53SYPomIUESmic2T+OGwmjGuwG4vsDTKSj6ExNW+6TlqA7r9sBHPa+cpABUjkud9sfxwLpp6Vk2EpHxNTvjnVyMHVh9b9WRjoVPoAclnXMxsgDHSqyvyBbmWgAiR+3xu3PoxAFquXVpx0hnqUwYbS1tsPoifcpyrrCfel1dM6NjXujNg0AHIcrESjUUyfPl15PX/+fIiiYX8oF3rmFomhMxtdkoxeyQYwh8mmeZzDZFO1DaiNIIUYcvL5eeTrNkw1IwfffwRi2A9T46SM9doGh0xgRSyuD0WBaDw/E5hMzOIEF07dayXxFKQ/VjojGABMa3Hj00P9iMaNeDPQJh9DY2relOuLNKOZ52hKO6+nGpbyMTHlm1ONHFx9ZLOAygj+HtCc+umRZLJo/r4FKXO/TitOLKxJsy0La8paT+/Y5LgzYtMAyHGwwrIs/H6/snHal19+WdaLGu3omVtoUcpsdEkyeiUbwELxQc3jQvFBVduA2ghSiCEnn59Hvm7DVDNyRFv3AgC4huaM9doG+0CBQn0R2uJeXyKmPLb8F6/HhwYrVNL0MffQYKUn2l3wNWkxbbwHgkiw90Dp9nAxqC3yMTSm5k25PiOJmnlOItp5PdWwlI+JKd+cauTg6iObBVSGdXsh8VFVGR2Pav6+WTqz1UsrTqJCXLOtqBDPWk/v2OS4M2LTAMhxsHLDDTfgu9/9Ljo7O/HjH/8YV111FZYvX17uaxu1aJlbVs5aAnHrs2lWr2SjC+P0YOzi1WkGsOf2vYIbT79addyNp1+N5/a9MjTveSnErc+mGUEKMeTk+vMkX7dhqhk5oq17QVsdYJyZdwduG+xHo9UNughJlqwtdtkLGKxYnWCEONgkfbGddYChGPRESjtYmdLsAkNT+GBfV0nbNagd8jE0pubNwM7X0fjNVRA/eBWrzrpeledumLMEr3+5LSfDUj4mpnxzqpGDqw+t+zNb16T0AeSysYtXg61rUpW5XY1YlRJLq+YuhSuL1UsrTpocXqxKKVs1bzm89gZVmdfekFZP69jUuDNi0wDIwwZ26NAhbN26FZIkwefz4ZprroHT6Sz39WlSiYalXMhmm0lGtoEJkgiWZmAnAMXHIZqtCBJxyMRBw212wMSatW1gNIMwy0CQRJgYFoIkKO3JNjBmyAZGx6PZDTh52sCSSTaDZTbRaL9frVRarB5+4CZwdU3wnLUoY73VH/1/GGcbg4vGziz4XC+9x+PDz0X864UiSIb1MVrYBzowcd8bOHTWdxHyDP+/vXDor6i31OHb068t+Lq0+O1zuyFKBPevOrek7VYTlRarlYIkCUkmJSZhWKKZRK4Vh2xfNAOKopT8mJw3h21hAgjLIkxE8CBKHqUAOMw2BGODimHJZbYhwsfT7EeCJMAXCUAkIpgM1jAg/5xaTTm41mM11/uuOjaHLF+SBBL2J9nA3KBpOq0eAVR9DNeQrSvbebViUJIk+GMhJX7dZgdomk6rN2wDG44xAFnjrppi06A85PQc7d///d8BAFdffTWuvfZazJs3D2vXrsWvf/3rsl5cLZGPWYsQCUJPG4JJdW1XrAHVMA4dgU5s2vpwkg1mKSa4miD1HdFsu07HtpVsA8tk1shkyMkH2QxW6PsGxSOG/RAGOmE/7oyM9WIij+6oHyc1TCvqfD1+ggYX8h6oAEB8KBbMoT7VYMVt8qCnxHutAMD0Fg9e2X4YA8Fo1dqBDEqPJAmKYVHJrZevBjgz+jc/Ds/si9Hz4gOaOV0vb7Ip+XhW84m4fMbFaXn96Y9fwvsdu1T2I5ZmMcae+amoTL451cjBlUGufQVCJPA9bek2MIFPO1ZkOZUNTOkfJMVSLueViIT2FFPp2vkrEBNj2LRFbamb4B6nGataMZYt7ozYNMhpaLpnzx787Gc/w6uvvopFixbhrrvuQnt7e7mvrabIx6ylV9cfCyk3NEC2wTwMfyyUsW0tm0ayDcwwa4wOom37AOSwXiXSDwJgTBEmMGBYW1wIvNkGiWZgDqoHJh6TB4F4ALwU1zmyMKZPSGxuu9OwghkkkWxYBIZy69MJu5LrpAXKQEV5LwdbYmo+PmfKmZp5/ZwpZyqvjRw9esi1r6BrA9M4NtUGlmt7qfW0+hJdoR5loCKXbdr6EHzRYKn/awxGMTkNVgghoGkaW7duxRlnJL6VjUajWY4ySCYfs5ZeXUGStG0wkpSxbT2bRrINzDBr1D7Rtk8BhgXr8Was1zpkAitmcX00ThAYBOoKnSlK0YhbnDCl7LXiNie+re6LlXbdSvMYB2wWFu8b61YMkpG0czHNWbJawfRIzcfZbI3yayNHjw5y7SsUYwPLtb3UevnYwMQsZjEDg3zIabAyceJEXH/99Whra8OcOXOwcuVKHH/88eW+tpoiH7OWXl2WprVtMDSdsW09m0ayDcwwa9Q+0bZ9MDVOApXF+NI22AszzcHFWAs+V+/Q4npPAYvrZeJWV9peKx5T4glId4kX2dM0hWktHnz0WU9eG1ga1Di0di6W+GhWK5geqfk4m61Rfm3k6NFBrn2FYmxgubaXWi8fGxiT5T5jYJAPOQ1W7rrrLlxyySV4/PHHwXEcZs2aZWwKmSf5mLX06rrNDqycuzTFBrMUbrMjY9taNo1kG5hh1qh9iMAjduQLmJumJnaAz0BruA/NtnoQjf0bcqVnSFvsLkBbLBOzusAOBsAkfbPn4JxgKAbdkc6C29Xj2Ake+ENxHOjIvDGawegh2bAIQFmzwtY1IbDzdXgX3pi3LTE1H79x4B3NvP7GgXeU10aOHj3k2lfQtYFpHJtqA8u1vdR6Wn2JsQ4vVp6tYamzHB0Bk0FtkrMNrJKoVhNINsOH6n3WBBBJqQuKBhHiIGYrAmIMoiQpNjAuyQYmEYIwDQggKotMsk2DpRnQVMIGVilmjeHrU9tvqp1KidVo26foeHQt6s+/FuamKbr1CCG46f3f4cSGaZjfcGzB53vlfR7v7hVx/UUiQBWWYly9BzF+/zZ8+bXvIeJoVMpfPPRX1JXBCBYIx3H3Yzuw5J+Px7+cf1xJ264GKiVWR5pseVkxLimiCAKK4RI5WRIBSRoqY0HbnJAGg9ktTil2IztnSbMphflomv1oJPNkJefkWo9VLcsXrfFkTRR5SCGfYv6iHR7QNJMWzxKREIgEwEsiuCHzF6PRXi4WMi0zlyiJ8EWDSvx6LE5wDFf4z1/BsWdwdDCeK48gmQwxeiYOztuiGD8Yuwf1C76LwRfuV+o4r1gDMmTroO1utPs7sOGNYVNHsumrUm0aWrayTIYyg/yJtn0KAODqx2WsNxAPIyzG0GgpLlZkE1ihAxUAiFkTU74swR7VYMVjrkfn4JGirk8Ll92EcWPs2LG3a1QOVkYjuRiQaJoF5arPWi8f46NWPh7DqqfSeFJ2AB/JPGnk5KOHpuVLI44kSYDQ3ao21S1eDW7sRFU/QyIS2lIMXnq/y1zsn1qxSzM0vDla6rJhxJ6BFsZvvkLQNXEEfUq556xF6BkaqKjqZLB+VYNFplqvu5qItu0D624EbbZlrHd4sBcAMMZc3CP8Hh8p2AQmE7M6QSgK5oB60WeduR5hPoyIGC7uBBocO8GD/Yd9CEf4krdtUHkUY15KrZeP8bEQRjJPGjn56JFzTGqZ6p7ZMPQUcJhq+11W2/UajAzGYKVC0DNxJNtostln9KxflW6RqdbrrhYIIYi1fQrTuKkAkTLWPRTuBQWgnit8fnxcIPCFih+sgGYQt7hgDqUPVgCgO1J6c9exE+sgSgQfflbaBfwGlUkx5qXUevkYHwthJPOkkZOPHjnHkY6pDim/o2r7XVbb9RqMDMZgpULQM3Ek22iy2Wf0rF+VbpGp1uuuFgRfF8SwDybvxKx1Dw/2wmvxgCvicXufP7ENZDEmMJmY1QVTsFdVVj80WOkcLP1eTxObXLCaWbyzu/TTzAwqj2LMS6n18jE+FsJI5kkjJx89co4jHVMdUn5H1fa7rLbrNRgZyjpYuf/++7Fw4UIsXLgQGzZs0Hx/wYIFuPTSS3HppZfiiSeeKOflVDS6Jg6nRyn3bXsW3kt+kJf1qxosMtV63dVCrutVAOBwuAfj7Q2QinDkd/sSgxR3KQYrNg+4QT8YcXhalpmxwMbacaQM61YYmsJxE+vw4afdEKWqc48Y5Ekx5qXUevkYHwthJPOkkZOPHjnHpJapbvFqME6Pql61/S6r7XoNRoayDVW3bduGLVu24NlnnwVFUfj+97+P//3f/8U//dM/KXX27NmDe++9F6ecckq5LmPE0LNX5GLXABIL2zhvC8YtWa8YQCjOBDE4ANpZD+d1/w+8JCJKMxh33S8BIZ7WHk3RmOBuxp3n/yTNIiNKQk42kGw/TznIdN0GxRNr+xSUyQLG2YBho1E6ESGO7lgAp3qPKep83T4JNA24itAWy8RsHlAALOFehF3Dg606cz06B0uvLwaA4yfX4aP9Pfj0UD++MqWhLOcwKD+55F6KomFqnIjma+/KammkHR6MW/KLIfNSwtCUXC+5LdnKGAABFw2l5TO5TZGiEIQEgYhgKQYeqwusTl7WypMOs60sedrIyUcPvZgkRIIQ6FcZwrixE1V9BjkmhdCA6lit3yUFpNXTN38NxxeAgstyiR8j9gy0KNtgxev1Ys2aNTCZEkaTadOmoaOjQ1Vnz549eOihh9De3o7Zs2fjJz/5Ccxmc7kuqWzo2StaXE0QcrB6ANoGEO8lP0Bgz5sIn3YeNr3/eE5mDC1ThygJaPW1Y+PWh5U2Vs1digme8ZoDlqNh46hkW1m1E23bC3PTNFBZ6h0aTMx/bjQV901wt4+gwQlQRZjAZKL2xLeEVn+XarDSYG7A7v6d4KUYOLq0OePYCXWgaQrv7D5iDFaqlHzMXLlYGvvffBKe2Rej58UHMraXi5VRbtO/+y2ETpmPTduG8/LKucsw0dOcccAi58ly52kjJx89UmNSkgTwXYc1zV+ce4xSL1PcJ/8uc/l8aMXXbfNXIC7x2JilbNW85TDRHO5881cFxaYRewaplG2oeswxx+Dkk08GABw8eBB///vfMX/+fOX9cDiME044AatWrcKzzz6LQCCABx54IK2dQCCAtrY21Z/OzvJ8o1oouvaKSCBnO4yWAaTnhfvBzr1MGaio2s7DjBGIBJSBitzGxq0PIxDR3vzOsHEURiXGqhgNI97dCtPYycj0VAUADoYTsddQpAmse0DCmNLMfAFvdkBkOJgD6sX0DZYxICDojpb+/9diZjFtvBvv7D5Ss7vZV2KslpJSmbnkdlwnLVAGKtnay5Y/5TZx2vnKQEWut2nrQ/Dp5OV8z1Mr1Hqs5kKu5q9S2u204qsz1KMMSjKVbXz7QXSGemo+Ng1GjrKvWNq/fz+WLVuG1atXY/LkyUq53W7HI488orz+3ve+h7Vr1+JHP/qR6vhHH30U999/f7kvsyj07BWCJOZsh9EzgIg0U7QZg5dE3evL5+cxbByZqcRYjbV9CoCAG5N947SDoW54THZYaQ5Sgb/rGE/gCwMzJhd0eDoUhZjNA3NAbedqsCS+TWwPt2O8bVKJTjbMjKkN+OubX+DgkQCmNJdo5FVBVGKslpJSmbnkdrKZGJPJlj/lNiWG1qwnktzWi42WPF3rsZoTOZq/Smm304ovC2vKqaxnsB+WlH2CajE2DUaOsg5WPvjgA6xYsQJr167FwoULVe91dHRg27ZtuPzyywEk9Kosm34511xzDRYtWqQq6+zsxHe+853yXXieyPaK5A+s11YPlmbAur2qpKBnh5ENIKl1GUnUbDsfMwZHM7rXl8/PY9g4MlOJsRpt2wdQNNi6sVnrHgz3YoLdW/BABUjsrwIAdY7SPZGI2jxw9x0CRQgIlZjMZmVtsLF2tIdaAW+WBgrghMn1eO7NL7B1Z0dNDlYqMVZLiV4+zdfMJbcjmxhzaS9b/pTbpEVJsx5DaeflfM9TK9R6rOYErR3PqeavXOM+l3pa8RUV4jmVeW31iApx1TlrMTYNRo6yTQM7cuQIbrrpJtxzzz1pAxUAsFgs2LhxI1pbW0EIwRNPPKFafC/jcrnQ0tKi+tPU1FSuyy4IXXuF1ZWzHUbLAOK95AcQtv4VK2ctKcqM4bK6sGruUlUbq+YuhUtnTqhh4yiMSozVaOtemBongc7SSYuIcXRGBzDOVtwajS5fYh+XUmiLZWL2OjBCHKaIespDg2UM2sJtJTtPMk6bCZPGubB1V0f2ylVIJcZqKSmVmUtuJ7DzdXgX3phTe9nyp9wmPngVK89S5+WVc5flPFd/tOTpWo/VXMjV/FVKu51WfDU5vFiVQ9mqecvR5PDWfGwajBwUKdOk7PXr1+OZZ57BxInDeztceeWVeO2117BixQrMnDkT//jHP/DrX/8aPM/j1FNPxR133KEsyM9EW1sbzjvvPGzevBktLdmnt4wEsm1LkESwSbatXG1gACCKPKSQb8g2w4AyWUDiUYA1IUxjyORVmBlD7/r0GLaAGDaOYjiasUoEHgfvWQL7zPlwfnVexrr7Au2465O/Ysm0BRhfxAL7v2/n8cFnIr5/kQiSZY1MrpjD/Zi662V0nHopBppOUMo/6d+ND3p34Mcn/gT2Ijax1OPdPUfwt7e/xK//bQEmj6v9xZ6VmFeLQS/3ZsvJye8DFEDTgCQBLAsIAgCSNZdny5+pNjCRiGCy2MAKOU+tUmuxmookCYn1KEmWL0KIqn9AOzxgGC7t2Fz7HLnU04ovAAWXjYbYNCgPZXsmt27dOqxbty6t/KqrrlL+feGFF+LCCy8s1yWMGIRIEHraEEwya9iuWAN6yKyhZ5pJRpIECN2tmrYPmmbhydpCZhiaRZ29PnvFIQwbR/UTO/I5iMjntBnkF6HEAnavqbjfeWe/BK8HJRuoAEDM6oZE0bD4OoCkwUqjNfHtatvgIRznnlGy88l8ddoYvLDlS7z+QSuuu6T07RuUF63cm82CpPW+d+GN8O14CfXzr9S0iWmRLX/K18YCKMZlZ+Tp2kPT/HX5aoAzo+uPv1DFLZ2n3S7fenrxVUyZgUEhGMPcElAK80yutg8Dg1yJHP4EAMA1ZN8M8stQF8aYXbAUMaeYEILOfoLGYkfWqdAMYvY6WP1qA1C9pQEMxeBg8ECJT5jAYeUwfUId3vqwDZKxQWRNkC1Xa1oZX3wArpMWFGQTMzDIF82+wNMbIAx0Fm23MzCoVozBSgkoiXkmR9uHgUGuRA/tATemBTRnyVr382AXJjnGFrVzvS9MEOWBhuLMx5pE7fUw+btAJc1apSkaXmsjDgcPlf6EQ5x0zBj0+qL4+EBf2c5hMHJky9V678s2sHxtYgYGeaPTF0jN40Y8GowmjMFKCZDNGsnkbZ6htdtItX0YGOQCEXhEW/fBMv5YgEgZ6/bHQvDxYYy3F7m4vl82gWU+XyFEHA1ghDjMYfWgYax1HDoHOxERwiU/JwDMmNIAi4nBP945WJb2DUaWbLla733ZBpavTczAIG90+gISH00rM+LRYLRgDFZKQCnMM7naPgwMciHa8RmIEAfXODlr3f2hIwCAsebi5hcfkQcrztJPmYo4E/uq2HztqvJxtmYAwMHQlyU/JwCYOAYnTvfind1HEIrwZTmHwciRLVdrWhkX3ojAztcLsokZGOSLZl/g8tVg65qKttsZGFQrxrA8A5JE4A/HwAsSOJaG224GTVNp9SiKhqlxIpqvvSth1mBNAJEgBPqyWmNkaJoF2zgB45b8QmX7oEv0ZCUfK5lB9RM5uAcABa6hOWvdzwJHYKJZjDE5QYqYBtbZL6HeCbB0KZfXJ4hbnBBZE2wD7ehvOUkpb7CMgZkx43P/ZzjBM7PEZ00w64RGbP+kE29+0IqFZ08tyzlqhVxz5tGComhw3haMW7JeZVqSc2FqLpdtYN6Ll4G2ObPmUCPPVj9HO4b1+wLMcB8jQ2xpmcRK1Y8wMDhaGBGsgyQRHOoMYP3v30P3QASNdVas+97pmNTk0h2wsI66rLYZPQiRIPS2px2nZfvIl0KvyaB6iRzYCVPTFNCcCchiJ/8s2IEpzqas08Wy0dkvoakeJR+oAAAoChFHAywD6icrNEWjydqMz/2fgxCpLPE83uvAeK8df3v7S/zzWVMqqvNdSeSbM48GhEjge9oy5sJCLGK51jGobCohhvX6AqbGiVntXZomsSSrqIFBtWJkUB384ZiSsACgeyCC9b9/D/5wLONxhZrBSmEUOxptG1QeYjSMWPt+WFqOyzpQCQsxtA72YZJjLIrZcikUIfCFUXoTWBIR5xiYQn1gU+ZuT3BMRIgPoWOwPBtEUhSFs2Y2o6M3jI8+68l+wCil0Jw5kpQzPxt5tvqphBguJo4Mq6hBrWIMVnTgBUlJWDLdAxHwQuZvnws1g5XEKHYU2jaoPKIHdwNEgmnslKx19wePgAAYb83u5c9Ee2/iczHGXfrF9TKDzkZQAGw+9aCkxTERDMVgz8Cusp175vQxcNo4PPvm52U7R7VTaM4cScqZn408W/1UQgwXFUeGVdSgRjEGKzpwLI3GOquqrLHOCo7N/F9WqBmsJEaxo9C2QeUx+MWHoExWsHVjs9b92N8KjmYw1lzcQs22XgkUBTSUYXG9TMTRAImiYe87rCrnaA7j7S34pP9jSKTwNTeZYBkaZ351HD76rAeftxnfUmpRaM4cScqZn408W/1UQgwXFUeGVdSgRqmcu0iF4babse57pyuJS5676rZn3m+4UDNYKYxiR6Ntg8qCEAmD+9+HddJXkcsM6z3+VkxzNoMqcr1Key+B1w0wdPkGK4RhEXU0wJYyWAGAqa7pCPEh7A98Wrbzn/HVcbCaWTz5SvnOUc0UmjNHknLmZyPPVj+VEMPFxJFhFTWoVYzhtg40TWFSkwv33PK1vKwgaWawHI0whR4nI0oCApEAeEkERzNwWV2gKVox0zCOuoLbNqge4ke+hBj2wdxyXNa6/fEQOiIDOGXMMUWtVyGEoL1XwrEtBTeRM4OuRjR0fAKGj0HkhjsQ4+0T4OAceK9rG45zf6Us57aYWZw5cxxee78VX7T5MK3F6AAkU2jOHEmKyc+ZLGJabcsmMTHs1zc3EQmBaAi8xIOjObgsDtBGXj5qVEIM5xJretA0C27sxLRjtRbXa/UZGOMJjEGFYkRmBmiaQp0z++7fqWjZZMp5nCgJaPW1Y+PWh9Ez2A+vrR6r5i5DE2HR/cefG2aaUUT4sx0ARcHUOClr3T2+xBOKCdbiNoPsCxBE40DjCHyBHHY3YUz7x3AMtMLfOF0ppykax7lPwAe9O9AaOogJjsllOf/cE5vx7p4j+P3zH2P9DWeBoiqnI14JFJozR5JC8mwuFjG5bcbuzskKJhEJrf4ObHj7QSVvr563HBPczcaA5ShytGM411jTg6ZZ0O4xGeto9xmWYoJnvDFgMahIjIxYAwQiASXpAEDPYD82bn0I/kC3YaYZRRBCEN63DeaW40Gbsk9b+L+BA6gzOVDP2Ys676HuxBQybxkX18tEnGMg0SzsvembQB7rOQF21o5/tL4EqchpbXpYzSwWnDYBuz7vxQf7ustyDoPKIx9DU651A9GQMlABEnl7w9sPIhANlfmnMahkRsIqp91neBiBSKBk5zAwKCXGYKUG4CVRSToyPYP9kEzqb4cMM01tw/e0gu/rgHXyzKzK4pjIY4+vFTPrp0Aq0hRzsFOC3QJ47OVbryJDaAaDLi/sPQfS3mNpFqd6Z+PI4BG8deS1sl3D6TOaMMZtwYfiJncAACAASURBVG/+sgsxvjwL+g0qi3wMTbnW5SVeM2/zhrlpVDMSVjm9PoNQxKbABgblxBis1AAczcBrq1eVeW31oOPq/SgMM01tE/pkK0BRMI+bnrXuLt9h8ETEdOe4os5JCMHBTgkTvBRKv2+9NiHPOJjCAzBH0q1ck51Tcaz7OLx95E1sOfIGSBmesLAMjW98bRq6+gfx1P8ai+1HA/kYmnKty9GcZt7mjGk4o5qRsMrp9RlYminZOQwMSokxWKkBXFYXVs1dqiQfec2K29VomGlGCYRICO15E5YJXwFtzj7felvvp3BxNjSZnEWddyBIEBgExjeMzEAFAEJ14wEAzm7tPU9mec/ANPd0vN6xGb/b9xA+7H0fQT5Y0muY3uLBKcd68czrn2N/60BJ2zaoPPIxNOVa12VxYPW85aq8vXrecrgsjjL/NAaVzEhY5bT7DEvhsrpKdg4Dg1JifIVTAzA0iwme8Vh/7koIkgg2yQZmGMBGB9HWvRD8PXCddlHWKWBBPoKdvkOY1/RVSEU+9j/QlXhy0egZuU3TeIsTMasLzq796J00K+19hmZwZuM8jLe3YHffTrxw6LnENVrH4it1X8WpY2bDXuQ6HQC45Oyp+LLDj3ue+AD3/fgcWExGOq1V8rGI5VqXpmhMcDfjzvN/Al4SwNGsYQMzKNoMmgt6fQZjcb1BpWJEZo3A0Czq7PVp5YXYxQyqj+CHr4IyWcE1Tc1a953ezyASCSe4JxR93i86JDiG1quM3LMVIFg3Hg1HPgUTj0A0WdPepygKkxxTMdE+BUHBh65IJ9pCrXijYzPe6dqC88ZfiFPHzCrK5mU1s1i84Bj89/Mf44Gnd+JHV51q2MFqmHwsYrnWpSkaHuPbbIMUCjWD5oNen8HAoBIxvsIxMKhyxLAfob3bYD/+DNB05o+0RCS80rkLU51NqGOK03MKIsHn7RKmNWPE1qvIBBsmgiIS3D37M9ajKAourg7HuE7AguYLcNmUxfBaG/HS4b/h760vFL2mZXqLB+fOmoDXP2jDS9sOFtWWgYGBgYGBQTrGYMXAoMoJfPQqIAqwTTvl/2fvvMOjqtLH/7llZtIrCSE00UVZFRRFEBCRJgIigrCKiIAVBQtSFUVUVAQUf4qF3fWriHVBFEFFpaiABVAEO+wKCISEkDbpU+79/RHmJpO5k0ImyUxyPs/D8yQz95w5k/vynvuet1V77Q85B8gstdMr+ew6h4AdTNcodUK75IY1VABKIhNw2CKJSfu1VuOiLbFc1mognRO78H3mDj498nGdGmIC9LuwLZ3ax/PPD35iz77M6gcIBAKBQCCoMcJYEQhCGM3lwL7zY8Lan4sSVXVHdU3XeP/ITpLDYmkXVnf3/x+HNVQFWiU0XL6KgSRhT2xPxIlDqKW160shSRLnJVzIOQmd2Xn8O74/saNOS5FliX8MPJOkuHCeWLGDg8dErwKBQCAQCAJFvRory5YtY9iwYQwbNoxFixb5vP/bb78xatQoBg8ezNy5c3G5RH15gaA2FOzZgrswl8hzLqk2sf7rE/s4UpTFwNQL6txbRdN0fj/spkOKhCw1vGcFIC+5A5KuE5/2S63HSpJE18RutI1qx6eHP+ZY4dE6rSXMqjJh6NlYFJmH//k1GdlFdZpPIBAIBAJBGfVmrHz99dds27aN999/nw8++IBffvmFzz//3OuamTNnMm/ePD799FN0Xec///lPfS2nQdF1DVdBDs68TFwFOfXS60Eg0FwOcra/h63V37AkpFZ5bb6zmHcObadDVEtOC0+s82f/L03DXgRntmkcQwXAER5LcVQL4g7vqdZQM0OSJHq27EOEGsGaA//B4XbUaT1x0TYmDDubEoebuS9tJyuvuE7zCRoGoa8FwYaQSYHAm3ozVpKSkpgzZw5WqxWLxcIZZ5xBWlqa8f7Ro0cpKSnh/PPPB2DUqFFs2LChvpbTYOi6huP4X6S9dj+Hl00m7bX7cRz/SygbQcCx7/oEd34WUV0HIVWR4K7rOisOfEmR28Gwtt3r7FUB+H6/mwgbtGnRuB2Pc1r+DWtBNlHZh05pvE2x0atlH7JLs9mS9nn1A6ohJTGSCUPPJje/lAdeFAZLsCP0tSDYEDIpEPhSb8ZKx44dDUPk4MGDfPLJJ/Tt29d4//jx4yQllXdpTUpKIiMjw2ceu93OkSNHvP6lp6fX17LrjLswj4xVC3HllSXauvIyyVi1EHdhXiOvTFDfNKSsugvzyNm2mrAOXbAmVu1V+Tx9Lzuz/8eQNhcRLdW9Wnl+kc4fhzXOPY0qjaSGwJ7YDrdqI/HgrlOeo2VEK/4efw47jn/LofwDdV5T25bRTBh2Nll5JTzw4nZO5AafwRJqerW+EPo6+GlusipkUiDwpd77rOzfv5/bb7+dWbNmcdpppxmva5rm1ZNA13XTHgUrVqxg2bJl9b3MgKG7XYaS8eDKy0R3i3ycpk5DymrWxtfQnaXEXHAFVHHi9mPOQd46tJ3O8R3oEtM2IF6VrT+50IEzWzf+SZ+uqGSndCTpyM+E2Y9TEpN8SvOcn3ghRwsP8+Gh97n971OwKrY6reu0VjFMHHY2Kz7+lTkvbGPB5F6kJNa9EWWgCDW9Wl8IfR38NDdZFTIpEPhSr8bK999/z913380DDzzAsGHDvN5LSUkhM7P8P+SJEydITvZ90JgwYQIjR470ei09PZ1x48bVz6LriKSoqLFJXspGjU1CUkT/zaZOQ8lq4b6dFPz8FTEXDUMJjwI/3o3f7UdZtm8DbSNbMKz1BWgB2OxyCjR27XPTpYNEVHjjGysA2SlnkXjsd5L/u42/Lhh1SnOoskrPln349PBHbDr6KUPaXVXndbVvFcNNw8/htY9+ZdbzW3ns9l60bxUcDQBDTa/WF0JfBz/NTVaFTAoEvtSb9B87dowpU6awdOlSevbs6fN+69atsdlsfP/991x44YWsXbuWSy+91Oe6mJgYYmKCY4OvCUpkLC3HzDHcuGpsEi3HzEGJjG3spQnqmYaQVVd+NpkfvYglqR0RZ/bAn6Hya94Rlv7xES3CYriuQx9w1z23RNN1Pv7OhSRB1zMaN1elIprFRlarv5N05Ccisw9TmND2lOZJDm/JOfGd2ZW5kzNiz+TM2E51Xlub5GhuuercMoNl2VbmTupOl78lVT+wngk1vVpfCH0d/DQ3WRUyKRD4Um/GyiuvvEJpaSkLFy40XrvuuuvYvHkzd999N507d2bJkiU8+OCDFBQUcM4553DjjTfW13IaDEmSsSa3I3Xik+huF5KiokTGIkmipY2gbuguJxlrlqA7S4m/9FokPyWDd2X/j5f3f05yeBzXd+iL7C7zgGiaTnqOTkaORn4xSEB0uERSnERKgoQi+4ZhVmTrXjf7jmgM6CoRZg0Or4qHrNS/E3f8f7T65VP+12si+imeQp6XeAHpxcf48OAabul0J3G2qnvX1ISUxEhuH9mZ1z/+jXn//IY7rzmPy3u0r/O8groj9LUg2BAyKRD4Um/GyoMPPsiDDz7o8/rYsWONnzt16sTq1avrawmNhiTJqFHxjb0MQRNC19wc//A5So/8QcKgm06Gf1W6RtfZcOxH3v3razpEpzC6XW9kzU1alsb3+9z8cshNcan5/FYVzkiV6dRWoWMbmciwcsOl1KmzabeL735zc3Z7iY6pwRc7rSsqx06/iHa/f0nLfV+R/vf+pzSPIitcktKXT/5ax+o/3+LGM2+uc/4KQHx0GLdd3Zl3N+7j+f/8yP7Dudw64lysFqXOcwvqhtDXgmBDyKSgPrn11lt5/vnnCQsLa+yl1BgRBCkQBDm628nxdcso/O1rYntfgy3lNJ++IsVuByv+/IJvsvbTNfEMBqecx76/HGz7ycWh4zoWBf7WWqJ9S53EaI1Im44OFBbDiXyJtCyJgxkav/1V5jFJipWIj5ZwueFIpobDBd3OlOj2Nxf+Qs8am8L41mSnnEnigR2URCeR26bzKc0TY43lkpS+bEnbyOo/3+YfZ4xDlS11Xl+4TWX8kL+zccchNnxzkN8OZDFt7AWc0abu3huBQCAQCGrCv/71r8ZeQq0RxopAEMS47Fkc/2ApJYd/I7bXSCJOP9+n+teveUf4vz+3cKI0nytaX4R8IpUXPygmI0cnJgIu6yLxt1Q3quIbuhUTCTGROqenQO+zIcsucTRLIiNXJrdAR1WgU1vo1FYnITr4PCqVyWjfFVuxndS9HwM6uW26nNI8raPa0ivlEranb+XN/SsYffpYIi11r+alyBKDLz6N01Jj+OCL/3Hf//uKob1O47pBZxEbVXcPjkAgEAiaDkePHmXGjBkUFBSQmprKmDFjePfddykqKiIzM5NJkyYxduxYCgoKmDt3LocPHyY8PJxHH32UM844gy1btvDMM8/gdru58sorufPOO+nfvz/r1q1D13XTMY899hi7du1C0zQeeOAB07zzhkYYKwJBEKI5SrDv/ozcravQNTcJAydia3W6l6Hyv4IM1h3dxe6cg8RbYjjHdSmffxJOQUkpLWLhim7QvqW7xr1QJAlaxOq0iNWB4MpJqTGywuGzLqXtvq203vsxkVmHSe90GW5b7Q2N02M6okgK29O38s/fljGozRDOiT83ILHjZ7VL4K5/RLN512E+2n6AjTv+4vIe7bn84va0T2k+ycQCgUAg8M+aNWsYNWoUY8aM4bXXXuOPP/5gz549fPTRR4SFhTFy5Ej69evHihUrGDZsGJdffjm//PILDz/8MK+88gqPPPII7777LomJiUyaNIlRo8orZr7wwgs+YxYuXMivv/7K2rVr2b9/Px9//LEwVgQCQRm65saVl0lp+p8U/7mHwt+/QSspJKz9ucReNBRsEWSX5nOkMIufctL4MecAx505KLoFy4mzSDvYjmMonNFK4pzTdFLj3ehBGq5V3+iKyl+d+pJ89BcSjvxMzLHfsLfqRH7y3yiOa4UzLKbMMqsB7aNPJ8Yax7fHt/H+gVV8dWwL58Z34bSY00kOb0mYcuoxvxFhFq685HR6nJPCVz8e5aPtB/hw65+0SY7i/I5JnNU+nnYpMbRMiCAiTDXtQyUQCASCpkv37t2ZNm0aP/zwA1dccQVhYWH897//NZqq9+rVi927d/Pdd9+xbds2XnjhBQAKCgrYt28fZ5xxBi1btgRg5cqVXnObjWnZsiUFBQVMmDCByy+/nJtuuqkBv61/QtJYcZ8sw9qUu9gKgo+UlBRUtXb/ZaqSVfeBH9D2fIruKIKSgnKvicWG0vps9rZIZH3uAfJ3voOuOEAue1/XQSuIx511Npa8VFrFyZx3tovWCcVYFDe6rpNfULfv2hQoiOtAWkQyqdkHiUvfR9zRnwHQJBmnJYKSsBh+6zQYt1p1+JWEzMVRfTgedoxDxQf48thmvjy2GQCbbKNn3CV0ijqnTmu99Nw4unWM5sCxQv48Vshn3x1i/fYDxvsWVSbCphBuU4gOV5k0pAPx0Va/8wVaVgWC+kLIqiAUOBU5DQQ9evTggw8+YOPGjTz77LOMHDnSax26rqMoCm63m+XLl5OamgpARkYG2dnZXnOlp6d7lQE3G2OxWHjvvffYvn07n376KatXr+b9999vgG9aNSFprHiaSTbVplCC4GTTpk20adOmVmOqk9XuF3VDVRQUORxVkrAoMrIE/Pd/aNp+Op/ViVatyxSJrkvoko4uSxArQYyETlH5ZA5wIVFWlFgAUEg0++M6Q3xZ7oqug6ZLaJSVCcj+8y+KioprPF+KFEOKVKbsJQ3QIOfAX6z4Y1NA1x1z0ouiU+Z103U3aBqlukYJOnd9eIhjx475HV8fsioQ1AdCVgWhwNq1a+nUqe69t2rLokWLOOuss7j++uuJiopi2bJlFBcXY7fbgTLvyD333MMFF1zAqlWruOeee9i8eTP//ve/+b//+z8OHjxIZmYm8fHx3H333TzxxBPG3GZjHnroIZYuXcry5cvp2bMn/fv3x+12oyiNW7lS0nU95GJFSkpK+Pnnn0lKSqrRH9DT7fbNN98kJSWlAVbYODSH79mY3/FUTlZqK6unQqjc91BZJ4TOWv2tM1hltSpC4W8eCmuE0Fkn1J+shtLfwIxQXz80re/w2Wef0b59w/fHOnz4MDNmzMDhcBAVFcXIkSN5/fXXCQsLIy8vj8mTJzNixAhycnJ44IEHOHLkCDabjYULF/K3v/2NL7/80kiwHzlyJDfffLORYO9wOEzHPProo3z33XdYrVYmTJjA1Vdf3eDfuzIh6VkJCwujW7dutR6XkpJS6xOcUKQ5fM9Q+Y6nKqunQqj8TUJlnRA6aw3EOhtSVqsiFP7mobBGCJ111pbayGqo/w1Cff3QNL5DY3kW2rZty7vvvmv8/t1339GuXTuee+45r+vi4+N56aWXfMb37duXvn37er22eXNZGHNkZKTpmHnz5gVi6QFFtEQVCAQCgUAgEAgEQUlIelYEAoFAIBAIBILmRI8ePejRo0djL6PBEZ4VgUAgEAgEAoFAEJQo8+fPn9/Yi2gIbDYbPXr0wGZr2l2im8P3bA7fsbaEyt8kVNYJobPWUFlnTQiF7xIKa4TQWWd9Eup/g1BfP4jvIAgMIVkNTCAQCAQCgUAgEDR9RBiYQCAQCAQCgUAgCEpC0lhxuVwcOXIEl8vV2EsRCKpEyKogVBCyKggVhKwKBKfGf/7zH9avX9/Yy6g1IWmspKenM2DAANLT0xt7KQJBlQhZFYQKQlYFoYKQVYHg1Pjhhx9wOByNvYxaI0oXCwQCgUAgEAgE9Yim6eQVluJ0aVhUmdhIG7Is1Xne9PR0ZsyYQVFREbIs8+CDDyLLMk8++SQlJSXEx8fzyCOPcPjwYTZv3sy3335LUlISf//735k7dy5paWmoqsq0adO49NJL+eabb1i8eDEAsbGxPP300yQkJLB06VK++eYb8vLySE5OZunSpbRo0aLO668JwlgRCAQCgUAgEAjqCU3TOZRuZ8H/fcfxnGKS48N58KYetE+JqbPBsnr1ai677DJuueUWvvrqK3bu3Mm6det4+eWXSU1NZevWrTz00EO89tpr9O/fn+7du9OnTx/uueceLr74YiZNmsThw4cZO3YsH3zwAS+++CLz58+nS5cu/Otf/+LXX3+lbdu2/Pnnn7zzzjvIssysWbP48MMPuemmmwL0F6oaYawIBAKBQCAQCAT1RF5hqWGoABzPKWbB/33HknsuJT46rE5z9+zZk7vuuovffvuNvn370rdvX1588UXuuOMO45qCggKfcd9++y0LFiwAoG3btpx33nns2bOHAQMGMHXqVAYOHMiAAQPo3bs3ALNnz2bVqlUcOHCAH3/8kXbt2tVp3bWhUY2VVatW8cYbbxi/HzlyhBEjRjBv3rxGXJVAIBAIBAKBQBAYnC7NMFQ8HM8pxunS6jz3hRdeyEcffcQXX3zBxx9/zKpVq2jTpg1r164FwO12c+LECZ9xlTuX6LqO2+1m4sSJ9OvXjy1btrB48WL27t1Lnz59mD59OhMnTmTw4MHIsuwzvj5p1AT7MWPGsHbtWtauXcuSJUtITExk6tSpjbkkgUAgEAgEAoEgYFhUmeT4cK/XkuPDsah1fwxftGgRH374ISNHjmTevHn8/vvv5OXlsWvXLgDee+89ZsyYAYCiKLjdbgAuvvhiVq9eDcDhw4f54YcfOP/88xkzZgyFhYVMnDiRiRMn8uuvv7Jz5066d+/O2LFjOe200/jiiy+MeRqCoAkDmz9/PtOmTSMhIaGxlyIQCAQCgUAgEASE2EgbD97UwydnJTbSVue5x48fz/Tp01mzZg2KorB48WJiY2N5/PHHKS0tJSoqiqeeegqAXr168cwzzxAdHc3cuXOZN28ea9asAWDBggUkJydz3333MWfOHFRVJSIiggULFhAeHs7UqVMZPnw4AOeeey5Hjhyp89prSlAYK19//TUlJSUMGTLE5z273Y7dbvd6TZQrbHpouoa9pACn5sQiW4gJi0KWQquydlOW1aZwfwTlNJSsPvfubg5n5LPorj5IUt2r3giaH01ZrwrMaYr7jSxLtE+JYck9lwa8GlirVq146623fF73eE0qMmzYMIYNG2b8vnz5cp9revbsyYcffujz+qpVq+q40lMnKIyVd955h0mTJpm+t2LFCpYtW9bAKxI0JJqucTgvjUVbXyKzKJukiARm9bmDtrGpIaWgmqqsNpX7IyinIWTV5db4fMdfABzNLKBNcnS9fp6gadJU9arAnKa838iyVOdk+uaKpDdkhowJDoeDvn37smnTJiIiInze93eqMm7cODZt2kSbNm0aaqmCeiK32M7cjU+RWZRtvJYUkcDjA2cTFx7TiCurHU1VVpvK/RGU0xCympZZwO0LNwHwwMSL6Nk5tc5zCpofTVWvCswR+43AjEb3rPzxxx+cdtpppoYKQExMDDExQkCbMk7N6aWYADKLsnFqrkZa0anRVGW1qdwfQTkNIasn8sor32RkF9XrZwmaLk1VrwrMEfuNwIxG96kdPnyYlJSUxl6GoBGxyBaSIrwLKyRFJGCRG92WFiDuj+DUyMorMX7OrFSyUyAQCMwQ+43AjEa/+0OHDmXo0KGNvQxBIxITFsUDfe8moyCTMNVKictBy6gkYsKiGntpAsruz6w+d/jEEFe8P6GSEBkq62wK5BWUAmC1yOQVljbyagQCQUNSU11b+booW0S1+42g+dHoxopAoOkaDncpr3z/tqGcZlxyO5quiQfJIECWZNrGpvL4wNk4NRcWWfXaeEIlITJU1tlUsBc6kGWJxJgw7AWOxl6OQCBoIGqqa/1d1zomxe9+I2ieiLsvaHRyi+0s2bbciFPNLMpmybbl5BbbqxkpaChkSSYuPIakyATiwmO8Ng57SYGx2UDZ/Vu09SXsJQWNtVxTQmWdTYX8IidR4RYiw63Yi4SxIhA0F2qqa/1dV1Ba5He/ETRPhAQIGg1N18gttuPS3KYJdW694bqjCk6dmiREeu51ZmEWucV2NF1r6GWKxM0GJr/IQVS4hYgwlcIiZ2MvRyAQNBD+da3Tax8QOjk4efvtt3n77bdrPW7NmjXMmTOnHlYkwsAEjURF9+/9l04lKSLBp1ShIimNuEJBTfEkRFa+f56EyGAJv6punYLAUljsJCJMxWZVKCoVDx8CQXPBn67VdM0oS5wUkcC8fvcKnRyEjB07trGX4IPwrAgahYru33V/bOS+3rcZFUCSIhKY3vt2UVM9RPAk4Fe8fxUTIoMl/Kq6dQoCS3GJizCbSrhVpahEGCsCQXPBTNfOuGQyK3av9toHVuxezYxLJjcbnazrGq6CHJx5mbgKctADFGEwdepUPv30U+P3UaNGsXfvXiZNmsTIkSMZO3Ysv/76KwBz5sxh8uTJDBkyhM2bN/PUU09x1VVXcfXVVxvNV59//nmef/55ANatW8fQoUMZNmwYc+bMwel0UlxczPTp07nyyisZPnw4H3zwgc+afvzxR8aMGcNVV13FhAkTOHToEADjx49n6tSpDB48mN9++63G31GYr4JGoaL7d8uBrwG4/9KpqLKKKivEhcegitOVkKC6BPxgcfVXt05BYCkscdIqMpIwm4rLreFwurFahLdUIGjqmOlaTXezK22v13W70vZyy4Vjm4VO1nUNx/G/yFi1EFdeJmpsEi3HzMGa3A6pjt93xIgRrFu3jsGDB3Pw4EFKS0t54oknmDdvHmeffTb//e9/mTJlimHQxMXF8fLLL3P06FGefvppPvroI4qLi7n//vspLS2v3JiRkcGTTz7JmjVrSElJYebMmXz55Zf88MMPxMfHs379erKzsxkzZgydOnUyxjkcDu677z6effZZunTpwieffMJ9993He++9B8BZZ51lGEY1pelJhCAkqFxLfcuBr3nyq2WEqTZaRCYYhkow5DoIqqeqBPzgrJuvN+JnNw+KSpyE2RTCrGUGSmGxyFsRCJofZbpWkVXTfaCqvaMp4S7MMwwVAFdeJhmrFuIuzKvz3H379mX37t0UFBSwfv16hg4dys8//8z999/PiBEjmD59OkVFReTk5ADQpUsXAFq2bInNZuO6667j9ddfZ8aMGdhsNmPe3bt3c8EFFxi9EBcvXszAgQP59ttvGT16NAAJCQkMGDCAHTt2GOMOHjxITEyM8TlDhgzhr7/+Ij8/3+vza4M4uhY0CjXt3REMuQ6CulGTe90QCHlqWIpKXIRZy3JWAIpLXcQ38poEAkH9Y6ZrZ/a5g7l97+bxL59rlv1TdLfLMFQ8uPIy0d11jzCwWq3069ePzZs3s2HDBpYvX84rr7zC2rVrjWvS09OJi4sDICwsDABVVVm1ahU7duzgq6++4rrrrmPlypXGGFVVkSTJ+D07uyxCQte9D/t0XcftLi+IpGm+h8oVr/F8fm0QO7SgUajoJn7hysd5fOBsn4fGYMl1ENSNmtzrhkDIU8OhaTolDjdWi4ztZOiXSLIXCJoHZrp28daXCLeENfo+0FhIiooam+T1mhqbhKQExmcwYsQIXn31VeLi4mjdujWnnXaaYaxs376dcePG+Yz59ddfueGGG7jooouYPXs2Z5xxBgcOHDDe79y5Mz/++COZmWVG1hNPPMGmTZu4+OKLWb16NVBmwGzatInu3bsb404//XRyc3PZu7cs7O/jjz8mNTXVMJZOBeFZEdQb1XWw9bh//REsuQ6C2mN27xu7YIKQp4ajxFH2N7VaFMNYKRbGikAQ8tSkM70/XevS3CRFeoeCNReUyFhajpnjk7OiRMYGZP4LL7yQ/Px8o5LX4sWLmT9/Pv/+97+xWCwsXbrUy0sCcPbZZ3P++edz5ZVXEh4ezgUXXMCll17KL7/8ApSFic2dO5ebb74ZTdM4//zzGTVqFMXFxcyfP5/hw4fjdruZPHky55xzDn/88QdQ5ulZunQpjz323ZKVCQAAIABJREFUGMXFxcTGxrJ06dI6fT9hrAjqhUCE3IhSs6FJsIZbCXlqOEocZe5+q0UpDwMrETkrAkEoU1PdLnStL5IkY01uR+rEJ9HdLiRFRYmMrXNyfUU2btxo/HzGGWd4hXR5WLhwodfvs2fPZvbs2V6v3XXXXcbPV1xxBVdccYXX+1FRUSxZssRn7lGjRjFq1CgAunbtyqpVq3yuMVtTTWge/jdBgxOIkBtRajY0CdZwKyFPDUfJSS+KVZWNCmCFxcKzIhCEMjXV7ULXmiNJMmpUPJbYJNSo+IAaKk2d5mvmCuqVQITciFKzoUmwhlsJeWo4PCFfFrU8Z6VQeFYEgpCmprpd6FpBoBHGiqBeCJQbuLq8FkHwEcwhAEKeGgaPsaIq5caKJ49FIBCEJrXR7ULXCgKJMHMFAcXTF8WpOZnX7166pZbV0+6W2oV5/e7FqTlN+6WIfiqhTcX7p6Mzt+/dXiEAc/vejY5e7/dXyFFw4MlZsagKFpFgLxA0CfyFd0XZIgKqd2uix4Wub140/lGnoMlglnw345LJ3NbtenJK7Dy65VnTpLxgTcgW1Ax/NfWfGDQHh9uJVbGQU5LH4xufq9f7K+QoeCh1lifYK7KEqkiUlrqrGSUQCIIZs/CuKFsER+3pAdO7NdHjQtc3Pxr9rm7evJlRo0YxZMgQFixY0NjLabI0xCmEvaSAd39ax4SuY5jfbxoTuo5h1c/rcWlulmx72W9SXrAmZAtqhr+a+rqukxSZgK7rLK7B/a0soy7NVSuZFXIUPJQ6yhPsocxoKXYIY0UgaDqUNQbMLy0MqN6tiR4Xur750aielcOHD/Pwww+zatUqEhMTmTBhAl9++SV9+/ZtzGU1ORrqFELT3Qw5sx8v71hpfM7k7uNx6+4qk/KCNSFbUDOqu381ub9mMjq99+2s/uUjdqXtrZHMCjkKHsrDwE4aK6piVAgTCAShiZmefvCyewKqd2uix/1fI4p4eJg7dy7XXXcdnTt3rtH1mzZt4ueff+aee+4J2JyBpFGNlc8//5yhQ4eSkpICwNKlS7HZbF7X2O127Ha712vp6ekNtsamgL9TiMcHzg5oApym64ah4vmcl3esZH7/6VUm5QVzQnZtaK6yWt39q8n9NZPRp7cvZ0LXMexK21sjmW0qctQQ1LesllY2ViwyJU5hrAhqT3PVq8GImZ4+ln88oHq3JnpcQjK9RsK76WFz5vHHH6/V9QMGDGDAgAEBnTOQNOoufujQISwWC5MnT+bYsWNcdtll3HvvvV7XrFixgmXLljXSCpsGdTlxrkm3Ws81/jwoiiQxq88dPp4dT811T9Kev/dDheYqq9Xdv5iwKGb2ucMIBfPktFS8v07NSVx4LBO6jiHKGkGBo4i1v39GlDXCuKY6mW0qctQQ1LesVkywh7IwsBKRsyI4BZqrXg1GzJ4l3vv1Y2ZcMtkI9a5K79bkeSImLIq5fe8mvSCTMNVKictBSlSS13yyJDG5+3ifKI5gz1epyfc/FaZOncrw4cMZPHgwUNac8dChQ7z44otAWTd7TdPo2LEjDz74ILNmzeKvv/6ibdu2pKens2zZMnbs2MGOHTtYuHAh/fv356qrrmLbtm0UFxfz1FNPce655zJ+/HimTp1K9+7dWbJkCRs3bkRRFK699lomTJjAjh07WLp0KSUlJdjtdu6//34GDhxY5+8HjWysuN1udu3axcqVK4mIiOCOO+7g/fffNzpgAkyYMIGRI0d6jUtPT2fcuHENvdyQ5VRPnGub6Dah6xjTz5Elpcqa602lJntzldWa3D+rbOHmC8cam49VtnjNYVWsXN9lBC9+97oha3f2uBFd141rqpPZpiJHDUF9y2qpw4WqyMiyhKbpWFTZSLoXCGpDc9WrwYjZs0RucR4J4XHV6t3ahKM7NCevfP+21+FWRWRJ4ZN9W7wOtz7Zt4XbugWvTNRnOP6IESNYt24dgwcP5uDBg5SWlnL22Wcb7x88eJAtW7YQHR3NwoUL6dChAy+99BI//fQT1157remccXFxrF69mpUrV7J8+XKef/55470NGzbwww8/sG7dOpxOJ9dffz1Dhw7ljTfeYMGCBZxxxhl88803PPHEE03DWGnRogU9e/YkIaGsDN7AgQPZu3evl7ESExNDTIyo1V0Xqjpx9mfpa7pGdlFuteFjFd3Ca3//jGm9bsFeWuhzIlJdzfWmUJO9qcjqqZz+VHX/7CUFbPrfNvqd3suQrU3/28bwToOMMZquGYYKlMnai9+9zp09JgA174DcFOSoIahvWS11urFZZE8OLlZVwSGMFcEp0FT0aihQne735yWPtkVWu0f4C0d/YtAcdF03PlPHtyDL4krPHTFhUVzbeXhIedHrMxy/b9++PProoxQUFLB+/XrDK+KhQ4cOREdHA7B9+3aWLFkCQOfOnTnzzDNN5+zTpw8AHTt25LPPPvN6b+fOnQwZMgSr1YrVamXt2rVAmQdny5YtbNiwgT179lBYWFin71WRRjVW+vXrx+zZs7Hb7URGRrJ169ZqY+YEtcffiTNgaum3jknhqD2dYmdprRPdHG5XlSciguCmfk5/dHq178aTXy0z5ryv920YT7KAS3OZylqLiAReuPJx4SUJMUodbqwWBf3kPbaoMvlFjkZelUAg8EdNdX91XnJ/mIWQxYXHkl2c6xVCVpOE/VD0otdnARir1Uq/fv3YvHkzGzZsYPny5V7GSlhYmPGzoiheEQv+8OSPS5JvHpCqql6vHzlyhISEBMaPH0+PHj3o0aMHPXv2ZMaMGXX5Wl406p0977zzuOWWWwwXUmpqKtdcc01jLqnJ4jlxTopMIC48BlmS/Vr6ucV2vjrwHfHhsTzafwYzet9Ox8QOACebQelGKVmPWxhgRKfLeeG713xOREQ5wdChPkpCOjU3z2z/p9ecz2z/J06t/KS9ohx56JbaBVmScetuXJpLNP0KIRxODevJZpCACAMTCIKcmpYMfvzL51i49QXmb1nKwq0v8PiXz9Vof7DIFrqldmFG79uZ328aM3rfzvguo3zaGngS9itSdQhw9Q/ewYDZHhfIAjAjRozg1VdfJS4ujtatW/u9rmfPnqxbtw6AP/74g/3795saJFVx0UUX8dlnn+F0OikuLuaWW27hv//9LwcPHuSee+7h0ksvZdOmTbjdgdP5jV4mZ/To0YwePbqxl9Es8Wfpy5JMr/bdeHTLUq/ktU/2bWHYWf159ptXyC3OM7wwnhCzKGuEKB0b4tTH6Y+/wguaXq7IomwRTO99O09vX05mUTbdUrsw+pxhzN/8tFcp43ZxqaiiulfQU+p0Ya0YBmZRjAphAoEg+KhbyeDq94coWwSjzxlm6PiyptG3Exce6zXnd0d2e+0FHt0fZSsvthKKTSHruwDMhRdeSH5+PmPHjq3yuilTpnD//fczfPhw2rVrR4sWLbw8LzVh0KBB/Pzzz4waNQpN07jxxhvp0qULo0ePZtiwYaiqysUXX0xJSQlFRUVERERUP2k1iF2/GeMv8d6taz4n4S/vWMnD/abx/779P/ZnHQAw4i0rumNF6djQpj7K/6qSYjqnIpWfvBeUFrH6l4+MhMnEiATDWIbyUsaP9J9Oi8gEn88QBBelDjdWVTHOPIVnRSAIbmqi++uyPxSUFhkGCJTp9CXblnPzhWNZuPUF47oebbp67QUFjrK94bZu40xzZT1z1Uc7hkDSEKFrGzduNH5euXKl8XOPHj2Mnzdt2sTEiRO58MILSUtL44YbbiA+Pp5Ro0YZ+eKbN2/2GusZX3HOadOmMW3aNK/Pv//++7n//vuN3+fPnx+YL4YwVpoc/hLkPN3AXbobi6wiIeHQnMzvfx8b9n3Bun0bDUvf30m4S3MbhornNafmMkLMNF0TpWNDHH+nP1G2CHKL7X4TLyvKlyopxIZFU+goxqk5sSk205Oy2LBoY06AvNJ8lmxfDsCzQ+abyqBbd5NZmBXQso+CwONwaWWelZNYVQWnS0PX9VqHHAgEgrpR05LB1e3fNSlD7w9/5enbxLZiTp8pRg5Mm9hW7Erby660vcbYfh164dRcpBdkokpluXChGMURDAVgTj/9dB5++GE0TUOWZR599FFkOfj3UWGsNCH8uUZTo1tyOO+Y18PinT1u5K29a8ktzmN679sZ3mkgIBETFkVOca55w6VKzxiVT1RCMelN4I3ZPYyyRXDUnu7X5e7SXPyVm+ZjjGw/tNMwgh/uN41H+k/HrbtRThozafkZXnN6ZHJ/1gE0XTOVwaP2DBZufSEk3P7NmVKHi4iw8sRby0nDxeHSsFXIZREIBPVLTUOmarp/n2qCvVl5+vt630qho8irKM+MSybTLbWLYaz069CLy/92qVdI8EOX3SuiOE6Rzp07s2bNmsZeRq0Ru3wTwm/CfEm+l/s1LjyWUpeTO7qPZ0LXMaz+5SOvEwlVVrmzx41GMpjnQbJigpg/r4lZIr8gtKh8DwtKi6pMvMwttvu495/evpx+p/cyfv90/5folKdCFjh853zxu9e55uyhAGz582um977dRwbf+/Vj0zUIgotSp4ZVLf+/7+lkL/JWBIKGpTZFU6rbvz1l6JMjE4kLiyU5MpFN/9tWIz1sVp4+r6TAJ8F+ybaXmdB1tKH7r+o0yCcs/fUfVzPjksnVPo8Img7CDG1C+Et+c2vlYV0dEztwXeerfDq/6rrO3I1PMavPHURYwnlr71ovd+1be9cyqes/mNfvXmRJFmE4zYjqkipdfsIGPbLRr0MverXv5nUy5q88ZeuYFKNUcaQ13PDGyJLMs9+8YhqGKAg+Sp1uo3s9lIWBwUljJbKxViUQND8CWzSl+jL0/jArTx+mWv3uHR4PT8XnFw+70vZy0wXXiiiOZoS4s00If6XxFFnxKi/sMVSgPHlep/zERUIitziPJduXM3/LUpZsX05ucR7Zxbk8uuVZLLJFeE2aEdWVXPQk0Fd+31NqePhZA31OxjxhXpXHKJJsnOpZFAstIhNoGZWERbaQW5zndw2C4MLhdBveFCj3rJQ4hHEpEDQkgSyZW5My9P6QkHzWUeJy+FmbxfDwqLL5/gKIKI5mhLi7TQhPgpznP3K31C7M63cvOjoPXXYv3VK7+C0vXOgoMn6WJdlrHo/35fu0n5jQdQwl7lKjz4qg6VNZriq73OPCY3xCtqb3vp0tf34NlIUWVJa5ElcpU3pM9BozpcdEvxtOTFgUc/vezZw+U5jfbxpz+kxhbt+7hds/SHE43ahqeZKbEQYmKoIJBA1Kdfq7NtSkDL0/ZEliWq9bvHR4i4h403AuT0GXzMIsFFlhzqVTffaXxk5UFzQs4liyCVExQU7TNfJK83l0y7NeiWuxtijTxLQTJ39Pikgw5nmk/3ROFOVgL81n26GdXNL+Iq/wMZHg3DyoLvFSlVXaxaX6JNAP7zSIK87sB+Ajc06XE5vqnahpUy0osv/ka4fm9ErEnNnnjvr94oJTxlEpDMxSMQxMIBA0GIEsfFOTMvT+UGQVp+b20uFTL55E6+iUagu6zOxzB48NmIlTc6JICnHhMaLfVjNDPGU2MTwJcrIkmyauSZLMzEqnLHf2uJG1v3/mdeIiSzIJEXGEW2ys2L2KC1M7+4SPiQTn5kPlxEvAOPnKLbYjS7IRstUiMgGLUu7GjzfxvMRHxPHM9n95dUJ+Zvu/cGlOY86Knjt7SYFRLhPK5G+xkL+gxK3puNw6FqVi6WLhWREIGotAFb7x50X3lKE3090eNF1j2beveunwZd++ilt3V1vQZfHWl5Al2dhfhKHS/BB3vIniL6nOpblQJMU40daB5MgW3NvzZp+k+YonMiXu0pCsay4IPLXtHmzmefFXJz+zMId5m5f4zBnYJFFBfeI4aZCYhYGVlIr7JRCEKv686JXL0JvtB2YJ9p7+bRXxr+ud9ffFBEGP8Kw0Ufwl1YHEwq+WGSfab+39gMN5aT4nIZqukVtsJ6soB4BwNSxgSXqC0KY2pTAr46kZY1NspvJkL803nTOQSaKC+qXcWCnfXlRRulggaBKosurlRS90FJvuB/mlhV7eFqtirZEON0vET4pIQEI0k23OCGOlieIvqQ7wKWP8yvdvc9dH85i78SkO56Xh0lwczktj7sanmLL+QeZufIqckjzm9r1b1DUX1NrL4Wka+fDmp7n7o3k8vPlpThRl83C/aT5FHNb+/pnpnIFMEhXULw5n2cGHRa4YBlYW014sqoEJBE0Ks/0gLjyW7OLcU3qGUGWF+3rf5nXdfb1vQ60in1HQ9BHHkk0Uf0l12UXl3enNyhgv2voSj/SfbhozumDgLFHXXGB4OWraPdhf08hH+k835EkC/u+Hd736qFScM5BJooL6xeHy9ayUN4UUxopA0JQw2w+uOXuoT85sTZ8hXJqb93752KvP23u/fMxNF1zboN9LEFwIYyXEcLqd5Jbk49bcWBULklT2n9siq0RqgMuBpKgokbFGUh2UhXXZSwqMMsav/7jabxljf+UJXZoLi2yhJg2gBE2XmLAoHuh7NxkFmUYlr3axqbg0F+kFmaiVqrW4dDdx4bFem8/a3z/DrbtRUQEdRVYZd94oDuUe8aoAU/HUraI8C4IXIwxMMTFWnKLcuUAQDHieCZya08hXlQB3YR6622U8R0iVjInK46JsET77QWp0st/8lKRI7xCvyujo7Erby660vV6vT+g6hszCLNGQupkSMGOlpKSEzz77jOzsbHS9/GF20qRJgfqIZo/T7eRw3jGe3r6cuPBYru8yghe/e914uJvebTyWDa+hF+bScswcrMntkCTZNCF6xiWTibJG+i1DaPa6pmvM3fiUKF3czNE0Nw53qVcJyum9b2f1Lx+xK22v8Xu7uFRUWcUqW3xk9c4eN2KRVS95mnHJ7dzVYxIaGiUuB1bZ0thfVXAKeIwVRTbLWRGeFYGgsfFXJKWlW+b424/iystEjU3yeo7wN25mnztQJcVrP3io372mzxA1CeVSZdVve4VHtiwVzx7NlIDd6enTp/Paa6/x+++/s2/fPuNfdYwfP55hw4YxYsQIRowYwZ49ewK1pCaDJ9k9t6Q8nGZEp8uNhz84GVqzayW2UfdiveJmsr96F3dhWcdve0kB7/60jgldxzC/3zQmdB3Dqp/Xo0gyd/a40aeMsVWx+uQHzLhkMit2rxali0MQj/xUVVayIi7NxYnCbNILMjlRWOZRq0huST5LtvmGdV3WoafX77nFdgAkSfKR1Re/e52sotxKpbWXY3cUGKWMH//yOSFfIYgnZ0VRyhNiZUlCVWSRYC8QBAH+iqTk2Y/jyssEwJWXScaqhbjs2TjzMnEV5GAvyTcNEc8rzfd6vvh8/1c+eSdTL55UI+NC9vNcwslDcPHs0TwJmGdl3759fPrpp8hyze0fXdc5ePAgW7ZsQVVFRJoZFU8y5va921AS/kK4TpTaeeG3D5jeexzayf/cmu5myJn9vBo6Tu4+Hk3XeGvvWq/wnLf2ruXenjfT0i0z79wxaNYwZEcJqiXcxy0rSscGP7UtM+xJhvcYxZW9JGXXmIcJRlkjvH53n+xq7K9kZeVSlGZzCPkKPTy9VCyqt3xZVVn0WREIggB/RVL0CO9kd1deJm77CdJen4sam0TYjY+YjosLi+HF71Z4PV/E2qK9mv5aZAW3Vv3/f4fbYfpcMq7L1V6fKfaG5kXALITExERcLhdWq7XGY/78808AbrrpJnJzc/nHP/7BDTfc4HWN3W7Hbrd7vZaenl73BYcIFU9ANF0z3KMFjiJTV2mBo6jsZPv7N1nQfzpWQNN1n0T6l3esZH7/6eQW57Fk+3KvOVQkwxXsIfL6h2qVVN0cCUZZ9XeC9vjA2ab5H1Ulw7c4GWusyuZhggWOIq/fPV2N1ZOlKCtfX+JyeH222RxCvuqH+pRVp8s3ZwXKjBfhWRHUlmDUq6GO5EcnK7ZIr+vU2CTcRWURGq68TPSsY6bjMgpO+DxfPND3LhZufcHrukf6T692bRbZYvpcIvaG5k2d7/arr74KQFJSEuPHj2fAgAFYLOWx5lXlrNjtdnr27MlDDz2E0+nkxhtvpEOHDvTu3du4ZsWKFSxbtqyuyww5PElsJe5SJnQdw9rfP2PdHxu5r/dtPLP9n6z9/TPu7HGjVx7A5O7j2XZoJzN6306UNQIXOpqu+W3ABzqz+tzhc+oeqUFOBUMFwPHFO8y8egqLT1b4EKVjfQlGWa11mWE/xRU8XhKAuLBoZlxyuxEKVjFnBTxhg7cbxlCkBtMvupGnd5bL6oweE7Haoo2Nz2wOIV/1R33KqieJ3sdYschGpTCBoKYEo14NdWRJYnL38T7RFrJqQY1NMnJWkobdSfYXbxnjzJ4DZlwymX9//7bX/JlF2ZS6HMaziKeoil6D4jyeMvUVn0vE3iCos7HiyUuJiooiKiqKAwcOVDOinK5du9K1a1fj99GjR/Pll196GSsTJkxg5MiRXuPS09MZN25cHVcevJiF7kzuPp53fvqQz/77FQ/0vQtFUrAqFhYMnInD7eKoPZ1th3ZySfuLvBTQrD53EGOL8pPsppqWg9UK8wyF5UEvzCVVDvcKDYt1y6JNUwWCUVZrW2ZY9VNcweMlAZBlBati83Lxh1vCGXbWAK48a0BZcrxiM8LMJFnBoli9rlcllRay1Vue5DBu63Y9k7RrRWnieqY+ZdXpCQNTvLWDRVEodYhqYILaEYx6NdSRJJlP9m3xCrX6ZN8Wbu02ltSJT6K7XYDEiU//TWnafmOcre3ZlMqqly6PskaSW5znNX9SRAJhFhsrdq/yKqpiVaqPvDErUx9li+C2buPE3tCMqbOx8uSTTwKwceNGBg4c6PXeBx98UOXYXbt24XQ66dmzLDFX13Wf3JWYmBhiYppXuVKz0J2Xd6xkQtcxrNi9iqFn9qNVbLJRZlDTZVyRLbiq0yDySwsNT8z+rAMs2voSjw2YwX29buWZr//lpThkXTctBytFxtJyzJyy5DpPVZDRs3DZM3F98Y6hvEpjk0id+CRqVHxD/4mCkmCUVbNTqqpOpWIklem9b+Pp7f+scKp1GzFS+f9Le0kBT3z5nJdB0y21C9d3uRp7aT4uzcWbe9ZwW7dxxIXHUCjD279vOJmAb8WluXj79w1M7HAZhW89ZsyhdbyIFoNvAXQkRfQrrk/qU1YdfnJWLCJnRXAKBKNeDTV0XfMqSRwpSYz+Wz+e3lV+sDm923giXRpqdIIxJqHvdWQcP2g8B8gXD+Pt3f/x0uUb9m1hxiWTjb4qHm/LGz+u8SmqsmDgrBqt1+y5RJStb97U2VjZvHkzLpeLRYsWoeu6UbbY5XLx/PPPc/XVV/sdm5+fz3PPPcc777yD0+nk/fff55FHHqnrkkIef6E77eNa8/jA2UY9dMfxv8hYtRApMg7X0JtYsmOFjydmf9YB0gsyWf/HJub2vYsCRzG5JXllifQ9zEP0JEnGmtyu7ITFUYIjO40Tn/wTd2Gu4RYuTdtfFsPqFkluwUxtmylKzlLCv17Pw5dMQVNkZLeGe/v7SH3+YVxTWT47JnZgyJn9ePKrZZUKOJQ9mGq6ZlrgAclmzGFL7UjcRUM5tvJBv2UzBaGBw+UnDEwYKwJBg6PrmvGsUPHwMfL7TTz096vRw6ORivNxbngN6ep7jXFezwEnjZxcSTfV5bG2aK89RtPdpgV5XDVIsBcIzKizsfLbb7/x7bffkpWVxeuvv14+saoyceLEKsf269ePPXv2cPXVV6NpGtdff71XWFhzxV/ojk2xGacLroIcQ/lEXHEzC08aKuDriSlwFLErbS+Hco8woesYlmxfXqOa57rbXVb++KRB4srLJPOjF0kcNImM1YtQY5OMtZg1jxIEB7VppigpKs6DP1G8Z7PxmhqbhHTZ9cbvleVzRKfLTQs4PNL/Ppx5mWiqYl7g4dK7aDl6FnJYFEpEDFlb3vQpm9lq/ALKPC3mDcoEwYdZU0goM1aKSsXhhkAQKCp7TMx0pLswz3hWgJO6dfUiWoy4B73Ijuxyo7k17JFxoKi4CnK85qsYOaEXZvst1pMQEWdcl1tsFwV5BAGlzpIzZcoUpkyZwptvvnlKMaT33nsv9957b/UXNiNqErqju12G8tHDo009MTG2aMPD4nktyhpR1sip921Eh0Wbfr7ZSUxFj4ocFlX22pVTOb7madyVmlAKQhfFLARwzByUyFjjmsryGWMzlz/N7ebwsjuIuHWxeZlMSSbr81e9ZEwrzDXCDCuXzRQyFho4XBqyLCErMppWnlBrUWUcBeJkVSAIBKYeExMdqbudXvmnAEpkHIrFRkYF/dvymplompuM1/17tzU/BVg03fv/dW3DjwWC6giYmZuTk+NVsUOSJMLDw+nYsSN9+vQJ1Mc0C2oSuiMpqpEELxXnm55iRNsieXHH6+zPOmC8lhSRwKOX3In7+41w8VVgkm9idhLj8ahkff4qamwSiVfcSvaWN4wHy4xVC0X+ShPAzPVf+bSusnxK6OYFHKSTWSf2LNP39aw0UxnLWL0I8C2bKWQsNHA43WX5KpUK/1hUxfC6CASCumHqMTHVkZJPwZy4PmPIWL3Ie+x7i0m84tYq51NqUIAFah9+LBBUR0CbQu7evZvBgwejKAqff/45rVu35pNPPmHv3r1MmTIlUB/VLKgudKfiCbhz63tMv2KiV7LczN63gVszqnQkRSQw/cJxlKxagvOkgRF/0VBvN7JqBV1Dd5b6nMS48jJRIso+E0Ul490nfN4X+StNA0mSqzUIKsqnozCXmb1uZXGFAg4ze91KREkJuYBz63vMGDKJJRVKF8+8ZDKOD17wmtMjY4Bp2UwhY6GBYaxUslYsqmx0txcIBHWjYnSFB4+OrBjKBZA8cjruYjuyJQzNWYKlRRvTsbIlzHQ+D3Fh0aYFWOJMojRqE34sEFSQ+cpFAAAgAElEQVRHwIyVrKws1qxZQ1JSWR7D5MmTueeee3jzzTe55pprhLESYCqfgKNaWdB/Ok6XAz07Hcfal5Cj4nls0F24FQXtxFEcn75uGCpqbBKSohpuZCUyjoR+N5C5fhmJgyb5nMSosUkoMS1QYxJwm5Q29swnaH7Iuk7E7i/LPHaygqK5cX+/EXfbTmXvAyma4lP2Oicyjoo97NXYJOSwSFrd8KiRw1KxbKaQsdDA4dSwqopPRwXRwV4gCBwVoys8qLFJoLlJW/mQEcrVavxj6G4XWRv+ZbyWfM1MwjteRPH+nV5jNWeJ12dU1rmqYqFdbCqP9J+OW3OjyApxYdGoigWBoD4J2M6fm5trGCoA8fHx5ObmYrVafcoRN0U8TRydmhOLbKmxy9Nfglzl15FkdJfD65qKJ+Ca5iIqP4djK+cbyssJODMO0Gr8YxCXwomTD4dl1UBmo+u64UZOHDSJzPXLcOVlkvv1+yQNu5PMj170il1VYxKQJLlGeQ2C4KEmSZgVqbUsSzLRZ3Yn883HyjfDa+eiF9nLDI/IWNLfWeC1qZbGJtFq3HyOVSiL2XL0LFwlBUiAq6SAhEv/4VU2s+XYhwBw5mWKhPsgxuFy+5QthrIwMKdLQ9d1JEkUphYI6oLpPjx6Nic+f80rlMuVe5zMdc97vXb8vcWkXD+f9Ar6NXnUDKTwKFpe+4DhgVFatKVAkXEWZhl7gapYaBGZ0JhfXdAMCZgV0bZtW55++mn+8Y+yEqerV6+mXbt27NmzB1lu2g8UZk0cZ/W5g7axqVU+5PlLkLMktcGZecQ7wf3KqWRvecM0mV3TXDgz/kJ3OUxdux5l1XL0bOQht4HLwYnPXyOux3Djejksyvi5NG0/2V+8ReKgSViT2yNZbF4PhjXJaxAEBzVNwvRwKrKsa24kRSXxiluRLWEocUm47dnGBpk66SlTuUSWvWTIXVrEiZNx1B7jxHhfteIuyCHt7ftFaeMgx3/OStl9crg0bJaqKxEKBIKqMduHdV338pZ4MNO/ErqhszVnCVJYJDiKDQ9M+JndKR1wHYs3/r9aPdcIBPVBwCTuiSee4OjRo4wcOZLRo0eTkZHBggUL+OWXX5g9e3agPiYoMWviuGjrS9hLCqoc5y9Bzp2f65vgvn4Zcb1Gll9TWN4x1p2fS8Z7i3AX5RnlhD2osUloJQUnyxU+BZrGsTfnU7x/J1pJgXF9xZ+hzGDJ+vxVJIsNNSre54HQ49WxxCaZvi8IDvzKWGGe6fWnJMuaxvH3nybj3Sc49sY8cJSSufbZckPYYjOVS5AMGQLIePsx73W+XdYw0hKbBLpWq+8haDwcLvMwMI+xUuoQoWACQSCovA+jaT66VnOWmOpfR3aaobMz3n0CV3YaGavKD5akrv1ZfDI3BWr+XCMQ1AcB86wkJCTwzDPP+Lx+/fXXm1zdtPDXxNGpVZ0MXDlBzpbakbheI0FzkThoErlfv+9VxlU+WfbPJ9FYc/kN3/IkKZvNXfH63K/fJ3nUDNxFeUaSnRqXbCTrCc9JaGKWhKlExqG7XabhVP5l2elTf79cHnSvz9Acxd6/u0pN5RIw5vSsq+K4inJeVTKpILhwON1YLGZhYGWvlThcxERaG3pZAkGTwydcXFV9kumVmBa0HD2bjNVPeYXcnvjkn15zyZYwLx3rryVCdc81AkF9EDBjZffu3TzzzDPk5eUZXewB1q1bF6iPCFr8NXGsrgFSxQQ5W2pHEi673tTQKE3bb3hIwCTRWC6bp2L4lhIRixIdz/H3lwL4nTv7i7dIvOJWrEnt0YrzvZLwqgo9E4QGlZMwbakdSeh3A8cqJGBWvLf+ZFlxu0l7fa7pmMqf4S7I8f7dnoV9zxYSB01CDotCKykgd+fHtBh8M2mv3e8jb6WVikCYfY/K7wuCB6dT85uzAojyxQJBADDvTD8bZMU7mX7kfRAe7RXyJUfE4i7M9ZrP44ExPCt+WiKIxo6CxiBgT57z5s2jf//+zJ07l4ceesj41xzwNEBKiihLOqtpAyRPgpwam0Rcr5GGMQHlfSfieo00HuRyv37fNJldiY6j5TWzDIMl6/NXkVQrmqwQ12cMScOnormdKJFxXnMnXXU3cX3GoManICmKcfJiXFNF6JkgNKgoY1BWX99TSAF8w6nMZHnmJZMp/fRVv2Mqf4Z9zxZaXjeXltc+QKsbHkUOiyK+3ziyPn+VY2/MI+vzV4nrfiXuojxfeeszBsBHzit/hijqELyUOs0T7K0WEQYmEAQK8870T6G5SkkcNIlWNzxK4qBJ5GxfUxbiVSHkK3fHelpeM9NLn6qxyV46Vt+9mZm9b6v1c41AUB8EzERWVZVJkyYFarqQ4lQbIHklyPnpbWJNbk/qxCdBkkkeNd28SZ+sYmnZjlbjF4DmAllFjorFdeKot6ekgqfGlZeJuyCHrA3/ouWYOeiqeZiN39AzQUjgU+Ja06oMpzKT5QiXiyP7dvgd45PoabHhtp/wlr0R99LiyqlIkoRWUkD2ljdI6D/eZ05rYhvaTn3ZR85FUYfQwem3GthJY0V4VgSCOuMvxFdWrRyv0Jk+adidSGERXtflf/chcRcPL6sUqrlBVpAiY1AUi5eOlSKiRWNHQVAQMKnr2LEjf/zxR6CmCzk8DZCSIhOIC4+p8X9oT4Kc5CcJ2ZPgrkbGVpnMLssqltgWWOJTsMS2QC8uMO1CH9drpDG3kXi/aiGeLreVP99v6JkgZKiYhClZrOZyVuHe+sqyuWxUHFPxM3Snw6c7cubaZ9FLC8tO9lYvwl2Ya17T32L1K+eiqENoUFpNGJjwrAgEdccTGluRuD5jOP7eYp99v3KzRzU2Cdwaltikk88MSaiqzUfHKrJ6Ss81AkGgCdjT5+HDh7nmmmtITU3FZrMZrzeHnJVAULlmenjHi2gxaGLZ6UmRHd3pMLwmSnQcsqxW2T/DX0KyHBbl0x3cU0a2cs12Tw6BCLlpOpxKjxzTMVX1PNHMZc+S2IZWNzxaFhsdnwJgxEgLGWs6OF1uVMW/Z6W4VHhoBYK6okTG0nLsQ7hy0ss70yekmpcplhVvXXvNrLLoC79FUwSC4CJgxsq0adMCNVWzxCvMRdfRCvM49uZ8wtp3JqbbFcZpiUfRqMltcZ046rd/hr+EZDU2icQrbjXCwTyvS5LkE2ZTVeiZIDQ5lXAqnzHV9TzxI3vuwlyOvTHPqEajJrUVYV1NEIfTjVpVGJjwrAgEgcHl9Aq3bXXDI+Zd7VWraZh4TftvCQSNTcCksnv37oSFhfHnn39y/vnnY7FY6N69e6CmbxYYIWGSZCS7x118FTlbV3klzGVv/Q9afi6u/CyvpPmqkp6Nk+uYBNToRKMSSMUT7cou4OpCzwShyamEU1UcY9bzJPvLd3DZs3GefC151Awv2Uu6cqpRJbAsEXQRWkGeCOtqgjj8hIFZT4aBCc+KQFA1uq7hKsjBmZdZ5v3QNZ9rzBLsnfnZJI+aYRQ3aXntAySPmgGSVG2YuCiiIwhmAuZZWbNmDa+88gqlpaUMGjSIO++8k2nTphkd7QU1xyuEy2Il7qKhPmWHdTSyNvzLJ2neb9JzhZNrkagsqAum/YEuGsqxlQ+Wy+jwu6pMqHflZZYldgqaFG63hlvTsZiEgRnVwJzCWBEI/GFaktjE62EW6i2rFnRHqXdxk+F3+eha0bdKEGoE7Al15cqVvPvuu0RFRZGYmMiaNWtYsWJFjcc/9dRTzJkzJ1DLCUk0zYUz7wTounEqLemYljSWkMuaO+78mLheI7GldqTltQ8AEs68EzjzMnEX5qGYeEdEonLzovIpnaa5qjy1MzvVq/gaYMgnYF52e93zvgn1FTofq7FJIAu5a2o4XGWypFSRs1IiwsAEAr+YliQ28XqYJdjLljAy1z3vo4srYzZWFNERBDMBk0xZlomKKq+/3apVKxRFqdHYb775hvfff5/LLrssUMsJOTTNhTPjLzLeW4QSGUfSlVPJXL/MqNhVEVdeJlqxnazPXy0rSxgZQ0K/G8jdsd7HCyPiUJs3pqd018wie+t/KN6/00dGTK8f+xC4nF7FH5JHzeT4mrI8KiUi1lRGlYiyZHk1NonkUTPJ2bbK+D1p2J0g10w/CEIHT8NHiyr5vOdJuhc5KwKBf2rq9ZAjoml5zSwy3ltk6GpkxXQslQ6kTqXQikDQmATMWImLi+O3335Dkso2qQ8//JDY2OoFPzc3l6VLlzJ58mR+//13n/ftdjt2u93rtfT09MAsOohw5+caSseVl0n2ljfKOs6GR5kmzLnsJwwvS6vxj3HsPwtJHDTJ54Q7Y9VCUic+iRoV31hfrdkQjLJqekr33iISB02ieP9OHxkxu96Vk26EFQAU798JQMq1c3EX2VGi4k1lVIlJpO3UlwGJ3J0fEXNeP+J6DDc62CcNvb1h/xgCg/qSVYez7KHIYnJQJUkSFlUWnhXB/2fvvuOkqu7/8b9um7JltheWpYkIiigoLFIURUUjGoJgxBBFDQFsmIggoikYFSzoVz/8jKImYqLYDRrFBhZapIh0Aemw7LLA7s62Kbf8/pidy5Q7/c5Oez8fDx66M/feObvzPmfm3HPO+0QkGdvV+GK0F8nD+waA3NqEUyvfQdGVt4E15UC2NUNqOqV9rkYaeJoOTlKJbp2VOXPm4N5778WhQ4cwfPhwGI1GvPDCCyHP+/Of/4w//vGPOHbsmObzixcvxsKFC/UqZkIFSzXsm+7VXr0HtW8/jorbn1BHWXw3dwTcc/9lNS0xzUNNnGSM1WAprD1/dseI5jxoweT3WNue9UD7GhSFZVBy3T3q9APPkRMhtxCKIsPSbwTdxUsi8YpVp+jqiHCc/8gKABgEjjaFJBFJxnY1rlgWJaPv9FunCp73SjWsSCLa9qxXbx4BrvWDpeNmemUPLRl9JwBopimmm5gkVejWWenZsyeWLl2KAwcOQJIk9OjRA4IgBD3n3XffRadOnTBkyBB88MEHmsdMmjQJY8eO9XqspqYGEydO1KvoHSLkojlWO90ra8iCKDrR6bdzAQVwnDzil3YYHKdu4Kh1DZqH2jGSMVYDpbD2XT/ijhGt42WnTfMazoYa1L79ePs0r/tRfM0dYDjeb+SE7uIln3jFqrsjorXPCuBat2J30M0TEr5kbFfjiWEYNKz/1GvEpHnvJljMuWqW0EBpiqWWBsiiw+vchvWfonjU7ah+LUCqeUJSQMzfYv/5z39qPr569WoAwG233Rbw3E8//RR1dXUYM2YMGhsb0draiscffxxz5sxRj7FYLLBYLLEWM+ECLZpzT7/hcvNRNn6WuvO3O4tH3UfPw169x9U4TXocLG/0Sjtccu3dYDgBZTfMxqlv3/K7I0N3sDtOMsaq5tzk9jUrAPw2eATLoeSX96Luo+fU47msPJSNf8Drg9K9YSjgiuXjHzyNoqt/j5olj2jGHd3FSy7xilWne4F9gOQJBp6lNSskIsnYrsYTl52HwhETvNrsThP/ihNfvuY95autyX/WxS/vBWvOQe3S5zza+5lo2LCMpoeTlBZzZ2X37t1Rn+vZ0fnggw+wbt06r45KOgm1aI5hWEAwutaptO9Gy/AGr2MhOlxrWTwarFNf/xul18+AobQrSq6ZCkVRXJs/QaE72ERzVIPNynXFivQ7zQ0eS8fO8BolOfn5KygdP0u9BhQFxz98Rh3dA1zxaSjqjC53v0hxl8HcIyuBpoEJPAe703/PCEKIi1abrSiKX/Kc8pv+hLrPXvH+PrB8MUrHz0Snm//mSlfMcgAvoOn7j7xeg6aHk1QTc2dl3rx5IY+577778Mwzz8T6Uikt0HQc9/QbqaURtUv+5vd80ZW3ofa9J9szffCQWhpQ+96TftegO9ckEK3YYNt/Fpvr/Ub8jn+4AEVX3oaaJa444/NKwDCMeg1n4wl1dM/NHZ9CXnG8fx2SxE5nA6NpYIREy7fNdjae8Eue46yv0f4+wLDg84rUx8TmepoeTlJeh9z63L9/f8hjrr/+esyfP78DSpMYAXeUb58qo0giuGzXVLBOv30EZeNngcvOB2vKOX1sbn7QaxASqUBx55l22DfGuNx8lI2b5R2H42aBy81PyO9AkofaWQmwZoUW2BMSmu9eV2BZv5kZDSvfRdn4WSG/D4T67kFIKqCudQcJtciY4Q0ovOy33vNPr70bfGEnVNw6j3afJ3ERKO64/NKAU7pYlodQ1tU13VAWAZYHl5sPlqXmJNO5p3gFWmBv4Fk0tzo6skiEpBTNZDzjH4C51yCvzF9SSwO43KKQ3wfoewNJBxStHSjozvGKrH5hBNp3nv3vQkCWw78GIZEKEHcMwwSNMbZ9ypdQUA4hr9ivo+J7Z1BRaJ1CJnCPrPAam0IC7dPAaGSFkIA0k/G89wSKr7zVf3QkK9fv+4BW20vfG0iqo1uhSSLQAnyxoRZ1H/8fpRokcRHubskRXTNUmm6Stk6vWfHfFBJwTQNzUGeFkIACtclguZCjI9T2knRF0RsH0dxVdi/A9+TeD4PLzofYdBJiA92lJt5iHcEIFHe+iy8jeZ1AabqllsaIykZSjzqyEix1MXVWCAkoWJscanSE2l6SrjpkZEVRlI54maQQ7Z0Nrf0wSkbfiaZtK1F46W/89k6hOyVEj7tomvuw+Cy+jPR14jFaQ1KDo32fFYFnodXqCzwHh1OGLCtgWe2pYoRkMsacg7JxM1HrsQt92biZYMw5Ic+ltpekq5g7K9u3bw/6fN++ffHss8/G+jIpI9Tmj4F4LYJzOtSd6vOHjvVLWUgbOhEg+ljzFM7iy0hfJ1SabpK+HE4JHMeAYRkosn93xSCw6nEmI8UDIb7k5kacWvmu9/4pK99F8VWTwYVIDU9tL0lXMUfwPffcE/A5hmGwfPly9OjRI9aXSRmx3NlwL4JTFBmyow1SSwNYUw7dKSGa9LqLFmqPnkhfJ5zRGpKe7A4JBp6D5rAKAEFwrWWxOaizQogmWUTbnvVemb8AAFfeGvJUantJuor502LFihV6lCNt6HFnw/duN90pIVo66i5apK9DqTIzl90pwSCwUAL0Vgztm0XaHCIAYweWjJAUwWq3twgjNTy1vSRd6fat5tSpU/joo4/Q0tICRVEgyzIOHjyIBQsW6PUSSU1RZEgtjVAUBWUTHobYUAtWMEF22sAXlEd8Z8NzlIXulBAt0d5FU2O1/cOMzcqF3NoU8MMtmtcJNVpD0pPDKcEgaGcCA6A+Z3fQIntCtHC5+Si78SGIjcdPf4fIKw17011qe0k60q2z8oc//AEmkwk///wzhg4dijVr1uDCCy/U6/JJzXMBMpedj8LLJ+HkZy97fbGLFt0pIYFEExuai+XHzcKple+gbc96zcXzFIMkXHZn8Glg3iMrhBBNktP7O8T4WYkuESEJpdu3jerqaixatAiXXHIJfvvb32LJkiXYt2+fXpdPap4LkPOHjkXdR8/pmjqQNnQigUQaG5qL5d9/EpbzLzv9s0a8UgyScDicMgwBMoEB3mtWCCH+pKYG1L73pM+mkE9CampIcMkISRzdvnEUF7uyVHTv3h27d+9GWVkZRDEz7p55LkCmBfEkmQVaLM+acrx+pngl0XA4JQhC4I8VY3tnpc1O8UWIJjnAppAy1RmSuXTrrBQVFeGVV17Bueeei/fffx8rVqyAzWbT6/JJzXMTJ9nWHNYme4QkQrDNRz1/pngl0VCzgQUgtE8Da7PRFy9CNLHabXQ4C+wJSVe6dVYeeeQRGAwGDBw4EOeeey6ef/55zJw5U6/LJzX3AmQ+rwQNaz5EybV3q40NLYgnycQzVgGoa1asm78+/TPFK4mS3SmpHRIt7gX2bbRmhRBNXG4+ysbN8mujw11gT0g60q2r/vnnn+OWW24BAMycORMzZ87EokWL9Lp8UvNbgMwbaDEySUpai+XZrFyUXDMVivQ7ilcSE3uobGDuBfY0DYwQTSzLQyjrik43P+qa+sXy4HLzwdLICslgMUf/kiVLYLPZ8Nprr8Fut6uPO51OvPXWW5gyZUrQ85977jl8/vnnYBgG48ePx2233RZrkRIiULpA3zSx9EWQJJpWrLIePyuKDLG5nmKWRMzuCHNkhTorhATEsjxYn93q6bsEyWQxd1Z4nsfu3bths9mwe/du9XGO4zB7dvCUvevWrcP//vc/fPTRRxBFEddccw1GjBiBM844I9ZiJQXNNLE+aWEJSSYUsyQW7k0hA+E5FizLUGeFkAhQu0wyXcydlRtuuAE33HADvvrqK1xxxRURnVtVVYXXX38dPM+jtrYWkiQhKyvL6xir1Qqr1er1WE1NTazF7hCaaWLfnY+KW+fRpk1pKJVj1Y1iNjPEK1ZdIyuBp4EBgEFgKXUxCVs6tKuxonaZZDrdJkFedNFFmDt3Lvbt24fnnnsOzzzzDB544AFkZ2cHPU8QBDz//PP4xz/+gauvvhplZWVezy9evBgLFy7Uq5gdKlCaWEoLm55SOVbdKGYzQzxiVZJkiJIcdBoYABh5jtaskLClQ7saK2qXSabTrbPy2GOPobS0FCdPnoTRaERzczP+/Oc/Y8GCBSHPnT59On7/+99j2rRpeOedd3DjjTeqz02aNAljx471Or6mpgYTJ07Uq+hx404T69nIUFrY9JXKsepGMZsZ4hGrdqdrtCRUZ8UgcLA5aWSFhCcd2tVYUbtMMp1ukb5z507MmzcP3377LcxmM55++mlce+21Qc/Zu3cvHA4Hzj77bJjNZowaNQq7du3yOsZiscBisehVzA7lThPrO8+U0sKmp1SOVTeK2cwQj1gNv7PCwmanzgoJTzq0q7GidplkOt06Kyzr/QElSZLfY76OHDmC559/HkuWLAEALF++HOPGjdOrSAmnlSaWMniQZEYxS6Jlb1+HInBhjKzQPiuEhI3aZZLpdOusDBo0CE899RRsNhtWrlyJf//73xg8eHDQc0aMGIEtW7bgV7/6FTiOw6hRozB69Gi9ipQUAqU0JiRZUcySaLgXzYdeYE9rVgiJFLXLJJPp1lm5//77sWjRIiiKgr/97W/4xS9+gTvvvDPkeffccw/uuecevYpBCCEkAdyjJXwYIyuNTfagxxBCCCFuunVWDh8+jBUrVuDw4cMAgI0bN+LkyZOoqKjQ6yUIIYQkKXv7OhSeZ4IeZ+TTO3Wx4+RRWNd/Ctneitz+l8Pc7dxEF4kQQlKabhMeH3zwQdxwww3YvHkzfvzxR1x11VV46KGH9Lo8IYSQJOZeYG8IZxpYmq5Zadm1DkdfuR9Nm1eg9eeNOPbGX9H809pEF4sQQlKabp2VtrY2TJgwAYIgwGAw4Oabb8aJEyf0ujwhhJAk5u6AhFqzYjRwsDskKIrSEcXqMK37N6P2gwUQiitRNn4mSsb8AUJRJer++wLE5oZEF48QQlKWbp2VM844Az/88IP68+7du1FZWanX5QkhhCQx99QuQ4hpYAaBg4LTIzHpwHHyKGrffxpCYScUjrwZDG8AKxiQP+RXUBxtaFjzfqKLSAghKUu3NSvV1dW4+eab0bt3b/A8jx07dqCkpATXXXcdAODjjz/W66UIIYQkGXeGL4Mh9DQwAGizizAZUn9TO9nehtr3ngTDcq6OikfKfj6vGObu56Hpx+UoHHETWGNWAktKCCGpSddsYIQQQjJTW/s0sFBrVowenZWC3LgXK64URUHdp3+H8+RRFI++E6zB6HdMVu8qtO3fjKZtK5F34VUJKCUhhKQ23TorVVVVel2KEEJIirHZJXAcA45jIcuB16O4OyvpsIt90w9foGXHauQN+RWE/DIA/r+3UNQZfF4Jmrd9R50VQgiJAm1/SgghJGY297SuEOvmPaeBpTLHiSM4+dVrMHXrB/OZFyDQL84wDEzd+sJ+ZBfEpvqOLSQhhKQB6qwQQgiJWZtDhMnAQQnRW3GPrLTanB1RrLhQFBl1n7wAhjcgf8gvwYTIbGbqeg4ABS171ndMAQkhJI1QZ4UQQkjM2uwijAYu5MiKsX0Bfmtb6nZWmrd+C/uRXcgf8iswvCHk8XxeKbjsPLTups4KIYREKvVTsRBCCEm4NptrGlio3VPcnZWWFB1ZkUUHTn3zJgzlZ8BQeRYQxn4xDMPA2PkstO3fAkVyguGEsF5LURTYRTsa7U1otDVBlCUUZuWjLLsYDBM8RTQhhKQL6qwQQgiJWZtdhNkY+iPFpE4DS801K02bvoLUdAoFl0wIOf3Lk7FTT7TuXg/b0d0wd+2reYxNtOOrvauwsXoLqq21sDqaIcn+iQgqcsvwm/N+harK/lH/HoQQkiqos0IIISRmrXYRxXnmkMe5F9i3puACe0WW0Pj9xzBWnAm+oBwh57x5MJT1ABgWbT9v0uysVDfVYt63C1HbcgJd8yrQp+RMZAtmmAUTsgQzTLwJLICTtkZsOLoZT69+CTf0HY0bzr1Wv1+QEEKSEHVWCCGExMy1yWPwPVYAgGUZGHg2JUdWWvdsgNh4HJZBo8FE0FEBANZgglBUgbaD2/yes9qa8MjX/w+iLOLOqltQllMCWZE1r9MVlTivrA8+2b0c727/BAXmPFzR8+Kofh9CCEkFtMCeEEJIzFptoroeJRSjgUvJbGDWTV+CyymAobx7VOcbyrrDXrMPssPm9fhLG95Ak70Zt19wI0qyiwJ2VNw4lsO1va/AmYXd8c8f3sGRxmNRlYcQQlJBwjsrCxcuxOjRozF69Gg8+eSTiS4OIYSQCCmKgjabE6Yw1qwAgMnAp9w0MNF6Em17f0R2nyGIdmm7sawHIEuwHdmlPra19iesP7oZvzjrMuSZLGFfi2VYjDl7FAROwKINb0CJYP0MIYSkkoR2VtasWYNVq1bhww8/xH/+8x9s374dX375ZSKLRAghJEJtdhGycnrxfChGA4e2FJsG1rx9JQAFpm7nRH0NoaSLa93Kga3qYyjAiYQAACAASURBVO9t/wRF5nwMKNdedB9MjiEbl58xDD+d2Iv/Hfkh6nIRQkgyS2hnpaSkBLNnz4bBYIAgCOjZsyeqq6sTWSRCCCERcq8/CXcamMnApVzq4uZt38HQqSe4rLyor8EKRgiFnWA7tAMAsOfkfuys+xmX9hgKRJmKuH+nvijNLsKbW5ZqZg4jhJBUl9AF9r169VL//8CBA1i2bBmWLFnidYzVaoXVavV6rKampkPKF4osK2hsscMpyhB4FnnZRrAsE/ExJD0kc6ymAz3qEtVHF71j1d3xCGeBPQAYDTzqrbbQByYJR91hOI4fRP7w8UCI9SShGEq7oWX3OsiiA1/+vBIm3ohzSnqFPjEAlmFxaY+heGfbx1hzaCMu7l4VU/mSTTzbVfoMJyQ1JEU2sD179mDq1KmYNWsWunfv7vXc4sWLsXDhwsQULAhZVnCwxopH//E9jte3obTAjIdvH4xu5Ra1IQvnGJI+kjVW04EedYnq42l6x2prm2tkxRDmNDCTgUupbGAtO9cCYGCsiL5T4WYo7YaWnWvQcGgH1h7eiEGdzwfLxjbJoU9xT5RmF+P9HZ9iWLeBYJmEL0fVTbzaVfoMJyR1MEqCV+Vt3LgR06dPx5w5czB69Gi/5wPdVZk4cSKWL1+OysrKjiqql/omG+5/7jscr29THystMOPpey9BQa4p7GNI+kjWWE0HetQlqo+n6R2r63bU4G+vfo/pv+6P8qLskMd/umY/1u+oxXvzU2OPkMOL/gjWYEbhyIlh7VgfjGxvRe27T+CngSPwWsNO3Fl1C0qyi2Iu4+aaHfjPzs8x++K7cEHFuTFfL1nEq12lz3BCUkdCR1aOHTuGu+66C88++yyGDBmieYzFYoHFEn6GlI7iFGWvBgwAjte3wSnKER1D0keyxmo60KMuUX08Te9YbW51TwMLPxuY3SlBlGTwXHKPAjhOHoWz7lD7FLDY7+2xxizweSX436m9KM4pRFl2MeQI92zRcm5pb6zYtwYf/fRFWnVW4tWu0mc4IakjoZ8Sr776Kux2O+bPn48xY8ZgzJgxfmtWkpXAsygt8N6tubTADIFnIzqGEBKaHnWJ6mP8NLc6AABZpvCmgZnbUxy7OznJzDUFDDB2OlO3azpLKrGbsWNAp766dFQA194rVZ3Px466PTjYcESXa6Yz+gwnJHUktMY9/PDD2LRpE5YuXar+u+mmmxJZpLDlZRvx8O2D1YbMPZc1L9sY0TGiKKOuvhXHTrSgrr4VosYdG1lWUN9kw/H6VtQ32SDLlE+fpD/PuGcZhKxLoQSqj7lmA9WvGDW1OsEwgFEIb2TFbHR1aprbHPEsli5afvofDJ3OBGvK0u2auyzZkBkGZ/G5ul0TAC6o6AeBFfDJrhW6XjcdhdMeBGp3qM0gpGMlxQL7VMSyDLqVW/D0vZcEzRIi8CzuGHceTAYeNofodUdGFGUcqLFi3mvr1MV7D95ahe7lFvDtx9ECP5KJtOL+L7+/CH+YcAEYBn51KVxa9bHmVAv+smgt1a8YNLbYkW0WwDBMWJsTqiMrbck9suI8dQyO2v3IH3q9LlPA3DajFXlOCeUn6iBW9NbtumbBhPPK+2D1ofX4bf/rYTHm6HbtdBROe+Db7phNPA4fb6LPZEI6EI1lRsjzbq+11Q5JkiFJCkRRVu+uOJ0Sjte3ovZUC4wGDnk5rru/TlHBa//djsYWOwDX4j13RwVwzYWd99o61DedTunZ2GJXG0X3MY/+43v1GoSkAq3RQd/HRFFWfz7Z2IY3PtvpFfevf7LDry41tdrDvsPZ2GLHa//dDqeoeF2j5mQL1a8YWZsdsGQZoIQ5pSnLJKjnJbPm9ilgBh2ygLk5ZBHbm2twjgNgavbpdl23qsr+cMoivtq7Uvdrp5PGFjv2HWlA1zILivJM6Fpmwb4jDX7tgW+7c6qxTfMzOZK2iBASGRpZiYDn3d6CXBNuGX02nntrk9eoSJeSHByua8a819ZpHjP9xgFqIyZKiubiPdGjkaMFfiTVaY2SzJ0yBE5R9nrswVur8NYXP+H77bVqXWlocmDXoXr07lqA6y7uibmvnL7jOeuWgTjZaMNj/1wX1h1OWVZw3cU98fzb3vUx2+TdDFL9ilxjix25WYawBx+y2v/mDc3J3Sls2bEKxk5ngjPnxLy/ituOxiNwyCL6GAvA1hx0jdhEuSGkltLsYvQo6IrP93yLX/YZBZ4Nbx1RpuFYoKI0Fw++sMqrDbJkC+oxWu3O7ElVKMg1eX0uF+SacKLRhsfDbIsIIZGhkZUIeI5yjBvZS+2EAKdHRRpbHepoidYxz7+9Se2s8ByjuXiP92jcaIEfSXVao4M1J1v8Hpv32jpcPqib+vPzb2/CuJGuO9rjRvZSOxnu55taHGpHxf1YsFERWVb8rvH825tg9MlgRfUrcg1NduR6fMkLJVsdWUnezoqj7hAcxw/C3LO/bh0VAPihfj9MnIDO+Z3B2lrBNNbpdm23wZX9UW9rxLojm3S/drqwOWTNmQ1QTn/+arU78xevw4RRZ3lda8Kos9SOivs4GqElRD80shIG9w62NrukNka5WYLXnZXeXQswbmQvSJIc8BigfeREcg0lcyyDv00bCklSYHeIaGi2o6wwyyt/u3sRoO/82EgWFhOSSFqjgyYDj4JcEyaP6YfcLAFNrU68v2IPcrNOf+E9Xt+GvBwDACAvx4DzzizG2Et7gWMBSQYcoqRZv7xSjzol1De7pmuyLOt3R/R4fZt60yBQ/YpmB+tM2/W63mrDWV3zwz7eaODAsgwak7iz0rT1W4BhYex8VuiDw6QoCjbXH8DZ+V0hZ3cCALDVeyHll+r2GgBwVtEZKDTn4+NdX2Fo14G6XjtVuaeZipICnmMgSbJmGyTJMv4yeTBMBh75OUbNYyqKc7zajIriHJoBQUgcUWclBM8pLJPH9FMbqKZWp/r/vbsW4OZrzsbzb28KeIxbaYEZjS12OJyS3/Swz9YewE2j+viVIdgifUKSnXt00LMesCz8pkjeO2EAZI95RKUFZpTkm/Hqw1dC4FlcM6yH13SMR6cN1axf7n07nE4JB2ubvBJY3DthAF7/ZCd2HapXjzca+ICJMqJJcJFpSTHsTgktNhG5WYawz2EYBjlmAfVJ2llRZAnNW7+DqXs/sIIJ0Cm98MHWE2hwtqKXpQKyMReyKRvs0b2QztHeZyxaDMNgcOUALNvzNXad2IvexT11vX6q0Upm88Q9wzXbIKPA4e/vb8Hx+jY884dLNI/JMnm3GYoCzbaIPqsJ0Qd1Vnz43hFlGeDrDYfwl8lDwHEMHp02FK9+tA3vr9iDByYNhLXZgbLCbDQ02V2NmJHHn343GCca2pCTZcAjU4bin//dps7Dv3fCAOSaDfjzv9b4TUe559f9Ud9kQ5ZJgMnIIS/biMYWu5qZxI120CXJzrMeGQUWc6cMQc3JFrXDXVKYhdn/t8qrDnz03V7cdu25mHfnMNgcIirLcsFxLERJhlOU8faXu7yOf/WjbZhzaxUe9/gCct9vLoSiKDh2ogUcx/hN83jurU24Y9x5mPvK92p95FggL0e7LmlNYXvjs52YOvY8KIDmqEmgpBjpWmdPNrpHksPvrLiOF9DQlJydldY9GyA1n3JlAdOpowIAm+r3gwHQJasIkAGxqBP4mv26r1sBgP6d+uKb/WuxdOcXmHXxHbpeO9XUN9nw1hc/eY2QyBLw0Xd7vR776Lu9mDr2PPUxS7bBr9157q1NmH/XcJQUnE5lLcsKzYAgJI6os+JB647oX6dchEsu6OJ1R3fOrVUosBhR32RX78C4v/h8sno/rqjq5vX47EmDMOHK3qhrsOH1T3bijzcN0BwyLs43+6VQtWQbaHiZpBTfejR2xBkYcUEXrzox51bvRaruhax/XuTqxA/uW4YJo/pg3murvUYf3QvuAeD77bX4/a/6qV8sREkGzzOY9X8rcby+DU/cPVyz7nQuycG8O4ehqdWJ1z/ZiVm3BJ4m4zuFzV3O2f/fKq966jlqkmlJMepOuX5XS3ZknZWcLAPqrcnZWWlc/ym43EIIpV10ve6m+gPokdsJBoWFAhlicWcYjv4Mpr4WSmG5rq9l4AQMqjwf3x34Hocbq9Elr0LX66cUBn7JNebdNUwz4YYCBa8s3Rqw3XFP5fYU7lYGhJDo0Bilh8YWuzqK8uIDI/HIlKHgWdbv7uzjr62DKCl+C+qee2sTxl7aC8+8udFnQd561DXY8Hh7WmJJhuai+XqrHZPH9MO8O4dh8ph+eOOznZBlhRbYE13Fe5NR35GFK6q6q6MfwOk65LlI1Xch6+WDuvnVO88F94CrHnAci84lOSjINaK8KBvvfrVbPaex2aFZd5yiggdfWK3WR55jA/49fBNcaC249V1Im2lJMWrrWwFEPrKSn2PEica20Ad2MPuxfbAd3Iacc0dAz6+apxzNONhShz55lVDaF+w7izsDANgju3V8pdMGVw6AgRPw/vZP43L9VKEo8Ku3UBjNhBuyjDDaHf/IYFkGBbkmlBa41p1SR4UQ/aTnp2cMLh5QibmvrMW0J1bgz4vWQJK10wt7LqT3fJzjGM3HCyxGdfTlw2/24N4JA7x2xX3w1ioYDCxeWboVD76wGq8s3YrrLu4JlmVi3rmbEDf3qMf9z32H3z36Je5/7jscrLHq2mHxHVkIVCcqSnLUuC7K8174Hig5hXvBvXuztsYmu1pfH/r7alx3cU/07loAAHh/xR5Mv9G/nn217oD688O3D0arzRnw7+G7y3VeTuiRzkA7Y6drnT12ogUcy6h7UYQrP9eIVpuIVltybQxZv/JtsMZsmLv30/W6m04dAAD0yDm9mF7JyoGUnRe3zkqWYMagzv2x9vAPONRwNC6vkQpkjc9xUdb+DPdtC4/Xt6Gs0LsNyY9wFJEQEhuaBubBKcqYv3i9112VmpMtmgvnONZ/0bDrcUbz8cJcE/4w4QIoUHD5oK6QFQV/mHABCvOMkCQgy8zhAZ85/M+/7ZobS8PLRC8dsZ7Cd0F9oDrBcyzm3TUckqSA47yPCZScotBiwosPjIQkAwLHYO7L//OrM5PH9MPjr63DrkP1+HjlXq/XyM82YOxlvXDtxT3VNWn3/b/vAv49fKd3MAi9kDbTpoQcrWtGaWEWGCayTd6L8lxfAKvrWnBml/AzicVT28FtaN2zAXkXjQHD6bs/yQ/1+1Bmykcea4KsSOrjYmklDId2wSk6AT789M/hGtr1Qmys3oJ/b/4Qc0bcrfv1U4FWG8QH+AyXfDorpQVm5JgNarvz1boDGHtZLxgM9PWJkI5CIyseJI1NGt/6YjdmT6ryuks6e9Ig/Li7FrMnDfJ6/N4JA+Bwin53c6ffOAAtdicUKHjurU148IXVeO6tTcgy83j2zU2466kVONFg07zLo8B7eNm96J52ySXR6Ij1FL4jCzaHdp1wfYHIQqfibADwOmb5+oN+9evBW6vwytKtmPbECsx9Za1adt/fxXP0ZcKoPijMNaFTcTZKC7JgaE+Z7J6qYXdq/z3sDkmtYwDUc4ryzGGNmmTSlJADx6zoXJITUUcFAMra/4b7qhvjUKrIyaIDJz57GZylGOaeF+h67RbRhp3Wo+hb0N2rowIAzpIuYCQR7LH9ur6mW5ZgxvBuVfixZjs2HdsWl9dIdgW5Jjx4q/fnOMfBr42ZPalKvXHifsy9jmXaEytw11Mr8OG3+9J2/RkhyYpuDXjgOf+7L/VNNrTZnZg8ph/ycgwotJjw9pe78NX6w7hiUBf89fdDwHMseJ4BxzIQRQUfr9zplWHk45V7MWXsecjLMuCp6ZdAlE5nGnN/Gaq32kPesc20lKhEf1pphPVeT6E1GvHvZf514q4b+p8+hwE+XumdmWflpiOYd9dwtdw5JgFTx56H341R1I1TtX6X4nwzFs25Anx7h4EP8rsF+nscOd6kZgzzrGOZNmoSSkubEzUnWzDo7LKIzy3KNyPLyGPznjqMGtwtDqWLzKmv34DzxBEU/2Ka3om58MOp/ZAUGb1y/RfRi8UVUDge7MEdkLvot6eLp4sqB+DHY9vx8oYlWHD1n2AW0i8rXTA8z6J7uQXz7xoOUXa1H5IMrNx0xJXps33vpq/WHcBF/Tr5tVW3XNNXvVY6rz8jJFlRjcPpBcc8z/rdfXHvy/DK0q0wG3mIkowtP58AAGz5+QRESUZZYRZK8rNQaDHDaGDxy0t6eq09+eUlPWEUWBTmuaaxuO+25madvgP9/gr/dSy+d2wDTeGhXXJJuDpqPYXnyEJRnhkTrz7bq05MvPpsr9fkef96M/CcchgEVq0vgsChpCALnYqyUdL+mG99ffDWKtdISvsxwToqgf4e904YgLe+cK0h0KpjmTRqEsruQ/VQFKBzSXbE57IMg75nFGHNlmPYc7g+DqULX/P2VbCu+y9yzh8JoVj/rFnrTv2MIqMFRUKO/5McD7G4AtyhnyKbRxcBjuVwXe8rcLK1Hq9sXAIlTq+TzFiWAc+z4Nr/axRYNdOne7R2xAVdkJNl8GqHJozq47fOLV3XnxGSrDJ+ZEUrzeq8O4dDUhQInKtRm3XLQPUOKoCgd1XtThmvf+J9FzlQelTfu7RGgfUaefG9dqalRCX6S9TIQKiNTR0R1Bs3rbuloUZSfPn+PQDgydc3qGlKAapjwWzeUweOZVBRnBvV+VdUdcXeow3426vfY9GDV8Bk7PiPJNvhnaj7eCGMnc9CzrmX6t5hsDpbsa3hMC6rOB+yLGoe4yzvDmHzd2BOVkNpzxCmt675nXFJ98H49sD/0C2/Er/sc2VcXicZac1KeHTaUGzYUYPH7hgGRVHAMAy+2XgYV17UzatNyc8xeq1zy+SRVEISJSk6K83NzZgwYQJefPFFVFZWduhr+45WfPjtPqzecizoguNgC5EF3pUG9fHX1qmPBRs2dt+lDUdHTOEh6S+SmNNDOBubRlpv3Hie9dqcLRqef4/6Jps6NTOScmSqDTtrcVbXAvA8E9V3/NwsA8Zd1gsvL92Gb344gquHdNe9jMHYaw+g5u3HwVmKkX/xjWAY/Ucc/ndiD2Qo6GMJ/NnmLOsOhVkJbu9WiHHqrADAiO4X4UTLKfx78wcAFFzX+0owes95S0JasxJEScGX6w7hjc93qceVFphx+aCufm1KgaBvsgVCSGQS/gm8efNm3HTTTThw4EBCXj+c0YpI9qWI5zSbTEuJStJDOHVMr9iOdQ8ZqmPhqz7RjIM1TejXsyimwYjunSwotJiwdmu1foULg/NUNWqW/A2MYELRlbeB5fW/d6coCr6r24mu2aXI4wLHkGI0uaaC7dsct6lgAMAwDMaeczX6lp6Ff2/+EAtWL8LJ1sROwesIWm3QB1/vwRyfaaTuzWoJIckl4SMr77zzDv7yl79g1qxZCXn9UKMVkS5qj+c0G1rcS1JROCOCesS2HgkoqI6Fb/VmV+eiV9fY0g4zDIMzK/Ox5ec6SLICrgP+1qL1BI69MReKLKF49BSwhvh0Rvc21+Jw60mM6z4csiwFPdbZ+UwIP34L9vghyGXxSzjAsRzGnXMNOlvKsWLfGmz6ZDuuPPNiXNf7ChRlFcTtdRNJqw1qanXAYPCenmo0cFTXCUlCCe+sPPbYY0Gft1qtsFqtXo/V1NTo9vruO6m+X3Dcd1Kj2ZcintNsOnoKDwlfvGM1VYWqY26xxrZee8hkQh3TI1bXbD2Gnp3zkGs2INYM6t065WLdjhocqrGiR0VebBcLQWppxLE3H4Fkb0HxL+4AZ4o8OUC4vqjZAhMn4MzsUkAOvu7JUd4DZm41uJ82xLWzArg6iEO6XIg+xWdi9aH1+GzPN/h8z7e47IyhuKHvaBSY4/seREKPWNVqgyaP6YeH/r466PRUQkhySHhnJZTFixdj4cKFcbt+qDuptKidhCvesZqqOmq0gupq+GKN1ZONbfj5cAPGXtoz5o4KAHQpdS3Q33WwPq6dFdnWgmNvPQqx8TiKfzENfE78XqvOZsX6kz/j0k7ngQnnjyQY4Kg4A4Z9W+AcMhowxP8Lc4E5D9f2vgIXdxuMtYc34ut9a7Dq4Dr85rxfYdSZl4BlEj5TXJd2VasNcgbYY4naC0KST9J3ViZNmoSxY8d6PVZTU4OJEyfq9hrB7qTSonYSro6I1VTVEaMVVFfDF2usbthZCwDo2VmfneeL8kwwGznsOngqbovsZUcbjr39GBzHD6Loqsng84rj8jpuS4+uB8uw6F/QI+x1KI7u58B4eDe4XRsg9Rse1/J5yjPl4upel2JwZX8s2/MN/vHD29hcswP3DL4NWQZzh5VDi17tqm8bVN9ko/aCkBSR9J0Vi8UCi8WSsNcPdwoLIYmO1UxHdTV8scbqxp+OoyjPhKI8ky7rwRmGQUVxDvYejc9u9rK9FTVvPw770T0ovPI2GIo6A4jfQvZDLSewqm4XRnTqByMYKGG+lpRfCrGwHPzWVZDOuQjgOvYjusCcj5v6jcH6o5vx+c/fYs5XT2DOJXejNCe+Hbtg4tWuUntBSOpI+s5KotGCW0JSA9XVjiFKMn7cXYeqc8p0TVzVuTQHqzdXwylKEHj9UsWKzQ2oeftxOI4fQOEVt8JY2g3x7KhIiozX9n+DbN6EqsJeUEIsrPdl6zUAOd8vc42unHNRnEoZGMMwqKrsj7LsYry9/WM89NWTmDPiHvQo6NLhZYknai8ISR1JM965YsWKDt9jJVy0YzUhqYHqavzt2H8SbXYx5ixgvipLcyHJiq6jK47jB1H92oNwnjiMolG/g7GsO+LZUQGAj45swN7mWvyy62CwEXZUAEAsqYRY1AnChi8BW2scShiebgWVuG3Ar8EwDP6yYgG21v6UsLLEC7UXhKSGpOmsEEIISX7rtteC51h0LdN3ak63ctci+20/n4j5WoqioGnrNzj62oNQRAeKR98JQ3F8p34BwJoTu/Cfo+sxuKQPupuLorsIw6C171DAYYOwZmlc910JpSS7CLddcCPyTBY8/u3/YcW+NQkrCyEkc1FnhRBCSFhkWcHqLdXo17MIAqfvx0dulgEl+Wb8sOt4TNcRm+tx/IMFqPvo/2Ao646S6+4Cnxvf/UMURcHymq1Y9PNynGXpjJFlfUPuqxKMnFcE21kXgN+7Bdz2xHYQLMYc3Np/PHoUdMWL6/+FRevfgF10JLRMhJDMQmtWCCGEhOWHXcdxoqENv7z4jLiMUfTpXog1W6rR2GxHXk5kC51lexsaNyxDw9oPoYgO5F30K5jPHIB4T+yptTXgrYNr8EP9fvQr6I7RnQdCkcSYr2vvNQCc9SQMa/8Lp+iEeP4lQIJSCZsEE27qNwZf71+Lr/atwtban3Bz/3EY1Pl8MAxNnSKExBd1VgghhIRks4tY/MkOFOebcWZlfPYnuaB3KVb+eBQffP0zbruub8jjZXsbbEd+QsvudWjZvgqyvRWmHufDcuFV4Ew5iMe0L0VRUGe3Ype1Ghvq92Fz/UEILIfrul6Ec3MrdemoAHBNBxswEmC/hWH95+AO7oCz38WQu5wFCB2fsYplWVzecxjOLOyGZXu+xtOrX0JnSzlGdL8I55efgy55FeBZ/RIjEEKIW0p2ViTJNbxOu4OTjlReXg6ej6zKUKySRNA7Vtf9dApLVx9FvdWB317VA3V1sa8r0cICOLdHHj745mc0WpswfsTppCvSTyuh1PwMRXIA9jYorfVAS4PrSU4A1+VcGLv3h2S24FRTK9AU2+L0BrEVX5zaDpvshFORYJdFNEs2NIhtcCiuDomFN2N40Tk4O7sTOFFCfb3+f5eGMwYgJ7cY+Qe2wbj8TSgMAzE7H5IpB7JghK24Es09L9D9dQPJghFju4/CPuthbK/fgze3/AdvbvkPOIZFgTEPuYYcmDkjBFaAxZCD0d0ug4ETAl6P2lWSCqKJU6IfRlESuHovShs2bKCN9kiHW758ecQZ6yhWSSLEI1arBg8GJ2SBYQXYHfFds2A0GCA5WvDDxnVwOp0AAEEQcMGAAQADcGDAsQDPMjDwLASWgSRJEEWdRjXaFRYVo7C4BOpcMhZQGEBhGVfPigGcogglnB3qY8QwAM/zkBTAKcmQFAWy4hrp2X/gACQx+jUysTAaXaM8iihDFmUokgIoChQZABTs2b0H9fX1Ac+ndpWkgqVLl6JPnz6JLkbGSsnOis1mw7Zt21BSUgKOCz3s7N7t9o033kB5eXkHlDAxMuH3TOTvGM2dlUhjNRqp8r6nSjmB1ClroHIma6wGkwp/81QoI5A65QTiF6up9DfQkurlB9Lrd/jiiy/QrVu3RBcnY6XkmJbJZMLAgQMjPq+8vDxp93LRUyb8nqnyO0Ybq9FIlb9JqpQTSJ2y6lHOjozVYFLhb54KZQRSp5yRiiRWU/1vkOrlB9Ljd0jEDRxyGqUuJoQQQgghhCQl6qwQQgghhBBCkhJ1VgghhBBCCCFJifvrX//610QXoiMYjUYMHjxYzVySrjLh98yE3zFSqfI3SZVyAqlT1lQpZzhS4XdJhTICqVPOeEr1v0Gqlx+g34HoIyWzgRFCCCGEEELSH00DI4QQQgghhCSllOysiKKII0eO6L4BGCF6o1glqYJilaQKilVCMktKdlZqampw+eWXo6amJtFFISQoilWSKihWSaqgWCUks6RkZ4UQQgghhBCS/qizQgghhBBCCElK1FkhhBBCCCGEJCXqrBBCCCGEEEKSEnVWCCGEEEIIIUmJOiuEEEIIIYSQpMTH8+ILFy7EsmXLAAAjRozArFmz/J5///33YbFYAAC//vWvMXHixHgWiRBCCCEEiqLg2SU/oKpvOYaf3znRxSGEBBC3zsqaNWuwatUqfPjhh2AYBpMnT8aXX36JK6+8Uj1m27ZteOaZZzBgwIB4FYO0kxUZVlsznLITAivAYsoBywQeWIv0+FjP1jY/GQAAIABJREFUI8SXKItoaLNCVCTwDId8swU8G7zJovgjmSBYnLufkxUJsqJAgUJ1IYBte0/i641HsH5HLXVWCEliceuslJSUYPbs2TAYDACAnj17orq62uuYbdu24aWXXsLRo0cxaNAgPPDAAzAajfEqUsaSFRmHG6vx5Mq/o671FEqyCjHr4jvQJa9C88Mr0uNjPY8QX6Is4lBDNRasfkmNpRnDpqJrfkXADgvFH8kEweIcAA43VuPtrR/jF2ddhhfX/YvqQhDVJ1oAALKiJLgkhJBg4tZq9erVC/379wcAHDhwAMuWLcOIESPU51taWnD22Wdj5syZ+PDDD2G1WvHCCy/4XcdqteLIkSNe/2jX2shYbc3qBxsA1LWewpMr/w6rrVmX42M9L11QrOqnoc2qdlQAVywtWP0SGtqsAc/J9PiLBMVq6goW5+7nLu0xRO2o+B6TauIZqw1NNgCA3SHpcj1CSHzEdc0KAOzZswdTp07FrFmz0L17d/Xx7OxsvPzyy+rPt99+O+bMmYM//vGPXucvXrwYCxcujHcx05pTdqofWm51rafglEVdjo/1vHRBsaofUZE0Y0lSAn+pyPT4iwTFauoKHucK6lpPIceQlTZ1IZ6xWt9kBwBIsgKHU4JB4OLyOoSQ2MS1s7Jx40ZMnz4dc+bMwejRo72eq66uxpo1azB+/HgAroVuPO9fnEmTJmHs2LFej9XU1NBC/AgIrICSrEKvD6+SrEIIAabTRHp8rOelC4pV/fAMpxlLHBP4y0Smx18kKFZTV6g4L8kqRLOjNW3qQjxjtb59ZAUAmtucKKTOCiFJKW4t17Fjx3DXXXfh2WefxZAhQ/yeN5lMeOqppzB48GBUVlbijTfe8Fp872axWNRsYSS6BcQWUw4eGjEdNc11MPEG2EQHynNKYDHlBDx+5sV34CmPOdEzL74j4PGe5826+A6/udShzksXmRyr0cRlsHPyzRbMGDbVa83K/cOnQuB41LWc1HyNTI+/SGRyrCajcOuPKIuQFRn3D5+Gp1e9qBnnsy6+A29v/RjTqm72W7OSinUhnrHa3OpU/7+p1YFCiykur0MIiU3cOiuvvvoq7HY75s+frz42YcIErFixAtOnT0e/fv3wyCOP4I477oDT6cQFF1yA2267LV7FSQuxLCB2yE68unGJV+cjGAMr4HcX3qR2bgysELJ8LMOiS14FHrviAThlEQLLUwaaDBBNXIY6h2d5dM2vwNyRMyApEniWg010Ys6XTwR8DYo/korCrT+eSSfyzXn43YU3oVNuKUy8EXmmXPXYLnkVmDJwImRFxtyRMygbWBCtdhEcy0CSFa+OCyEkuTCKknppMI4cOYLLL78cy5cvR2VlZaKL02Ea2qx46Ksn/Ib2H7viAeSbA995ivS8aF+H+MuEWI0mXigmk08mxGoyCje2T7Scwl9WLPA7bu7IGSjOLuzQMieaXrE6bf5XcIoyjte3Yc6tgzCkX4WOpSSE6IVus6SQjlr4TguVSSSiiReKSUJcwo3taJJOkOBabaI69au5jUZWCElW1FlJIe6FlZ4iWfge7nnRvg7JTNHEC8UkIS7hxrY76YTvccGSTpDgWu0i8nJce7u12enGByHJijorKcS9gNj9gRXuoslIz4v2dUhmiiZeKCYJcQk3tt1JJzyPmzFsKk2DjJIkK7A7JOTluDaups4KIcmLbkumkEgXEHtmmLEYc/H4lbPhkJzgWQ4sw+Jka73mwkuWYdHZUq4ubmYZDhzDoNHWBEVR4JCd4BkO+WZLwN3EIyXKIhrarBAVSfdrk9gFy1YUTlxqvb/uGHM/lmvMxsnWBkiyBI7lkG/KhcAJ6mv4Hp9vttCCYZLyPGPbvYBUgYJTrQ3gWQ6iLKmL5LvkdfJqlwWWQ7O9Ve3YeNbRHGMWmu2tEWXo8xRNhr9U4u6c5JgFMABsNuqsEJKs6NtgimEZNqw7aYEyzHS2lOOotSZo5hlZkf2OmVZ1M5bt/hqje4/Em1uWoqGtETOGTUXX/IqYOxWeWW7cr6fXtUnswslWFCwutd7f+4dPhYEz4vFvn0dd6ykMrDgP4/uO9ouBLnmdIHCCZkyGmwmPkGTmju23t36MX5x1mZpueGDFeRjX9xo8s3pRyDb8oRHT4ZCdXunmZwybive2f4IN1Vsiri+xZJ5MFbb2zorRwEEQOLTRLvaEJK30aHWIH6utWf2gAVwLMZ9c+Xc0tFk1H7famoOe++K6f+HSHkPwwvevY0yfUahrPYUFq19CQ5s15rI2tFnVL6nu19Pr2iR2gWLJM2aC0Xp/n171Emqb69THLu0xRDsGbE26lIGQZOWO7Ut7DFE7KoCrTrg7KkDwNrymuU7tqLgfW7D6JVzaY4jXueHWl0yob3anq3PCcyyMAkvTwAhJYtRZSVOBMsxIATLKeGaeCXRujiFL/a/n9WJFWW6SW6yZuAK9vybeoP7sji3fYyRZ0qUMhCQrd2z71oGAdUKjPpl4Q8A22/PncOtLJtQ398iKwLMwCBx1VghJYtRZSVOBMsxwATLKeGaeCXRus6NV/a/n9WJFWW6SW6yZuAK9vzbRof7sji3fYziW06UMhCQrd2z71oGAdUKjPtlER8A22/PncOtLJtQ3z5EVg8DB5qDOCiHJijoraSpQhpl8syVk5hmtc6dV3Yxv9q/FnYNvwdKfvtA1Ew1luUlusWbi0np/7x8+FWU5Jepj3+xfqx0DplxdykBIsnLH9jf712Ja1c1edeK+YVPCasPLc0ow0+exGcOm4pv9a73ODbe+ZEJ9szk8Ois8C5udRvIJSVa0g30aO53NxTtDk29mJgNngF2ye2V88cwEw4ABy7BgGAaKosApO8HpnLHLKTnRYGvSzASVytIlVgPFkv/z2pmDtN5fjuW8rpklmNBobw4YA6HKENnvkZ4ZjmKRLrGaitxxKSsyZEWGAgUMGL9sYJ4ZvlztMgNZUcAyDDiWh6zIEGUJAst7HBteffGtG5Ge35H0iNW1W4/h8dfW4Q8TBuCT1fshywr+332X6ltQQogu0mdMl/jRytCklVXpzsG3qBm+PDO+dNTIhqzIqG6qTevMM6kuWDyEyhwU7P31vWYJX6j5GqHKEI5MyHBEUlM4sa0Vv6EyfoVbXzKxbringQkcC4Fn0dTiCHEGISRR0rMVIgFpZXnxzPCViIwvmZB5Jp2Fev+S5f1NlnIQEg2t+I0l41eoa6d73bC3r1ERBFdnxd15IYQkH+qsZJhgmb7c/9/RGV8yIfNMOgv1/iXL+5ss5SAkGqHabvfP0cRzJtYNe/uaFYFnIXAsHE45wSUihARCnZUMEyzTl/v/OzrjSyZknklnod6/ZHl/k6UchEQjVNvt/jmaeM7EunF6GphrU0iHSCMrhCQr6qxkGK0sL54ZvhKR8SUTMs+ks1DvX7K8v8lSDkKioRW/sWT8CnXtdK8bdqcEhgE4joHAs3DQNDBCklb63jYhmliGRWdLOeaOnAFJkcC1ZwP7w5DJXhlf/LOBeWabEQNmDoskw5LnefmmPDx6xSw1k00yZZ4hwWnFVL7Zor5/LMOiU04p/jpyhprpK8/o+hLU0GYNGDd6Z+5iGRZd8irw2BUPJGWGI0J8+bbD+SYL/jpyBmRFAstwEFgOt19wIyZfeBMYxpW18WRrfVTtcK4hG3NHzlAzj6V73XA4ZQi8K8ulwLMQJQWSJIPj0vd3JiRVUWclw2hlA/PN+qKVGeaPQyfDKUtY+L9/ep3X2VIe8nqBypFp2WfSVaiYckpOHLHWYMHql9TnZ19yNyRZwlOrAmcQi0d8dGSWO0JioVUH7hs2Be9v/1TN/jWt6mYs2/01ft3vOhhYAY99+7xO7XBB2rfDDqcEgecABTDwrs1n7U4JWdRZISTpUK3MMOFkfdE6xmpvUTsqnuc1tFmjyiKTidln0lWo97LB1qR2VNzP17WcVDsqWudQfJBMp1UHnlm9yCv714vr/oVLewzBUyv/jprmOmqHI+BwSjDwrGskiXd9FaKMYIQkJ+qsZJhwsr5oHWPiDZrnSYoUVRaZTMw+k65CvZeS7B8jgeIp2TKIEZIo4Wb/yjFkoa71FEy8we9YaocDczhlGATXiIraWXFQZ4WQZESdlQwTTtYXrWNsokPzPI7hosoik4nZZ9JVqPeSY/1jJFA8JVsGMUISJdzsX82OVpRkFcImOvyOpXY4MIcouTopCsC3T/2iRfaEJCfqrGSYcLK+aB1jMWbj7otu8zsv32yJKotMJmafSVeh3st8Uy5mDJvq9XxJdhFmDk/+DGKEJIpWHbhv2BSv7F/Tqm7GN/vXYubFd6A8p4Ta4QjYnRIMPAcFgIF3d1ZorxVCkhGjKIoSr4svXLgQy5YtAwCMGDECs2bN8np+586deOihh9DS0oKBAwdi7ty54PnQd3SOHDmCyy+/HMuXL0dlZWVcyp5onllgeJYHy7BwSA5dsrScvrYIA8dDlEU4ZQl8exYnvj3rl3c2MBYcy7VnA5MCZA6LLMOSdzkEXTONJYtUjNVo/uZOyYkGW5Oa7SvflAuBE9TnHaIDjfZmr2xgPMd7xU2OMQvN9lb1dU//rF/mrlSPp3hKxVhNVVrZFmVFAc9yEGVJzcjlWScYMF7Pu9tllmHVzkU47bBvHXC/hqzIkBU5JbKB6RGrD76wCk6njEmjz8Geww3453+3Y/5dw9H3jCKdS0sIiVXcxnrXrFmDVatW4cMPPwTDMJg8eTK+/PJLXHnlleoxM2fOxKOPPor+/ftjzpw5eOedd/Cb3/wmXkVKGVoZWu4cfAve3LIUDW2NMWdFcmdEEmURhxqqvbI0zRg2FV3zK8CzfNhZk6LNsOQ+L1BGmmgzjZHoRZOFS5RFHG48FjCOZEXGsebjmtd0x01HZIejDHQkGWjF4bSqm/Fj9XYM7TYQz6xeFHV8hmqHqa09zdmeuhg4vWaFpoERkpzi1gqVlJRg9uzZMBgMEAQBPXv2RHV1tfr80aNHYbPZ0L9/fwDA9ddfj88++8zvOlarFUeOHPH6V1NTE69iJwWtDC0vfP86xvQZpWu2loY2q1+WpgWrX0JDmzXma0ciUEaaaDONJUo6xGo02YFCxVG0Gej0fq8zOfORr3SI1VSlFYcvrvsXLjtjqNpRcT/eUXUgmdvaeMWq3Sn5dVZstMCekKQUt5GVXr16qf9/4MABLFu2DEuWLFEfO378OEpKStSfS0pKUFtb63edxYsXY+HChfEqZlIKlQVGr2wtYoBMXpLSsQ12oN83UPmSNVNNOsRqNNmBQsVRtBno9H6vMznzka90iNVUFSgOWYZNWB2INqtjR4hXrDo8Oiu0wJ6Q5Bb3lB979uzB1KlTMWvWLHTv3l19XJZlMAyj/qwoitfPbpMmTcLYsWO9HqupqcHEiRPjVuZEc2do8fzw8MwCo1e2Fr49k5fv63AMF/O1IxHo9w1UvmTNVJMOsRrovQj2Nw8VR+FcM5rXjVRHvEaqSIdYTVWB4lBW5ITVAS6J29p4xapD9J8GZncmvnNGCPEX18moGzduxK233ooZM2b4NTbl5eWoq6tTfz5x4gRKS0v9rmGxWFBZWen1r7y8PJ7FTjitDC13Dr4FS3/6QtdsLflmi1+WphnDpnb4Dt+BMtJEm2ksUdIhVqPJDhQqjqLNQKf3e53JmY98pUOspiqtOJxWdTO+3rcG9w2bkpA6kMxtbbxi1SlK6ojK6X1WKBsYIckobtnAjh07hrFjx+LZZ5/FkCFDNI+59tprMXfuXFx44YX405/+hG7dumHy5Mkhr50JWWs8M2XxLNeeDcwZMHtX+Nfzzi5m4ASIsghRlsBFcL3ofx/tLEyBMopFm2ksWaRirIqyiIY2K0QlcIz5Zv/KNWahyd4aMBtYOO9jR7zXqR5P8ZSKsZqq3HEoKxIkRYGsSGAZDhzDQlJkQM32xYBluKjiNFCbmw5trR6x+us5n2DYeZ0wcmBX2OwiHvnH95g0+myMH3mWzqUlhMQqbmO8r776Kux2O+bPn68+NmHCBKxYsQLTp09Hv3798PTTT+Phhx9Gc3Mz+vbti1tuuSVexUk5Whm2QmXvCiTe2cVCCScLU6CMYtFmGiPRkRU5ZFYgp+TUzP713vZPsKF6S0Tvr6eOeK8pnkgycKcb1soKtmz31xjfd3TQ+hRKqDaX2tr2kRX3mhV1GhitWSEkGcXttsnDDz+MTZs2YenSpeq/m266CS+//DL69esHAOjTpw/ee+89fPbZZ1iwYAEMBkO8ipMWos3e1VHZxSJ5/WTJNEO8hfNeNdiaNOPw0h5DAp5DCPEWKCvYpT2GxFyfqM0NTpIViJKiTgPjWAYMAzhoGhghSSk5x3iJpmizd3VUdrFIXz8ZMs0Qb+G8V5KsHYfueNI6hxDiLVi7HGt9ojY3OKfo+szkOVdSH4ZhwHMsjawQkqSos5JC3FmXPIWTvcudAcb3PL2zi0X6+smQaYZ4C+e94ljtOHTHk9Y5hBBvwdrlWOsTtbnBOUXXCIp7ZAVwLbKn1MWEJCfqrKSQaLN3dVR2sUheP1kyzRBv4bxX+aZczTj8Zv/agOcQQrwFygr2zf61MdcnanODc3dKvDorHKt2YgghySVu2cDiKZOz1rgzNUmKBIEVAEWGKEsQWA4sx8MhOdUsMgzDemX9ckqurF88y4FjWdglJwSWA8+6ztPOGKOdvSuQwFnHDJDVsiZ3phk9pWKsesZYoAxxDtGBRnuzVzawZnureo7FmAOrvVnNKJbjky0sz5gDnuO9YizHYEaTrQnO9ni2mC3g6E5wh0nFWE01ojuLnk/2L45hvLKC5Rlz0Oq0qZm5sg1mNNqaILbXL4HlADDIaa93nu00ADXTmKwoUKC46pfGsanaBscaqzUnW/D7x7/CxKt7o2+PYgDAgjc34qyuBZhza5XexSWExIi+CaQYnuVRnF0ISRZxuOEonlq9SDPDlzurzOjeI9XH7hx8C747sA6XdK/CC9+/HjAzWGdLeciMUFoSnXWMxC6cbGCyIuNY83H1mIEV52F839EBs4PdW3U7OuWV+T2fbcjCI18/6/HYFLy3/VM1A9LMYVPQJb8zdVhIWhAlJw41VmOBR5s9repm/Fi9HcO6DfKqH551TisL5H3DpmDX8b3oU3qm1+MPjZgOh+zEUz71t7MlL6o2PV2pIyus98gKTQMjJDllXiuVJqxtVrWjAvhn+HJnlfF87IXvX8d1va9QOypa5z258u9oaLNGlUkm0VnHSOzCySLke4w7e1Gg7GBnlZ6h+bwoiz6PLfLKgPTU6kWwhsh0R0iqcGXR826zX1z3L1x2xlC/+uFZ57SyQD6zehEurDzP7/Ga5jq1o+J5rWjb9HTlaJ/uxXlMA+N5Fg4nTQMjJBlRZyVFOUNkZNLKKlPXegosw4Y8TwqQdSxUJplEZx0jsQsni5DvMe448z3H/b5Lsqz5PAMm4Dnun0WZ7nSS9CAGaLMDtcnuOhcoC6SiKH6Pm3hDwIyRlB3sNGd7p4RnT7dBAs/CIVJ7Q0gyos5KihJCZGTSyipTklUIWZFDnscFyDoWKpNMorOOkdiFk0XI9xh3nPme437fOZbVfF6BEvAc9888GzzTHSGpgg/QZgdqk911LlAWSIZh/B63iY6AGSMpO9hp7k6J18gKx8JJ08AISUphdVb27duHhx9+GHfccQemTZum/iOJYzFbMHPYlIAZvtxZZTwfu3PwLfh411e4c/AtQTOD5ZstUWWSSXTWMRK7cLII+R7jzl4UKDvY7uP7NJ/nWd7nsSleGZBmDpsCSwbtqE3SmyuLnnebPa3qZny9b41f/fCsc1pZIO8bNgUbj2zxe7w8pwQzNepvtG16ugqYupiygRGSlMLKBnb99dfjwgsvxNlnnw2GOT1sOnbs2LgWLpBkzFoTbfasWEiyCGubVc3w5Z0NjAXDMO3ZuJzgWQ6KoqjlYxjm9Hntx3hm6fK9driZmU7/HcSA184kyRiroYSTDczzfRZY3iPTkHf2Ivc1/LOBZYPnBO9rtGcDizTmiD5SMVaTVaDPA99sYO5P0xyGQ5siQWzP3OXbVnrWSVYzG5iotrEAvOqVf4ZHMeXb41hjdc2WasxbvB5/vOkClOSbAQBvfbkLNSdb8OrDo/QuLiEkRmF9E3A6nXjooYfiXZaUpZUFqyMyrXAsj4LswtAHRkhRZIh1R9D07nyIjXXg80qQdcNssKVdwYT4fViGDbnvC0le4WQDA7TfZ9+fi9tjU1FkOI4fQptHPFlumA2mtKvfOfGIZ0I6UrDPA54T/OpF7bvzYW2vF2U3zIZBo511Z4HUotXeaj1GbfNp7hEU3zUrtM8KIckprG/SFRUVOHz4cLzLkrLCyaCUSqSWRtS2f7EEALGxDrXvzofU0pjgkpF4i0csUzyRTBJuHaJ6kTjutSk8TwvsCUkFQUdW3OtS6urqMH78ePTr1w88f/qUF198Mb6lSxHhZFBKJYokqh+gbmJjHRQpNX8fEr54xDLFE8kk4dYhqheJ4x5ZETjffVZoZIWQZBS0s3LVVVd1VDlSmjs7kucHVCpnWmE4HnxeidcHKZ9XAoZLzd+HhC8esUzxRDJJuHWI6kXiOLWygbVPA1MUxWttLiEk8YJOAxs7dizGjh2LgwcPqv/v/rd9+/aOKmPSCyeDUirhsvNQdsNs8HklAKDOpeay8xJcMhJv8YhliieSScKtQ1QvEsc9guKdDcyVJp3WrRCSfILewnn++edhtVrx6aeforn59Hxbp9OJVatW4eGHH457AVMBy7DokleBx654IGGZVmRZhNTUAMgiwPLgcvPBetzJUxQZUksjFEkEw/HgsvMCLpZnGBaG0q6ouHVeWMd7lSMBWdGIfsKN5UjjiS+pRO5tj8MpSxBYDrzZEjKefF+DzcqF3NoUcUwS0pFYhkWlpRyPjpyhZrbLNeVCbmmE5BO7ajurKIAsA1AgtTRSextnDlECwwAsy8CdD9U9JczhlGAQaH8nQpJJ0M7K+eefj61bt4JlWeTn56uPcxyHp59+Ou6FSyWJzLQiyyKctYdQ+/6TaralsnGzIJR1BcvyXllnxBBZZ9wYhgWfUxBZORKUFY3oK1QsRxpPsiLjSBgZxoK9hrnXIBRe/GvvGA8Rw4QkgmY2xXGzcGrlO2jbs94vdrnsvIjbZ4Da21g4nTIE3pXe3717A8+7/mZ2p4TUnBNBSPoK2qKNGDECd999N1544QXcfffd6r877rgDAwYM6KgykhCkpob/n73zDpOiyvr/t6o6znRPggnAkHPOWRAQQQkiwRVFwEVRd19f1N0lqJjBAKivwAZ0MexPFFFgMayikhYZsjDkIHEIE5g8PZ3r/v5ouulQ3dPd03HmfJ6Hh6mqW/eerjrnVp++937L8SUOuKkqs36JbaQFkVOdqWuqaIQ0gfpTMH7h3kZS9+GePk7KSUQMIhkf65cgqfvwW9tOvhts/0z9bfCYLFbbSIrTW+bkTskKQRCxhc+RlWeffdbx9+eff+5x/I033gi9RUTgiNKqMripPhMp1Zm6popGSBOoPwXjF+5t8CoNKScRcYG3+OCd1qw4+26w/TP1t8FjtoiQywQwp2zFnqyQIhhBxB4+R1batm2Ltm3borKyEqdPn0b79u3RqVMnXLx4EVYr/foQM/AyxyJNO7LkdODmmhW76oz78VCrzthVcJyJZ1U0QppA/SkYv3BvQzRURcSHCaK2eIsP0WnEw9l3g+2fqb8NHpPZ6vKOFcB1zQpBELGFz2Rl1qxZmDVrFoqLi7FmzRo8/PDDmD59Oj7++GNcunSpxsqrqqowbtw4XLlyxePYypUrMXz4cEyYMAETJkzAmjVrgv8U9RxBm4LMyfNcVWUmz4Ogta0zipTqTF1TRSOkCdSfgvEL9zYqcrd5+jgpJxExiGR8TJ6Hitxtt7adfDfY/pn62+AxWUQoZAJNAyOIOMGvn2CKi4uhUCgc2xzHobS01Oc5ubm5WLhwIS5evCh5/NixY3jnnXfq/doXb6pK/qgtOZfhUzOgfXgxzMwKOSdAUGnBcTwsVaW249o0l+O8oIClohicTAEw0a/2Afi0KRZU0QhPrKIFFfoKhxJXkjoJgo9fX2vyPSm1OKg1KKsuc7ShVWkBfZXjeGNNOhYN/xMszAoZd/M4E2GuKHEo2PGaZDCnc+Tp2S5t8AnaoBTqCCJceIsVoUEWGk1/DRCtAC8AygQ0HP0IcOfDAC8Dl5gES0UJGACdwIFpk5Hw+9chBqCWR/1t8NgW2AvOucqtZMVI0+gIItbwK1kZOHAgHn30UYwbNw6MMWzatAkjRozwec66devw0ksvYd68eZLHjx07hlWrVuHq1avo27cv5s+fD6VSGfgniGO8qSrJ07NhLrriUx3G+Vxli67QDxyLpTkfOFRh5g5+DFm8GoWfvih9fNBsaE/sR0LTjij6dqVf7UMmR8Hnr/lUrImmKhrhiVW0IK/sKpbuet/FN5qmNJFMWPxV+nJWi/PWhnLLWujP7Lup5HUfKtcvvaWOdP/zsFotKPjqLScFu7moOP4LKvd+7d2/AlSoI4hw4S1WhAZZsBZdRcFNf7f7f4GT/2dOnovy47+gqlNffHVuB+5uNxz/2Pf/Alb1ov42OExmqyM5sWN/z4qBRlYIIubw6yeYF154AcOGDcNPP/2En3/+GXfffbfXJMTO4sWL0adPH8ljOp0OHTt2xNy5c7Fx40ZUVFTgb3/7m2TZiooKXLlyxeVffn6+P2bHPF5VYCrLalSHcT5XNvheRyIC2BZZLt31PnTM4v14zgfgegxzJCr+tG8pzSc1Jh/Eoq9W6CscSQRwyzcq9BWS5YNRJvLWBtfT9oOGTclrqUudlvJCR6LiaGf9UiR3H+F3u0TwxKKvxhveYoXpKl38Xcr/C9YvhdB7JN4+uAbDWg50JCoAqXq5Ew5fNVl3QzzmAAAgAElEQVSkkhXbtsFIyQpBxBo+R1aqqqqg0WhQVVXlWFtip6KiwuXdK4GQmJiIDz74wLE9a9YsPPfcc3jmmWc8yn7yySdYuXJlUO3EOt5UYLypezmrwzifa+UFSVUYK8/7Pg4WUPu8XOXTpvpOLPqqWbRK3nuLKP1ADkaZyFsbTK0FIK3kxctV0r7H8y7b5F/hIRZ9Nd7w3n9b/VKys/fLGkUCqXr5IBy+arKISFC6fv25tWaFrjtBxBo+k5Xp06dj48aNGDBgADjulnIGYwwcx+HkyZNBNXrt2jXk5ORgypQpjvpkMmlTZs6ciYkTJ7rsy8/Px7Rp04JqO5awq8A4P8jsKl5S+53VYZzPFUQr0hPSXB546QlpEESbBKPX4+ACal80G1zsJzUmV2LRV+W8IHnvZbz0G5q9+aSv++ytDU5fCeCWkpdznaLZIO17ouiyTf4VHmLRV+MN7/234LJfyv9lyemOfrnKVC0ZP6TqZSMcvmoyW5GcqHDZZ39rvdFEIysEEWv4nAa2ceNGAMCBAwdw8uRJx79Tp04FnagAgEqlwtKlS5GXlwfGGNasWYM777xTsmxSUhKys7Nd/mVlZQXddizhVQVGm1KjOozzuZZd/8bcQbNdVGHmDn4MiZzM+/FBs8EOb0f6uCf9bl+WmkVqTD6IRV9NUidh7uDHPHwjycs892CUiby1wQ5tBWBX8prrUqcsOQOZU+a7KSbNRXnuVr/bJYInFn013vAWK1yi1sXfpfw/c/JcWA/+jD/3nobtF3bjiX7TSdXLC+HwVbNZdEgV23FMAzPRyApBxBocY4zVVKh///7o0aMHRo0ahZEjRyI52f8vECNGjMC//vUvZGdnY/bs2ZgzZw66du2KzZs3Y8WKFTCbzejVqxdeeeUVF8UxX1y5cgV33HEHtmzZguzsbL9tiTaBKGwFqgYGuRJVzAIGQASDKIqQczw0vBwwGx3HLaIVMl6AhpMBZqOrGpjb38xqBqxW29QcXrCNrnE8mMVk+8Xb6W9SZpImFnzVrgZmv/fBqIEx2N6YbRbNkPNyaJUJYNWVt9TAVImoNFQ61L40Kg2gq3QofXGJGjBdpUMdiUu0qR2JVWUu+5jTOYI2BTz9uhwxYsFXYxFffbH7MU6tgVhVbusznadaMhFw7h853tbX8gJ0HAPjeYiMgYFBzsu9qnqJTHSJw/qq/lVbX3341c3o2CINYwa1dOxjjGHhqhxMvL0Nfj++cyjNJQiilvj1TWDnzp3YvXs3tmzZgr/+9a9o0aIFRo8ejfvvv7/Gc7du3er423mdyujRozF69OggTI5PfKksySQUjpzVlrzhXkZrNeNK+TUPVabs5MaQCXL4qk3KvoxJfwEzG1H0zYqA1cqI2EHgZUhNTKu54E3c/UpkIvLKr2HJzr/7UPv6HSrXL7ml9jV5Hkp2roP+7H5o+9+DpM63uakhzQPUiSj49CWXffZzyKeIWKAmdTznWBFFC8wFl1FwMw6kVMAyJs1F6S9fuvh4ip8+LhWH/qqGEa6YzKLHAnuO4yCXCfSeFYKIQfzq4RQKBW6//XbMmDEDM2bMwIULF/DWW2+F27Y6RTAqS4FS6UWVqdKL8lNN9lmryx2JiovNfqiVEXWHCkOV4wsS4E3ta4mb2tESJHUfDgBI7j5CQg1pCTiL2es55FNELBBIv22tLHOJAykVsMINS4P2cak4JNWw4DBZrJAJnl9/5DKekhWCiEH8GllZsGAB9u7di7S0NAwePBhvvPEGevfuHW7b6hTBqCwFipl5UX5iNXe+UvZ5VWzyQ62MqDuYRXPAal+W8iLw9jn3PC/tR06iHR7ngHyKiD4B9dtu/WKNceGrLgm8xSGphgUGYwxmsxUyGedxTC7jYaQ1KwQRc/g1slJUVASO49C+fXt06NAB7du3h1wuD7dtdQq7cowzoVY7knOCY5GmnfSENMg4aeWnmuyzKzY546wW5r6flJvqJnJeLulX7mpfzsiS0yHaf/EVRWk/clsu53IOyKeI6BNQv+3WL9YYF77qksBbHJJqWGBYrAwig+TIikLGkxoYQcQgfiUrq1evxvfff4+77roLR44cwdSpUzF58uRw21anCEZlKVC0XlSZtH684VjKPiEhGenj/zcotTKi7pCk0mDekD/UoPY1z03taB4qcrcBAMpzt0qoIc0Dk8m9nkM+RcQCgfTbgjbFJQ6kVMAyJs0N2sel4pBUwwLHbLElI9LTwAQYKFkhiJjDLzUwAPjtt9+wY8cO7NixA3l5eRgyZAheffXVcNsnSbyq1tSk8CWKFlgry2xqSHIFYBVtfytUgMXsUE3iNSkQBOmRLYvF5KTKJIOG4wGL2UO9S0rJy6V9QQZOkIOJ1pvvvmABq5URsemrLvdZQnXLtxqYBXJeBo1CDVZV7kPtS+tzm9ekgOcFl3b4BC1EJ4Ux8qnIEou+Gkm89WmO/Rx3qx++qZzorJYI0eqp+qVUAUaDw+8d5cDACfKAffyWGpgtDkkNLHBfLa00YMbLm3HfHW3Rs12Gy7EPNh2FQi5g2ZyhoTSXIIha4tf48bBhwyCXyzFy5Eg89dRT6NWrl8tLIgn/8KXw5awkIySmIG34Qyj6diVUzbsiqc9dKHRRUpoLZDTzSFgYE2EtvobKL9+EkJgCzfCHcP3blY7z0sc9iZJtn8KqK3P5OxiFL3/UyojYw12xyD6iIc9sBp6X+VQ/Srk5QudeRkr1KHPyXJTsdFI9mjwXFcd/QeXer30q4fHkU0QUqFH1S62BtfAyCtYvdemfval8pY/9I8r2/wept93nof5VG4U7nuMdcUgEh8lse/Gs+3tWAEAhE2gaGEHEIH71mP/4xz/w008/Yf78+ejdu7dLovKnP/0pbMbVJ5yVZFIGTXQ8CFMG3ONIVAC7atJS2/sp3OtwUq5xrsN+XtG3K5EyaKLH36TwVX9wVyyyq3BZK23+5I/6kXsZKdWjgvVuqkfrlyK5+wivdRJENKnJ78WqMoePS/Wt7ipfRd/9DUndh9dK/YsID6abal/u0sUAIJfTmhWCiEX8SlY6dOjg9diFCxdCZky9xklJxkVFxpuSkujZoTor19SkROP+Nyl81RO83GfcVBTyR/3IvYy/qkfgeZdt8i0iVqjR70Wr332r8zYp3MUedmliQfCcHaKQCfQGe4KIQerfZNdYxUlJxkVFxpuSEu+p8OWsXFOTEo3736TwVU/wcp9xc82KP+pH7mX8VT2yrX2SrpMgokmNfs8LfvetztukcBd72EdWJNXA5PRSSIKIRShZiRGclWTKcjYifdyTtr/3fI0MDyWlueA1KZ51OCnXONdhPy993JMoy9no8TcpfNUf3BWL7GtWBK3Nn/xRP3IvI6V6lDnZTfVo8lyU5271WidBRJOa/J7XpDh8XKpvdVf5Sh/7R1TkbquV+hcRHuzJisBLJSu84zhBELGD32pg3pg4cSI2btwYKnv8oq6q1litZttaFBe1GQugVANm0y1FGbkCMOollZxclJ5kCnAc51C3qUkNjBS+Qk8s+mpQamBMdDmHS0wC01UEqAZW5bVNIvrEoq9GkprVwABYLK79s2i1qX95UwOTKwCz2TYFUkJVkQiO2vjqvuP5eO3DvZjzux7IapDocmzrgTz8vP8y/r1kPASJkReCIKIDfVuIERgTYblx1UONRkqly0XJy03JKRBFL3dI4at+wPMy8MkNvR539wNpBTE3da/J81Cyc52k6lFNSksEEQtI9X923y3ZsRYpfceg6Lu/3fLhB14ALGZXv5aIg0CVFonwYvLxnhWF3LZPb7JCo6Z7QxCxQq2jsZYDM8RNvKrRSKh0uSh5BajkRBCBIq0g5qbutX6JV9Uj8ksiXrH7blL34Y5EBbD5sKU039OvpeKAlBZjCl9qYEq5bS2o3kCL7AkilvA5snL8+HGfJ3fu3BnvvvtuSA2qr3hTo/Gm3uSu5OWrDlKfIWqFNwUxN3Uvb6pH5JdEvGL3XSkFMF6u8k8Fj5QWYwqj/T0rUsmKwpasVBvNANSRNIsgCB/4TFb+93//1+sxjuOwZcsWtGzZMuRG1UfsajTODzVnlS73/e5KXr7qIPUZolZ48UF3dS9vqkfkl0S8Yvddu7KXsw+LZoPPvtm+7S1+yP+jg/09KlLTwBwjK0ZKJAkilvA5DWzr1q1e/23ZsiVSNtYLvKrRSKh0uSh5BajkRBCBIq0g5qbuNXmeV9Uj8ksiXrH7bkXuNqSP/aOLD8tSszz9WioOSGkxpjCabYmIQmJkRUHTwAgiJvHrp52SkhJ8/fXX0Ol0YIxBFEVcunQJb7/9drjti3v8VdjiOB7y9Gw0mr7olsKSXAFrZSkETSoaP/yGow7GGDLufdpDVYnjeCgymrmUJdUZoibcfZRTayBWlbsod8kzm7n4Jq9JRqr2HqT0HQNOkIFP0CJ9zONg1kc8/I78kogGtVU3tJ/PJySh4ehHAHBoNP012BS95I5kw9mvvcUB+X/sYDRZIfAceIGHKLquubVPA9MZzNEwjSAIL/iVrDz99NNQqVT47bffMGjQIOTk5KB3797hti3uCUQFSUrJy0X1y0/1GFL0IgLB3UfVbfsibch9KFi/1EXhSJ7ZDHJ3BTE3P+N9+B35JRFJaqtAJ3V++tg/omz/f5B2+1SXetz9WioOyP9jB6PZahtBkdAGsk8Dq6aRFYKIKfz6aefatWt4//33MXToUDz00EP4/PPPcf78+XDbFvcEooIkVdZF9YvUY4gw4O53Sd2HOxIV4JbCkV1xjiDigdoq0En2x9/9zRYf1BfHNUaTFUq5ACaRrdxKVmhkhSBiCb+SlYYNbb+otmjRAmfOnEFmZiYsFvrloSYCUUHyVtZZ9YvUY4hQ4+53UqpHzopzBBEP1FaBzld/TH1xfGMbWZH+6qNS2iab6PSUrBBELOFXstKgQQP885//RJcuXbB+/Xps3boVBoMh3LbFPXYlGWe8qcB4K+us+kXqMUSocfc7u+qRM86KcwQRDwTS9wZyvj0+qC+OX4wm79PAZAIPmcBTskIQMYZfPe6rr76K7777Dn369EGXLl2wfPlyzJ07t8bzqqqqMHXqVPzjH/9Adna2y7GTJ0/i+eefh06nQ58+ffDKK69AJovfB4DLYk65EsxsAsCQOWU+Cr56y2XetJQKjJCYjMwHXoClNB+8XAXRbICQkIzizf+Eum1fNLzzYduvfVWlAMeDWUwuCzVru5iUiE/8ue/uZfgELcTqSsd25kOvwHLjCni5CoznkTl5ntvb6ueB1yTDUlXqtQ7yNyKWsKt4ua9ZERKTIYoW27RGu5BJYhKYrsJFPAIAsh58CeaSayjb+SWsujLHmpXMKfMAXnCJB/L/+MG+ZsXb66zVSgE6WrNCEDGFX9nB5s2bMWPGDADA3LlzMXfuXLz//vs+z8nNzcXChQtx8eJFyeNz587FokWL0KNHDzz33HNYt24dHnzwwcCsjxGcF2OqmndFUp+7UHhz3r+6bV80evBlQOAdCjJeH2oWM4p/+ODWw3XKfGT8bgHEylJcX/Oy14X38vRsj8X5gSwmJeITfxYRSy+g/51bMjIXFb/+BP3Z/bbtqc+j0YxFgPXWlzfLjauu7Uyeh5Kd626dQ/5GxBDeFLgYE2EuuOzh/yU7v4T+7H5pgYkp88AnpgCiBUm97kT5/u+h7Xo7ir5dSf1tHGJbs+L9PqkUMhpZIYgYw2fP+vnnn+Ojjz7CqlWr8NFHHzn+vf/++1i7dq3PitetW4eXXnoJGRkZHseuXr0Kg8GAHj16AAAmTZqEH374QbKeiooKXLlyxeVffn6+v58vIjgvxkwZcI8jUQEA/dn9uP7ZywBsajDeHmaSC0K/eguwWBwjM/b9HgvvK8tqtZiUCA2R9lV/FhFLL6Bf4raAfimSug+/tb12McAAeWoW5MkNwfRVnu2sX+J6DvlbXBEP/WptsStwyZPTHX2vtbLMp/9LCkx8tQQQRVz/fy+i4IvXkdiujyNRcZQh/w8bofZVo8kCuUzwelylEGiBPUHEGD5HVmQyGc6cOQODwYAzZ8449guCgAULFvisePHixV6PFRYWIj391nzg9PR0FBQUSJb95JNPsHLlSp9tRRuXxZg8H9QCZW8LOiHWvPDeWxlaBBpZIu2r/iwi9ncBvd2f7NvO/lqT+INUu0RsEw/9aliooT/1JTBh3++tDPl/eAi1rxpMVqRqVV6Pq5QymgZGEDGGz2Tlvvvuw3333Yeff/4ZI0eODFmjoiiC4zjHNmPMZduZmTNnYuLEiS778vPzMW3atJDZU1vsizFtDzXx1t838WeBsksdbudJ7XdeeO+tDC0CjSyR9lVvPuN8393L2BcIe/Mn+7azv3prx/0c8rf4IR761bBQQ3/qLT6cz/NWhvw/PITaVw1Gi1c1MABQK2XIL9EFVTdBEOHBrwm2AwYMwCuvvIKZM2eirKwML774InS64IM5KysLRUW3OvobN25IThcDgKSkJGRnZ7v8y8rKCrrtcGBfzClLTkfZnq+RMXmuQ0nGPr9f0Kb4XYfjvPsWQNCmeOxPH/ckynI2+izjbSE/ET4i7atefcbpvruXqcjdhszJ89z8cy4qcrc5bbv6q2Q7k+e5nkP+FlfEQ78aDgRtik//t8XHXJ/9cFnORqSPe5L62wgRal/V29XAvJCgkkGnp5EVgogl/PopaPHixcjIyEBxcTGUSiWqqqrw4osv4u233w6q0SZNmkCpVOLgwYPo3bs3Nm3ahKFDhwZVVyzgsZhTrkSj6Ysc6jKCNgV8TSMrXhaESu0HxyNj0p99liF1mrqPP/ddqgyfoHXZ5tQaNBz9KHDnw5L+6q2O9DGPg1kfIX8j4gael0Ge2cylf+YSk1z8n9ck19wPyxTU38YpRpPF8fJHKRKUclTrzbCKDAIvPeODIIjI4leycvLkSbzxxhvYsWMH1Go1li1bhnHjxgXc2OzZszFnzhx07doVy5Ytw8KFC1FVVYXOnTs71MbiFftiznDU4U/doWifiD+C9Q3ebVtIbljrOggiHuB5GXh3f3ffDrIfJmIbs0WExcog9zENLEElA4PtxZBJiYrIGUcQhFf8SlZ43jWwrVarxz5vbN261fH3Bx984Pi7Q4cO+Oqrr/yqgyAIgiAIojYYTbbpXQofamAJKtvXospqU9wnK9bqCnByJXi5MtqmEESt8CtZ6du3L5YuXQqDwYCdO3fi008/Rf/+/cNtG0EQBEEQREjQG60AUMPIihwAUFZpRJN0jddysQyzmFH49XLoTuaAU6iQNmwakvuOibZZBBE0fg2P/OUvf0FCQgIYY3jttdfQoUMHzJs3L9y2EQRBEARBhATDzZEVueD9q482wTaaUlphiIhN4aB467+gO5kDbc87ochsieIfV6MsZ2O0zSKIoPFrZCUvLw9bt25FXl4eAODgwYMoLi5G48aNw2ocQRAEQRBEKNAbb04D87HAXpNgG1kpqYzPZMVUfA0VB36ApttwaLoMAROtKNu1ASXbPoUiozkS2vSKtokEETB+jaw8++yzuO+++5Cbm4vDhw9j9OjReP7558NtG0EQBEEQREiwJytymfevPokqOTgOKCmPz2SlYv934HgBiR0HAYyB43ikDJgAWWoWCr9eAauuPNomEkTA+JWs6PV6TJ06FXK5HAqFAtOnT8eNGzfCbRtBEARBEERIqL75Znql3PukEp7nkKiSo6TCGCmzQoZoNqLy2H+hbtvHZVE9J5MjZfBkiEYdbmz+ZxQtJIjg8CtZadWqFX799VfH9pkzZ5CdnR02owiCIAiCIEKJfWTF13tWACBZo8SNcn0kTAop+nOHwIzVULfsBoC5HJOnZEDT5XboTuag+vzh6BhIEEHi15qVa9euYfr06Wjfvj1kMhlOnDiB9PR0jB8/HgDwzTffhNVIgiAIgiCI2uBIVhS+f6dN1ihQHIfJStWp3eDVWsgbSK8n1nQeDP2Fwyj+6SOoZ78DjvedtBFErOBXsvKXv/wl3HYQBEEQBEGEDccCex/vWQGAFI0S566UgzEGjouPt9gz0Qr9uUNQt+wObxZzggzaHiNRtnMdqo7vhLbrsEiaSBBB41ey0q9fv3DbQRAEQRAEETaqDWbwPAeZjAdj3sulJalgNFtRVmVEqlYVOQNrgfHqWYgGHZSN2/osp2rWEbLULJT9sh6aLkPBcf694Jsgogl5KUEQBEEQdR69wQK1QgDndezBRoNkNQDg+g1dJMwKCdXnDwEcB3l6U5/lOI5HYsdBMJdcg/58boSsI4jaQckKQRAEQRB1Hp3BjASVHAw+hlUApKfakpXL+ZWRMCsk6C8chSKzJXi5osay6uadwasSUX7g+whYRhC1h5IVgiAIgiDqPDq9BWqVzF0oy4MUrRJKuYBzV8oiY1gtEY3VMF47C2WTdvA5v+0mnCCDulUP6M8doveuEHEBJSsEQRAEQdR5dAYzEpSymnIV8ByHRg0TcTYvPpIVw+WTABOhzGju9znqlt0BJqLqxK4wWkYQoYGSFYIgCIIg6jw6vRlqpV+6QmjZOAnnr5WjSm8Os1W1R3/pKCDIIUtt5Pc58tRMyJLTUXUyJ4yWEURooGSFIAiCIIg6j87gf7LSsUUaGAO27L8cZqtqj/7iMSgbtQbHB/aVTtW0I4xXTsFaXREmywgiNFCyEgZEkaG00oDC0mqUVhogijXPISUIInAo1uIDuk9ELKDTm6FS+vcixCbpGrRqkozVXx/DC6tyUFQamy+JtOorYSq4CGXjNqhxMY4byuwOAGOoPncoPMYRRIjw7ycGwm9EkeFSfgUWfbgXhaV6ZKSqsXBWfzTPSgLPx8fLpQgiHqBYiw/oPhGxgNUqotpg8XtkheM4TBvdATlHruGX3Gv461eH8fLsgWG2MnAMl08AYFCkNwv4XHmDRuBViag+ewDarreH3jiCCBE0shJiynVGx0MZAApL9Vj04V6U64xRtowg6hYUa/EB3SciFrCvPVEr5X6fo1bKcEffZhjcrTF+PVWI4vLYG13RXzgCTq6ELCUj4HM5joeyUWvoLxwBY2IYrCOI0EDJSogxW0THQ9lOYakeZgt1BAQRSijW4gO6T0Qs4EhWFP5NA3OmU6s0MAC5Z4tCbFXt0V88AmWT9kG/iV6R1RqioQqmwtqtzTFbzbCK1lrVQRDeoGlgIUYu45GRqnZ5OGekqiGXUV5IEKGEYi0+oPtExAKV1SYAgFIR+NeerLREKBUCjp8vxog+gU+3Chfm8kKYi68hsf0ABLpexY4yqyUAQH8hF8rMFgGfvyfvV6w/8T0ulV2BwPFo26AlRrYegsHN+kDgA08MCUIKelqEmOREJRbO6o+Mm2/Atc/PTk5URtkygqhbUKzFB3SfiFigqto2suLvAntneJ5DowaJuHAttlSz9L/ZFsbLg0gy7AiJyRC0DaC/cDSg8xhjWHt0E97J+QBW0Yq72w7H0BYDUGqowMq9H+MvmxfhWMGpoO0iCGfCOrLyzTff4O9//zssFgtmzpyJadOmuRxfuXIl1q9fj6SkJADA7373O48y8QbPc2ielYRlTw2F2SJCJvAQeOBGuR5yGY/kRCUtKiUIPxBFhnKdEWaLKBk77rFG8RWbuN8n7ua+cp2R7hcRMSp0tpGVQNasOJPVIAGHzxSBMQaOiw2frf7tIISkhhASUxDsyAoAKDKbw5B3Cky0gvNzNGTr+V3YcOIH3Na8L+5oOQTgbO0Pad4PZ26cx0/nduLV7e/h9hYDMLPHFGiUiUHbRxBhS1YKCgrw7rvvYsOGDVAoFJg6dSr69++PNm3aOMocO3YM77zzDnr27BkuM6ICz3NI1apIBYcggsTf2LHHGhHb8DyH5EQl9YdE1LAnKxp1cF970lMSYDBZUVppRFpS9Psc0ahH9YVcaLveDq4WiQoAKDJaQP/brzAVXnZMC/NFYdUNfHhoHTqlt8XIVreBObXPcRzap7dGq7Tm+OXSPuy8tA+Hrx/HzJ5TMLhZ35hJ9Ij4ImzTwHJycjBgwACkpKQgISEBo0ePxg8//OBS5tixY1i1ahXGjx+PV199FUajpzpMRUUFrly54vIvPz8/XGaHFFLBqV/Es6/GGhQ74SUavkr3lAiGUPlqhc4InueglAe3jqJhii1BuVZUFdT5oab67AHAaoGySfta16XMbA4A0F8+7lf5jw99CR4c7ulwp9c0SS7IMLzVIDzWZxqSlBos3/MRXtr6Ns7cOF9re4n6R9hGVgoLC5Genu7YzsjIwJEjRxzbOp0OHTt2xNy5c9G8eXMsWLAAf/vb3/DMM8+41PPJJ59g5cqV4TIzrJAKTv0inn011qDYCS/R8FW6p0QwhMpXK3QmaBOCmwIGAA2SbWuurhRWoUvrhrW2p7ZUHt0GIakhZGlZAKvdyIqQmAI+IRmGSyeAfuN8lj1z4zwOXDuC8e1HQimred1ZpqYhHu71O+ReP4FtF3KwcMtSdMloj1FthqJXoy5QyBS1sp2oH4QtWRFF0WW4z32eZ2JiIj744APH9qxZs/Dcc895JCszZ87ExIkTXfbl5+fHxdoWUsGpX8Szr8YaFDvhJRq+SveUCIZQ+Wp5lRHaBEXQ3+uTNUrwHHC9WBdcBSHEVHwN+vNHkNR3DLhaJip2FBnNYLx6qsY1OV8d/w5JSg16ZHX2u26e49GzcRd0zmiHX68fw74rh/FOzgdQCgp0ymiLDg3boH3DVmjToCUUQvAJJVF3CVuykpWVhQMHDji2i4qKkJFx66VF165dQ05ODqZMmQLAlszIZJ7mJCUlORbgxxt2FRz3OdqkglM3iWdfjTUodsJLNHyV7ikRDKHy1fIqky1ZCfJ8geeQrFGiIAaSlbKcjeAEGdStuoesTkV6MxguHoWlvBDylEzJMpfLruJw/gmMbz8SPB/4jwwKmQIDmvZCvyY9cKn8KiCvneoAACAASURBVM4WX8CF0ss4dN02/UwuyNGrURfc3XYYOmW0q9XnIeoWYUtWBg0ahBUrVqCkpARqtRo//vgjXnvtNcdxlUqFpUuXon///sjOzsaaNWtw5513hsuciOKsYpSapMSb/3MbLFYRgsAjVeOqfmM2W1FaZYTV6bjcbU5tTapIBFHXkFL60qjkKC7Xw2JlkAm2hfWyGn6Vd48drVqBSr3JJZZEkaG00hBQvTVRX2PW/XMnKmUo05lgtTIIAgdtohxv/M9tAGcTD0rRKOvldSIiT1mVEc0yNbWqI1WrQkFJdN9ib7hyClVHtkHbYyR4uQq1UQFzRpFhe3+M/vIJr8nKf85shVJQoFtmx1q1xfM8WqY2RcvUpgAAg8WAqxUFuFB6Gbn5J7D3yiH0y+6Bx/tMg1ZZu3tG1A3ClqxkZmbimWeewYwZM2A2mzFlyhR069YNs2fPxpw5c9C1a1e8+uqr+MMf/gCz2YxevXrh97//fbjMiRjOKkapWhVmjO2I99YecvyS+OzD/dAiKwkyGQ+z2YpLBZV44+N9LsebZ2odCQspihH1FWelL4tFxMX8Co9YsceSFO6x079zJqaO6uBSx8JZ/SEIHF75YI/f9dZEfY1Z98898fZWGNqrqcv1nnN/T3yz8xzGD2mNgyfzPY7Xh+tERIeySiM6t0yrVR0pWiUuXCsPkUWBYyq8hIL1yyBLbojEToMQqkQFAGTJGeDkKhgunUBSt+Eex6tMOvxyeT/6Z/eETAjtV0eVTIXWac3ROq05bm8xEPuuHsb2Czl49qc38eKwp5Ghif4aISK6hHWy8Pjx4/Htt99i8+bNmD17NgDggw8+QNeuXQEAo0ePdhx/4403oFDE/0IrZ8WbySPaOhIVwLaY9I2P96G00gAAKK0yOh7ULserjJL12cuQgg5R3yitNEjHys1YksI9du7o29yjjkUf7kVhSXVA9dZEfY1Z9889sl8Lj+u9/ItDuKNvcyz/4pDk8fpwnYjIYzRboTdaoFHXbj1EilaJskpjxEUhrPpKFG/5BFc+nAcwhrSRD4MLYhqWLziehyK9KYxXT0se33FhD0xWM3o16hLSdt2RCzIMbtYHD/e4D1Wmary87R2U6qOXIBKxAa1sDDHOijfaBLmk+o1FtP0aYrVKq+NYrbd+LSEFHYIALFbmM5akcI8db/GoUsg89vmqtybqa8y6f26Bh+R1sN8Hb8fr+nUiIk9ZpS0BTqhlspKqVYIBKC6P3FQw/eUTuLLqKZTv+QaJ7fohffyTENThmRqlyGgGc/FVWKsrXfYzxvDz+V/QKrUZ0hJSw9K2O02SG+Gh7hNRYazCkl/+DovVEpF2idiEkpUQY1e8AYDKarPjbzsZqWrIbk5xEARe8rgg3JoC4VyfcxlS0CHqEzKB8xlLUrjHjrd4NJgsHvt81VsT9TVm3T+3VYTkdbDfB2/H6/p1IiJPaYVtpDRRVbtkJVljE4MoLK2utU3+YCy4iPy1i8ApEpAx8U9I6nMXOFn41LIUGbb3rRiunHLZf/rGeVytyEe/7B4QWeR+TGikzcSEDqNxruQSPj+6KWLtErEHPRVCjF3xJiNVjfVbz+KpqT0dD2T7fHj7PPxUjRLPPtzP87hGKVmfvQwp6BD1jVStSjpWfLy93j12tuy/5FHHwln9kZGWEFC9NVFfY9b9c/+876LH9Z5zf09s2X8Jc+7vKXm8PlwnIvKU2JOVEIysAEBBcfiTFWa1oOjr5eAVajQc/QiExKRav0+lJuQNGgO8DPqLR132bz2/CyqZEm3San67fajplNEWvRt3w7ent+D0jXMRb5+IDcK2wL4u4FC2MYvgONuCX57nHIo13hR/mmZobyqAMSjlvONvQeCQkqhwLNyVywU0z9Tijf+5zaGW464G5l6fXa2IFqASwRINparatimT8ZKxAgBFpdWSSl5SimKJSplHHRzH2eJLZJDxtVcDk2q3Pqhc8TyH7HSNTe0LDICtj7Srf4EBPA88NrEbAGD8kNZI0Sjr3XUiIo99ZEVby2TFPrJSUBL+ZKXyyDaYCi+hwahHwjqa4gwnyKFo2AQGpzfZV5v12J13EH2bdIcQ4nUy/nJn6yH4reQiVu1fgyWjn4eMF2o+iahTULLiBSlFH7uSzbS7OqJphhZ5hZUeij9S+5+a2hP/+u4kSisNHkpDcrmAjNQEn3ZItUOKOUQwREOpKhRtiiLDlaIqlzoW/3EwqqrNPhXC/FUUS/cRg8Hg3G59wWIRcamgEmt/PIXxQ1pj+ReHPPrOqaM6YO2Pp7D3eAH1ZUTEKKk0guc5JKjktdLPkgk8tAmKsCcrTLSiLGcDFFmtIM9sHvYRFWcUmS1Qdey/EA068KpE5Fw+CKPVhO5ZnSJmgztKmQJ3tRmGL459jc1nt2Ns+zuiZgsRHWgamBekFH3sSjaLPtyL0kqDpOKP1P731h7C5BFtg1Iaqq/KQkR4iIY/haJNqTrMZjEghbBgFMUI/7FfX7val1TfaT9u3099GREJisv1SNEofL6Z3V9Stcqwr1mpPncIlrJCaLoMDdkb6v1FkdkSYAz6vJMAgC3nfkF2UiOkJzaIqB3utG/YCq3TmuPL49+h0lgVVVuIyEPJihe8KfrYlWx8qRN5O8+5TG3tIMUcIhii4U+haFOqDp6TVpPyFl/BKIoR/mO/vt5U1+z77X2hfT/1ZUS4KS43IFWrAgvBF/8UrRJFZeFVA6s8vAVCYgoUWZFfI6JomG1bt3LuMM6XXMa50kvon90DLITvdAkGjuMwqvVQ6M0GfHX8P1G1hYg8lKx4wZuij13Jxpc6kbfznMvU1g5SzCGCIRr+FIo2peoQmbSalLf4CkZRjPAf+/X1prpm32/vC+37qS8jwk1JhQHJGmVIvm6nJalQXG6A1RqeJNtaXYnq335FQru+iEbPxMnkUGQ0g/7iEfz42w4oBQU6NGwTBUs8ydA0RI9GnfHTuf+iUFccbXOICEJPCS9IKfrYlWwWzuqPVK1KUvFHav9TU3ti/dazQSkN1VdlISI8RMOfQtGmVB1yOR+QQlgwimKE/9ivr13tS6rvtB+376e+jIgEN8r0SNGG5qXTaUkqiCLDjfLwTB/Vnd4DiBaomnUOS/3+oGzUGuWl1/DLpf3ol90j5G+srw3DWgwAwOGLo19H2xQignAsFOOiEebKlSu44447sGXLFmRnZ4e0brPZitIqI6xWETKBh1zOw2plsIrMsU8QOBhNItQqASaz6LE/QS3AaHLaz3Mwmq0QBB4KGQ+90QqlnAc4DhaLCPvPJwoZD7NF9FA2clZSstUHGM2knhMPhNNXgyUSamDubSQoZCivNsFqFSEIPFISbfPH7bEmCDyS1ApU6E0u23qzxVGHWi7zOM5xcKk3Sa1Apd7kiKHkRAXKdbe2kxIULuXd1ff8uT7RUFOLBIH4qvs10KjkKKsyQqngYTCJkMs4mC3McZ05zrZG2P6/Us7DZBaRolGiymCuc9eSCC+B+KpOb8bUhf/BxGGt0bdjVq3bPne1DKu/Po5Fjw9C93bpta7PneufvQJzaQEajv+fiK9XsWMuK8CXuz7G5gYaPD3wESSrkqJihzd+/O2/2JP3K5bdtRBNkxtH2xwiAsROuhwDmM1WXCqodFELemn2AJjNIl532vfU1J7YdiAPw/s0xXtrDyFVq8KMsR3x3tpD6NamIcYMbok3P9kvqQa2YGZfHDxZgE6tGuC9tbfUcv48rTcS1TK8+s9bakfOykapWlVUlJyIuke4larc/XTi7a0wtFdTl7h67uF+kMt5vPLBHhSW6jF7Qmd0atXQUaZ/50xMHdXBQ7nLWUnquYf7QSHn8fLNOuxl/vtrHjbuOO9XHe7xU1OMUQx6XiP7dT5x/gY6tWqI//6ahyE9s136QLsa2PghrR2qYBVVBpTrVC73p75dSyL83Li5viQpMTQjKw2TbSOGeYWVIU9WrNWV0F88Bm3PUVFLVABA1KZhV0oi2jMFUlTJUV+v4s5tzfri12tHsfbo15h72xPRNoeIADQNzInSKqOHWlBhSbUjUbHve2/tIUwc1taRbEwecevvicPaOh7SzuXtamBvfrIfw3o3dZS3l3l7zUEUlep9KhWRMhgRD7j76ch+LTzi6vWP96GwpNqxr1/nRi5l7MpR7vHgrCT1+sf7UOBUh73MyH4t/K7DPX5qijGKQc9rYL/O9ns4sl8Ljz7QrgbmrAqWnZHkcX/q27Ukwo99Mbymlu9YsaNNVEAu43GlsDIk9TlT/dsBgIlQZbcLed2BsKPwBKoEDkPzb4CZYk8tMUGhxoCmvbD/ai7OlVyKtjlEBKBkxQmr1VNxSKWQSSrbCPwtJSJn9Rvn/c7lndXAGJNWJVIpZB77nJWKSBmMiAfc/dRbTDj7u3tM+FKU8laHfZ/AB1aHc/zUFGMUg57XwH6d7ffQVx/o/L9VpGtJhB+7zHCKJjSjyTzHoWGKGnkFoZfP1Z3eB0GTCiE59NPL/EVvNeHbawfRTtUArXUGCJdPRs0WXwxs2gsJcjU+O/LvaJtCRABKVpwQBE/FIYPJIqlsYxVvKRE5q98473cu76wGxnHSqkQGk8Vjn7NSESmDEfGAu596iwlnf3ePCV+KUt7qsO+zi/T4W4dz/NQUYxSDntfAfp3t99BXH+j8v8DTtSTCT2FJNWQCD01C6N4Cn5mWgLyC0I6siGYj9OcPQ92yOzgWvYT9m6sHUW7WY0TzfhBVieDPHIyaLb5QypQY3KwvjhacwrGC09E2hwgz9FRwIlWj9FALykhLwHNu+56a2hMbt5/FU1Ntijfrt976e+P2s1gws69XNbAFM/ti+8E8R3l7mT9P6430VLVPpSJSBiPiAXc//XnfRY+4eu7hfshIS3Ds23f8uksZu3KUezw4K0k993A/ZDrVYS/z876LftfhHj81xRjFoOc1sF9n+z38ed9Fjz7QrgbmrAp2pbDC4/7Ut2tJhJ/8kmo0TAntGr2stASUVhpRoTOFrE79+cNgFhOUTaI3BeySrgg/XD+M/ukdkCqoYcpuC+HaOUBXHjWbfNGvSXckK7X4NHcDxCgmeET4ITUwuCrbKBX8TSUvBkHgkKqxPThtqkU2RSFB4GA0i1DeVAqzWBlUSgFmi00BTCkXYBWZQ4GI5zmYzCIEgYNcxsNgtEAhF8DB9iI1cAA4QCHcVAMTGWT8LTUwb7aSek7sE4tqYJHA3U/dlbySE2xKXmU6kyPWbqmB3dqWVgO7dVwQOEdsutZxq52KapMjpvxRn3K3XXtTYczbdl2JwWDVwDgACjnvUCg0W0QIPGdTUBQZBJ7zUANTKXhYRdTZa0mEl0B89al3tkOjlmPqne1D1v65K2VY/c1xvDJ7IHp1yAhJnYVfr0D1mX3IuG9+VN6voreY8Orxr6CzmPB4u7vAi1bwugpot66FpccwWPqOjoJVNXP4+nFsOvUjnho4C4Ob9Y22OUSYqPdqYP6q+2SkJng9z1kNTErJK5B2aiLcSk4EEQqc/dRiEXExv8JDlUuTIMfzf9vlMx5UKtcuyn0buBWb/sZYqptUsS/bSf1LGp7nkJyolLw22ekaD1VFuxrY1FEdXPpFANSfEWGDMYb8Yh0GdKm9ZLEzTTI04Djg+IUbIUlWmNWM6rP7bVPAQmBfoFhEK/56djPy9WV45GaiAgBiYhIsmc0gO7EXlh7DAHnsjXp2y+qIvVcO4dPDG9G3cXcoZKFRfSNii3o/DSxYdR/n85zVwOx1kJIXQdgorTRIqnKZzWJI4yEcMUZx6x1v10ZKVdFZBcy5XySIcFJWaUS1wYIGyeqaCweASiFD44aJyD1zIyT16S8chWjQQRmFF0EarCYsP/M9jpZfxuSWt6GhzPXHA0PbnuBMeghHd0XcNn/gOR6j29yOYn0p/n3qx2ibQ4SJep+sBKvu43yeN9UhUvIiCNtURynfdx+YqG08hCPGKG694+3aSKkqOquAOfeLBBFO8m7KCzcMcbICAO2apeJMXinKq2r/w0XV8Z3glYlQpDcNgWX+c6W6GK8eW48jZZcxpcVtaKNOh/vKAGtqJkxZLSDP3QGuqiyi9vlLi9Sm6JLRHv8+uRn5lYXRNocIA/U+WQlW3cf5PG+qQ6TkRRCATJBWv3P/zlrbeAhHjFHcesfbtZFSVXRWAZPV4+lzRGTJy7clK2lJoZ9q2K1NOhgDftpXu/d8iCY9dKf3Qd2mF7gIhYZZtGLTlf146eg6VFj0mNVuFNomZIB5WaRu6DwAYCLkO74CYnQh+6g2QyFwAv6x/1NabF8HCesT95tvvsGYMWMwatQorFmzxuP4yZMnMWnSJIwePRrPP/88LBaLRC3hJVh1H+fznNXA7HWQkhdB2EjVqiRVueRyPqTxEI4Yo7j1jrdrI6Wq6KwCRmtUiEhx/loFtAnykMoW28lMS0Cb7BSs3/Ybisv1NZ/ghaoTu8DMBqhbdg+hdd45Xp6HF46sxYYr+9A9rRUeb3s30gW110QFAMSEJOg7D4Rw7Rxk+zZHxM5A0So1GNVmCE4UncUPZ7dH2xwixIRNDaygoAAPPPAANmzYAIVCgalTp+Kdd95BmzZtHGXGjRuHRYsWoUePHnjuuefQpUsXPPjggzXWHU41sEAUaZzPU8h5WCwizFZS8iJuUV/VwNyxWESUVhpclO54ngt5PIQjxupL3Abjq96ujf1+W0UG/qYaGBgk+0WCCBR/ffXpd7dDJZdh2l0dwmJHQUk1/r4hF4kqOQZ0aYTG6Rrc1r0xGqb4N+2MMYarq+eCWUxoMOZxcGEUZ60wV+Ozi79gd/FZpKuSML7ZAGTJtRBvLqb3w1ioj+2C8uIJmHuPhKXnCERsKMhPGGNYe/RrnC+9hEV3zEWrtObRNokIEWFTA8vJycGAAQOQkpICABg9ejR++OEHPPnkkwCAq1evwmAwoEePHgCASZMmYfny5X4lK6EmWIWtQM8jJS+iviKT8Uh3U9QDQq8EFY4Yo7j1jrdr4+1+E0SkMBgtuHCtAncPDN8X1sy0BMye0BVbDlzGzsNXUaU349PvT2LejD7o16lmBTL9xSMwFVxA6u0Phi1RYYxhZ9EprL20C0bRgtFNeqNnagvAavU/UQEAjoO+yyBwVgsUB38GV10J86DxAO9bXTGScByHCR1G4f0Da7Dkl3/gjTsXIFWdHG2ziBAQtmSlsLAQ6enpju2MjAwcOXLE6/H09HQUFBR41FNRUYGKigqXffn5+WGwmCBqB/kqES+QrxLxQrC+euJCCUSRoWmmNlymAQCapGsw4+5O4ACUVBqx9qdTePOT/Vjy5BC0aZri9TzGRJRu+wyCtgGUTcPzIsh8fRk+ubAdJyquorW2EcZm90UiJ4BZA0hSnOF4VHe/HaIyAaqTe8EVX4f5jgfANN4/Z6RJUKgxtes9+OjQOiza/h5eGvEnJCk10TaLqCVhS1ZEUQTnNETIGHPZrum4nU8++QQrV64Ml5kEETLIV4l4gXyViBeC9dX9J/KhkPFomhGZL6oMQKpWiRl3d8Jfv8rFW/9vP9770zAkqKTXy1Qc+AHG678hdcR0cCF+u0q1xYhvr/2KzdcPQ87LMLnFYLRPbARRtHiofQUMx8HQsR+syQ2QkPtfKNe/B/Oge2Bt0yNmpoVlaTNwf5d78PnRTXhxyzLMH/JHNNKG5uWdRHQIW7KSlZWFAwcOOLaLioqQkZHhcryoqMixfePGDZfjdmbOnImJEye67MvPz8e0adPCYDVBBA/5KhEvkK8S8UIwvmowWfDfw1fRvV06eI5HJMWyE9Vy3HdHW/zz62NYse4w5k3v4/FDrP7iURRv+QSqFt2gbNIWCNEUsApzNbYWHMeP+bnQWYzol94eQzI6QS4yiGJoBYzMjVujMjkdCbk7oNi+Dtazv8LcfwxYg0YhbSdYWqU1w0PdJ+LLY99i/o+v48Fu9+LO1kMgxNC0NcJ/wpasDBo0CCtWrEBJSQnUajV+/PFHvPbaa47jTZo0gVKpxMGDB9G7d29s2rQJQ4cO9agnKSkJSUlJ4TKTIEIG+SoRL5CvEvFCML76xU9nUKEzYVC3RhFNVOy0bJyM0f2b44c9l6BNOILZ93aBXCZANOlRcXAzSneshTwlEykD763VWhWRicg3lOF0xXUcLr2Io+WXYWUiuqa2wJDMzkjmlWBi+GR8xcQkVA0cC8Wlk1CfOgDVhuWwNusAS7veEJu0BRTRVU1snpKN2X0exDent+DDX7/At6d/xohWg9GncTdkJzcCz5HYR7wQtmQlMzMTzzzzDGbMmAGz2YwpU6agW7dumD17NubMmYOuXbti2bJlWLhwIaqqqtC5c2fMmDHDr7qtN+db0hxrIpJkZWVBJgssZMhXiWhAvkrEC6H21S+352HroUIM6NQQclGPoqLqkNgZKB2aKFDcIQ3f776Iw0d+w0ztL8i0XAMvWiBkdwbXZQRulJTUWE9uVR7yjCWwMhFmZoVBNKPaakK5RY9iiw4WZrsWKfJE9E9tj/aJWVAzHmKFDqXQhflT3iS1Cfg+DZF8/Tw013+D8vIpMHCwaFNhSUiBVamGKFfCoklFVYQkmp0Z1Wgw8rQtcaTkNNYe/Rprj34NpaBAuioNyUotEmRqZKgbYHiTgeC9TGULxk+J0BE26eJwcuDAAZquQEScYOSHyVeJaEC+SsQLofZVmUyG3v0GQqbQoLKqKhQm1gq1SgWBY0hOUqFJgxTk510Ax0Toq/1LogRBQMu27W0b3K1/jONsb8rjOTDetk+v14NFZSzJGQ5KlQoiYzBZRVhFQBQB8aZlly/nwWQyRs06tUoNmSCDaBHBzFaIVtE2DU8Ejh09Bp1OOsHbtGkTOnQIjwQ2UTNxmawYDAYcO3YM6enpEISa5x/a57euWbMGWVk1ywnGK/Xhc0bzMwbzy0qgvhoM8XLf48VOIH5s9WZnrPqqL+LhmseDjUD82AmEz1fj6RpIEe/2A3XrM/z4449o3pze2xIt4nJMS6VSoU+fPgGfl5WVVS9ezFcfPme8fMZgfTUY4uWaxIudQPzYGgo7I+mrvoiHax4PNgLxY2egBOKr8X4N4t1+oG58hmj8gEPcglYXEQRBEARBEAQRk1CyQhAEQRAEQRBETELJCkEQBEEQBEEQMYnw8ssvvxxtIyKBUqlE//79oVRGV/c73NSHz1kfPmOgxMs1iRc7gfixNV7s9Id4+CzxYCMQP3aGk3i/BvFuP0CfgQgNcakGRhAEQRAEQRBE3YemgREEQRAEQRAEEZNQskIQBEEQBEEQRExSb5KVt956CwsWLIi2GWFj69atmDRpEu6++24sWrQo2uaEhU2bNmHs2LEYO3Ys3nrrrWibExOsXLnScU2WLFkSbXN88t5772HMmDEYO3YsPvroo2ibUyPx0GdMnz4dY8eOxYQJEzBhwgTk5uZG26SgiSdfjmXfqA/Pgpr45ptvMGbMGIwaNQpr1qyJtjlBU1VVhXHjxuHKlSvRNiVg4imevRFvz6w6DasH5OTksP79+7P58+dH25SwcPnyZXbbbbex69evM5PJxB544AG2ffv2aJsVUqqrq1nfvn1ZcXExM5vNbMqUKWzXrl3RNiuq7Nq1i91///3MaDQyk8nEZsyYwX788cdomyXJ3r172dSpU5nZbGZ6vZ4NHz6cnTt3LtpmeSUe+gxRFNltt93GzGZztE2pNfHky7HsG/XhWVAT+fn5bPjw4ay0tJTpdDo2fvx4dvbs2WibFTCHDx9m48aNY507d2Z5eXnRNicg4imevRFvz6y6Tp0fWSkrK8O7776LJ554ItqmhI2ffvoJY8aMQVZWFuRyOd59911079492maFFKvVClEUodfrYbFYYLFY6r0yR3p6OhYsWACFQgG5XI7WrVvj2rVr0TZLkn79+uFf//oXZDIZiouLYbVakZCQEG2zJImXPuP8+fMAgFmzZuGee+7Bp59+GmWLgidefDnWfaM+PAtqIicnBwMGDEBKSgoSEhIwevRo/PDDD9E2K2DWrVuHl156CRkZGdE2JWDiJZ59EU/PrPqALNoGhJsXX3wRzzzzDK5fvx5tU8LGpUuXIJfL8cQTT+D69esYNmwYnn766WibFVI0Gg2eeuop3H333VCr1ejbty969eoVbbOiStu2bR1/X7x4Ed9//z0+//zzKFrkG7lcjuXLl+PDDz/EXXfdhczMzGibJEm89BkVFRUYOHAgXnjhBZjNZsyYMQMtW7bE4MGDo21awMSLL8e6b9SHZ0FNFBYWIj093bGdkZGBI0eORNGi4Fi8eHG0TQiaeInnmoiXZ1Z9oE6PrHz55Zdo1KgRBg4cGG1TworVasXu3bvx+uuv44svvsCRI0ewcePGaJsVUk6dOoX169dj27Zt2LlzJ3iex+rVq6NtVkxw9uxZzJo1C/PmzUOLFi2ibY5P5syZg927d+P69etYt25dtM3xIJ76jJ49e2LJkiXQarVIS0vDlClTsGPHjmibVSti2ZfjwTfqw7OgJkRRBMdxjm3GmMs2ETliOZ79JdafWfWFOp2s/Oc//8GuXbswYcIELF++HFu3bsXrr78ebbNCTsOGDTFw4ECkpaVBpVJh5MiRcflLki9++eUXDBw4EA0aNIBCocCkSZOwb9++aJsVdQ4ePIiHH34Yf/7znzFx4sRom+OVc+fO4eTJkwAAtVqNUaNG4fTp01G2ypN46jMOHDiA3bt3O7YZY5DJ4newPNZ9OR58oz48C2oiKysLRUVFju2ioqK4nEoV78R6PNdEvDyz6g3RXjQTKdavXx+TCyJDweHDh9no0aNZeXk5s1gs7PHHH2fr1q2LtlkhZefOneyee+5hOp2OiaLIXnjhBbZ8+fJomxVVrl27xvr3789ycnKibUqNbN++nU2aNIkZjUZmNBrZ73//e/btt99G2yyfxHqfsXXrVnbvvfcyg8HAje2CtwAADg9JREFUKisr2fjx49mvv/4abbOCIp58mbHY9Y368CyoCfsC++LiYlZdXc3uuecelpubG22zgmb48OFxt8A+3uJZinh8ZtVl4vdnOMJB9+7d8eijj+LBBx+E2WzG4MGDMXny5GibFVJuu+02nDhxApMmTYJcLkfXrl3x2GOPRdusqLJ69WoYjUa8+eabjn1Tp07FAw88EEWrpLn99ttx5MgR3HvvvRAEAaNGjcLYsWOjbVZcM3z4cOTm5uLee++FKIp48MEH0bNnz2ibFRTx5MuxTH14FtREZmYmnnnmGcyYMQNmsxlTpkxBt27dom1WvaIuxDM9s2ILjjHGom0EQRAEQRAEQRCEO3V6zQpBEARBEARBEPELJSsEQRAEQRAEQcQklKwQBEEQBEEQBBGTULJCEARBEARBEERMQskKQRAEQRAEQRAxCSUrdYi9e/di3LhxNZZr3749SkpKQt5+ZWUlZsyYEfZ2iLqFv35bE1u2bMGiRYskj40bNw579+4FACxcuBDHjh0DAEyfPh0//PBDrdsm4o8vv/wSa9asqbHciBEjcPToUZ9lFixYgNWrV4fKNBdWrlyJn3/+OeztELFPKH3WHyZMmICKigqP/atXr8aCBQsAANu3b8d7770HANiwYQMef/zxWrdLEO5QskKEjPLy8pB0kAQRDHfccQcWLlxYY7mcnByQYjtx8OBBGAyGaJtRI3v37oXFYom2GUQMEGmf3bRpE5KSknyWOXr0KMrLyyNkEVFfoZdCRgidTodnn30Wly5dAs/z6Ny5M1599VVs374df//732E2m6FSqTB//nz07NkTK1aswKVLl5Cfn4+ioiJ06NABixcvhkajwbZt27Bq1SqYTCaUlJTg3nvvxdNPPx2UXV9++SU+//xziKKIlJQUvPDCC2jdujUWLFgAjUaD06dPIz8/H+3bt8dbb72FxMRE7NixA8uWLQPP8+jYsSNycnLw2Wef4dlnn4XBYMCECROwYcMGAMCKFSuQm5uLsrIyPPLII5g2bVooLysRZmLFbxcvXozExEQ8/fTTKCwsxJAhQ/DJJ59gwIAB2LRpE7Zt24ahQ4di8+bNWLVqFX777Tc899xz0Ov1aNWqFaqrqwEA7777LgoLC/GXv/wFS5YsAWAbkVm9ejVu3LiBgQMHYtGiReB5+h0nnti7dy+WLVuGxo0b4/z581CpVHjzzTfRtGlTLFu2DPv374fVakWnTp2wcOFC7N69G1u3bsWuXbugUqkwevRovPjiiyguLkZRURGaNGmC//u//0ODBg0CtuXcuXNYvHgxysrKYLVaMX36dEyZMgV79+7Fu+++i6ZNm+Ls2bOwWCx45ZVX0Lt3b5SUlODZZ5/F5cuXkZKSgvT0dLRt2xZpaWk4duwYlixZAkEQAACHDh3C1KlTcePGDbRt2xZvv/02EhISQn1JiTATTZ89efIknnjiCezYsQMA8Mgjj6Bhw4Z46623YDKZMGTIEPz888/o06cPdu/eDa1Wi0WLFiEnJwcNGjRAgwYNoNVqkZubi7Vr18JqtUKr1aJ58+YoKirCY489huvXr0MQBLz99tto3bp1uC8nUdcJ7sX3RKBs3LiRzZo1izHGmMViYc8//zy7cOECGzduHCspKWGMMXbmzBk2ePBgptPp2PLly9nQoUNZUVERs1qt7E9/+hN78803mSiK7KGHHmIXLlxgjDGWn5/POnbsyIqLi9mePXvY2LFja7SlXbt2rLi4mO3du5c9+OCDrLq6mjHG2M6dO9ldd93FGGNs/vz57P7772dGo5GZTCZ27733sq+++oqVlJSwfv36sZMnTzLGGNuwYQNr164dy8vLY3l5eaxHjx4u7axevZoxxtjx48dZly5dmMlkCs0FJSJCrPjtvn372MSJExljjH311Vds8ODB7O2332aMMTZnzhz23XffsfXr17PHHnuMMcbYhAkT2Lp16xhjjB04cIC1b9+e7dmzhzHG2PDhw9mRI0cYY4w99NBD7A9/+AOzWCysurqaDR48mO3fvz+EV5CIBHv27GEdOnRw3LvPPvuMTZw4ka1YscLhf4wx9vbbb7OXXnqJMWbr4/75z38yxhj7+OOP2apVqxhjjImiyB599FFH3+XsL96w12U2m9mYMWPYsWPHGGOMVVRUsLvvvpsdOnSI7dmzh3Xs2JGdOHGCMcbY6tWr2bRp0xhjjD3zzDNsyZIljDHGCgoK2ODBg9ny5csZYzYf/f777x3tTJkyhVVXVzOLxcImTpzINm7cWPsLSEScaPvsiBEj2OnTp5ler2fDhg1jQ4cOZYwxtn37dvboo48yxm59V/j444/ZjBkzmNFoZDqdjk2cOJHNnz+fMcbY8uXL2SuvvMIYY2z9+vWsz/9v595Cour6OI5/ZxwHhwzNRCioNFM8hKFj5GFKEw0zNUUvLJDpQFiUdCARIyMakjCYlMIKhOgiOvJUZFKY4KGT5UUYhibGaEQ0GGYNlZozz4W4qVeNtDedfP6fK9177bUXmx97WKcdGemwWCwOh8PhMJlMjqKiov/L8xL/bTKzMkX0ej0nTpwgNzeXmJgYjEYjDx48wGq1smnTJqWcSqWiu7sbgOTkZLy9vQHIzs6mpKSEwsJCzpw5Q11dHVVVVXR2duJwOPjy5cuE21RXV0dXVxc5OTnKsY8fP/LhwwcAVq5ciVarBSAwMJC+vj6am5vx9/cnKCgIgMzMzHH3CQDKXoTg4GAGBgaw2WzMmTNnwm0V08NZcqvX63n37h09PT00NjayY8cO/vnnH3bt2sXTp08pKSnh7t27APT29tLe3k5GRoZybUBAwLh1p6Sk4OLigk6nw9fXl/fv30/mUYlpFhQURGRkJABZWVkcOXIEm82GSqXi4cOHAAwODo458mw0GmlububcuXNYLBY6OjpYtmzZhNtgsVjo7u7mwIEDyrGvX7/y4sUL/P39mT9/PsHBwQCEhIRw/fp1AOrr65W/fXx8SE5OHvceiYmJ6HQ6AAICAmRf4F9sOjOblJREQ0MDAQEBREVF0d7eTkdHB7W1taxZs+aHso8ePSI1NRWtVotWqyUtLY329vYx6w0LC2PRokXA8O9+TU3NL7dJiPFIZ2WKLFiwgJqaGpqamnj8+DGbN28mLy+P6OhoysrKlHJv377Fx8eHmpoaZdofwG63o1ar+fz5M5mZmSQmJhIZGUlWVhb37t2b1Bp8u93O+vXrKSgoUP63Wq14eHgA4ObmppRVqVQ4HA5cXFxG3etnS2Y0Go1yPSB7Bf4yzpJbtVpNfHw89fX1tLS0UFpaytmzZ7lz5w7h4eHMmjVr1DXf1z2Sw7F8f24k5+Lv833uRtjtdoqLi4mLiwOGlzX29/ePKnf8+HFaWlrIyspixYoVfPv2bVI5GFkOc/PmTeVYT08Ps2fP5tmzZ2O+U2E4g9/f71feqf9bh/j7TGdmExMTKS8vx2q1Ehsby9y5c7l//z4NDQ3s3bt3wu0eIfkUf4IszJ4iI3s6DAYDBQUFGAwG+vr6ePDgAZ2dncDw6Fp6erqyga62tpZPnz5ht9u5cuUKq1evpqurC5vNxp49e0hISKCpqYmBgQHsdvuE22QwGLh9+zZWqxWAixcvYjQaf3pNREQEFouFtrY2AO7evcvHjx9RqVRoNBqGhobk5TSDOFNu16xZQ2VlJYGBgWi1WqKiojCbzaNGAefMmUNoaChXr14FoLW1lZcvXyrnXVxcZMPyDNTW1qa8ly5fvkx4eDgpKSlcuHBByVpxcTFmsxn4MQf379/HaDSSkZHB3LlzefjwIUNDQxNug5+fH25ubkpn5e3bt6SmpipfnxtPXFwc165dA4ZnBu/du6cM8EheZ67pzGxERASvX7+mrq6OmJgYYmNjOX/+PL6+vqNWP6xcuZIbN27Q399Pf38/1dXVyjnJp5gKMrMyRTIyMnjy5AkpKSnodDrmzZtHbm4u/v7+7Nu3D4fDgUaj4fTp08oosbe3N9u2baO3t5fly5ezfft2tFot8fHxrF27Fq1WS2BgIEuWLKGrq0tZsvWrDAYD27ZtY8uWLahUKtzd3Tl16pTyIzkWT09PzGYzhYWFqNVqli5dikajQafT4eHhQVhYGOvWrfulzysK5+dMuY2OjsZqtbJhwwZgOL/V1dUkJCSMKms2mykqKuLSpUssXLiQxYsXK+eSkpIoKCjg8OHDv/+AhNPw9vamrKyMN2/e4OXlRWlpqbJpODMzk6GhIYKDg5VPrq5atYpjx44BsHPnTkpLSykvL8fV1ZWIiAhlWeNEaLVaKioqOHr0KJWVlXz79o3du3ej1+uVT2ePpaioiIMHD5KWloanpyfz589XZmESEhIwm80MDg5O4qkIZzadmVWr1axatYrnz5/j5eWFXq+nr69v1OAPQE5ODt3d3aSmpuLp6aks8wKIiopi//79mEwmQkNDf/OJCDE2lUOGwZ3SyZMn6e3t5dChQ9PdlB/YbDYqKirIz89Hp9PR2tpKXl4ejY2NP+3kiP8GZ82tmNmampowmUxUVVVNd1Mm5cKFC4SEhBAeHs7AwAAbN24kPz9fWQokZp6/PbNCTCWZWZmBKisruXXr1pjntm7dSnp6+qTrdnd3x9XVlezsbDQaDRqNhrKyMumoiN/2J3MrxO949erVuOv4/fz8fti/NRlLlizBZDJht9sZHBwkOTlZOirit/zpzAoxlWRmRQghhBBCCOGUZIO9EEIIIYQQwilJZ0UIIYQQQgjhlKSzIoQQQgghhHBK0lkRQgghhBBCOCXprAghhBBCCCGcknRWhBBCCCGEEE7pX7MEP+QYElpSAAAAAElFTkSuQmCC\n",
      "text/plain": [
       "<Figure size 806.85x720 with 20 Axes>"
      ]
     },
     "metadata": {},
     "output_type": "display_data"
    }
   ],
   "source": [
    "\n",
    "#Question1\n",
    "\n",
    "sns.set(style=\"ticks\")\n",
    "\n",
    "df = sns.load_dataset(\"iris\")\n",
    "sns.pairplot(df, hue=\"species\")\n",
    "\n",
    "\n",
    "\n",
    "\n"
   ]
  },
  {
   "cell_type": "markdown",
   "metadata": {},
   "source": [
    "#  Interpretation of the separability of the three classes in terms of diﬀerent features (dimensions).\n"
   ]
  },
  {
   "cell_type": "markdown",
   "metadata": {},
   "source": [
    "The data set contains 150 records in 3 categories, each with 50 pieces of data. Each record has 4 characteristics: sepal length, sepal width, petal length, and petal width. These 4 characteristics can be used to predict the iris flower belongs to which specific type such iris-setosa, iris-versicolor and iris-virginica.\n",
    "If features with objects belonging to the same category such as all setosa have similar values, we can find well-defined classfication in the data visualization.\n",
    "When the sepal length is fixed, the three types of Iris flowers are clearly distinguished in terms of petal width and petal length, although Versicolor and Virginica are slightly mixed. In particular, setosa's petal width and petal length are both significantly smaller than the other two. Secondly, Versicolor's petal width and petal length are smaller than those of Virginica. In the second scatter plot in the leftmost column, it can be seen that Versicolor and Virginiana are mixed with more points, and the distribution of Setosa is clear and obvious.\n",
    "When the sepal width is fixed, the three types of Iris flowers are well classified in terms of petal width and petal length. The distribution  slightly worse on sepal length feature. Although Versicolor and Virginica have mixed separations, it is still very easy to distinguish different types of flowers.\n",
    "When the petal length is fixed, The three categories of Iris flowers are clearly distinguished in terms of sepal length, sepal width and petal width. Setosa's sepal width is slightly higher than the other two, and its sepal length is smaller than the other two.\n",
    "When the petal width is fixed, the three types of Iris flowers are clearly classified in three aspects: sepal length, sepal width, and petal length as well. Even Versicolor and Virginica still have few data points mixed together. The overall distribution is still obvious.\n",
    "These graphs show that a classifier trained using these functions may learn to classify various flower types reasonably."
   ]
  },
  {
   "cell_type": "markdown",
   "metadata": {},
   "source": [
    "# Question 2: KNN"
   ]
  },
  {
   "cell_type": "code",
   "execution_count": 29,
   "metadata": {},
   "outputs": [],
   "source": [
    "#Question 2: KNN\n",
    "\n",
    "from sklearn.model_selection import train_test_split\n",
    "from sklearn.neighbors import KNeighborsClassifier\n",
    "\n",
    "#1. First, divide the data into train, validation, and test sets (60%, 20%, 20%) \n",
    "\n",
    "X_train, X_test, y_train, y_test= train_test_split(data.data,data.target, test_size=0.2, random_state=42)\n",
    "\n",
    "X_train, X_val, y_train, y_val= train_test_split(X_train,y_train, test_size=0.25, random_state=42)\n"
   ]
  },
  {
   "cell_type": "code",
   "execution_count": 30,
   "metadata": {},
   "outputs": [
    {
     "data": {
      "text/plain": [
       "0.9666666666666667"
      ]
     },
     "execution_count": 30,
     "metadata": {},
     "output_type": "execute_result"
    }
   ],
   "source": [
    "#2. Train the model with each classiﬁer’s default parameters. Use the train set and test the model on the test set. Store the accuracy of the model.\n",
    "knn = KNeighborsClassifier(n_neighbors = 5) #5 is the default value\n",
    "\n",
    "#Fit the model using X_train as training data and y_train as target values\n",
    "knn.fit(X_train, y_train)\n",
    "#Accuracy classification score\n",
    "Accuracy_score_5=knn.score(X_test, y_test)\n",
    "Accuracy_score_5"
   ]
  },
  {
   "cell_type": "code",
   "execution_count": 31,
   "metadata": {},
   "outputs": [
    {
     "name": "stdout",
     "output_type": "stream",
     "text": [
      "0.9\n",
      "0.9333333333333333\n",
      "0.9333333333333333\n",
      "0.9333333333333333\n",
      "0.9333333333333333\n",
      "0.9666666666666667\n",
      "0.9666666666666667\n",
      "0.9333333333333333\n"
     ]
    },
    {
     "data": {
      "text/plain": [
       "[0.9,\n",
       " 0.9333333333333333,\n",
       " 0.9333333333333333,\n",
       " 0.9333333333333333,\n",
       " 0.9333333333333333,\n",
       " 0.9666666666666667,\n",
       " 0.9666666666666667,\n",
       " 0.9333333333333333]"
      ]
     },
     "execution_count": 31,
     "metadata": {},
     "output_type": "execute_result"
    }
   ],
   "source": [
    "#3. find k for KNN using the cross validation data\n",
    "k_parameter= [1, 5, 10, 15, 20, 25, 30, 35]\n",
    "cache=[] #cache to store the result\n",
    "for par in k_parameter:\n",
    "    knn=KNeighborsClassifier(n_neighbors = par)\n",
    "    knn.fit(X_train, y_train)\n",
    "    cache.append(knn.score(X_val, y_val))\n",
    "\n",
    "    print(knn.score(X_val, y_val))\n",
    "\n",
    "cache"
   ]
  },
  {
   "cell_type": "code",
   "execution_count": 32,
   "metadata": {},
   "outputs": [
    {
     "data": {
      "image/png": "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\n",
      "text/plain": [
       "<Figure size 432x288 with 1 Axes>"
      ]
     },
     "metadata": {},
     "output_type": "display_data"
    }
   ],
   "source": [
    "#Plot a ﬁgure that shows the relationship between the accuracy and the parameter. Report the best k in terms of classiﬁcation accuracy.\n",
    "\n",
    "plt.title('The relationship between the accuracy and the parameter')\n",
    "plt.plot(k_parameter,cache)\n",
    "plt.show()\n"
   ]
  },
  {
   "cell_type": "code",
   "execution_count": 33,
   "metadata": {},
   "outputs": [
    {
     "data": {
      "image/png": "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\n",
      "text/plain": [
       "<Figure size 432x288 with 1 Axes>"
      ]
     },
     "metadata": {},
     "output_type": "display_data"
    }
   ],
   "source": [
    "plt.title('The relationship between the accuracy and the parameter')\n",
    "plt.scatter(k_parameter,cache)\n",
    "plt.show()\n"
   ]
  },
  {
   "cell_type": "markdown",
   "metadata": {},
   "source": [
    "According to the two figures, when K is equal to 25 and 30, the accuracy is the highest. But based on speed of convergence and generalisation I pick 30 to be the best parameter. I set up the K to be 30 because of the accuracy. The lower value of k will predict a more locally model, and higher value of k will predict a more globally model. The smaller K can make the model more complex and consume too much to the computer, it is not good to the complexity(big O) and speed of convergence. It may also have overfitting problem."
   ]
  },
  {
   "cell_type": "code",
   "execution_count": 34,
   "metadata": {},
   "outputs": [
    {
     "data": {
      "text/plain": [
       "1.0"
      ]
     },
     "execution_count": 34,
     "metadata": {},
     "output_type": "execute_result"
    }
   ],
   "source": [
    "#4.Using the best found parameters, train the model using the train set and test the model on the test set. Report the accuracy of the model.\n",
    "#Using the parameter is 25\n",
    "knn25 = KNeighborsClassifier(n_neighbors = 25) \n",
    "knn25.fit(X_train, y_train)\n",
    "#Accuracy classification score when k=25\n",
    "Accuracy_score_25=knn25.score(X_test, y_test)\n",
    "Accuracy_score_25\n",
    "\n"
   ]
  },
  {
   "cell_type": "code",
   "execution_count": 35,
   "metadata": {},
   "outputs": [
    {
     "data": {
      "text/plain": [
       "1.0"
      ]
     },
     "execution_count": 35,
     "metadata": {},
     "output_type": "execute_result"
    }
   ],
   "source": [
    "#Using the parameter 30\n",
    "knn35 = KNeighborsClassifier(n_neighbors = 30) \n",
    "knn35.fit(X_train, y_train)\n",
    "#Accuracy classification score when k=35\n",
    "Accuracy_score_35=knn35.score(X_test, y_test)\n",
    "Accuracy_score_35"
   ]
  },
  {
   "cell_type": "markdown",
   "metadata": {},
   "source": [
    "According to the above results, when k is equal to 25 and 30 to the KNN classifier, the accuracy is the highest. But based on speed of convergence and generalisation I pick 30 to be the best parameter. I set up the K to be 30 because of the accuracy. The lower value of k will predict a more locally model, and higher value of k will predict a more globally model. The smaller K can make the model more complex and consume too much to the computer, it is not good to the complexity(big O) and speed of convergence. It may also have overfitting problem.Its accuracy is 100% on the test set.The accuracy of the model is 100% on the test set when K=30."
   ]
  },
  {
   "cell_type": "markdown",
   "metadata": {},
   "source": [
    "# Question 3: SVM"
   ]
  },
  {
   "cell_type": "code",
   "execution_count": 36,
   "metadata": {},
   "outputs": [
    {
     "name": "stdout",
     "output_type": "stream",
     "text": [
      "[1.         1.         1.         1.         0.83333333 0.83333333\n",
      " 1.         1.         1.         0.91666667]\n",
      "[1.         1.         0.91666667 1.         0.91666667 0.83333333\n",
      " 1.         1.         1.         0.91666667]\n",
      "[1.         1.         0.91666667 1.         0.91666667 0.83333333\n",
      " 1.         1.         1.         0.91666667]\n",
      "[1.         1.         0.91666667 1.         0.83333333 0.83333333\n",
      " 1.         1.         1.         1.        ]\n",
      "[1.         1.         0.91666667 1.         0.83333333 0.83333333\n",
      " 1.         1.         1.         1.        ]\n",
      "[1.         1.         0.91666667 1.         0.83333333 0.83333333\n",
      " 0.91666667 1.         1.         1.        ]\n",
      "[0.91666667 1.         0.91666667 1.         0.75       0.83333333\n",
      " 0.91666667 1.         1.         1.        ]\n",
      "[0.91666667 1.         0.91666667 1.         0.75       0.83333333\n",
      " 1.         0.91666667 1.         1.        ]\n"
     ]
    },
    {
     "data": {
      "text/plain": [
       "[0.9583333333333334,\n",
       " 0.9583333333333333,\n",
       " 0.9583333333333333,\n",
       " 0.9583333333333334,\n",
       " 0.9583333333333334,\n",
       " 0.95,\n",
       " 0.9333333333333332,\n",
       " 0.9333333333333332]"
      ]
     },
     "execution_count": 36,
     "metadata": {},
     "output_type": "execute_result"
    }
   ],
   "source": [
    "from sklearn.svm import SVC\n",
    "from sklearn.model_selection import cross_val_score\n",
    "\n",
    "# First, randomly divide data into (80%, 20%) portions of train-validation and test sets (with random state=42). \n",
    "X_train1, X_test1, y_train1, y_test1= train_test_split(data.data,data.target, test_size=0.2, random_state=42)\n",
    "\n",
    "# apply 10-fold cross validation on the train-validation set. In every fold, 90% of data is used for training and 10% of \n",
    "#data for validation. For every C value, a mean accuracy of the folds is found. \n",
    "C_array=[0.1, 0.5, 1, 2, 5, 10, 20, 50] \n",
    "\n",
    "cache1=[] #cache to store the result\n",
    "for c in C_array:\n",
    "    clf_svm = SVC(kernel='linear', C=c) \n",
    "    scores = cross_val_score(clf_svm, X_train1, y_train1, cv=10)\n",
    "    cache1.append(np.mean(scores))\n",
    "\n",
    "    print(scores)\n",
    "\n",
    "cache1\n"
   ]
  },
  {
   "cell_type": "code",
   "execution_count": 37,
   "metadata": {},
   "outputs": [
    {
     "data": {
      "image/png": "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\n",
      "text/plain": [
       "<Figure size 432x288 with 1 Axes>"
      ]
     },
     "metadata": {},
     "output_type": "display_data"
    }
   ],
   "source": [
    "#Plot the mean accuracy versus the C values. \n",
    "plt.title('The mean accuracy versus the C values')\n",
    "plt.plot(C_array,cache1)\n",
    "plt.show()"
   ]
  },
  {
   "cell_type": "code",
   "execution_count": 38,
   "metadata": {
    "scrolled": true
   },
   "outputs": [
    {
     "data": {
      "image/png": "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\n",
      "text/plain": [
       "<Figure size 432x288 with 1 Axes>"
      ]
     },
     "metadata": {},
     "output_type": "display_data"
    }
   ],
   "source": [
    "plt.title('The mean accuracy versus the C values')\n",
    "plt.scatter(C_array,cache1)\n",
    "plt.show()"
   ]
  },
  {
   "cell_type": "markdown",
   "metadata": {},
   "source": [
    "According to the two figures, not only one parameter has the highest accuracy. C=5 the best C parameter for the SVM classifier. I set up the maximum depth to be 5 based on speed of convergence and generalisation The greater of C, the less tolerance for error.I also tried C=2,but it  may also have overfitting problem. But if C is too small to trend to zero, it may cause underfitting problem."
   ]
  },
  {
   "cell_type": "code",
   "execution_count": 39,
   "metadata": {},
   "outputs": [
    {
     "data": {
      "text/plain": [
       "SVC(C=50, break_ties=False, cache_size=200, class_weight=None, coef0=0.0,\n",
       "    decision_function_shape='ovr', degree=3, gamma='scale', kernel='linear',\n",
       "    max_iter=-1, probability=False, random_state=None, shrinking=True,\n",
       "    tol=0.001, verbose=False)"
      ]
     },
     "execution_count": 39,
     "metadata": {},
     "output_type": "execute_result"
    }
   ],
   "source": [
    "#Train the model using the train-validation set.\n",
    "clf_svm.fit(X_train1, y_train1)"
   ]
  },
  {
   "cell_type": "code",
   "execution_count": 40,
   "metadata": {},
   "outputs": [
    {
     "name": "stdout",
     "output_type": "stream",
     "text": [
      "0.9666666666666667\n"
     ]
    }
   ],
   "source": [
    "# Finally, report the test accuracy.\n",
    "clf_test= SVC(kernel='linear', C=5) \n",
    "clf_test.fit(X_train1, y_train1)\n",
    "scores_test=clf_test.score(X_test1, y_test1)\n",
    "print(scores_test)"
   ]
  },
  {
   "cell_type": "markdown",
   "metadata": {},
   "source": [
    "So the test accuracy is 0.9666666666666667 on the test set when C is 5.It is the best C parameter for the SVM classifier. I set up the maximum depth to be 5 based on speed of convergence and generalisation The greater of C, the less tolerance for error.I also tried C=2,but it  may also have overfitting problem duo to the test score is 100%. The model's accuracy is 0.9666666666666667 on the test set when C=5."
   ]
  },
  {
   "cell_type": "markdown",
   "metadata": {},
   "source": [
    "# Question 4: Tree-based Classiﬁers\n"
   ]
  },
  {
   "cell_type": "code",
   "execution_count": 41,
   "metadata": {},
   "outputs": [
    {
     "name": "stdout",
     "output_type": "stream",
     "text": [
      "[0.91666667 1.         1.         1.         0.75       0.83333333\n",
      " 1.         1.         0.83333333 0.91666667]\n",
      "[0.91666667 1.         1.         1.         0.66666667 0.83333333\n",
      " 1.         0.91666667 0.83333333 0.91666667]\n",
      "[0.91666667 1.         1.         1.         0.66666667 0.83333333\n",
      " 1.         0.91666667 0.91666667 0.91666667]\n",
      "[0.91666667 1.         1.         1.         0.66666667 0.83333333\n",
      " 1.         0.91666667 0.91666667 0.91666667]\n"
     ]
    },
    {
     "data": {
      "text/plain": [
       "[0.925, 0.9083333333333332, 0.9166666666666666, 0.9166666666666666]"
      ]
     },
     "execution_count": 41,
     "metadata": {},
     "output_type": "execute_result"
    }
   ],
   "source": [
    "\n",
    "X_train2, X_test2, y_train2, y_test2 = train_test_split(data.data, data.target, test_size=0.2, random_state = 42)\n",
    "\n",
    "\n",
    "#For decision tree: max depth: {3, 5, 10, None (grow until the end)}\n",
    "from sklearn.tree import DecisionTreeClassifier\n",
    "\n",
    "Depth=[3, 5, 10, None] \n",
    "\n",
    "cache2=[] #cache to store the result\n",
    "for depth in Depth:\n",
    "    clf_dtree = DecisionTreeClassifier(max_depth=depth)\n",
    "    scores_dtree = cross_val_score(clf_dtree, X_train2, y_train2, cv=10)\n",
    "    cache2.append(np.mean(scores_dtree))\n",
    "\n",
    "    print(scores_dtree)\n",
    "\n",
    "cache2"
   ]
  },
  {
   "cell_type": "code",
   "execution_count": 42,
   "metadata": {},
   "outputs": [
    {
     "data": {
      "image/png": "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\n",
      "text/plain": [
       "<Figure size 432x288 with 1 Axes>"
      ]
     },
     "metadata": {},
     "output_type": "display_data"
    }
   ],
   "source": [
    "# Plot the mean accuracy versus the maximum depth.\n",
    "\n",
    "plt.title('The mean accuracy versus the maximum depth')\n",
    "temp=[3, 5, 10, \"None\"] #Adjust the Depth array to print \"None\" on the plot graph\n",
    "plt.plot(temp,cache2)\n",
    "plt.show()"
   ]
  },
  {
   "cell_type": "code",
   "execution_count": 43,
   "metadata": {},
   "outputs": [
    {
     "data": {
      "image/png": "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\n",
      "text/plain": [
       "<Figure size 432x288 with 1 Axes>"
      ]
     },
     "metadata": {},
     "output_type": "display_data"
    }
   ],
   "source": [
    "temp1=[3, 5, 10, 0]#Adjust the Depth array to print \"None\" on scatter plot graph\n",
    "plt.title('The mean accuracy versus the maximum depth')\n",
    "plt.scatter(temp1,cache2) \n",
    "plt.show()"
   ]
  },
  {
   "cell_type": "code",
   "execution_count": 44,
   "metadata": {},
   "outputs": [
    {
     "data": {
      "text/plain": [
       "DecisionTreeClassifier(ccp_alpha=0.0, class_weight=None, criterion='gini',\n",
       "                       max_depth=3, max_features=None, max_leaf_nodes=None,\n",
       "                       min_impurity_decrease=0.0, min_impurity_split=None,\n",
       "                       min_samples_leaf=1, min_samples_split=2,\n",
       "                       min_weight_fraction_leaf=0.0, presort='deprecated',\n",
       "                       random_state=None, splitter='best')"
      ]
     },
     "execution_count": 44,
     "metadata": {},
     "output_type": "execute_result"
    }
   ],
   "source": [
    "#Train the model using the train-validation set.\n",
    "clf_dtree_test= DecisionTreeClassifier(max_depth=3)\n",
    "clf_dtree_test.fit(X_train2, y_train2)"
   ]
  },
  {
   "cell_type": "code",
   "execution_count": 45,
   "metadata": {},
   "outputs": [
    {
     "name": "stdout",
     "output_type": "stream",
     "text": [
      "1.0\n"
     ]
    }
   ],
   "source": [
    "# Finally, report the test accuracy.\n",
    "scores_test_dtree=clf_dtree_test.score(X_test2, y_test2)\n",
    "print(scores_test_dtree)\n"
   ]
  },
  {
   "cell_type": "markdown",
   "metadata": {},
   "source": [
    "According to the the above result, when the maximum depth is equal to 3, the accuracy is the highest and it is 1.0 on the test set. So the best maximum depth in term of decision tree classiﬁer accuracy is 10."
   ]
  },
  {
   "cell_type": "code",
   "execution_count": 46,
   "metadata": {
    "scrolled": false
   },
   "outputs": [
    {
     "name": "stdout",
     "output_type": "stream",
     "text": [
      "[1.         1.         0.91666667 1.         0.66666667 0.83333333\n",
      " 1.         0.91666667 1.         0.91666667]\n",
      "5 3 0.9249999999999998\n",
      "[1.         1.         0.91666667 1.         0.66666667 0.83333333\n",
      " 1.         0.91666667 0.91666667 0.91666667]\n",
      "5 5 0.9166666666666666\n",
      "[1.         1.         0.91666667 1.         0.66666667 0.83333333\n",
      " 1.         1.         1.         0.91666667]\n",
      "5 10 0.9333333333333332\n",
      "[0.91666667 1.         0.91666667 1.         0.66666667 1.\n",
      " 1.         0.91666667 1.         0.91666667]\n",
      "5 None 0.9333333333333332\n",
      "[1.         1.         1.         1.         0.75       0.91666667\n",
      " 1.         1.         1.         0.91666667]\n",
      "10 3 0.9583333333333333\n",
      "[0.91666667 1.         1.         1.         0.66666667 0.83333333\n",
      " 1.         1.         1.         0.91666667]\n",
      "10 5 0.9333333333333332\n",
      "[0.91666667 1.         0.91666667 1.         0.66666667 0.83333333\n",
      " 1.         0.91666667 1.         0.91666667]\n",
      "10 10 0.9166666666666666\n",
      "[0.91666667 1.         1.         1.         0.66666667 0.91666667\n",
      " 1.         0.91666667 1.         0.91666667]\n",
      "10 None 0.9333333333333332\n",
      "[0.91666667 1.         1.         1.         0.66666667 0.83333333\n",
      " 1.         0.91666667 1.         0.91666667]\n",
      "50 3 0.9249999999999998\n",
      "[0.91666667 1.         0.91666667 1.         0.66666667 0.83333333\n",
      " 1.         1.         1.         0.91666667]\n",
      "50 5 0.9249999999999998\n",
      "[0.91666667 1.         0.91666667 1.         0.66666667 0.83333333\n",
      " 1.         1.         1.         0.91666667]\n",
      "50 10 0.9249999999999998\n",
      "[0.91666667 1.         0.91666667 1.         0.66666667 0.83333333\n",
      " 1.         0.91666667 1.         0.91666667]\n",
      "50 None 0.9166666666666666\n",
      "[0.91666667 1.         1.         1.         0.66666667 0.91666667\n",
      " 1.         1.         1.         0.91666667]\n",
      "150 3 0.9416666666666667\n",
      "[0.91666667 1.         0.91666667 1.         0.66666667 0.83333333\n",
      " 1.         1.         1.         0.91666667]\n",
      "150 5 0.9249999999999998\n",
      "[0.91666667 1.         0.91666667 1.         0.66666667 0.83333333\n",
      " 1.         1.         1.         0.91666667]\n",
      "150 10 0.9249999999999998\n",
      "[0.91666667 1.         0.91666667 1.         0.66666667 0.83333333\n",
      " 1.         1.         1.         0.91666667]\n",
      "150 None 0.9249999999999998\n",
      "[0.91666667 1.         1.         1.         0.66666667 0.91666667\n",
      " 1.         1.         1.         0.91666667]\n",
      "200 3 0.9416666666666667\n",
      "[0.91666667 1.         1.         1.         0.66666667 0.83333333\n",
      " 1.         1.         1.         0.91666667]\n",
      "200 5 0.9333333333333332\n",
      "[0.91666667 1.         1.         1.         0.66666667 0.83333333\n",
      " 1.         1.         1.         0.91666667]\n",
      "200 10 0.9333333333333332\n",
      "[0.91666667 1.         0.91666667 1.         0.66666667 0.83333333\n",
      " 1.         1.         1.         0.91666667]\n",
      "200 None 0.9249999999999998\n"
     ]
    },
    {
     "data": {
      "text/plain": [
       "[[0.9249999999999998,\n",
       "  0.9166666666666666,\n",
       "  0.9333333333333332,\n",
       "  0.9333333333333332],\n",
       " [0.9583333333333333,\n",
       "  0.9333333333333332,\n",
       "  0.9166666666666666,\n",
       "  0.9333333333333332],\n",
       " [0.9249999999999998,\n",
       "  0.9249999999999998,\n",
       "  0.9249999999999998,\n",
       "  0.9166666666666666],\n",
       " [0.9416666666666667,\n",
       "  0.9249999999999998,\n",
       "  0.9249999999999998,\n",
       "  0.9249999999999998],\n",
       " [0.9416666666666667,\n",
       "  0.9333333333333332,\n",
       "  0.9333333333333332,\n",
       "  0.9249999999999998]]"
      ]
     },
     "execution_count": 46,
     "metadata": {},
     "output_type": "execute_result"
    }
   ],
   "source": [
    "#For random forest: \n",
    "#• number of trees: {5, 10, 50, 150, 200} \n",
    "#• max depth: {3, 5, 10, None (grow until the end)}\n",
    "\n",
    "from sklearn.ensemble import RandomForestClassifier\n",
    "\n",
    "numberoftree=[5, 10, 50, 150, 200] \n",
    "\n",
    "cache3=[] #cache to store the result\n",
    "totalcache=[]\n",
    "for number in numberoftree:\n",
    "    for i in range(len(Depth)):\n",
    "        clf_rforest= RandomForestClassifier(max_depth=Depth[i], n_estimators=number) \n",
    "        scores_rforest = cross_val_score(clf_rforest, X_train2, y_train2, cv=10)\n",
    "        mean_scores_rforest=np.mean(scores_rforest)\n",
    "        cache3.append(mean_scores_rforest)\n",
    "        print(scores_rforest)\n",
    "        print(number,Depth[i],mean_scores_rforest)\n",
    "    totalcache.append(cache3)\n",
    "    cache3=[]\n",
    "\n",
    "totalcache\n",
    "\n",
    "\n",
    "\n",
    "\n"
   ]
  },
  {
   "cell_type": "code",
   "execution_count": 47,
   "metadata": {},
   "outputs": [
    {
     "data": {
      "image/png": "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\n",
      "text/plain": [
       "<Figure size 432x288 with 2 Axes>"
      ]
     },
     "metadata": {},
     "output_type": "display_data"
    }
   ],
   "source": [
    "# Plot a heat plot.\n",
    "temp2=[3, 5, 10,'None'] #Adjust the Depth array to print \"None\" on the heatmap\n",
    "ax = sns.heatmap(totalcache,annot=True,xticklabels=temp2, yticklabels=numberoftree)\n",
    "plt.xlabel('depth')\n",
    "plt.ylabel('trees');"
   ]
  },
  {
   "cell_type": "markdown",
   "metadata": {},
   "source": [
    " I set up the maximum depth to be 3  and the number of tree to be 150  based on speed of convergence and generalisation because they are intermediate values comparing other parameter combinations which have the highest accuracy. The more number of the tree and deeper tree depth can make the model more complex and consume too much to the computer, it is not good to the complexity(big O) and speed of convergence. It may also have overfitting problem. If I choose a too small maximum depth and the number of tree, the model may not have good robustness and generalisation when a large amount data input to the model."
   ]
  },
  {
   "cell_type": "code",
   "execution_count": 48,
   "metadata": {},
   "outputs": [
    {
     "data": {
      "text/plain": [
       "RandomForestClassifier(bootstrap=True, ccp_alpha=0.0, class_weight=None,\n",
       "                       criterion='gini', max_depth=3, max_features='auto',\n",
       "                       max_leaf_nodes=None, max_samples=None,\n",
       "                       min_impurity_decrease=0.0, min_impurity_split=None,\n",
       "                       min_samples_leaf=1, min_samples_split=2,\n",
       "                       min_weight_fraction_leaf=0.0, n_estimators=150,\n",
       "                       n_jobs=None, oob_score=False, random_state=None,\n",
       "                       verbose=0, warm_start=False)"
      ]
     },
     "execution_count": 48,
     "metadata": {},
     "output_type": "execute_result"
    }
   ],
   "source": [
    "#Train the model using the train-validation set.\n",
    "clf_rforest_test= RandomForestClassifier(max_depth=3, n_estimators=150)\n",
    "clf_rforest_test.fit(X_train2, y_train2)\n"
   ]
  },
  {
   "cell_type": "code",
   "execution_count": 49,
   "metadata": {},
   "outputs": [
    {
     "name": "stdout",
     "output_type": "stream",
     "text": [
      "1.0\n"
     ]
    }
   ],
   "source": [
    "# Finally, report the test accuracy.\n",
    "scores_test_rforest= clf_rforest_test.score(X_test2, y_test2)\n",
    "\n",
    "print(scores_test_rforest)"
   ]
  },
  {
   "cell_type": "markdown",
   "metadata": {},
   "source": [
    "According to the the above result, when the number of tree =5 and maximum depth=none,the number of tree=50 and maximum depth=3, the number of tree=150 and maximum depth=3, the number of tree=200 and maximum depth=3, the accuracy is the highest. I set up the maximum depth to be 3  and the number of tree to be 150  based on speed of convergence and generalisation because they are intermediate values comparing other parameter combinations which have the highest accuracy. The more number of the tree and deeper tree depth can make the model more complex and consume too much to the computer, it is not good to the complexity(big O) and speed of convergence. It may also have overfitting problem. If I choose a too small maximum depth and the number of tree, the model may not have good robustness and generalisation when a large amount data input to the model. Its accuracy is 100% on the test set.\n"
   ]
  },
  {
   "cell_type": "code",
   "execution_count": 50,
   "metadata": {},
   "outputs": [
    {
     "name": "stdout",
     "output_type": "stream",
     "text": [
      "[1.         1.         1.         1.         0.66666667 0.83333333\n",
      " 1.         0.91666667 1.         0.91666667]\n",
      "[1.         1.         1.         1.         0.66666667 0.83333333\n",
      " 1.         0.91666667 1.         0.91666667]\n",
      "[0.91666667 1.         1.         1.         0.66666667 0.83333333\n",
      " 1.         0.91666667 1.         0.91666667]\n",
      "[0.91666667 1.         1.         1.         0.66666667 0.83333333\n",
      " 1.         0.91666667 1.         0.91666667]\n",
      "[0.91666667 1.         1.         1.         0.66666667 0.83333333\n",
      " 1.         0.91666667 1.         0.91666667]\n"
     ]
    },
    {
     "data": {
      "text/plain": [
       "[0.9333333333333332,\n",
       " 0.9333333333333332,\n",
       " 0.9249999999999998,\n",
       " 0.9249999999999998,\n",
       " 0.9249999999999998]"
      ]
     },
     "execution_count": 50,
     "metadata": {},
     "output_type": "execute_result"
    }
   ],
   "source": [
    "#For Gradient Tree Boosting \n",
    "#• number of estimators: {5, 10, 50, 150, 200} \n",
    "from sklearn.ensemble import GradientBoostingClassifier\n",
    "\n",
    "estimators=[5, 10, 50, 150, 200] \n",
    "\n",
    "cache4=[] #cache to store the result\n",
    "for estimator in estimators:\n",
    "    clf_estimators= GradientBoostingClassifier(n_estimators=estimator) \n",
    "    scores_estimators = cross_val_score(clf_estimators, X_train2, y_train2, cv=10)\n",
    "    cache4.append(np.mean(scores_estimators))\n",
    "\n",
    "    print(scores_estimators)\n",
    "\n",
    "cache4"
   ]
  },
  {
   "cell_type": "code",
   "execution_count": 51,
   "metadata": {},
   "outputs": [
    {
     "data": {
      "image/png": "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\n",
      "text/plain": [
       "<Figure size 432x288 with 1 Axes>"
      ]
     },
     "metadata": {},
     "output_type": "display_data"
    }
   ],
   "source": [
    "# Plot the mean accuracy versus the number of estimators.\n",
    "\n",
    "plt.title('The mean accuracy versus the number of estimators')\n",
    "plt.plot(estimators,cache4)\n",
    "plt.show()"
   ]
  },
  {
   "cell_type": "code",
   "execution_count": 52,
   "metadata": {},
   "outputs": [
    {
     "data": {
      "image/png": "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\n",
      "text/plain": [
       "<Figure size 432x288 with 1 Axes>"
      ]
     },
     "metadata": {},
     "output_type": "display_data"
    }
   ],
   "source": [
    "plt.title('The mean accuracy versus the number of estimators')\n",
    "plt.scatter(estimators,cache4)\n",
    "plt.show()"
   ]
  },
  {
   "cell_type": "markdown",
   "metadata": {},
   "source": [
    "I picked 10 based on speed of convergence and generalisation. 10 is an intermediate value comparing the other one which has the highest accuracy too. The more the number of boosting stages can make the model more complex and consume too much to the computer, it is not good to the complexity(big O) and speed of convergence. The model may also have overfitting problem.If I choose a too small maximum depth and the number of tree, the model may not have good robustness and generalisation when a large amount data input to the model."
   ]
  },
  {
   "cell_type": "code",
   "execution_count": 53,
   "metadata": {},
   "outputs": [
    {
     "data": {
      "text/plain": [
       "GradientBoostingClassifier(ccp_alpha=0.0, criterion='friedman_mse', init=None,\n",
       "                           learning_rate=0.1, loss='deviance', max_depth=3,\n",
       "                           max_features=None, max_leaf_nodes=None,\n",
       "                           min_impurity_decrease=0.0, min_impurity_split=None,\n",
       "                           min_samples_leaf=1, min_samples_split=2,\n",
       "                           min_weight_fraction_leaf=0.0, n_estimators=10,\n",
       "                           n_iter_no_change=None, presort='deprecated',\n",
       "                           random_state=None, subsample=1.0, tol=0.0001,\n",
       "                           validation_fraction=0.1, verbose=0,\n",
       "                           warm_start=False)"
      ]
     },
     "execution_count": 53,
     "metadata": {},
     "output_type": "execute_result"
    }
   ],
   "source": [
    "#Train the model using the train-validation set.\n",
    "clf_estimators_test= GradientBoostingClassifier(n_estimators=10)\n",
    "clf_estimators_test.fit(X_train2, y_train2)\n"
   ]
  },
  {
   "cell_type": "code",
   "execution_count": 54,
   "metadata": {},
   "outputs": [
    {
     "name": "stdout",
     "output_type": "stream",
     "text": [
      "1.0\n"
     ]
    }
   ],
   "source": [
    "# Finally, report the test accuracy.\n",
    "scores_test_estimators= clf_estimators_test.score(X_test2, y_test2)\n",
    "\n",
    "print(scores_test_estimators)\n"
   ]
  },
  {
   "cell_type": "markdown",
   "metadata": {},
   "source": [
    "According to the the above result, when the  number of estimators is equal to 5 and 10, the accuracy is the highest. I set up the n_estimators to be 10 and its accuracy is 100% on the test set. I picked 10 based on speed of convergence and generalisation. 10 is an intermediate value comparing the other one which has the highest accuracy too. The more the number of boosting stages can make the model more complex and consume too much to the computer, it is not good to the complexity(big O) and speed of convergence. The model may also have overfitting problem.If I choose a too small maximum depth and the number of tree, the model may not have good robustness and generalisation when a large amount data input to the model."
   ]
  },
  {
   "cell_type": "markdown",
   "metadata": {},
   "source": [
    "# Question 5: Analysis"
   ]
  },
  {
   "cell_type": "markdown",
   "metadata": {},
   "source": [
    "1. Explain why you had to split the dataset into train and test sets?\n",
    "\n",
    "We train machine learning models to use the existing data to predict unknown data. Generally, we call the model's ability to predict unknown data known as the generalization ability. In order to evaluate the generalization ability of a model, we usually divide the data into a training set and a test set. The training set is used to train the model, and the test set is used to evaluate the model's generalization ability.\n",
    "We can use the data from the training set to train the model, and then use the error on the test set as the generalized error of the final model in dealing with real-world scenarios. With the test set, we want to verify the final effect of the model. Just calculate the error on the test set for the trained model, and we can consider this error to be an approximation of the generalized error. We only need to let our trained model The minimum error on the test set is sufficient.\n",
    "Thus, we had to split the dataset into train and test sets\n"
   ]
  },
  {
   "cell_type": "markdown",
   "metadata": {},
   "source": [
    "2. Explain why when ﬁnding the best parameters for KNN you didn’t evaluate directly on the test set and had to use a validation test.\n",
    "\n",
    "In machine learning, when developing a model, it is always necessary to adjust the parameters of the model, such as changing parameters for KNN to get better accuracy. This adjustment process needs to provide a feedback signal on the trained model by validation test data. Modify the model and parameters is the role of the validation set, which will also cause information leakage of the validation set. The more feedback, the more information is leaked, that is, the model understands the validation set more clearly, which will eventually cause the model to overfit on the validation set. At this time, you need a dataset that is completely new to the model,so the test set is used to measure the quality of the model.\n"
   ]
  },
  {
   "cell_type": "markdown",
   "metadata": {},
   "source": [
    "3. What was the eﬀect of changing k for KNN. Was the accuracy always aﬀected the same way with an increase of k? Why do you think this happened?\n",
    "#What was the eﬀect of changing k for KNN\n",
    "\n",
    "If the value of K is changed to be small, the model has high complexity and is prone to overfitting. The learning estimation error will increase, and the prediction result is very sensitive to the neighboring instance points.\n",
    "A large K value can reduce the estimation error of learning, but the approximate error of learning will increase, and training examples that are far away from the input instance will also affect the prediction, which will cause prediction errors, and the complexity of the model will decrease as the value of k increases.\n",
    "If k is too small, the classification result is easily affected by noise points; if k is too large, the neighbors may contain too many points of other categories.\n",
    "Overal, the changing of K value in KNN is very important for the classification result. The K value is too small and the model is too complicated. The value of K is too large, resulting in fuzzy classification. Some peole use Cross Validation to choose k value, some use Bayes, and others use bootstrap.\n",
    "\n",
    "#Was the accuracy always aﬀected the same way with an increase of k? \n",
    "\n",
    "No.According to the above results, the testing accuracy didn't always increase the same way with an increases of k. At the beginning, the accuracy was at the peakn and then it fell  as k increased.For some datasets, when the k neighboring points is large enough, the accuracy will naturally tends to the expected value of the sample. Ouer case is the same.\n",
    "\n",
    "\n",
    "#Why do you think this happened?\n",
    "Because if k is small, the model would be more complex with high variance and low bias. It could lead to overfitting situation. But when k is too large, the model would be simple with high bias and low variance, it might cause underfitting problem. \n",
    "When k is increasing to be too large, the neighbors may contain too many points of other categories.So the model would not make sense and the accuracy will naturally tends to a fixed value.\n"
   ]
  },
  {
   "cell_type": "markdown",
   "metadata": {},
   "source": [
    "4. What was the relative eﬀect of changing the max depths for decision tree, random forests, and gradient boosting? Explain the reason for this.\n",
    "\n",
    "\n",
    "The max depth defines the maximum depth that the tree is allowed to grow up.When the max depth is being larger, it will be better to fit data for the model, but it may also cause overfitting.\n",
    "Because the the tree is deeper, there will be more complex the decision rules. The tree works from nodes of if / else problems and get results. The deeper the tree, the more it splits, and the better it can capture information about the data. And The decision tree model is prone to produce an overly complex model when the max depth is being larger, and such a model will have poor generalization performance on data.\n",
    "But if the max depth is too small,it may cause underfit problem to the model and increase teating error.\n",
    "\n"
   ]
  },
  {
   "cell_type": "markdown",
   "metadata": {},
   "source": [
    "5. Comment on the effect of the number of estimators for Gradient Tree Boosting and what was the relative effect performance of gradient boosting compared with random forest. Explain the reason for this.\n",
    "\n",
    "The number of estimators is the number of boosting stages to perform.It means the number of iterations. In general, the number of estimators is too small, and the model will be easy to underfit. If n_estimators is too large, there is easy to overfit. Usually, a moderate value is selected. The default is 100 in sklearn. Because the Gradient Tree Boosting method is not just the simple application of ensemble ideas, but also the learning of residuals.\n",
    "\n",
    "Random forest is an algorithm based on decision tree, it just uses the idea of integration to improve the classification performance of single decision tree. The main feature is that it is not easy to fall into overfitting due to the random selection of samples and features. The main steps of the random forest algorithm are: use Bootstrap to randomly select n samples from the sample set, and randomly select K attributes from all the attributes, and select the best segmentation attribute as the node to establish a classifier (CART, SVM, etc. Repeat the above m times That is, m classifiers are established, and the voting results are used to determine which type of data. The gradient tree boosting is also a decision tree model based on integrated ideas. The algorithm is to generate a new tree for each iteration(Boosting stage). And then to calculate the loss function at each training sample set, and then generate a new decision tree through the greedy strategy. Calculate the predicted value corresponding to each leaf node, and use the newly generated decision tree added to the model.\n",
    "The most essential difference between Gradient Tree Boosting and random forest is that each tree in Gradient Tree Boosting learns the residuals of the sum of the conclusions of all the trees, and the residual is the true value minus the predicted value.\n",
    "\n",
    "The detailed reason are:\n",
    "1: Random forests vote the results of multiple decision trees to get the final result. The training results of different trees have not been further optimized and improved, which is called the bagging algorithm. The boosting algorithm is to build a weak learner at each step of the iteration to make up for the deficiencies of the original model.\n",
    "2:Gradient Tree Boosting uses the boosting algorithm, and builds a weak learner at each step of the iteration to make up for the lack of the original model. Gradient Tree Boosting is to build a learner along the direction of gradient descent through each iteration. And by setting different loss functions, it can handle various learning tasks (multi-classification, regression, etc.).\n",
    "\n"
   ]
  },
  {
   "cell_type": "markdown",
   "metadata": {},
   "source": [
    "6. What does the parameter C deﬁne in the SVM classiﬁer? What eﬀect did you observe and why do you think this happened?\n",
    "\n",
    "C is the regularization parameter.The parameter C defines that how much we want to avoid misclassifying for each training set.It controls the trade-off between achieving a low error on the training data and minimizing the norm of the weights.\n",
    "\n",
    "\n",
    "I observed when c was small the accuracy was higher than when it was larger in Queation 3. When c was equal to and larger than 20, The accuracy was lower and treading to be consistancy obviously.\n",
    "\n",
    "\n",
    "I think this is because C is a factor that regulates the interval and accuracy. The larger the value of C, the more unwilling to abandon those outliers; the smaller the value of c, the less attention is paid to those outliers. The larger c indicates that the error cannot be tolerated and the over-fitting is easy. The C is too small, it is to underfit easily,the classifier would look for a larger-margin separating hyperplane,even if that hyperplane misclassifies more points. Whatever C is too large or too small, there will be poor generalization ability.\n",
    "When C approaches infinity, the problem is that samples with classification errors are not allowed, then this is a hard-margin SVM problem. (overfitting)\n",
    "When C approaches 0, we no longer care about whether the classification is correct, but only the larger the interval, the better, then we will not get a meaningful solution and the algorithm will not converge. (Underfitting)\n",
    "\n",
    "\n"
   ]
  }
 ],
 "metadata": {
  "kernelspec": {
   "display_name": "Python 3",
   "language": "python",
   "name": "python3"
  },
  "language_info": {
   "codemirror_mode": {
    "name": "ipython",
    "version": 3
   },
   "file_extension": ".py",
   "mimetype": "text/x-python",
   "name": "python",
   "nbconvert_exporter": "python",
   "pygments_lexer": "ipython3",
   "version": "3.7.2"
  }
 },
 "nbformat": 4,
 "nbformat_minor": 4
}
